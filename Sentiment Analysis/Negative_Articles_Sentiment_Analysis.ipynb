{
 "cells": [
  {
   "cell_type": "markdown",
   "id": "4c2c36c6",
   "metadata": {},
   "source": [
    "# Negative Sentiment Analysis"
   ]
  },
  {
   "cell_type": "markdown",
   "id": "4980798c",
   "metadata": {},
   "source": [
    "## Negative Sentiment Analysis - Topic Modeling"
   ]
  },
  {
   "cell_type": "markdown",
   "id": "ff7b046c",
   "metadata": {},
   "source": [
    "# Entity Extraction from Negative Sentiment"
   ]
  },
  {
   "cell_type": "markdown",
   "id": "6d7363a5",
   "metadata": {},
   "source": [
    "# BERT Topic modeling (on negative sentiment articles - 46k articles)"
   ]
  }
 ],
 "metadata": {},
 "nbformat": 4,
 "nbformat_minor": 5
}
