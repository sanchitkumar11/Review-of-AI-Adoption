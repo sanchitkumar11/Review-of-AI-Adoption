{
 "cells": [
  {
   "cell_type": "markdown",
   "id": "63c01d33",
   "metadata": {},
   "source": [
    "# Data Preprocessing for NLP"
   ]
  },
  {
   "cell_type": "code",
   "execution_count": 47,
   "id": "94c8dbce",
   "metadata": {},
   "outputs": [],
   "source": [
    "def get_sentiment(text):\n",
    "    # Preprocess and encode the text\n",
    "    encoded_input = tokenizer(text, truncation=True, max_length=512, return_tensors='pt')\n",
    "\n",
    "    # Get the model's output\n",
    "    output = model(**encoded_input)\n",
    "    scores = output.logits.detach().numpy()\n",
    "\n",
    "    # Convert logits to probabilities\n",
    "    probabilities = softmax(scores, axis=-1)[0]\n",
    "\n",
    "    # Create a dictionary mapping labels to their probabilities\n",
    "    label_probs = {f'LABEL_{i}': prob for i, prob in enumerate(probabilities)}\n",
    "    \n",
    "    # Assign the label with the highest probability that exceeds its threshold\n",
    "    sentiment_label = 'unclassified'  # Default label if no thresholds are exceeded\n",
    "    for label, prob in label_probs.items():\n",
    "        if prob > thresholds[label]:  # Check if the probability exceeds the threshold\n",
    "            sentiment_label = label\n",
    "            break  # Stop checking other labels\n",
    "\n",
    "    return sentiment_label\n"
   ]
  },
  {
   "cell_type": "code",
   "execution_count": 478,
   "id": "510b91c0",
   "metadata": {},
   "outputs": [
    {
     "data": {
      "application/vnd.jupyter.widget-view+json": {
       "model_id": "205ede9dfcf1415f943c3a18ab9c2d54",
       "version_major": 2,
       "version_minor": 0
      },
      "text/plain": [
       "Downloading (…)lve/main/config.json:   0%|          | 0.00/1.40k [00:00<?, ?B/s]"
      ]
     },
     "metadata": {},
     "output_type": "display_data"
    },
    {
     "data": {
      "application/vnd.jupyter.widget-view+json": {
       "model_id": "84a8b07c08fb494d97dfb0f97cc093d1",
       "version_major": 2,
       "version_minor": 0
      },
      "text/plain": [
       "Downloading pytorch_model.bin:   0%|          | 0.00/990M [00:00<?, ?B/s]"
      ]
     },
     "metadata": {},
     "output_type": "display_data"
    },
    {
     "data": {
      "application/vnd.jupyter.widget-view+json": {
       "model_id": "1b2693679ca34ef59479f034da1deb5b",
       "version_major": 2,
       "version_minor": 0
      },
      "text/plain": [
       "Downloading (…)neration_config.json:   0%|          | 0.00/147 [00:00<?, ?B/s]"
      ]
     },
     "metadata": {},
     "output_type": "display_data"
    }
   ],
   "source": [
    "# loading model and tokenizer based on particular model checkpoint\n",
    "# tokenizer is used to preprocess text input in a way that the model can understand\n",
    "tokenizer = AutoTokenizer.from_pretrained(checkpoint)\n",
    "model = AutoModelForSeq2SeqLM.from_pretrained(checkpoint)"
   ]
  }
 ],
 "metadata": {},
 "nbformat": 4,
 "nbformat_minor": 5
}
