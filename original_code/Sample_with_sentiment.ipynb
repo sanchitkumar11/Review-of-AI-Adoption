{
 "cells": [
  {
   "attachments": {},
   "cell_type": "markdown",
   "metadata": {},
   "source": [
    "## NLP Class Final Project Read Data"
   ]
  },
  {
   "cell_type": "code",
   "execution_count": 1,
   "metadata": {},
   "outputs": [],
   "source": [
    "import numpy as np\n",
    "import pandas as pd\n",
    "from gensim import corpora, models\n",
    "from gensim.models import Phrases\n",
    "from gensim.models import CoherenceModel\n",
    "from gensim.models.ldamodel import LdaModel\n",
    "from gensim.models.ldamulticore import LdaMulticore\n",
    "\n",
    "#import pyLDAvis\n",
    "#import pyLDAvis.gensim_models as gensimvis\n",
    "from tqdm import tqdm\n",
    "\n",
    "import re\n",
    "import nltk\n",
    "import os\n",
    "import seaborn as sns\n",
    "\n",
    "pd.set_option('display.max_rows', 100)\n",
    "pd.set_option('display.max_columns', None)\n",
    "pd.set_option('display.max_colwidth', 600)"
   ]
  },
  {
   "cell_type": "code",
   "execution_count": null,
   "metadata": {},
   "outputs": [],
   "source": [
    "#nltk.download('stopwords')"
   ]
  },
  {
   "cell_type": "code",
   "execution_count": 16,
   "metadata": {},
   "outputs": [],
   "source": [
    "#!pip install gensim"
   ]
  },
  {
   "cell_type": "code",
   "execution_count": 22,
   "metadata": {},
   "outputs": [],
   "source": [
    "#!pip install pyLDAvis"
   ]
  },
  {
   "cell_type": "code",
   "execution_count": 7,
   "metadata": {},
   "outputs": [],
   "source": [
    "#!pip install nltk"
   ]
  },
  {
   "attachments": {},
   "cell_type": "markdown",
   "metadata": {},
   "source": [
    "#insights jobs and tasks will have major impact by AI\n",
    "#provide recommendations on how it can be useful to automate tasks / jobs to improve employee productivity\n",
    "#keywords: ChatGPT / ConversationalAI - look for them like this\n",
    "#find topics - begin with - done with the cleaning - which news articles are talking about the important topics?\n",
    "#disregard those news articles that are not relevant\n",
    "#see which are the emerging technologies in this data through topic modeling\n",
    "#sample data based on relevance of data\n",
    "#search on website - find the keywords readily on a website (emerging technologies)\n",
    "#talk about trends - date - how these keywords are performing over time (ChatGPT)\n",
    "#ppt\n",
    "#exec summary - cant tell what i have done - show what you found\n",
    "#each topic\n",
    "#sentimental analysis\n",
    "#2 ways\n",
    "#create own corpus\n",
    "#or use pre-existing ones - \n",
    "#targeted sentiment to words like AI / entities\n",
    "#200k news articles \n",
    "#run sentiment modeling (naive bayes) - find entities - get keyword extraction from the entities (through topic modeling)\n",
    "#first ran LDA and then ran BERT on the overall\n",
    "#what can you really first articles? Which tasks can be automated? \n",
    "#do you actually see emerging technology that will be able to automate task related to visual cortex?\n",
    "#LLms are good at text summarization / extraction / text generation\n",
    "#LLM cannot effectively drive a lawn\n",
    "#what can you find in these artiles - is it really legal / office can effectively be automated? or in construction sector impossible to be automated?\n",
    "#amazon / alibaba really good at package picking jobs in warehouses\n",
    "#those machines are actually working - are we going to expect a similar breakthrough for physical moving devices in NLP space with generative AI?\n",
    "#do you see specific trends in articles that will lead you to believe from Goldman Sachs are correct or incorrect based on how technologies develop?\n",
    "#objective: identify which types of tasks and jobs are going to see biggest impact from AI\n",
    "# executive summary - tell you what you found\n",
    "# clean-up - article randoms - filtering (out of 200k - taking the articles away)\n",
    "# sentiment analysis - explicity customized - if you open a text blob - apply it to technology articles - you will not get good sentiment - train your own model and find a model that was pretrained on a similar corpus\n",
    "# sentiment over time - did it change or is it consistent? 16 / 17 months? sentiment might also change drastically\n",
    "# entitiy organizations / people identification - in articles - why? find people say work at meta is going to be transformed\n",
    "# targeted sentiment - if you finding the technology that says our RPA - dont tell sentiment of entire article but find sentiment with regard to RPA  \n",
    "#not what you believe but what you find from text\n",
    "#are we going to see a similar breakthrough\n",
    "#ran topic \n",
    "#eliminate new lines / tabs / randoms of the web crawls - take out irrelevant text (use regex to take out) - make sure noise to text ratio is reasonable\n",
    "#take out irrelevant articles\n",
    "#what drove that successful ai initiatives? maturity of tech? was enough money poured? why certain industries are being transformed or not transformed? \n",
    "#what is constantly positioned as a failure\n",
    "#failure - failure and then all of a sudden - it is a success - no one thought AI solutoin can code nearly as good as it can today\n",
    "#think about how these new technologies emerging - LLMs came only after nov\n",
    "#see any named entities mentioned? companies? gov institutions? government institutions - what can they do in creating policies? china - US - india? \n",
    "#sentiment - identify entities and then apply targeted sentiment!  what companies should invest into data science based on success stories? if you are healthcare / construction / police union - should you invest into it? electrician union? \n",
    "#what types of applications cannot be transformed based on today's technologies? failure - certain industries in common? projects in common?\n",
    "\n",
    "\n",
    "#\n",
    "#lora_config = LoraConfig(\n",
    " #r=16, #lora_2 = 4 in vishals #4 attention heads - \n",
    " #lora_alpha=32, #16 in vishals\n",
    " #target_modules=[\"q\", \"v\"],\n",
    " #lora_dropout=0.05,\n",
    " #bias=\"none\",\n",
    " #task_type=TaskType.SEQ_2_SEQ_LM\n",
    ")\n",
    "\n",
    "#add_eos_token - sequence number at the end (for the end of the sequence)\n",
    "#peft - library in hugging face\n",
    "#\n",
    "\n",
    "\n"
   ]
  },
  {
   "cell_type": "code",
   "execution_count": 2,
   "metadata": {},
   "outputs": [
    {
     "name": "stdout",
     "output_type": "stream",
     "text": [
      "Requirement already satisfied: pyarrow in /opt/conda/lib/python3.10/site-packages (9.0.0)\n",
      "Requirement already satisfied: numpy>=1.16.6 in /opt/conda/lib/python3.10/site-packages (from pyarrow) (1.23.5)\n"
     ]
    }
   ],
   "source": [
    "!pip install pyarrow    "
   ]
  },
  {
   "cell_type": "code",
   "execution_count": 30,
   "metadata": {},
   "outputs": [
    {
     "name": "stdout",
     "output_type": "stream",
     "text": [
      "CPU times: user 6.72 s, sys: 4.08 s, total: 10.8 s\n",
      "Wall time: 17.6 s\n"
     ]
    },
    {
     "data": {
      "text/plain": [
       "(200332, 5)"
      ]
     },
     "execution_count": 30,
     "metadata": {},
     "output_type": "execute_result"
    }
   ],
   "source": [
    "%%time\n",
    "\n",
    "df_news_final_project = pd.read_parquet('https://storage.googleapis.com/msca-bdp-data-open/news_final_project/news_final_project.parquet', engine='pyarrow')\n",
    "df_news_final_project.shape"
   ]
  },
  {
   "cell_type": "code",
   "execution_count": 68,
   "metadata": {},
   "outputs": [],
   "source": [
    "#save this dataframe so i do not have to keep reading it in\n",
    "#df_news_final_project.to_parquet('news_final_project.parquet', engine='pyarrow')\n",
    "#where does it save?\n",
    "#!ls\n"
   ]
  },
  {
   "cell_type": "code",
   "execution_count": 3,
   "metadata": {},
   "outputs": [
    {
     "name": "stdout",
     "output_type": "stream",
     "text": [
      "Collecting pandarallel\n",
      "  Downloading pandarallel-1.6.5.tar.gz (14 kB)\n",
      "  Preparing metadata (setup.py) ... \u001b[?25ldone\n",
      "\u001b[?25hRequirement already satisfied: dill>=0.3.1 in /opt/conda/lib/python3.10/site-packages (from pandarallel) (0.3.1.1)\n",
      "Requirement already satisfied: pandas>=1 in /opt/conda/lib/python3.10/site-packages (from pandarallel) (1.5.3)\n",
      "Requirement already satisfied: psutil in /opt/conda/lib/python3.10/site-packages (from pandarallel) (5.9.3)\n",
      "Requirement already satisfied: python-dateutil>=2.8.1 in /opt/conda/lib/python3.10/site-packages (from pandas>=1->pandarallel) (2.8.2)\n",
      "Requirement already satisfied: pytz>=2020.1 in /opt/conda/lib/python3.10/site-packages (from pandas>=1->pandarallel) (2023.3)\n",
      "Requirement already satisfied: numpy>=1.21.0 in /opt/conda/lib/python3.10/site-packages (from pandas>=1->pandarallel) (1.23.5)\n",
      "Requirement already satisfied: six>=1.5 in /opt/conda/lib/python3.10/site-packages (from python-dateutil>=2.8.1->pandas>=1->pandarallel) (1.16.0)\n",
      "Building wheels for collected packages: pandarallel\n",
      "  Building wheel for pandarallel (setup.py) ... \u001b[?25ldone\n",
      "\u001b[?25h  Created wheel for pandarallel: filename=pandarallel-1.6.5-py3-none-any.whl size=16677 sha256=ca37cea731566327e0f32288c83f74dd8b0e853116d8e517d4e5229d484f6d58\n",
      "  Stored in directory: /home/jupyter/.cache/pip/wheels/50/4f/1e/34e057bb868842209f1623f195b74fd7eda229308a7352d47f\n",
      "Successfully built pandarallel\n",
      "Installing collected packages: pandarallel\n",
      "Successfully installed pandarallel-1.6.5\n"
     ]
    }
   ],
   "source": [
    "#!pip install pandarallel"
   ]
  },
  {
   "cell_type": "code",
   "execution_count": 16,
   "metadata": {},
   "outputs": [],
   "source": [
    "import pandarallel\n",
    "from pandarallel import pandarallel"
   ]
  },
  {
   "cell_type": "code",
   "execution_count": 17,
   "metadata": {},
   "outputs": [],
   "source": [
    "import multiprocessing\n",
    "\n",
    "num_processors = multiprocessing.cpu_count()\n",
    "\n",
    "# Now you can use num_processors in your code.\n"
   ]
  },
  {
   "cell_type": "code",
   "execution_count": 18,
   "metadata": {},
   "outputs": [
    {
     "name": "stdout",
     "output_type": "stream",
     "text": [
      "INFO: Pandarallel will run on 7 workers.\n",
      "INFO: Pandarallel will use standard multiprocessing data transfer (pipe) to transfer data between the main process and workers.\n",
      "\n",
      "WARNING: You are on Windows. If you detect any issue with pandarallel, be sure you checked out the Troubleshooting page:\n",
      "https://nalepae.github.io/pandarallel/troubleshooting/\n"
     ]
    }
   ],
   "source": [
    "pandarallel.initialize(nb_workers=num_processors-1, use_memory_fs=False)"
   ]
  },
  {
   "cell_type": "code",
   "execution_count": 28,
   "metadata": {},
   "outputs": [],
   "source": [
    "# expand length of column width\n",
    "pd.set_option('display.max_colwidth', 1000)"
   ]
  },
  {
   "cell_type": "code",
   "execution_count": 31,
   "metadata": {},
   "outputs": [
    {
     "data": {
      "text/html": [
       "<div>\n",
       "<style scoped>\n",
       "    .dataframe tbody tr th:only-of-type {\n",
       "        vertical-align: middle;\n",
       "    }\n",
       "\n",
       "    .dataframe tbody tr th {\n",
       "        vertical-align: top;\n",
       "    }\n",
       "\n",
       "    .dataframe thead th {\n",
       "        text-align: right;\n",
       "    }\n",
       "</style>\n",
       "<table border=\"1\" class=\"dataframe\">\n",
       "  <thead>\n",
       "    <tr style=\"text-align: right;\">\n",
       "      <th></th>\n",
       "      <th>url</th>\n",
       "      <th>date</th>\n",
       "      <th>language</th>\n",
       "      <th>title</th>\n",
       "      <th>text</th>\n",
       "    </tr>\n",
       "  </thead>\n",
       "  <tbody>\n",
       "    <tr>\n",
       "      <th>0</th>\n",
       "      <td>http://en.people.cn/n3/2021/0318/c90000-9830122.html</td>\n",
       "      <td>2021-03-18</td>\n",
       "      <td>en</td>\n",
       "      <td>Artificial intelligence improves parking efficiency in Chinese cities - People's Daily Online</td>\n",
       "      <td>\\n\\nArtificial intelligence improves parking efficiency in Chinese cities - People's Daily Online\\n\\nHome\\nChina Politics\\nForeign Affairs\\nOpinions\\nVideo: We Are China\\nBusiness\\nMilitary\\nWorld\\nSociety\\nCulture\\nTravel\\nScience\\nSports\\nPhoto\\n\\nLanguages\\n\\nChinese\\nJapanese\\nFrench\\nSpanish\\nRussian\\nArabic\\nKorean\\nGerman\\nPortuguese\\nThursday, March 18, 2021\\nHome&gt;&gt;\\n\\t\\t\\nArtificial intelligence improves parking efficiency in Chinese cities\\nBy Liu Shiyao (People's Daily) 09:16, March 18, 2021\\nPhoto taken on July 1, 2019, shows a sign for electronic toll collection (ETC) newly set up at a roadside parking space on Yangzhuang road, Shijingshan district, Beijing. Some urban areas of the city started to use ETC system for roadside parking spaces since July 1, 2019. (People’s Daily Online/Li Wenming)\\n\\n\\tThanks to the application of an artificial intelligence (AI)-empowered roadside electronic toll collection (ETC) system, China’s capital city Beijing has seen significant im...</td>\n",
       "    </tr>\n",
       "    <tr>\n",
       "      <th>1</th>\n",
       "      <td>http://newsparliament.com/2020/02/27/children-with-autism-saw-their-learning-and-social-skills-boosted-after-playing-with-this-ai-robot/</td>\n",
       "      <td>2020-02-27</td>\n",
       "      <td>en</td>\n",
       "      <td>Children With Autism Saw Their Learning and Social Skills Boosted After Playing With This AI Robot – News Parliament</td>\n",
       "      <td>\\nChildren With Autism Saw Their Learning and Social Skills Boosted After Playing With This AI Robot – News Parliament\\n \\n\\nSkip to content\\n\\t\\t\\tThursday, February 27, 2020\\t\\t\\n\\nLatest:\\n\\n\\nMansplaining in conferences: How can we get him to forestall?\\n\\n\\nDrax power station to cease burning coal in March 2021\\n\\n\\nCoronavirus Could Explode in the U.S. Overnight Like it Did in Italy\\n\\n\\nCoronavirus: Dettol sales surge as markets fall again\\n\\n\\nLevi Strauss marks the next phase in corporate paid leave policies\\n\\nNews Parliament\\n\\nGet the Real Story\\n\\n \\nNews\\nTechnology\\nServices\\nHealthcare\\nWorld\\nBusiness\\nEntertainment\\n \\n\\nWorld \\n\\n\\n   \\t\\t\\tChildren With Autism Saw Their Learning and Social Skills Boosted After Playing With This AI Robot   \\t\\t\\n\\n\\n February 27, 2020February 27, 2020\\nadmin\\t\\t\\t\\t\\t\\n\\n\\n 0 Comments\\n\\n\\n Author Recent Posts   admin  Latest posts by admin (see all)  Mansplaining in conferences: How can we get him to forestall? - February 27, 20...</td>\n",
       "    </tr>\n",
       "    <tr>\n",
       "      <th>2</th>\n",
       "      <td>http://www.dataweek.co.za/12835r</td>\n",
       "      <td>2021-03-26</td>\n",
       "      <td>en</td>\n",
       "      <td>Forget ML, AI and Industry 4.0 – obsolescence should be your focus - 26 February 2021 - Test &amp; Rework Solutions - Dataweek</td>\n",
       "      <td>\\n\\nForget ML, AI and Industry 4.0 – obsolescence should be your focus - 26 February 2021 - Test &amp; Rework Solutions - Dataweek\\nHome\\nAbout us\\nBack issues / E-book / PDF\\nEMP Handbook\\nSubscribe\\nAdvertise\\n\\nCategories\\n\\n▸ Editor's Choice\\n▸ Multimedia, Videos\\n▸ Analogue, Mixed Signal, LSI\\n▸ Circuit &amp; System Protection\\n▸ Computer/Embedded Technology\\n▸ Design Automation\\n▸ DSP, Micros &amp; Memory\\n▸ Electronics Technology\\n▸ Enclosures, Racks, Cabinets &amp; Panel Products\\n▸ Events\\n▸ Interconnection\\n▸ Manufacturing / Production Technology, Hardware &amp; Services\\n▸ News\\n▸ Opto-Electronics\\n▸ Passive Components\\n▸ Power Electronics / Power Management\\n▸ Programmable Logic\\n▸ Smart Home Automation\\n▸ Switches, Relays &amp; Keypads\\n▸ Telecoms, Datacoms, Wireless, IoT\\n▸ Test &amp; Measurement\\n \\n\\nCategories\\n\\nEditor's Choice\\n\\n\\nMultimedia, Videos\\n\\n\\nAnalogue, Mixed Signal, LSI\\n\\n\\nCircuit &amp; System Protection\\n\\n\\nComputer/Embedded Technology\\n\\n\\nDesign Automation\\n\\n\\nDSP, Micros &amp; ...</td>\n",
       "    </tr>\n",
       "    <tr>\n",
       "      <th>3</th>\n",
       "      <td>http://www.homeoffice.consumerelectronicsnet.com/strategy-analytics-71-of-smartphones-sold-globally-in-2021-will-be-ai-powered/</td>\n",
       "      <td>2021-03-10</td>\n",
       "      <td>en</td>\n",
       "      <td>Strategy Analytics: 71% of Smartphones Sold Globally in 2021 will be AI Powered – Consumer Electronics Net</td>\n",
       "      <td>\\n\\nStrategy Analytics: 71% of Smartphones Sold Globally in 2021 will be AI Powered – Consumer Electronics Net\\n \\nSkip to content\\n\\nConsumer Electronics Net\\n\\nPrimary Menu\\n\\nConsumer Electronics Net\\n\\nSearch for:\\n \\nHomeNewsStrategy Analytics: 71% of Smartphones Sold Globally in 2021 will be AI Powered \\n \\n                                 News\\n                             \\n \\nStrategy Analytics: 71% of Smartphones Sold Globally in 2021 will be AI Powered\\n                    7 hours ago            \\n \\n\\nArtificial Intelligence Now Powers the Majority of Smartphones\\n\\nBOSTON–(BUSINESS WIRE)–Strategy Analytics in a newly published report, Smartphones: Global Artificial Intelligence Technologies Forecast to 2025, finds that on-device Artificial Intelligence (AI) is being rapidly implemented by smartphone vendors. AI is used in various functions inside smartphones such as intelligent power optimization, imaging, virtual assistants, and to enhance device performance. The repo...</td>\n",
       "    </tr>\n",
       "    <tr>\n",
       "      <th>4</th>\n",
       "      <td>http://www.itbusinessnet.com/2020/10/olympus-to-support-endoscopic-ai-diagnosis-education-for-doctors-in-india-and-to-launch-ai-diagnostic-support-application/?utm_source=rss&amp;utm_medium=rss&amp;utm_campaign=olympus-to-support-endoscopic-ai-diagnosis-education-for-doctors-in-india-and-to-launch-ai-diagnostic-support-application</td>\n",
       "      <td>2020-10-20</td>\n",
       "      <td>en</td>\n",
       "      <td>Olympus to Support Endoscopic AI Diagnosis Education for Doctors in India and to Launch AI Diagnostic Support Application | | IT Business Net</td>\n",
       "      <td>\\n\\nOlympus to Support Endoscopic AI Diagnosis Education for Doctors in India and to Launch AI Diagnostic Support Application | | IT Business Net\\n \\nSkip to content\\n\\nIT Business Net\\n\\nNews for IT Professionals\\nPrimary Menu\\n\\nIT Business Net\\nAbout IT Business Net\\n\\nSearch for:\\n \\nHome2020OctoberOlympus to Support Endoscopic AI Diagnosis Education for Doctors in India and to Launch AI Diagnostic Support Application \\n \\n                                 News\\n                             \\n \\nOlympus to Support Endoscopic AI Diagnosis Education for Doctors in India and to Launch AI Diagnostic Support Application\\n\\n \\n\\nTOKYO, Oct 20, 2020 – (ACN Newswire) –  Olympus Corporation took part in a ground-breaking project as a business promoter, in cooperation with the Ministry of Internal Affairs and Communications (MIC), entitled, “Survey Study for International Expansion of AI Diagnosis Support System Using Ultra-High Magnifying Endoscopes in India.” The project aims to develop...</td>\n",
       "    </tr>\n",
       "  </tbody>\n",
       "</table>\n",
       "</div>"
      ],
      "text/plain": [
       "                                                                                                                                                                                                                                                                                                                                    url  \\\n",
       "0                                                                                                                                                                                                                                                                                  http://en.people.cn/n3/2021/0318/c90000-9830122.html   \n",
       "1                                                                                                                                                                                              http://newsparliament.com/2020/02/27/children-with-autism-saw-their-learning-and-social-skills-boosted-after-playing-with-this-ai-robot/   \n",
       "2                                                                                                                                                                                                                                                                                                      http://www.dataweek.co.za/12835r   \n",
       "3                                                                                                                                                                                                       http://www.homeoffice.consumerelectronicsnet.com/strategy-analytics-71-of-smartphones-sold-globally-in-2021-will-be-ai-powered/   \n",
       "4  http://www.itbusinessnet.com/2020/10/olympus-to-support-endoscopic-ai-diagnosis-education-for-doctors-in-india-and-to-launch-ai-diagnostic-support-application/?utm_source=rss&utm_medium=rss&utm_campaign=olympus-to-support-endoscopic-ai-diagnosis-education-for-doctors-in-india-and-to-launch-ai-diagnostic-support-application   \n",
       "\n",
       "         date language  \\\n",
       "0  2021-03-18       en   \n",
       "1  2020-02-27       en   \n",
       "2  2021-03-26       en   \n",
       "3  2021-03-10       en   \n",
       "4  2020-10-20       en   \n",
       "\n",
       "                                                                                                                                           title  \\\n",
       "0                                                  Artificial intelligence improves parking efficiency in Chinese cities - People's Daily Online   \n",
       "1                           Children With Autism Saw Their Learning and Social Skills Boosted After Playing With This AI Robot – News Parliament   \n",
       "2                     Forget ML, AI and Industry 4.0 – obsolescence should be your focus - 26 February 2021 - Test & Rework Solutions - Dataweek   \n",
       "3                                     Strategy Analytics: 71% of Smartphones Sold Globally in 2021 will be AI Powered – Consumer Electronics Net   \n",
       "4  Olympus to Support Endoscopic AI Diagnosis Education for Doctors in India and to Launch AI Diagnostic Support Application | | IT Business Net   \n",
       "\n",
       "                                                                                                                                                                                                                                                                                                                                                                                                                                                                                                                                                                                                                                                                                                                                                                                                                                                                                                                                                                                                                                      text  \n",
       "0  \\n\\nArtificial intelligence improves parking efficiency in Chinese cities - People's Daily Online\\n\\nHome\\nChina Politics\\nForeign Affairs\\nOpinions\\nVideo: We Are China\\nBusiness\\nMilitary\\nWorld\\nSociety\\nCulture\\nTravel\\nScience\\nSports\\nPhoto\\n\\nLanguages\\n\\nChinese\\nJapanese\\nFrench\\nSpanish\\nRussian\\nArabic\\nKorean\\nGerman\\nPortuguese\\nThursday, March 18, 2021\\nHome>>\\n\\t\\t\\nArtificial intelligence improves parking efficiency in Chinese cities\\nBy Liu Shiyao (People's Daily) 09:16, March 18, 2021\\nPhoto taken on July 1, 2019, shows a sign for electronic toll collection (ETC) newly set up at a roadside parking space on Yangzhuang road, Shijingshan district, Beijing. Some urban areas of the city started to use ETC system for roadside parking spaces since July 1, 2019. (People’s Daily Online/Li Wenming)\\n\\n\\tThanks to the application of an artificial intelligence (AI)-empowered roadside electronic toll collection (ETC) system, China’s capital city Beijing has seen significant im...  \n",
       "1  \\nChildren With Autism Saw Their Learning and Social Skills Boosted After Playing With This AI Robot – News Parliament\\n \\n\\nSkip to content\\n\\t\\t\\tThursday, February 27, 2020\\t\\t\\n\\nLatest:\\n\\n\\nMansplaining in conferences: How can we get him to forestall?\\n\\n\\nDrax power station to cease burning coal in March 2021\\n\\n\\nCoronavirus Could Explode in the U.S. Overnight Like it Did in Italy\\n\\n\\nCoronavirus: Dettol sales surge as markets fall again\\n\\n\\nLevi Strauss marks the next phase in corporate paid leave policies\\n\\nNews Parliament\\n\\nGet the Real Story\\n\\n \\nNews\\nTechnology\\nServices\\nHealthcare\\nWorld\\nBusiness\\nEntertainment\\n \\n\\nWorld \\n\\n\\n   \\t\\t\\tChildren With Autism Saw Their Learning and Social Skills Boosted After Playing With This AI Robot   \\t\\t\\n\\n\\n February 27, 2020February 27, 2020\\nadmin\\t\\t\\t\\t\\t\\n\\n\\n 0 Comments\\n\\n\\n Author Recent Posts   admin  Latest posts by admin (see all)  Mansplaining in conferences: How can we get him to forestall? - February 27, 20...  \n",
       "2  \\n\\nForget ML, AI and Industry 4.0 – obsolescence should be your focus - 26 February 2021 - Test & Rework Solutions - Dataweek\\nHome\\nAbout us\\nBack issues / E-book / PDF\\nEMP Handbook\\nSubscribe\\nAdvertise\\n\\nCategories\\n\\n▸ Editor's Choice\\n▸ Multimedia, Videos\\n▸ Analogue, Mixed Signal, LSI\\n▸ Circuit & System Protection\\n▸ Computer/Embedded Technology\\n▸ Design Automation\\n▸ DSP, Micros & Memory\\n▸ Electronics Technology\\n▸ Enclosures, Racks, Cabinets & Panel Products\\n▸ Events\\n▸ Interconnection\\n▸ Manufacturing / Production Technology, Hardware & Services\\n▸ News\\n▸ Opto-Electronics\\n▸ Passive Components\\n▸ Power Electronics / Power Management\\n▸ Programmable Logic\\n▸ Smart Home Automation\\n▸ Switches, Relays & Keypads\\n▸ Telecoms, Datacoms, Wireless, IoT\\n▸ Test & Measurement\\n \\n\\nCategories\\n\\nEditor's Choice\\n\\n\\nMultimedia, Videos\\n\\n\\nAnalogue, Mixed Signal, LSI\\n\\n\\nCircuit & System Protection\\n\\n\\nComputer/Embedded Technology\\n\\n\\nDesign Automation\\n\\n\\nDSP, Micros & ...  \n",
       "3  \\n\\nStrategy Analytics: 71% of Smartphones Sold Globally in 2021 will be AI Powered – Consumer Electronics Net\\n \\nSkip to content\\n\\nConsumer Electronics Net\\n\\nPrimary Menu\\n\\nConsumer Electronics Net\\n\\nSearch for:\\n \\nHomeNewsStrategy Analytics: 71% of Smartphones Sold Globally in 2021 will be AI Powered \\n \\n                                 News\\n                             \\n \\nStrategy Analytics: 71% of Smartphones Sold Globally in 2021 will be AI Powered\\n                    7 hours ago            \\n \\n\\nArtificial Intelligence Now Powers the Majority of Smartphones\\n\\nBOSTON–(BUSINESS WIRE)–Strategy Analytics in a newly published report, Smartphones: Global Artificial Intelligence Technologies Forecast to 2025, finds that on-device Artificial Intelligence (AI) is being rapidly implemented by smartphone vendors. AI is used in various functions inside smartphones such as intelligent power optimization, imaging, virtual assistants, and to enhance device performance. The repo...  \n",
       "4  \\n\\nOlympus to Support Endoscopic AI Diagnosis Education for Doctors in India and to Launch AI Diagnostic Support Application | | IT Business Net\\n \\nSkip to content\\n\\nIT Business Net\\n\\nNews for IT Professionals\\nPrimary Menu\\n\\nIT Business Net\\nAbout IT Business Net\\n\\nSearch for:\\n \\nHome2020OctoberOlympus to Support Endoscopic AI Diagnosis Education for Doctors in India and to Launch AI Diagnostic Support Application \\n \\n                                 News\\n                             \\n \\nOlympus to Support Endoscopic AI Diagnosis Education for Doctors in India and to Launch AI Diagnostic Support Application\\n\\n \\n\\nTOKYO, Oct 20, 2020 – (ACN Newswire) –  Olympus Corporation took part in a ground-breaking project as a business promoter, in cooperation with the Ministry of Internal Affairs and Communications (MIC), entitled, “Survey Study for International Expansion of AI Diagnosis Support System Using Ultra-High Magnifying Endoscopes in India.” The project aims to develop...  "
      ]
     },
     "execution_count": 31,
     "metadata": {},
     "output_type": "execute_result"
    }
   ],
   "source": [
    "df_news_final_project.head()"
   ]
  },
  {
   "cell_type": "code",
   "execution_count": 32,
   "metadata": {},
   "outputs": [
    {
     "data": {
      "text/plain": [
       "en    200332\n",
       "Name: language, dtype: int64"
      ]
     },
     "execution_count": 32,
     "metadata": {},
     "output_type": "execute_result"
    }
   ],
   "source": [
    "# value counts of language\n",
    "df_news_final_project['language'].value_counts()"
   ]
  },
  {
   "cell_type": "code",
   "execution_count": 19,
   "metadata": {},
   "outputs": [],
   "source": [
    "# around 60k news articles with the same titles\n",
    "#around 1500 news articles with the same text - removed this \n"
   ]
  },
  {
   "cell_type": "code",
   "execution_count": 33,
   "metadata": {},
   "outputs": [
    {
     "data": {
      "text/plain": [
       "(198564, 5)"
      ]
     },
     "execution_count": 33,
     "metadata": {},
     "output_type": "execute_result"
    }
   ],
   "source": [
    "#decided to only drop the same text because it may be the same articles\n",
    "#im going to later analyze news articles with same titles to show importance! this will be important to see trends\n",
    "df_news_final_project = df_news_final_project.drop_duplicates(subset=['text'])\n",
    "df_news_final_project.shape"
   ]
  },
  {
   "cell_type": "code",
   "execution_count": 8,
   "metadata": {},
   "outputs": [],
   "source": [
    "# take a sample of 1000 rows\n",
    "#df_news_final_project_sample = df_news_final_project.sample(n=1000, random_state=1)"
   ]
  },
  {
   "cell_type": "code",
   "execution_count": 34,
   "metadata": {},
   "outputs": [],
   "source": [
    "# reset index\n",
    "df_news_final_project.reset_index(drop=True, inplace=True)\n"
   ]
  },
  {
   "cell_type": "code",
   "execution_count": 37,
   "metadata": {},
   "outputs": [
    {
     "name": "stderr",
     "output_type": "stream",
     "text": [
      "/var/tmp/ipykernel_11314/899981166.py:7: FutureWarning: The default value of regex will change from True to False in a future version.\n",
      "  df_news_final_project['content_clean'] = df_news_final_project['content_clean'].str.replace('<!--.*?-->', ' ')\n",
      "/var/tmp/ipykernel_11314/899981166.py:8: FutureWarning: The default value of regex will change from True to False in a future version.\n",
      "  df_news_final_project['content_clean'] = df_news_final_project['content_clean'].str.replace('<script.*?>.*?</script>', ' ')\n",
      "/var/tmp/ipykernel_11314/899981166.py:9: FutureWarning: The default value of regex will change from True to False in a future version.\n",
      "  df_news_final_project['content_clean'] = df_news_final_project['content_clean'].str.replace('<.*?>', ' ')\n",
      "/var/tmp/ipykernel_11314/899981166.py:10: FutureWarning: The default value of regex will change from True to False in a future version.\n",
      "  df_news_final_project['content_clean'] = df_news_final_project['content_clean'].str.replace('http\\S+|www.\\S+', ' ')\n",
      "/var/tmp/ipykernel_11314/899981166.py:11: FutureWarning: The default value of regex will change from True to False in a future version.\n",
      "  df_news_final_project['content_clean'] = df_news_final_project['content_clean'].str.replace('[^a-zA-Z0-9\\s]', ' ')\n",
      "/var/tmp/ipykernel_11314/899981166.py:12: FutureWarning: The default value of regex will change from True to False in a future version.\n",
      "  df_news_final_project['content_clean'] = df_news_final_project['content_clean'].str.replace('\\s+', ' ')\n",
      "/var/tmp/ipykernel_11314/899981166.py:13: FutureWarning: The default value of regex will change from True to False in a future version.\n",
      "  df_news_final_project['content_clean'] = df_news_final_project['content_clean'].str.replace('^\\s+|\\s+$', ' ')\n"
     ]
    }
   ],
   "source": [
    "# Clean-up the noise, by eliminating newlines, tabs, remnants of web crawls, and other irrelevant text\n",
    "\n",
    "import re\n",
    "df_news_final_project['content_clean'] = df_news_final_project['text'].str.replace('\\n', ' ') \n",
    "df_news_final_project['content_clean'] = df_news_final_project['content_clean'].str.replace('\\t', ' ')\n",
    "df_news_final_project['content_clean'] = df_news_final_project['content_clean'].str.replace('\\r', ' ')\n",
    "df_news_final_project['content_clean'] = df_news_final_project['content_clean'].str.replace('<!--.*?-->', ' ')\n",
    "df_news_final_project['content_clean'] = df_news_final_project['content_clean'].str.replace('<script.*?>.*?</script>', ' ')\n",
    "df_news_final_project['content_clean'] = df_news_final_project['content_clean'].str.replace('<.*?>', ' ')\n",
    "df_news_final_project['content_clean'] = df_news_final_project['content_clean'].str.replace('http\\S+|www.\\S+', ' ')\n",
    "df_news_final_project['content_clean'] = df_news_final_project['content_clean'].str.replace('[^a-zA-Z0-9\\s]', ' ')\n",
    "df_news_final_project['content_clean'] = df_news_final_project['content_clean'].str.replace('\\s+', ' ')\n",
    "df_news_final_project['content_clean'] = df_news_final_project['content_clean'].str.replace('^\\s+|\\s+$', ' ')\n",
    "\n"
   ]
  },
  {
   "cell_type": "code",
   "execution_count": 39,
   "metadata": {},
   "outputs": [],
   "source": [
    "import nltk\n",
    "import string\n",
    "stopwords = set(nltk.corpus.stopwords.words('english'))\n",
    "\n",
    "df_news_final_project['clean_title'] = df_news_final_project['title'].apply(lambda x: ' '.join([word for word in x.split() if word not in (stopwords)]))\n",
    "df_news_final_project['clean_title'] = df_news_final_project['clean_title'].apply(lambda x: x.translate(str.maketrans('', '', string.punctuation)))\n",
    "df_news_final_project['content_clean'] = df_news_final_project['content_clean'].apply(lambda x: ' '.join([word for word in x.split() if word not in (stopwords)]))\n",
    "df_news_final_project['content_clean'] = df_news_final_project['content_clean'].apply(lambda x: x.translate(str.maketrans('', '', string.punctuation)))\n"
   ]
  },
  {
   "cell_type": "code",
   "execution_count": 51,
   "metadata": {},
   "outputs": [],
   "source": [
    "import nltk\n",
    "from nltk.corpus import stopwords\n",
    "\n",
    "stopwords = set(stopwords.words('english'))  # define stopwords\n",
    "\n",
    "def clean(string):\n",
    "    \n",
    "    url_pattern = r'(http|ftp|https):\\/\\/([\\w_-]+(?:(?:\\.[\\w_-]+)+))([\\w.,@?^=%&:\\/~+#-]*[\\w@?^=%&\\/~+#-])'\n",
    "    mention_pattern = r'[\\s]*@[\\w]+'\n",
    "    hashtag_pattern = r'[\\s]*#[\\w]+'\n",
    "    copyright_pattern = r\"©.*\"\n",
    "    string_fixed = re.sub(url_pattern, \"\", string)\n",
    "    string_fixed = re.sub(hashtag_pattern, \"\", string_fixed)\n",
    "    string_fixed = re.sub(mention_pattern, \"\", string_fixed)\n",
    "    string_fixed = re.sub(copyright_pattern, \"\", string_fixed)  # Remove everything after \"©\"\n",
    "    string_fixed = string_fixed.replace('\\n', ' ')\n",
    "    \n",
    "    # Convert to lower case and remove stop words without tokenization\n",
    "    words = string_fixed.split()  # split string into words\n",
    "    words = [word.lower() for word in words if word.lower() not in stopwords and word.isalpha()]\n",
    "    \n",
    "    return \" \".join(words)\n",
    "\n",
    "# Applying the function to the dataframe\n",
    "df_news_final_project['cleaned_text'] = df_news_final_project['content_clean'].apply(clean)\n"
   ]
  },
  {
   "cell_type": "code",
   "execution_count": null,
   "metadata": {},
   "outputs": [],
   "source": [
    "df_news_final_project['clean_title'] = df_news_final_project['clean_title'].apply(clean)\n"
   ]
  },
  {
   "cell_type": "code",
   "execution_count": 42,
   "metadata": {},
   "outputs": [],
   "source": [
    "ai_terms = [\"Artificial Intelligence\", \"Machine Learning\", \"Deep Learning\", \"Neural Network\", \"Natural Language Processing\", \"Supervised Learning\", \"Unsupervised Learning\", \"Reinforcement Learning\", \"Generative Adversarial Networks\", \"Convolutional Neural Networks\", \"Recurrent Neural Networks\", \"Transfer Learning\", \"Data Mining\", \"Big Data\", \"Algorithm\",\"large language models\",\"llms\",\"robotics\",\"drug\",\"discovery\",\"job\",\"Chatbots\", \"Robotic Process Automation\", \"Computer Vision\", \"Image Recognition\", \"Speech Recognition\", \"Text Analytics\", \"Sentiment Analysis\", \"Autonomous Vehicles\", \"Internet of Things\", \"Edge Computing\", \"Quantum Computing\"]\n"
   ]
  },
  {
   "cell_type": "code",
   "execution_count": 43,
   "metadata": {},
   "outputs": [],
   "source": [
    "#filter dataframe \n",
    "ai_terms = '|'.join(ai_terms)\n"
   ]
  },
  {
   "cell_type": "code",
   "execution_count": 44,
   "metadata": {},
   "outputs": [
    {
     "data": {
      "text/plain": [
       "'Artificial Intelligence|Machine Learning|Deep Learning|Neural Network|Natural Language Processing|Supervised Learning|Unsupervised Learning|Reinforcement Learning|Generative Adversarial Networks|Convolutional Neural Networks|Recurrent Neural Networks|Transfer Learning|Data Mining|Big Data|Algorithm|large language models|llms|robotics|drug|discovery|job|Chatbots|Robotic Process Automation|Computer Vision|Image Recognition|Speech Recognition|Text Analytics|Sentiment Analysis|Autonomous Vehicles|Internet of Things|Edge Computing|Quantum Computing'"
      ]
     },
     "execution_count": 44,
     "metadata": {},
     "output_type": "execute_result"
    }
   ],
   "source": [
    "ai_terms"
   ]
  },
  {
   "cell_type": "code",
   "execution_count": 62,
   "metadata": {},
   "outputs": [],
   "source": [
    "df_filtered = df_news_final_project[df_news_final_project['cleaned_text'].str.contains(ai_terms, case=False, na=False)]\n"
   ]
  },
  {
   "cell_type": "code",
   "execution_count": 63,
   "metadata": {},
   "outputs": [
    {
     "data": {
      "text/plain": [
       "(176867, 8)"
      ]
     },
     "execution_count": 63,
     "metadata": {},
     "output_type": "execute_result"
    }
   ],
   "source": [
    "df_filtered.shape"
   ]
  },
  {
   "cell_type": "code",
   "execution_count": 76,
   "metadata": {},
   "outputs": [
    {
     "data": {
      "text/plain": [
       "<seaborn.axisgrid.FacetGrid at 0x1ccd33bb670>"
      ]
     },
     "execution_count": 76,
     "metadata": {},
     "output_type": "execute_result"
    },
    {
     "data": {
      "image/png": "[encoded data removed]",
      "text/plain": [
       "<Figure size 500x500 with 1 Axes>"
      ]
     },
     "metadata": {},
     "output_type": "display_data"
    }
   ],
   "source": [
    "# #before cleaning - DONT RUN THIS\n",
    "# import seaborn as sns\n",
    "# df_news_final_project_sample = df_news_final_project_sample.dropna()\n",
    "# df_news_final_project_sample = df_news_final_project_sample.drop_duplicates(subset=['cleaned_text'])\n",
    "# df_news_final_project_sample['len_clean_text'] = df_news_final_project_sample['cleaned_text'].apply(lambda x: len(x))\n",
    "# sns.displot(data=df_news_final_project_sample,x='len_clean_text')\n"
   ]
  },
  {
   "cell_type": "code",
   "execution_count": 80,
   "metadata": {},
   "outputs": [
    {
     "data": {
      "text/plain": [
       "<seaborn.axisgrid.FacetGrid at 0x1cce0d41d80>"
      ]
     },
     "execution_count": 80,
     "metadata": {},
     "output_type": "execute_result"
    },
    {
     "data": {
      "image/png": "[encoded data removed]",
      "text/plain": [
       "<Figure size 500x500 with 1 Axes>"
      ]
     },
     "metadata": {},
     "output_type": "display_data"
    }
   ],
   "source": [
    "#after cleaning\n",
    "import seaborn as sns\n",
    "df_news_final_project_sample = df_news_final_project_sample.dropna()\n",
    "df_news_final_project_sample = df_news_final_project_sample.drop_duplicates(subset=['cleaned_text'])\n",
    "df_news_final_project_sample['len_clean_text_afterclean'] = df_news_final_project_sample['cleaned_text'].apply(lambda x: len(x))\n",
    "sns.displot(data=df_news_final_project_sample,x='len_clean_text_afterclean')\n"
   ]
  },
  {
   "cell_type": "code",
   "execution_count": 32,
   "metadata": {},
   "outputs": [],
   "source": [
    "news_df = df_news_final_project"
   ]
  },
  {
   "cell_type": "code",
   "execution_count": 33,
   "metadata": {},
   "outputs": [
    {
     "data": {
      "text/plain": [
       "(198564, 8)"
      ]
     },
     "execution_count": 33,
     "metadata": {},
     "output_type": "execute_result"
    }
   ],
   "source": [
    "news_df.shape"
   ]
  },
  {
   "cell_type": "code",
   "execution_count": 34,
   "metadata": {},
   "outputs": [],
   "source": [
    "tokenizer = nltk.tokenize.TweetTokenizer()\n",
    "\n",
    "# This creates a list of all tokenized sentences\n",
    "tokenized_sentences = news_df['cleaned_text'].apply(tokenizer.tokenize).tolist()\n",
    "\n",
    "# This will flatten the list of lists into a single list\n",
    "words = [word for sublist in tokenized_sentences for word in sublist]\n"
   ]
  },
  {
   "cell_type": "code",
   "execution_count": 35,
   "metadata": {},
   "outputs": [
    {
     "data": {
      "text/html": [
       "<div>\n",
       "<style scoped>\n",
       "    .dataframe tbody tr th:only-of-type {\n",
       "        vertical-align: middle;\n",
       "    }\n",
       "\n",
       "    .dataframe tbody tr th {\n",
       "        vertical-align: top;\n",
       "    }\n",
       "\n",
       "    .dataframe thead th {\n",
       "        text-align: right;\n",
       "    }\n",
       "</style>\n",
       "<table border=\"1\" class=\"dataframe\">\n",
       "  <thead>\n",
       "    <tr style=\"text-align: right;\">\n",
       "      <th></th>\n",
       "      <th>Word</th>\n",
       "      <th>Frequency</th>\n",
       "    </tr>\n",
       "  </thead>\n",
       "  <tbody>\n",
       "    <tr>\n",
       "      <th>0</th>\n",
       "      <td>(artificial, intelligence)</td>\n",
       "      <td>621509</td>\n",
       "    </tr>\n",
       "    <tr>\n",
       "      <th>1</th>\n",
       "      <td>(machine, learning)</td>\n",
       "      <td>239444</td>\n",
       "    </tr>\n",
       "    <tr>\n",
       "      <th>2</th>\n",
       "      <td>(intelligence, ai)</td>\n",
       "      <td>126521</td>\n",
       "    </tr>\n",
       "    <tr>\n",
       "      <th>3</th>\n",
       "      <td>(data, science)</td>\n",
       "      <td>76450</td>\n",
       "    </tr>\n",
       "    <tr>\n",
       "      <th>4</th>\n",
       "      <td>(global, artificial)</td>\n",
       "      <td>65781</td>\n",
       "    </tr>\n",
       "    <tr>\n",
       "      <th>5</th>\n",
       "      <td>(generative, ai)</td>\n",
       "      <td>44736</td>\n",
       "    </tr>\n",
       "    <tr>\n",
       "      <th>6</th>\n",
       "      <td>(financial, services)</td>\n",
       "      <td>43689</td>\n",
       "    </tr>\n",
       "    <tr>\n",
       "      <th>7</th>\n",
       "      <td>(ai, powered)</td>\n",
       "      <td>41162</td>\n",
       "    </tr>\n",
       "    <tr>\n",
       "      <th>8</th>\n",
       "      <td>(ai, technology)</td>\n",
       "      <td>39027</td>\n",
       "    </tr>\n",
       "    <tr>\n",
       "      <th>9</th>\n",
       "      <td>(ai, market)</td>\n",
       "      <td>35826</td>\n",
       "    </tr>\n",
       "    <tr>\n",
       "      <th>10</th>\n",
       "      <td>(deep, learning)</td>\n",
       "      <td>34066</td>\n",
       "    </tr>\n",
       "    <tr>\n",
       "      <th>11</th>\n",
       "      <td>(data, analytics)</td>\n",
       "      <td>32245</td>\n",
       "    </tr>\n",
       "    <tr>\n",
       "      <th>12</th>\n",
       "      <td>(big, data)</td>\n",
       "      <td>31612</td>\n",
       "    </tr>\n",
       "    <tr>\n",
       "      <th>13</th>\n",
       "      <td>(intelligence, market)</td>\n",
       "      <td>31439</td>\n",
       "    </tr>\n",
       "    <tr>\n",
       "      <th>14</th>\n",
       "      <td>(use, ai)</td>\n",
       "      <td>30618</td>\n",
       "    </tr>\n",
       "    <tr>\n",
       "      <th>15</th>\n",
       "      <td>(edge, ai)</td>\n",
       "      <td>29760</td>\n",
       "    </tr>\n",
       "    <tr>\n",
       "      <th>16</th>\n",
       "      <td>(conversational, ai)</td>\n",
       "      <td>28450</td>\n",
       "    </tr>\n",
       "    <tr>\n",
       "      <th>17</th>\n",
       "      <td>(natural, language)</td>\n",
       "      <td>27002</td>\n",
       "    </tr>\n",
       "    <tr>\n",
       "      <th>18</th>\n",
       "      <td>(ai, platform)</td>\n",
       "      <td>26505</td>\n",
       "    </tr>\n",
       "    <tr>\n",
       "      <th>19</th>\n",
       "      <td>(using, ai)</td>\n",
       "      <td>25772</td>\n",
       "    </tr>\n",
       "    <tr>\n",
       "      <th>20</th>\n",
       "      <td>(ai, software)</td>\n",
       "      <td>25229</td>\n",
       "    </tr>\n",
       "    <tr>\n",
       "      <th>21</th>\n",
       "      <td>(new, ai)</td>\n",
       "      <td>25147</td>\n",
       "    </tr>\n",
       "    <tr>\n",
       "      <th>22</th>\n",
       "      <td>(global, ai)</td>\n",
       "      <td>24950</td>\n",
       "    </tr>\n",
       "    <tr>\n",
       "      <th>23</th>\n",
       "      <td>(ai, based)</td>\n",
       "      <td>24580</td>\n",
       "    </tr>\n",
       "    <tr>\n",
       "      <th>24</th>\n",
       "      <td>(ai, systems)</td>\n",
       "      <td>24570</td>\n",
       "    </tr>\n",
       "    <tr>\n",
       "      <th>25</th>\n",
       "      <td>(ai, machine)</td>\n",
       "      <td>22841</td>\n",
       "    </tr>\n",
       "    <tr>\n",
       "      <th>26</th>\n",
       "      <td>(business, technology)</td>\n",
       "      <td>22785</td>\n",
       "    </tr>\n",
       "    <tr>\n",
       "      <th>27</th>\n",
       "      <td>(heavy, industry)</td>\n",
       "      <td>22198</td>\n",
       "    </tr>\n",
       "    <tr>\n",
       "      <th>28</th>\n",
       "      <td>(ai, tools)</td>\n",
       "      <td>21756</td>\n",
       "    </tr>\n",
       "    <tr>\n",
       "      <th>29</th>\n",
       "      <td>(language, processing)</td>\n",
       "      <td>19690</td>\n",
       "    </tr>\n",
       "    <tr>\n",
       "      <th>30</th>\n",
       "      <td>(customer, service)</td>\n",
       "      <td>19350</td>\n",
       "    </tr>\n",
       "    <tr>\n",
       "      <th>31</th>\n",
       "      <td>(business, news)</td>\n",
       "      <td>19172</td>\n",
       "    </tr>\n",
       "    <tr>\n",
       "      <th>32</th>\n",
       "      <td>(ai, solutions)</td>\n",
       "      <td>19141</td>\n",
       "    </tr>\n",
       "    <tr>\n",
       "      <th>33</th>\n",
       "      <td>(small, business)</td>\n",
       "      <td>18987</td>\n",
       "    </tr>\n",
       "    <tr>\n",
       "      <th>34</th>\n",
       "      <td>(service, market)</td>\n",
       "      <td>18930</td>\n",
       "    </tr>\n",
       "    <tr>\n",
       "      <th>35</th>\n",
       "      <td>(ai, models)</td>\n",
       "      <td>18850</td>\n",
       "    </tr>\n",
       "    <tr>\n",
       "      <th>36</th>\n",
       "      <td>(industry, analysis)</td>\n",
       "      <td>18464</td>\n",
       "    </tr>\n",
       "    <tr>\n",
       "      <th>37</th>\n",
       "      <td>(ai, chatbot)</td>\n",
       "      <td>18255</td>\n",
       "    </tr>\n",
       "    <tr>\n",
       "      <th>38</th>\n",
       "      <td>(ai, ml)</td>\n",
       "      <td>17819</td>\n",
       "    </tr>\n",
       "    <tr>\n",
       "      <th>39</th>\n",
       "      <td>(industry, manufacturing)</td>\n",
       "      <td>17761</td>\n",
       "    </tr>\n",
       "    <tr>\n",
       "      <th>40</th>\n",
       "      <td>(general, business)</td>\n",
       "      <td>17627</td>\n",
       "    </tr>\n",
       "    <tr>\n",
       "      <th>41</th>\n",
       "      <td>(terms, service)</td>\n",
       "      <td>17253</td>\n",
       "    </tr>\n",
       "    <tr>\n",
       "      <th>42</th>\n",
       "      <td>(science, tech)</td>\n",
       "      <td>17124</td>\n",
       "    </tr>\n",
       "    <tr>\n",
       "      <th>43</th>\n",
       "      <td>(energy, natural)</td>\n",
       "      <td>16637</td>\n",
       "    </tr>\n",
       "    <tr>\n",
       "      <th>44</th>\n",
       "      <td>(data, scientists)</td>\n",
       "      <td>16567</td>\n",
       "    </tr>\n",
       "    <tr>\n",
       "      <th>45</th>\n",
       "      <td>(market, industry)</td>\n",
       "      <td>16276</td>\n",
       "    </tr>\n",
       "    <tr>\n",
       "      <th>46</th>\n",
       "      <td>(intelligence, software)</td>\n",
       "      <td>15570</td>\n",
       "    </tr>\n",
       "    <tr>\n",
       "      <th>47</th>\n",
       "      <td>(ai, driven)</td>\n",
       "      <td>15262</td>\n",
       "    </tr>\n",
       "    <tr>\n",
       "      <th>48</th>\n",
       "      <td>(science, technology)</td>\n",
       "      <td>15032</td>\n",
       "    </tr>\n",
       "    <tr>\n",
       "      <th>49</th>\n",
       "      <td>(healthcare, market)</td>\n",
       "      <td>14841</td>\n",
       "    </tr>\n",
       "  </tbody>\n",
       "</table>\n",
       "</div>"
      ],
      "text/plain": [
       "                          Word  Frequency\n",
       "0   (artificial, intelligence)     621509\n",
       "1          (machine, learning)     239444\n",
       "2           (intelligence, ai)     126521\n",
       "3              (data, science)      76450\n",
       "4         (global, artificial)      65781\n",
       "5             (generative, ai)      44736\n",
       "6        (financial, services)      43689\n",
       "7                (ai, powered)      41162\n",
       "8             (ai, technology)      39027\n",
       "9                 (ai, market)      35826\n",
       "10            (deep, learning)      34066\n",
       "11           (data, analytics)      32245\n",
       "12                 (big, data)      31612\n",
       "13      (intelligence, market)      31439\n",
       "14                   (use, ai)      30618\n",
       "15                  (edge, ai)      29760\n",
       "16        (conversational, ai)      28450\n",
       "17         (natural, language)      27002\n",
       "18              (ai, platform)      26505\n",
       "19                 (using, ai)      25772\n",
       "20              (ai, software)      25229\n",
       "21                   (new, ai)      25147\n",
       "22                (global, ai)      24950\n",
       "23                 (ai, based)      24580\n",
       "24               (ai, systems)      24570\n",
       "25               (ai, machine)      22841\n",
       "26      (business, technology)      22785\n",
       "27           (heavy, industry)      22198\n",
       "28                 (ai, tools)      21756\n",
       "29      (language, processing)      19690\n",
       "30         (customer, service)      19350\n",
       "31            (business, news)      19172\n",
       "32             (ai, solutions)      19141\n",
       "33           (small, business)      18987\n",
       "34           (service, market)      18930\n",
       "35                (ai, models)      18850\n",
       "36        (industry, analysis)      18464\n",
       "37               (ai, chatbot)      18255\n",
       "38                    (ai, ml)      17819\n",
       "39   (industry, manufacturing)      17761\n",
       "40         (general, business)      17627\n",
       "41            (terms, service)      17253\n",
       "42             (science, tech)      17124\n",
       "43           (energy, natural)      16637\n",
       "44          (data, scientists)      16567\n",
       "45          (market, industry)      16276\n",
       "46    (intelligence, software)      15570\n",
       "47                (ai, driven)      15262\n",
       "48       (science, technology)      15032\n",
       "49        (healthcare, market)      14841"
      ]
     },
     "execution_count": 35,
     "metadata": {},
     "output_type": "execute_result"
    }
   ],
   "source": [
    "bgs = nltk.bigrams(words)\n",
    "targeted_bgs = ['machine','learning','ai','artificial','intelligence','natural','language','processing','chatgpt','data','science','python','r','c','analytics','ml','nlp','generative','legal','office','law','llm','large','language','model','management','business','finance','financial','industry','healthcare','production','service','manufacture','productivity','job','GenAI']\n",
    "bgs = [b for b in bgs if (b[0] in targeted_bgs) or (b[1] in targeted_bgs)]\n",
    "bigrams_freq = nltk.FreqDist(bgs)\n",
    "bigrams_freq_df = pd.DataFrame(bigrams_freq.most_common(),columns=['Word', 'Frequency'])\n",
    "bigrams_freq_df.head(n=50)\n"
   ]
  },
  {
   "cell_type": "code",
   "execution_count": 141,
   "metadata": {},
   "outputs": [
    {
     "data": {
      "text/html": [
       "<div>\n",
       "<style scoped>\n",
       "    .dataframe tbody tr th:only-of-type {\n",
       "        vertical-align: middle;\n",
       "    }\n",
       "\n",
       "    .dataframe tbody tr th {\n",
       "        vertical-align: top;\n",
       "    }\n",
       "\n",
       "    .dataframe thead th {\n",
       "        text-align: right;\n",
       "    }\n",
       "</style>\n",
       "<table border=\"1\" class=\"dataframe\">\n",
       "  <thead>\n",
       "    <tr style=\"text-align: right;\">\n",
       "      <th></th>\n",
       "      <th>Word</th>\n",
       "      <th>Frequency</th>\n",
       "    </tr>\n",
       "  </thead>\n",
       "  <tbody>\n",
       "    <tr>\n",
       "      <th>0</th>\n",
       "      <td>(global, artificial, intelligence, ai)</td>\n",
       "      <td>102</td>\n",
       "    </tr>\n",
       "    <tr>\n",
       "      <th>1</th>\n",
       "      <td>(artificial, intelligence, ai, service)</td>\n",
       "      <td>86</td>\n",
       "    </tr>\n",
       "    <tr>\n",
       "      <th>2</th>\n",
       "      <td>(call, center, ai, market)</td>\n",
       "      <td>73</td>\n",
       "    </tr>\n",
       "    <tr>\n",
       "      <th>3</th>\n",
       "      <td>(artificial, intelligence, energy, market)</td>\n",
       "      <td>71</td>\n",
       "    </tr>\n",
       "    <tr>\n",
       "      <th>4</th>\n",
       "      <td>(intelligence, energy, market, market)</td>\n",
       "      <td>62</td>\n",
       "    </tr>\n",
       "    <tr>\n",
       "      <th>5</th>\n",
       "      <td>(artificial, intelligencebased, security, market)</td>\n",
       "      <td>56</td>\n",
       "    </tr>\n",
       "    <tr>\n",
       "      <th>6</th>\n",
       "      <td>(ai, computer, vision, market)</td>\n",
       "      <td>53</td>\n",
       "    </tr>\n",
       "    <tr>\n",
       "      <th>7</th>\n",
       "      <td>(artificial, intelligence, software, market)</td>\n",
       "      <td>53</td>\n",
       "    </tr>\n",
       "    <tr>\n",
       "      <th>8</th>\n",
       "      <td>(cyber, data, science, market)</td>\n",
       "      <td>52</td>\n",
       "    </tr>\n",
       "    <tr>\n",
       "      <th>9</th>\n",
       "      <td>(automotive, artificial, intelligence, software)</td>\n",
       "      <td>47</td>\n",
       "    </tr>\n",
       "    <tr>\n",
       "      <th>10</th>\n",
       "      <td>(data, analytics, electronic, commerce)</td>\n",
       "      <td>46</td>\n",
       "    </tr>\n",
       "    <tr>\n",
       "      <th>11</th>\n",
       "      <td>(analytics, electronic, commerce, electronic)</td>\n",
       "      <td>46</td>\n",
       "    </tr>\n",
       "    <tr>\n",
       "      <th>12</th>\n",
       "      <td>(artificial, intelligence, oil, gas)</td>\n",
       "      <td>45</td>\n",
       "    </tr>\n",
       "    <tr>\n",
       "      <th>13</th>\n",
       "      <td>(artificial, intelligence, supply, chain)</td>\n",
       "      <td>44</td>\n",
       "    </tr>\n",
       "    <tr>\n",
       "      <th>14</th>\n",
       "      <td>(artificial, intelligence, manufacturing, market)</td>\n",
       "      <td>44</td>\n",
       "    </tr>\n",
       "    <tr>\n",
       "      <th>15</th>\n",
       "      <td>(artificial, intelligence, manufacturing, supply)</td>\n",
       "      <td>43</td>\n",
       "    </tr>\n",
       "    <tr>\n",
       "      <th>16</th>\n",
       "      <td>(intelligence, ai, service, market)</td>\n",
       "      <td>43</td>\n",
       "    </tr>\n",
       "    <tr>\n",
       "      <th>17</th>\n",
       "      <td>(artificial, intelligence, advisory, service)</td>\n",
       "      <td>43</td>\n",
       "    </tr>\n",
       "    <tr>\n",
       "      <th>18</th>\n",
       "      <td>(artificial, intelligence, ai, manufacturing)</td>\n",
       "      <td>42</td>\n",
       "    </tr>\n",
       "    <tr>\n",
       "      <th>19</th>\n",
       "      <td>(artificial, intelligence, robotics, market)</td>\n",
       "      <td>41</td>\n",
       "    </tr>\n",
       "    <tr>\n",
       "      <th>20</th>\n",
       "      <td>(intelligence, supply, chain, market)</td>\n",
       "      <td>41</td>\n",
       "    </tr>\n",
       "    <tr>\n",
       "      <th>21</th>\n",
       "      <td>(intelligence, manufacturing, supply, chain)</td>\n",
       "      <td>41</td>\n",
       "    </tr>\n",
       "    <tr>\n",
       "      <th>22</th>\n",
       "      <td>(artificial, intelligence, diabetes, management)</td>\n",
       "      <td>41</td>\n",
       "    </tr>\n",
       "    <tr>\n",
       "      <th>23</th>\n",
       "      <td>(privacy, policy, terms, service)</td>\n",
       "      <td>40</td>\n",
       "    </tr>\n",
       "    <tr>\n",
       "      <th>24</th>\n",
       "      <td>(artificial, intelligence, automotive, market)</td>\n",
       "      <td>40</td>\n",
       "    </tr>\n",
       "    <tr>\n",
       "      <th>25</th>\n",
       "      <td>(intelligence, ai, drug, discovery)</td>\n",
       "      <td>39</td>\n",
       "    </tr>\n",
       "    <tr>\n",
       "      <th>26</th>\n",
       "      <td>(artificial, intelligence, ai, drug)</td>\n",
       "      <td>38</td>\n",
       "    </tr>\n",
       "    <tr>\n",
       "      <th>27</th>\n",
       "      <td>(artificial, intelligence, ai, agriculture)</td>\n",
       "      <td>38</td>\n",
       "    </tr>\n",
       "    <tr>\n",
       "      <th>28</th>\n",
       "      <td>(ai, social, media, market)</td>\n",
       "      <td>36</td>\n",
       "    </tr>\n",
       "    <tr>\n",
       "      <th>29</th>\n",
       "      <td>(artificial, intelligence, aviation, market)</td>\n",
       "      <td>36</td>\n",
       "    </tr>\n",
       "    <tr>\n",
       "      <th>30</th>\n",
       "      <td>(artificial, intelligence, education, sector)</td>\n",
       "      <td>36</td>\n",
       "    </tr>\n",
       "    <tr>\n",
       "      <th>31</th>\n",
       "      <td>(automotive, artificial, intelligence, market)</td>\n",
       "      <td>35</td>\n",
       "    </tr>\n",
       "    <tr>\n",
       "      <th>32</th>\n",
       "      <td>(ai, networking, solution, market)</td>\n",
       "      <td>35</td>\n",
       "    </tr>\n",
       "    <tr>\n",
       "      <th>33</th>\n",
       "      <td>(nasdaq, artificial, intelligence, robotics)</td>\n",
       "      <td>34</td>\n",
       "    </tr>\n",
       "    <tr>\n",
       "      <th>34</th>\n",
       "      <td>(ai, drug, discovery, market)</td>\n",
       "      <td>34</td>\n",
       "    </tr>\n",
       "    <tr>\n",
       "      <th>35</th>\n",
       "      <td>(wearable, ai, device, market)</td>\n",
       "      <td>34</td>\n",
       "    </tr>\n",
       "    <tr>\n",
       "      <th>36</th>\n",
       "      <td>(artificial, intelligence, platforms, market)</td>\n",
       "      <td>34</td>\n",
       "    </tr>\n",
       "    <tr>\n",
       "      <th>37</th>\n",
       "      <td>(intelligence, ai, fintech, market)</td>\n",
       "      <td>33</td>\n",
       "    </tr>\n",
       "    <tr>\n",
       "      <th>38</th>\n",
       "      <td>(intelligence, ai, agriculture, market)</td>\n",
       "      <td>33</td>\n",
       "    </tr>\n",
       "    <tr>\n",
       "      <th>39</th>\n",
       "      <td>(artificial, intelligence, healthcare, market)</td>\n",
       "      <td>32</td>\n",
       "    </tr>\n",
       "    <tr>\n",
       "      <th>40</th>\n",
       "      <td>(artificial, intelligence, ai, fintech)</td>\n",
       "      <td>32</td>\n",
       "    </tr>\n",
       "    <tr>\n",
       "      <th>41</th>\n",
       "      <td>(first, trust, nasdaq, artificial)</td>\n",
       "      <td>31</td>\n",
       "    </tr>\n",
       "    <tr>\n",
       "      <th>42</th>\n",
       "      <td>(trust, nasdaq, artificial, intelligence)</td>\n",
       "      <td>31</td>\n",
       "    </tr>\n",
       "    <tr>\n",
       "      <th>43</th>\n",
       "      <td>(trending, topics, business, money)</td>\n",
       "      <td>31</td>\n",
       "    </tr>\n",
       "    <tr>\n",
       "      <th>44</th>\n",
       "      <td>(topics, business, money, auto)</td>\n",
       "      <td>31</td>\n",
       "    </tr>\n",
       "    <tr>\n",
       "      <th>45</th>\n",
       "      <td>(intelligence, advisory, service, market)</td>\n",
       "      <td>31</td>\n",
       "    </tr>\n",
       "    <tr>\n",
       "      <th>46</th>\n",
       "      <td>(artificial, intelligence, robotics, etf)</td>\n",
       "      <td>30</td>\n",
       "    </tr>\n",
       "    <tr>\n",
       "      <th>47</th>\n",
       "      <td>(artificial, intelligence, service, market)</td>\n",
       "      <td>30</td>\n",
       "    </tr>\n",
       "    <tr>\n",
       "      <th>48</th>\n",
       "      <td>(global, ai, networking, solution)</td>\n",
       "      <td>30</td>\n",
       "    </tr>\n",
       "    <tr>\n",
       "      <th>49</th>\n",
       "      <td>(financial, services, investing, general)</td>\n",
       "      <td>29</td>\n",
       "    </tr>\n",
       "  </tbody>\n",
       "</table>\n",
       "</div>"
      ],
      "text/plain": [
       "                                                 Word  Frequency\n",
       "0   (global, artificial, intelligence, ai)             102      \n",
       "1   (artificial, intelligence, ai, service)            86       \n",
       "2   (call, center, ai, market)                         73       \n",
       "3   (artificial, intelligence, energy, market)         71       \n",
       "4   (intelligence, energy, market, market)             62       \n",
       "5   (artificial, intelligencebased, security, market)  56       \n",
       "6   (ai, computer, vision, market)                     53       \n",
       "7   (artificial, intelligence, software, market)       53       \n",
       "8   (cyber, data, science, market)                     52       \n",
       "9   (automotive, artificial, intelligence, software)   47       \n",
       "10  (data, analytics, electronic, commerce)            46       \n",
       "11  (analytics, electronic, commerce, electronic)      46       \n",
       "12  (artificial, intelligence, oil, gas)               45       \n",
       "13  (artificial, intelligence, supply, chain)          44       \n",
       "14  (artificial, intelligence, manufacturing, market)  44       \n",
       "15  (artificial, intelligence, manufacturing, supply)  43       \n",
       "16  (intelligence, ai, service, market)                43       \n",
       "17  (artificial, intelligence, advisory, service)      43       \n",
       "18  (artificial, intelligence, ai, manufacturing)      42       \n",
       "19  (artificial, intelligence, robotics, market)       41       \n",
       "20  (intelligence, supply, chain, market)              41       \n",
       "21  (intelligence, manufacturing, supply, chain)       41       \n",
       "22  (artificial, intelligence, diabetes, management)   41       \n",
       "23  (privacy, policy, terms, service)                  40       \n",
       "24  (artificial, intelligence, automotive, market)     40       \n",
       "25  (intelligence, ai, drug, discovery)                39       \n",
       "26  (artificial, intelligence, ai, drug)               38       \n",
       "27  (artificial, intelligence, ai, agriculture)        38       \n",
       "28  (ai, social, media, market)                        36       \n",
       "29  (artificial, intelligence, aviation, market)       36       \n",
       "30  (artificial, intelligence, education, sector)      36       \n",
       "31  (automotive, artificial, intelligence, market)     35       \n",
       "32  (ai, networking, solution, market)                 35       \n",
       "33  (nasdaq, artificial, intelligence, robotics)       34       \n",
       "34  (ai, drug, discovery, market)                      34       \n",
       "35  (wearable, ai, device, market)                     34       \n",
       "36  (artificial, intelligence, platforms, market)      34       \n",
       "37  (intelligence, ai, fintech, market)                33       \n",
       "38  (intelligence, ai, agriculture, market)            33       \n",
       "39  (artificial, intelligence, healthcare, market)     32       \n",
       "40  (artificial, intelligence, ai, fintech)            32       \n",
       "41  (first, trust, nasdaq, artificial)                 31       \n",
       "42  (trust, nasdaq, artificial, intelligence)          31       \n",
       "43  (trending, topics, business, money)                31       \n",
       "44  (topics, business, money, auto)                    31       \n",
       "45  (intelligence, advisory, service, market)          31       \n",
       "46  (artificial, intelligence, robotics, etf)          30       \n",
       "47  (artificial, intelligence, service, market)        30       \n",
       "48  (global, ai, networking, solution)                 30       \n",
       "49  (financial, services, investing, general)          29       "
      ]
     },
     "execution_count": 141,
     "metadata": {},
     "output_type": "execute_result"
    }
   ],
   "source": [
    "# assuming 'words' is a list of tokenized words from your document\n",
    "fourgrams = nltk.ngrams(words, 4)\n",
    "\n",
    "targeted_fourgrams = [\n",
    "    'machine', 'learning', 'ai', 'artificial', 'intelligence', 'natural', \n",
    "    'language', 'processing', 'chatgpt', 'data', 'science', 'python', 'r', \n",
    "    'c', 'analytics', 'ml', 'nlp', 'generative', 'legal', 'office', 'law', \n",
    "    'llm', 'large', 'language', 'model', 'management', 'business', 'finance', \n",
    "    'financial', 'industry', 'healthcare', 'production', 'service', \n",
    "    'manufacture', 'productivity', 'job', 'GenAI'\n",
    "]\n",
    "\n",
    "fourgrams = [\n",
    "    b for b in fourgrams \n",
    "    if (b[0] in targeted_fourgrams) or (b[1] in targeted_fourgrams) \n",
    "    or (b[2] in targeted_fourgrams) or (b[3] in targeted_fourgrams)\n",
    "]\n",
    "\n",
    "fourgrams_dist = nltk.FreqDist(fourgrams)\n",
    "fourgrams_dist_df = pd.DataFrame(fourgrams_dist.most_common(), columns=['Word', 'Frequency'])\n",
    "fourgrams_dist_df.head(n=50)\n"
   ]
  },
  {
   "cell_type": "code",
   "execution_count": 37,
   "metadata": {},
   "outputs": [],
   "source": [
    "#Running FinancialBert for sentiment analysis"
   ]
  },
  {
   "cell_type": "code",
   "execution_count": 9,
   "metadata": {},
   "outputs": [
    {
     "name": "stdout",
     "output_type": "stream",
     "text": [
      "\u001b[33mWARNING: Ignoring invalid distribution -ill (/opt/conda/lib/python3.10/site-packages)\u001b[0m\u001b[33m\n",
      "\u001b[0m\u001b[33mWARNING: Ignoring invalid distribution -ill (/opt/conda/lib/python3.10/site-packages)\u001b[0m\u001b[33m\n",
      "\u001b[0m"
     ]
    }
   ],
   "source": [
    "#!pip install -q transformers"
   ]
  },
  {
   "cell_type": "code",
   "execution_count": 10,
   "metadata": {},
   "outputs": [],
   "source": [
    "# created on GCP Vertex AI Notebook using  `Python 3 (CUDA Toolkit 11.0)` environment\n",
    "# using n1-standard-4 (4 vCPUS, 15 GB RAM) compute w/ 1 NVIDIA T4 GPU\n",
    "\n",
    "# dependencies\n",
    "#!pip install torch==1.13.1+cu116 torchvision==0.14.1+cu116 torchaudio==0.13.1 --extra-index-url https://download.pytorch.org/whl/cu116\n",
    "#%pip install transformers datasets evaluate rouge-score nltk py7zr\n",
    "#nltk.download(\"punkt\")\n",
    "\n",
    "# note: installing an older version of pytorch so that cuda versions match\n",
    "# note: py7zr is needed for the `samsum` dataset, may or may not be needed for other datasets"
   ]
  },
  {
   "cell_type": "code",
   "execution_count": 65,
   "metadata": {},
   "outputs": [],
   "source": [
    "#!pip install tensorflow"
   ]
  },
  {
   "cell_type": "code",
   "execution_count": 11,
   "metadata": {},
   "outputs": [
    {
     "name": "stderr",
     "output_type": "stream",
     "text": [
      "2023-05-18 16:36:40.354738: I tensorflow/core/platform/cpu_feature_guard.cc:193] This TensorFlow binary is optimized with oneAPI Deep Neural Network Library (oneDNN) to use the following CPU instructions in performance-critical operations:  AVX2 FMA\n",
      "To enable them in other operations, rebuild TensorFlow with the appropriate compiler flags.\n",
      "2023-05-18 16:36:45.867895: W tensorflow/compiler/xla/stream_executor/platform/default/dso_loader.cc:64] Could not load dynamic library 'libnvinfer.so.7'; dlerror: libnvinfer.so.7: cannot open shared object file: No such file or directory; LD_LIBRARY_PATH: /usr/local/cuda/lib64:/usr/local/nccl2/lib:/usr/local/cuda/extras/CUPTI/lib64\n",
      "2023-05-18 16:36:45.868975: W tensorflow/compiler/xla/stream_executor/platform/default/dso_loader.cc:64] Could not load dynamic library 'libnvinfer_plugin.so.7'; dlerror: libnvinfer_plugin.so.7: cannot open shared object file: No such file or directory; LD_LIBRARY_PATH: /usr/local/cuda/lib64:/usr/local/nccl2/lib:/usr/local/cuda/extras/CUPTI/lib64\n",
      "2023-05-18 16:36:45.868987: W tensorflow/compiler/tf2tensorrt/utils/py_utils.cc:38] TF-TRT Warning: Cannot dlopen some TensorRT libraries. If you would like to use Nvidia GPU with TensorRT, please make sure the missing libraries mentioned above are installed properly.\n"
     ]
    },
    {
     "data": {
      "text/plain": [
       "40"
      ]
     },
     "execution_count": 11,
     "metadata": {},
     "output_type": "execute_result"
    }
   ],
   "source": [
    "from __future__ import absolute_import, division, print_function\n",
    "\n",
    "import collections\n",
    "\n",
    "import math\n",
    "import glob\n",
    "import json\n",
    "\n",
    "import numpy as np\n",
    "import torch\n",
    "from torch.utils.data import DataLoader, SequentialSampler, TensorDataset\n",
    "\n",
    "from transformers import WEIGHTS_NAME, BertConfig, BertForQuestionAnswering, BertTokenizer\n",
    "from transformers import AutoTokenizer, AutoModelForQuestionAnswering\n",
    "\n",
    "from transformers import logging\n",
    "import tensorflow as tf\n",
    "\n",
    "logging.set_verbosity_error()\n",
    "logging.get_verbosity()\n",
    "\n",
    "# from utils import (get_answer, input_to_squad_example,\n",
    "#                    squad_examples_to_features, to_list)"
   ]
  },
  {
   "cell_type": "code",
   "execution_count": 3,
   "metadata": {},
   "outputs": [
    {
     "data": {
      "application/vnd.jupyter.widget-view+json": {
       "model_id": "e2144ef3b36a486c9d8c611a4b6eebdd",
       "version_major": 2,
       "version_minor": 0
      },
      "text/plain": [
       "Downloading (…)lve/main/config.json:   0%|          | 0.00/789 [00:00<?, ?B/s]"
      ]
     },
     "metadata": {},
     "output_type": "display_data"
    },
    {
     "data": {
      "application/vnd.jupyter.widget-view+json": {
       "model_id": "e5f774ac61384262b78deafcb6f3a70e",
       "version_major": 2,
       "version_minor": 0
      },
      "text/plain": [
       "Downloading pytorch_model.bin:   0%|          | 0.00/439M [00:00<?, ?B/s]"
      ]
     },
     "metadata": {},
     "output_type": "display_data"
    },
    {
     "data": {
      "application/vnd.jupyter.widget-view+json": {
       "model_id": "fc78cd31e07c43a8944b706c877fed69",
       "version_major": 2,
       "version_minor": 0
      },
      "text/plain": [
       "Downloading (…)solve/main/vocab.txt:   0%|          | 0.00/226k [00:00<?, ?B/s]"
      ]
     },
     "metadata": {},
     "output_type": "display_data"
    },
    {
     "data": {
      "application/vnd.jupyter.widget-view+json": {
       "model_id": "cee635f92cc144e48fd817787137deca",
       "version_major": 2,
       "version_minor": 0
      },
      "text/plain": [
       "Downloading (…)cial_tokens_map.json:   0%|          | 0.00/112 [00:00<?, ?B/s]"
      ]
     },
     "metadata": {},
     "output_type": "display_data"
    },
    {
     "data": {
      "application/vnd.jupyter.widget-view+json": {
       "model_id": "f4745928d58943e19ac5d9f053a21840",
       "version_major": 2,
       "version_minor": 0
      },
      "text/plain": [
       "Downloading (…)okenizer_config.json:   0%|          | 0.00/369 [00:00<?, ?B/s]"
      ]
     },
     "metadata": {},
     "output_type": "display_data"
    },
    {
     "name": "stdout",
     "output_type": "stream",
     "text": [
      "[{'label': 'positive', 'score': 0.9998133778572083}, {'label': 'neutral', 'score': 0.9997822642326355}, {'label': 'negative', 'score': 0.9877365231513977}]\n"
     ]
    },
    {
     "name": "stderr",
     "output_type": "stream",
     "text": [
      "/opt/conda/lib/python3.7/site-packages/transformers/models/open_llama/modeling_open_llama.py:43: DeprecationWarning: The 'warn' method is deprecated, use 'warning' instead\n",
      "  \"Xformers is not installed correctly. If you want to use memorry_efficient_attention to accelerate training use the following command to install Xformers\\npip install xformers.\"\n"
     ]
    },
    {
     "data": {
      "text/plain": [
       "[{'label': 'positive', 'score': 0.9998133778572083},\n",
       " {'label': 'neutral', 'score': 0.9997822642326355},\n",
       " {'label': 'negative', 'score': 0.9877365231513977}]"
      ]
     },
     "execution_count": 3,
     "metadata": {},
     "output_type": "execute_result"
    }
   ],
   "source": [
    "from transformers import BertTokenizer, BertForSequenceClassification\n",
    "from transformers import pipeline\n",
    "\n",
    "model = BertForSequenceClassification.from_pretrained(\"ahmedrachid/FinancialBERT-Sentiment-Analysis\",num_labels=3)\n",
    "tokenizer = BertTokenizer.from_pretrained(\"ahmedrachid/FinancialBERT-Sentiment-Analysis\")\n",
    "\n",
    "nlp = pipeline(\"sentiment-analysis\", model=model, tokenizer=tokenizer)\n",
    "\n",
    "sentences = [\"Operating profit rose to EUR 13.1 mn from EUR 8.7 mn in the corresponding period in 2007 representing 7.7 % of net sales.\",  \n",
    "             \"Bids or offers include at least 1,000 shares and the value of the shares must correspond to at least EUR 4,000.\", \n",
    "             \"Raute reported a loss per share of EUR 0.86 for the first half of 2009 , against EPS of EUR 0.74 in the corresponding period of 2008.\", \n",
    "             ]\n",
    "results = nlp(sentences)\n",
    "print(results)\n",
    "\n",
    "[{'label': 'positive', 'score': 0.9998133778572083},\n",
    " {'label': 'neutral', 'score': 0.9997822642326355},\n",
    " {'label': 'negative', 'score': 0.9877365231513977}]\n",
    "\n"
   ]
  },
  {
   "cell_type": "code",
   "execution_count": 12,
   "metadata": {},
   "outputs": [
    {
     "data": {
      "application/vnd.jupyter.widget-view+json": {
       "model_id": "2b56942979f0477aa7096518a95f2ba9",
       "version_major": 2,
       "version_minor": 0
      },
      "text/plain": [
       "Downloading (…)lve/main/config.json:   0%|          | 0.00/789 [00:00<?, ?B/s]"
      ]
     },
     "metadata": {},
     "output_type": "display_data"
    },
    {
     "data": {
      "application/vnd.jupyter.widget-view+json": {
       "model_id": "850fd2a7327b4d61adc79f07ca3ecb5d",
       "version_major": 2,
       "version_minor": 0
      },
      "text/plain": [
       "Downloading pytorch_model.bin:   0%|          | 0.00/439M [00:00<?, ?B/s]"
      ]
     },
     "metadata": {},
     "output_type": "display_data"
    },
    {
     "data": {
      "application/vnd.jupyter.widget-view+json": {
       "model_id": "dab2714541e5464ebd8d546eb3e0b54b",
       "version_major": 2,
       "version_minor": 0
      },
      "text/plain": [
       "Downloading (…)solve/main/vocab.txt:   0%|          | 0.00/226k [00:00<?, ?B/s]"
      ]
     },
     "metadata": {},
     "output_type": "display_data"
    },
    {
     "data": {
      "application/vnd.jupyter.widget-view+json": {
       "model_id": "dd362b9398404d518d0a0941bd750df0",
       "version_major": 2,
       "version_minor": 0
      },
      "text/plain": [
       "Downloading (…)cial_tokens_map.json:   0%|          | 0.00/112 [00:00<?, ?B/s]"
      ]
     },
     "metadata": {},
     "output_type": "display_data"
    },
    {
     "data": {
      "application/vnd.jupyter.widget-view+json": {
       "model_id": "f14b1d6df6f74907b708a10b2379491e",
       "version_major": 2,
       "version_minor": 0
      },
      "text/plain": [
       "Downloading (…)okenizer_config.json:   0%|          | 0.00/369 [00:00<?, ?B/s]"
      ]
     },
     "metadata": {},
     "output_type": "display_data"
    },
    {
     "ename": "NameError",
     "evalue": "name 'df_filtered' is not defined",
     "output_type": "error",
     "traceback": [
      "\u001b[0;31m---------------------------------------------------------------------------\u001b[0m",
      "\u001b[0;31mNameError\u001b[0m                                 Traceback (most recent call last)",
      "Cell \u001b[0;32mIn[12], line 10\u001b[0m\n\u001b[1;32m      7\u001b[0m nlp \u001b[38;5;241m=\u001b[39m pipeline(\u001b[38;5;124m\"\u001b[39m\u001b[38;5;124msentiment-analysis\u001b[39m\u001b[38;5;124m\"\u001b[39m, model\u001b[38;5;241m=\u001b[39mmodel, tokenizer\u001b[38;5;241m=\u001b[39mtokenizer)\n\u001b[1;32m      9\u001b[0m \u001b[38;5;66;03m# Apply sentiment analysis on the 'cleaned_text' column\u001b[39;00m\n\u001b[0;32m---> 10\u001b[0m df_filtered[\u001b[38;5;124m'\u001b[39m\u001b[38;5;124msentiment\u001b[39m\u001b[38;5;124m'\u001b[39m] \u001b[38;5;241m=\u001b[39m \u001b[43mdf_filtered\u001b[49m[\u001b[38;5;124m'\u001b[39m\u001b[38;5;124mcleaned_text\u001b[39m\u001b[38;5;124m'\u001b[39m]\u001b[38;5;241m.\u001b[39mapply(\u001b[38;5;28;01mlambda\u001b[39;00m x: nlp(x)[\u001b[38;5;241m0\u001b[39m][\u001b[38;5;124m'\u001b[39m\u001b[38;5;124mlabel\u001b[39m\u001b[38;5;124m'\u001b[39m])\n\u001b[1;32m     12\u001b[0m \u001b[38;5;66;03m# If you want to store the sentiment scores as well, you can do it like this\u001b[39;00m\n\u001b[1;32m     13\u001b[0m df_filtered[\u001b[38;5;124m'\u001b[39m\u001b[38;5;124msentiment_score\u001b[39m\u001b[38;5;124m'\u001b[39m] \u001b[38;5;241m=\u001b[39m df_filtered[\u001b[38;5;124m'\u001b[39m\u001b[38;5;124mcleaned_text\u001b[39m\u001b[38;5;124m'\u001b[39m]\u001b[38;5;241m.\u001b[39mapply(\u001b[38;5;28;01mlambda\u001b[39;00m x: nlp(x)[\u001b[38;5;241m0\u001b[39m][\u001b[38;5;124m'\u001b[39m\u001b[38;5;124mscore\u001b[39m\u001b[38;5;124m'\u001b[39m])\n",
      "\u001b[0;31mNameError\u001b[0m: name 'df_filtered' is not defined"
     ]
    }
   ],
   "source": [
    "from transformers import BertTokenizer, BertForSequenceClassification\n",
    "from transformers import pipeline\n",
    "\n",
    "model = BertForSequenceClassification.from_pretrained(\"ahmedrachid/FinancialBERT-Sentiment-Analysis\",num_labels=3)\n",
    "tokenizer = BertTokenizer.from_pretrained(\"ahmedrachid/FinancialBERT-Sentiment-Analysis\")\n",
    "\n",
    "nlp = pipeline(\"sentiment-analysis\", model=model, tokenizer=tokenizer)\n",
    "\n",
    "# Apply sentiment analysis on the 'cleaned_text' column\n",
    "df_filtered['sentiment'] = df_filtered['cleaned_text'].apply(lambda x: nlp(x)[0]['label'])\n",
    "\n",
    "# If you want to store the sentiment scores as well, you can do it like this\n",
    "df_filtered['sentiment_score'] = df_filtered['cleaned_text'].apply(lambda x: nlp(x)[0]['score'])\n"
   ]
  },
  {
   "cell_type": "code",
   "execution_count": 7,
   "metadata": {},
   "outputs": [
    {
     "name": "stdout",
     "output_type": "stream",
     "text": [
      "CPU times: total: 703 ms\n",
      "Wall time: 2.11 s\n"
     ]
    },
    {
     "data": {
      "text/plain": [
       "(1000, 10)"
      ]
     },
     "execution_count": 7,
     "metadata": {},
     "output_type": "execute_result"
    }
   ],
   "source": [
    "%%time\n",
    "\n",
    "df_filtered_sample = pd.read_parquet('df_filtered_sample.parquet', engine='pyarrow')\n",
    "df_filtered_sample.shape"
   ]
  },
  {
   "cell_type": "code",
   "execution_count": 9,
   "metadata": {},
   "outputs": [
    {
     "data": {
      "text/html": [
       "<div>\n",
       "<style scoped>\n",
       "    .dataframe tbody tr th:only-of-type {\n",
       "        vertical-align: middle;\n",
       "    }\n",
       "\n",
       "    .dataframe tbody tr th {\n",
       "        vertical-align: top;\n",
       "    }\n",
       "\n",
       "    .dataframe thead th {\n",
       "        text-align: right;\n",
       "    }\n",
       "</style>\n",
       "<table border=\"1\" class=\"dataframe\">\n",
       "  <thead>\n",
       "    <tr style=\"text-align: right;\">\n",
       "      <th></th>\n",
       "      <th>url</th>\n",
       "      <th>date</th>\n",
       "      <th>language</th>\n",
       "      <th>title</th>\n",
       "      <th>text</th>\n",
       "      <th>content_clean</th>\n",
       "      <th>clean_title</th>\n",
       "      <th>cleaned_text</th>\n",
       "      <th>sentiment</th>\n",
       "      <th>confidence_score</th>\n",
       "    </tr>\n",
       "  </thead>\n",
       "  <tbody>\n",
       "    <tr>\n",
       "      <th>96091</th>\n",
       "      <td>http://www.hardware.broadcastnewsroom.com/2020/04/24/aws-announces-general-availability-of-amazon-augmented-artificial-intelligence-a2i/?utm_source=rss&amp;utm_medium=rss&amp;utm_campaign=aws-announces-general-availability-of-amazon-augmented-artificial-intelligence-a2i</td>\n",
       "      <td>2020-04-24</td>\n",
       "      <td>en</td>\n",
       "      <td>AWS Announces General Availability of Amazon Augmented Artificial Intelligence (A2I) | | Broadcast Newsroom</td>\n",
       "      <td>\\n\\nAWS Announces General Availability of Amazon Augmented Artificial Intelligence (A2I) | | Broadcast Newsroom\\n \\n\\nSkip to content\\nBroadcast Newsroom\\n\\nNews &amp; Information for Broadcast Professionals\\n\\nPrimary Menu\\n\\nSearch for:\\n \\nHome2020April24AWS Announces General Availability of Amazon Augmented Artificial Intelligence (A2I) \\n\\n \\n\\n \\n                                 News\\n                             \\n \\nAWS Announces General Availability of Amazon Augmented Artificial Intelligence (A2I)\\n\\n\\nBy\\n\\n                BN Staff            \\n\\n\\n            3 hours ago        \\n\\...</td>\n",
       "      <td>AWS Announces General Availability Amazon Augmented Artificial Intelligence A2I Broadcast Newsroom Skip content Broadcast Newsroom News Information Broadcast Professionals Primary Menu Search Home2020April24AWS Announces General Availability Amazon Augmented Artificial Intelligence A2I News AWS Announces General Availability Amazon Augmented Artificial Intelligence A2I By BN Staff 3 hours ago Amazon A2I makes easier developers build manage workflows validate machine learning predictions human reviewers National Health Service NHS UK T Mobile Deloitte among customers partners using Amazon A...</td>\n",
       "      <td>AWS Announces General Availability Amazon Augmented Artificial Intelligence A2I   Broadcast Newsroom</td>\n",
       "      <td>aws announces general availability amazon augmented artificial intelligence broadcast newsroom skip content broadcast newsroom news information broadcast professionals primary menu search announces general availability amazon augmented artificial intelligence news aws announces general availability amazon augmented artificial intelligence bn staff hours ago amazon makes easier developers build manage workflows validate machine learning predictions human reviewers national health service nhs uk mobile deloitte among customers partners using amazon seattle business wire today amazon web serv...</td>\n",
       "      <td>neutral</td>\n",
       "      <td>0.902667</td>\n",
       "    </tr>\n",
       "    <tr>\n",
       "      <th>91201</th>\n",
       "      <td>https://businessday.ng/news/article/nigerians-query-chatgpt-on-how-to-win-tinubu-others/</td>\n",
       "      <td>2023-01-15</td>\n",
       "      <td>en</td>\n",
       "      <td>Nigerians query ChatGPT on 'How to win Tinubu', others - Businessday NG</td>\n",
       "      <td>\\n\\nNigerians query ChatGPT on 'How to win Tinubu', others - Businessday NG\\n\\n\\r\\n    \\n\\n \\n\\n    \\n\\n \\n\\nNews\\nAhmed Bola Tinubu,BDrecent\\nBusinessDay\\n\\nHome\\nBig Story\\nNews\\n\\nWorld\\n\\nAfrica\\n\\n\\nLegal Business\\nSports.\\nEducation\\n\\n\\nNigeriaDecides2023\\nCompanies\\nEconomy\\n\\nAgriculture\\nAviation\\nBanking\\nMaritime\\nReal Estate\\nTransportation\\nResearch post\\n\\n\\nTechnology\\nEnergy\\n\\nRenewables\\nPower\\nOil &amp; Gas\\n\\n\\nInterview\\nCommentary\\n\\nColumnists\\nOpinion\\nEditorial\\n\\n\\nBD Weekender\\nCartoon\\nData Analytics\\n\\nMarket Data\\nGovernance Data\\n\\n\\nApp\\n\\nDownload Andriod App...</td>\n",
       "      <td>Nigerians query ChatGPT How win Tinubu others Businessday NG News Ahmed Bola Tinubu BDrecent BusinessDay Home Big Story News World Africa Legal Business Sports Education NigeriaDecides2023 Companies Economy Agriculture Aviation Banking Maritime Real Estate Transportation Research post Technology Energy Renewables Power Oil Gas Interview Commentary Columnists Opinion Editorial BD Weekender Cartoon Data Analytics Market Data Governance Data App Download Andriod App Download IOS Conferences Login My Account Subscribe Logout Sunday January 15 2023 Businessday Ng Home Big Story News World Afric...</td>\n",
       "      <td>Nigerians query ChatGPT How win Tinubu others  Businessday NG</td>\n",
       "      <td>nigerians query chatgpt win tinubu others businessday ng news ahmed bola tinubu bdrecent businessday home big story news world africa legal business sports education companies economy agriculture aviation banking maritime real estate transportation research post technology energy renewables power oil gas interview commentary columnists opinion editorial bd weekender cartoon data analytics market data governance data app download andriod app download ios conferences login account subscribe logout sunday january businessday ng home big story news world africa legal business sports education ...</td>\n",
       "      <td>neutral</td>\n",
       "      <td>0.995505</td>\n",
       "    </tr>\n",
       "    <tr>\n",
       "      <th>154436</th>\n",
       "      <td>https://www.wbtv.com/prnewswire/2022/05/17/credo-ai-closes-128-million-series-funding-round-led-by-sands-capital/</td>\n",
       "      <td>2022-05-17</td>\n",
       "      <td>en</td>\n",
       "      <td>Credo AI Closes $12.8 Million Series A Funding Round Led by Sands Capital</td>\n",
       "      <td>Credo AI Closes $12.8 Million Series A Funding Round Led by Sands Capital\\n\\nSkip to contentNC DHHS FluMarketplaceMeet the WBTV News Team!Watch LiveNewsletterLatest VideoNewsWeatherCalendarWBTV InvestigatesOn Your Side TonightQC LifeSticker ShockSearchWBTV NewsAbout WBTVMeet the WBTV News Team!Send us your photos!TrafficWatch LiveWeb Extra LinksNews AppsTriviaContestsNewsCelebrating Eric ThomasCabarrus CountyCatawba Co.Cleveland CountyGaston CountyHigh CountryIredell CountyMecklenburg Co.Rowan CountySouth CarolinaUnion CountyCrimeEducationSubmit your first-day photos!KNOW BEFORE YOU GOMaki...</td>\n",
       "      <td>Credo AI Closes 12 8 Million Series A Funding Round Led Sands Capital Skip contentNC DHHS FluMarketplaceMeet WBTV News Team Watch LiveNewsletterLatest VideoNewsWeatherCalendarWBTV InvestigatesOn Your Side TonightQC LifeSticker ShockSearchWBTV NewsAbout WBTVMeet WBTV News Team Send us photos TrafficWatch LiveWeb Extra LinksNews AppsTriviaContestsNewsCelebrating Eric ThomasCabarrus CountyCatawba Co Cleveland CountyGaston CountyHigh CountryIredell CountyMecklenburg Co Rowan CountySouth CarolinaUnion CountyCrimeEducationSubmit first day photos KNOW BEFORE YOU GOMaking GradeCollect ConnectCoron...</td>\n",
       "      <td>Credo AI Closes 128 Million Series A Funding Round Led Sands Capital</td>\n",
       "      <td>credo ai closes million series funding round led sands capital skip contentnc dhhs flumarketplacemeet wbtv news team watch livenewsletterlatest videonewsweathercalendarwbtv investigateson side tonightqc lifesticker shocksearchwbtv newsabout wbtvmeet wbtv news team send us photos trafficwatch liveweb extra linksnews appstriviacontestsnewscelebrating eric thomascabarrus countycatawba co cleveland countygaston countyhigh countryiredell countymecklenburg co rowan countysouth carolinaunion countycrimeeducationsubmit first day photos know gomaking gradecollect connectcoronavirus planshigh school...</td>\n",
       "      <td>neutral</td>\n",
       "      <td>0.891432</td>\n",
       "    </tr>\n",
       "    <tr>\n",
       "      <th>69217</th>\n",
       "      <td>https://www.techradar.com/uk/news/samsungs-new-washers-and-dryers-use-ai-to-clean-your-clothes-more-efficiently</td>\n",
       "      <td>2021-01-11</td>\n",
       "      <td>en</td>\n",
       "      <td>Samsung's new washers and dryers use AI to clean your clothes more efficiently | TechRadar</td>\n",
       "      <td>\\nSamsung's new washers and dryers use AI to clean your clothes more efficiently | TechRadar\\nSkip to main content\\nTechRadar The source for Tech Buying Advice\\nSearch\\n\\nSubscribe\\nRSS\\nPlease deactivate your ad blocker in order to see our subscription offer\\n \\nNews\\n\\nReviews\\n\\nPhones\\n\\nTVs\\n\\nLaptops\\n\\nCameras\\n\\nDeals\\nMore \\n\\n\\nWearables\\n\\n\\nTablets\\n\\n\\nComputing\\n\\n\\nAudiovisual\\n\\n\\nGaming\\n\\n\\nSmart Home\\n\\n\\nAppliances\\n\\n\\nCar Tech\\n\\n\\nComponents\\n\\n\\nDownloads\\n\\n\\nBroadband deals\\n\\n\\nVPN\\n\\n\\nWeb hosting\\n\\n\\nNews\\n\\n\\nVideo\\n\\n\\nMagazine\\n\\n\\nBlack Friday\\n\\nPro\\n\\n\\n...</td>\n",
       "      <td>Samsung new washers dryers use AI clean clothes efficiently TechRadar Skip main content TechRadar The source Tech Buying Advice Search Subscribe RSS Please deactivate ad blocker order see subscription offer News Reviews Phones TVs Laptops Cameras Deals More Wearables Tablets Computing Audiovisual Gaming Smart Home Appliances Car Tech Components Downloads Broadband deals VPN Web hosting News Video Magazine Black Friday Pro CES Innovation Week Trending Samsung S21 Buy PS5 iPhone 12 CES 2021 Apple Watch 6 VPN OnePlus 9 TechRadar supported audience When purchase links site may earn affiliate c...</td>\n",
       "      <td>Samsungs new washers dryers use AI clean clothes efficiently  TechRadar</td>\n",
       "      <td>samsung new washers dryers use ai clean clothes efficiently techradar skip main content techradar source tech buying advice search subscribe rss please deactivate ad blocker order see subscription offer news reviews phones tvs laptops cameras deals wearables tablets computing audiovisual gaming smart home appliances car tech components downloads broadband deals vpn web hosting news video magazine black friday pro ces innovation week trending samsung buy iphone ces apple watch vpn oneplus techradar supported audience purchase links site may earn affiliate commission learn home news smart ho...</td>\n",
       "      <td>neutral</td>\n",
       "      <td>0.889912</td>\n",
       "    </tr>\n",
       "    <tr>\n",
       "      <th>196372</th>\n",
       "      <td>https://www.mccourier.com/artificial-intelligence-ai-in-cyber-security-market-is-anticipated-to-gain-moderate-cagr-by-2027/</td>\n",
       "      <td>2021-06-15</td>\n",
       "      <td>en</td>\n",
       "      <td>Artificial Intelligence (AI) in Cyber Security Market is Anticipated to Gain Moderate CAGR by 2027 – The Courier</td>\n",
       "      <td>\\n\\nArtificial Intelligence (AI) in Cyber Security Market is Anticipated to Gain Moderate CAGR by 2027 – The Courier\\n\\r\\n\\t\\t\\t\\t\\t\\tTuesday, June 15 2021\\t\\t\\t\\t\\t\\n\\nBreaking News\\nAsphalt Lubricating Oil and Grease Market is Predicted to See Lucrative Gains Over 2021-2027\\n\\n\\nAutomatic Dicing Saw (6 Inch-12 Inch) Market Share by Manufacturer (isco, TSK, Tokyo Seimitsu, ADT (Advanced Dicing Technologies), Loadpoint) – COVID-19 Impact and Global Analysis By Type (Fully Automatic, Semi-Automatic), Application (IC, Separation Device, LED Package) to 2028\\n\\n\\nArtificial Intelligence (AI) ...</td>\n",
       "      <td>Artificial Intelligence AI Cyber Security Market Anticipated Gain Moderate CAGR 2027 The Courier Tuesday June 15 2021 Breaking News Asphalt Lubricating Oil Grease Market Predicted See Lucrative Gains Over 2021 2027 Automatic Dicing Saw 6 Inch 12 Inch Market Share Manufacturer isco TSK Tokyo Seimitsu ADT Advanced Dicing Technologies Loadpoint COVID 19 Impact Global Analysis By Type Fully Automatic Semi Automatic Application IC Separation Device LED Package 2028 Artificial Intelligence AI Cyber Security Market Anticipated Gain Moderate CAGR 2027 Mobile Air Purifier Market Size Share 2020 Glo...</td>\n",
       "      <td>Artificial Intelligence AI Cyber Security Market Anticipated Gain Moderate CAGR 2027 – The Courier</td>\n",
       "      <td>artificial intelligence ai cyber security market anticipated gain moderate cagr courier tuesday june breaking news asphalt lubricating oil grease market predicted see lucrative gains automatic dicing saw inch inch market share manufacturer isco tsk tokyo seimitsu adt advanced dicing technologies loadpoint covid impact global analysis type fully automatic semi automatic application ic separation device led package artificial intelligence ai cyber security market anticipated gain moderate cagr mobile air purifier market size share global industry trends growth segmentation future demands lat...</td>\n",
       "      <td>positive</td>\n",
       "      <td>0.994445</td>\n",
       "    </tr>\n",
       "  </tbody>\n",
       "</table>\n",
       "</div>"
      ],
      "text/plain": [
       "                                                                                                                                                                                                                                                                           url   \n",
       "96091   http://www.hardware.broadcastnewsroom.com/2020/04/24/aws-announces-general-availability-of-amazon-augmented-artificial-intelligence-a2i/?utm_source=rss&utm_medium=rss&utm_campaign=aws-announces-general-availability-of-amazon-augmented-artificial-intelligence-a2i  \\\n",
       "91201                                                                                                                                                                                 https://businessday.ng/news/article/nigerians-query-chatgpt-on-how-to-win-tinubu-others/   \n",
       "154436                                                                                                                                                       https://www.wbtv.com/prnewswire/2022/05/17/credo-ai-closes-128-million-series-funding-round-led-by-sands-capital/   \n",
       "69217                                                                                                                                                          https://www.techradar.com/uk/news/samsungs-new-washers-and-dryers-use-ai-to-clean-your-clothes-more-efficiently   \n",
       "196372                                                                                                                                             https://www.mccourier.com/artificial-intelligence-ai-in-cyber-security-market-is-anticipated-to-gain-moderate-cagr-by-2027/   \n",
       "\n",
       "              date language   \n",
       "96091   2020-04-24       en  \\\n",
       "91201   2023-01-15       en   \n",
       "154436  2022-05-17       en   \n",
       "69217   2021-01-11       en   \n",
       "196372  2021-06-15       en   \n",
       "\n",
       "                                                                                                                   title   \n",
       "96091        AWS Announces General Availability of Amazon Augmented Artificial Intelligence (A2I) | | Broadcast Newsroom  \\\n",
       "91201                                            Nigerians query ChatGPT on 'How to win Tinubu', others - Businessday NG   \n",
       "154436                                         Credo AI Closes $12.8 Million Series A Funding Round Led by Sands Capital   \n",
       "69217                         Samsung's new washers and dryers use AI to clean your clothes more efficiently | TechRadar   \n",
       "196372  Artificial Intelligence (AI) in Cyber Security Market is Anticipated to Gain Moderate CAGR by 2027 – The Courier   \n",
       "\n",
       "                                                                                                                                                                                                                                                                                                                                                                                                                                                                                                                                                                                                                           text   \n",
       "96091   \\n\\nAWS Announces General Availability of Amazon Augmented Artificial Intelligence (A2I) | | Broadcast Newsroom\\n \\n\\nSkip to content\\nBroadcast Newsroom\\n\\nNews & Information for Broadcast Professionals\\n\\nPrimary Menu\\n\\nSearch for:\\n \\nHome2020April24AWS Announces General Availability of Amazon Augmented Artificial Intelligence (A2I) \\n\\n \\n\\n \\n                                 News\\n                             \\n \\nAWS Announces General Availability of Amazon Augmented Artificial Intelligence (A2I)\\n\\n\\nBy\\n\\n                BN Staff            \\n\\n\\n            3 hours ago        \\n\\...  \\\n",
       "91201    \\n\\nNigerians query ChatGPT on 'How to win Tinubu', others - Businessday NG\\n\\n\\r\\n    \\n\\n \\n\\n    \\n\\n \\n\\nNews\\nAhmed Bola Tinubu,BDrecent\\nBusinessDay\\n\\nHome\\nBig Story\\nNews\\n\\nWorld\\n\\nAfrica\\n\\n\\nLegal Business\\nSports.\\nEducation\\n\\n\\nNigeriaDecides2023\\nCompanies\\nEconomy\\n\\nAgriculture\\nAviation\\nBanking\\nMaritime\\nReal Estate\\nTransportation\\nResearch post\\n\\n\\nTechnology\\nEnergy\\n\\nRenewables\\nPower\\nOil & Gas\\n\\n\\nInterview\\nCommentary\\n\\nColumnists\\nOpinion\\nEditorial\\n\\n\\nBD Weekender\\nCartoon\\nData Analytics\\n\\nMarket Data\\nGovernance Data\\n\\n\\nApp\\n\\nDownload Andriod App...   \n",
       "154436  Credo AI Closes $12.8 Million Series A Funding Round Led by Sands Capital\\n\\nSkip to contentNC DHHS FluMarketplaceMeet the WBTV News Team!Watch LiveNewsletterLatest VideoNewsWeatherCalendarWBTV InvestigatesOn Your Side TonightQC LifeSticker ShockSearchWBTV NewsAbout WBTVMeet the WBTV News Team!Send us your photos!TrafficWatch LiveWeb Extra LinksNews AppsTriviaContestsNewsCelebrating Eric ThomasCabarrus CountyCatawba Co.Cleveland CountyGaston CountyHigh CountryIredell CountyMecklenburg Co.Rowan CountySouth CarolinaUnion CountyCrimeEducationSubmit your first-day photos!KNOW BEFORE YOU GOMaki...   \n",
       "69217   \\nSamsung's new washers and dryers use AI to clean your clothes more efficiently | TechRadar\\nSkip to main content\\nTechRadar The source for Tech Buying Advice\\nSearch\\n\\nSubscribe\\nRSS\\nPlease deactivate your ad blocker in order to see our subscription offer\\n \\nNews\\n\\nReviews\\n\\nPhones\\n\\nTVs\\n\\nLaptops\\n\\nCameras\\n\\nDeals\\nMore \\n\\n\\nWearables\\n\\n\\nTablets\\n\\n\\nComputing\\n\\n\\nAudiovisual\\n\\n\\nGaming\\n\\n\\nSmart Home\\n\\n\\nAppliances\\n\\n\\nCar Tech\\n\\n\\nComponents\\n\\n\\nDownloads\\n\\n\\nBroadband deals\\n\\n\\nVPN\\n\\n\\nWeb hosting\\n\\n\\nNews\\n\\n\\nVideo\\n\\n\\nMagazine\\n\\n\\nBlack Friday\\n\\nPro\\n\\n\\n...   \n",
       "196372  \\n\\nArtificial Intelligence (AI) in Cyber Security Market is Anticipated to Gain Moderate CAGR by 2027 – The Courier\\n\\r\\n\\t\\t\\t\\t\\t\\tTuesday, June 15 2021\\t\\t\\t\\t\\t\\n\\nBreaking News\\nAsphalt Lubricating Oil and Grease Market is Predicted to See Lucrative Gains Over 2021-2027\\n\\n\\nAutomatic Dicing Saw (6 Inch-12 Inch) Market Share by Manufacturer (isco, TSK, Tokyo Seimitsu, ADT (Advanced Dicing Technologies), Loadpoint) – COVID-19 Impact and Global Analysis By Type (Fully Automatic, Semi-Automatic), Application (IC, Separation Device, LED Package) to 2028\\n\\n\\nArtificial Intelligence (AI) ...   \n",
       "\n",
       "                                                                                                                                                                                                                                                                                                                                                                                                                                                                                                                                                                                                                  content_clean   \n",
       "96091   AWS Announces General Availability Amazon Augmented Artificial Intelligence A2I Broadcast Newsroom Skip content Broadcast Newsroom News Information Broadcast Professionals Primary Menu Search Home2020April24AWS Announces General Availability Amazon Augmented Artificial Intelligence A2I News AWS Announces General Availability Amazon Augmented Artificial Intelligence A2I By BN Staff 3 hours ago Amazon A2I makes easier developers build manage workflows validate machine learning predictions human reviewers National Health Service NHS UK T Mobile Deloitte among customers partners using Amazon A...  \\\n",
       "91201   Nigerians query ChatGPT How win Tinubu others Businessday NG News Ahmed Bola Tinubu BDrecent BusinessDay Home Big Story News World Africa Legal Business Sports Education NigeriaDecides2023 Companies Economy Agriculture Aviation Banking Maritime Real Estate Transportation Research post Technology Energy Renewables Power Oil Gas Interview Commentary Columnists Opinion Editorial BD Weekender Cartoon Data Analytics Market Data Governance Data App Download Andriod App Download IOS Conferences Login My Account Subscribe Logout Sunday January 15 2023 Businessday Ng Home Big Story News World Afric...   \n",
       "154436  Credo AI Closes 12 8 Million Series A Funding Round Led Sands Capital Skip contentNC DHHS FluMarketplaceMeet WBTV News Team Watch LiveNewsletterLatest VideoNewsWeatherCalendarWBTV InvestigatesOn Your Side TonightQC LifeSticker ShockSearchWBTV NewsAbout WBTVMeet WBTV News Team Send us photos TrafficWatch LiveWeb Extra LinksNews AppsTriviaContestsNewsCelebrating Eric ThomasCabarrus CountyCatawba Co Cleveland CountyGaston CountyHigh CountryIredell CountyMecklenburg Co Rowan CountySouth CarolinaUnion CountyCrimeEducationSubmit first day photos KNOW BEFORE YOU GOMaking GradeCollect ConnectCoron...   \n",
       "69217   Samsung new washers dryers use AI clean clothes efficiently TechRadar Skip main content TechRadar The source Tech Buying Advice Search Subscribe RSS Please deactivate ad blocker order see subscription offer News Reviews Phones TVs Laptops Cameras Deals More Wearables Tablets Computing Audiovisual Gaming Smart Home Appliances Car Tech Components Downloads Broadband deals VPN Web hosting News Video Magazine Black Friday Pro CES Innovation Week Trending Samsung S21 Buy PS5 iPhone 12 CES 2021 Apple Watch 6 VPN OnePlus 9 TechRadar supported audience When purchase links site may earn affiliate c...   \n",
       "196372  Artificial Intelligence AI Cyber Security Market Anticipated Gain Moderate CAGR 2027 The Courier Tuesday June 15 2021 Breaking News Asphalt Lubricating Oil Grease Market Predicted See Lucrative Gains Over 2021 2027 Automatic Dicing Saw 6 Inch 12 Inch Market Share Manufacturer isco TSK Tokyo Seimitsu ADT Advanced Dicing Technologies Loadpoint COVID 19 Impact Global Analysis By Type Fully Automatic Semi Automatic Application IC Separation Device LED Package 2028 Artificial Intelligence AI Cyber Security Market Anticipated Gain Moderate CAGR 2027 Mobile Air Purifier Market Size Share 2020 Glo...   \n",
       "\n",
       "                                                                                                 clean_title   \n",
       "96091   AWS Announces General Availability Amazon Augmented Artificial Intelligence A2I   Broadcast Newsroom  \\\n",
       "91201                                          Nigerians query ChatGPT How win Tinubu others  Businessday NG   \n",
       "154436                                  Credo AI Closes 128 Million Series A Funding Round Led Sands Capital   \n",
       "69217                                Samsungs new washers dryers use AI clean clothes efficiently  TechRadar   \n",
       "196372    Artificial Intelligence AI Cyber Security Market Anticipated Gain Moderate CAGR 2027 – The Courier   \n",
       "\n",
       "                                                                                                                                                                                                                                                                                                                                                                                                                                                                                                                                                                                                                   cleaned_text   \n",
       "96091   aws announces general availability amazon augmented artificial intelligence broadcast newsroom skip content broadcast newsroom news information broadcast professionals primary menu search announces general availability amazon augmented artificial intelligence news aws announces general availability amazon augmented artificial intelligence bn staff hours ago amazon makes easier developers build manage workflows validate machine learning predictions human reviewers national health service nhs uk mobile deloitte among customers partners using amazon seattle business wire today amazon web serv...  \\\n",
       "91201   nigerians query chatgpt win tinubu others businessday ng news ahmed bola tinubu bdrecent businessday home big story news world africa legal business sports education companies economy agriculture aviation banking maritime real estate transportation research post technology energy renewables power oil gas interview commentary columnists opinion editorial bd weekender cartoon data analytics market data governance data app download andriod app download ios conferences login account subscribe logout sunday january businessday ng home big story news world africa legal business sports education ...   \n",
       "154436  credo ai closes million series funding round led sands capital skip contentnc dhhs flumarketplacemeet wbtv news team watch livenewsletterlatest videonewsweathercalendarwbtv investigateson side tonightqc lifesticker shocksearchwbtv newsabout wbtvmeet wbtv news team send us photos trafficwatch liveweb extra linksnews appstriviacontestsnewscelebrating eric thomascabarrus countycatawba co cleveland countygaston countyhigh countryiredell countymecklenburg co rowan countysouth carolinaunion countycrimeeducationsubmit first day photos know gomaking gradecollect connectcoronavirus planshigh school...   \n",
       "69217   samsung new washers dryers use ai clean clothes efficiently techradar skip main content techradar source tech buying advice search subscribe rss please deactivate ad blocker order see subscription offer news reviews phones tvs laptops cameras deals wearables tablets computing audiovisual gaming smart home appliances car tech components downloads broadband deals vpn web hosting news video magazine black friday pro ces innovation week trending samsung buy iphone ces apple watch vpn oneplus techradar supported audience purchase links site may earn affiliate commission learn home news smart ho...   \n",
       "196372  artificial intelligence ai cyber security market anticipated gain moderate cagr courier tuesday june breaking news asphalt lubricating oil grease market predicted see lucrative gains automatic dicing saw inch inch market share manufacturer isco tsk tokyo seimitsu adt advanced dicing technologies loadpoint covid impact global analysis type fully automatic semi automatic application ic separation device led package artificial intelligence ai cyber security market anticipated gain moderate cagr mobile air purifier market size share global industry trends growth segmentation future demands lat...   \n",
       "\n",
       "       sentiment  confidence_score  \n",
       "96091    neutral          0.902667  \n",
       "91201    neutral          0.995505  \n",
       "154436   neutral          0.891432  \n",
       "69217    neutral          0.889912  \n",
       "196372  positive          0.994445  "
      ]
     },
     "execution_count": 9,
     "metadata": {},
     "output_type": "execute_result"
    }
   ],
   "source": [
    "df_filtered_sample.head()"
   ]
  },
  {
   "cell_type": "code",
   "execution_count": 64,
   "metadata": {},
   "outputs": [],
   "source": [
    "df_filtered_sample = df_filtered.sample(n=1000, random_state=1)"
   ]
  },
  {
   "cell_type": "code",
   "execution_count": 65,
   "metadata": {},
   "outputs": [
    {
     "data": {
      "text/plain": [
       "(1000, 8)"
      ]
     },
     "execution_count": 65,
     "metadata": {},
     "output_type": "execute_result"
    }
   ],
   "source": [
    "df_filtered_sample.shape"
   ]
  },
  {
   "cell_type": "code",
   "execution_count": 66,
   "metadata": {},
   "outputs": [],
   "source": [
    "# from transformers import BertTokenizer, BertForSequenceClassification\n",
    "# import torch\n",
    "\n",
    "# # Load pretrained model and tokenizer\n",
    "# model = BertForSequenceClassification.from_pretrained(\"ahmedrachid/FinancialBERT-Sentiment-Analysis\", num_labels=3)\n",
    "# tokenizer = BertTokenizer.from_pretrained(\"ahmedrachid/FinancialBERT-Sentiment-Analysis\")\n",
    "\n",
    "# # Define the maximum length for the text chunks. BERT typically works with a max_length of 512.\n",
    "# max_length = 512\n",
    "\n",
    "# # Function to apply sentiment analysis and manage text length\n",
    "# def get_sentiment_and_score(text):\n",
    "#     # Tokenize the text\n",
    "#     inputs = tokenizer(text, truncation=True, padding='longest', max_length=max_length, return_tensors='pt')\n",
    "    \n",
    "#     # Get the model's output\n",
    "#     output = model(**inputs)\n",
    "\n",
    "#     # Get the sentiment\n",
    "#     sentiment = output.logits.argmax(dim=1).item()\n",
    "\n",
    "#     # Convert logits to probabilities\n",
    "#     probabilities = torch.nn.functional.softmax(output.logits, dim=-1)\n",
    "\n",
    "#     # Get the confidence score\n",
    "#     confidence_score = probabilities.max(dim=-1).values.item()\n",
    "\n",
    "#     # Convert the sentiment label from integer to string\n",
    "#     if sentiment == 0:\n",
    "#         sentiment = 'negative'\n",
    "#     elif sentiment == 1:\n",
    "#         sentiment = 'neutral'\n",
    "#     else:\n",
    "#         sentiment = 'positive'\n",
    "\n",
    "#     return sentiment, confidence_score\n",
    "\n",
    "# # Apply the function to the 'cleaned_text' column\n",
    "# df_filtered_sample['sentiment'], df_filtered_sample['confidence_score'] = zip(*df_filtered_sample['cleaned_text'].map(get_sentiment_and_score))\n"
   ]
  },
  {
   "cell_type": "code",
   "execution_count": null,
   "metadata": {},
   "outputs": [],
   "source": [
    "from transformers import BertTokenizer, BertForSequenceClassification\n",
    "import torch\n",
    "\n",
    "# Load pretrained model and tokenizer\n",
    "model = BertForSequenceClassification.from_pretrained(\"ahmedrachid/FinancialBERT-Sentiment-Analysis\", num_labels=3)\n",
    "tokenizer = BertTokenizer.from_pretrained(\"ahmedrachid/FinancialBERT-Sentiment-Analysis\")\n",
    "\n",
    "# Define the maximum length for the text chunks. BERT typically works with a max_length of 512.\n",
    "max_length = 512\n",
    "\n",
    "# Function to apply sentiment analysis and manage text length\n",
    "def get_sentiment_and_score(text):\n",
    "    # Tokenize the text\n",
    "    inputs = tokenizer(text, truncation=True, padding='longest', max_length=max_length, return_tensors='pt')\n",
    "    \n",
    "    # Get the model's output\n",
    "    output = model(**inputs)\n",
    "\n",
    "    # Get the sentiment\n",
    "    sentiment = output.logits.argmax(dim=1).item()\n",
    "\n",
    "    # Convert logits to probabilities\n",
    "    probabilities = torch.nn.functional.softmax(output.logits, dim=-1)\n",
    "\n",
    "    # Get the confidence score\n",
    "    confidence_score = probabilities.max(dim=-1).values.item()\n",
    "\n",
    "    # Convert the sentiment label from integer to string\n",
    "    if sentiment == 0:\n",
    "        sentiment = 'negative'\n",
    "    elif sentiment == 1:\n",
    "        sentiment = 'neutral'\n",
    "    else:\n",
    "        sentiment = 'positive'\n",
    "\n",
    "    return sentiment, confidence_score\n",
    "\n",
    "# Apply the function to the 'cleaned_text' column\n",
    "df_filtered_sample['sentiment'], df_filtered_sample['confidence_score'] = zip(*df_filtered_sample['cleaned_text'].map(get_sentiment_and_score))\n"
   ]
  },
  {
   "cell_type": "code",
   "execution_count": 69,
   "metadata": {},
   "outputs": [],
   "source": [
    "df_filtered_sample.to_parquet('df_filtered_sample.parquet', engine='pyarrow')\n"
   ]
  },
  {
   "cell_type": "code",
   "execution_count": null,
   "metadata": {},
   "outputs": [],
   "source": [
    "#read df_filtered_sample parquet \n",
    "df_filtered_sample = pd.read_parquet('df_filtered_sample.parquet', engine='pyarrow')"
   ]
  },
  {
   "cell_type": "code",
   "execution_count": 10,
   "metadata": {},
   "outputs": [
    {
     "data": {
      "text/html": [
       "<div>\n",
       "<style scoped>\n",
       "    .dataframe tbody tr th:only-of-type {\n",
       "        vertical-align: middle;\n",
       "    }\n",
       "\n",
       "    .dataframe tbody tr th {\n",
       "        vertical-align: top;\n",
       "    }\n",
       "\n",
       "    .dataframe thead th {\n",
       "        text-align: right;\n",
       "    }\n",
       "</style>\n",
       "<table border=\"1\" class=\"dataframe\">\n",
       "  <thead>\n",
       "    <tr style=\"text-align: right;\">\n",
       "      <th></th>\n",
       "      <th>url</th>\n",
       "      <th>date</th>\n",
       "      <th>language</th>\n",
       "      <th>title</th>\n",
       "      <th>text</th>\n",
       "      <th>content_clean</th>\n",
       "      <th>clean_title</th>\n",
       "      <th>cleaned_text</th>\n",
       "      <th>sentiment</th>\n",
       "      <th>confidence_score</th>\n",
       "    </tr>\n",
       "  </thead>\n",
       "  <tbody>\n",
       "    <tr>\n",
       "      <th>96091</th>\n",
       "      <td>http://www.hardware.broadcastnewsroom.com/2020/04/24/aws-announces-general-availability-of-amazon-augmented-artificial-intelligence-a2i/?utm_source=rss&amp;utm_medium=rss&amp;utm_campaign=aws-announces-general-availability-of-amazon-augmented-artificial-intelligence-a2i</td>\n",
       "      <td>2020-04-24</td>\n",
       "      <td>en</td>\n",
       "      <td>AWS Announces General Availability of Amazon Augmented Artificial Intelligence (A2I) | | Broadcast Newsroom</td>\n",
       "      <td>\\n\\nAWS Announces General Availability of Amazon Augmented Artificial Intelligence (A2I) | | Broadcast Newsroom\\n \\n\\nSkip to content\\nBroadcast Newsroom\\n\\nNews &amp; Information for Broadcast Professionals\\n\\nPrimary Menu\\n\\nSearch for:\\n \\nHome2020April24AWS Announces General Availability of Amazon Augmented Artificial Intelligence (A2I) \\n\\n \\n\\n \\n                                 News\\n                             \\n \\nAWS Announces General Availability of Amazon Augmented Artificial Intelligence (A2I)\\n\\n\\nBy\\n\\n                BN Staff            \\n\\n\\n            3 hours ago        \\n\\...</td>\n",
       "      <td>AWS Announces General Availability Amazon Augmented Artificial Intelligence A2I Broadcast Newsroom Skip content Broadcast Newsroom News Information Broadcast Professionals Primary Menu Search Home2020April24AWS Announces General Availability Amazon Augmented Artificial Intelligence A2I News AWS Announces General Availability Amazon Augmented Artificial Intelligence A2I By BN Staff 3 hours ago Amazon A2I makes easier developers build manage workflows validate machine learning predictions human reviewers National Health Service NHS UK T Mobile Deloitte among customers partners using Amazon A...</td>\n",
       "      <td>AWS Announces General Availability Amazon Augmented Artificial Intelligence A2I   Broadcast Newsroom</td>\n",
       "      <td>aws announces general availability amazon augmented artificial intelligence broadcast newsroom skip content broadcast newsroom news information broadcast professionals primary menu search announces general availability amazon augmented artificial intelligence news aws announces general availability amazon augmented artificial intelligence bn staff hours ago amazon makes easier developers build manage workflows validate machine learning predictions human reviewers national health service nhs uk mobile deloitte among customers partners using amazon seattle business wire today amazon web serv...</td>\n",
       "      <td>neutral</td>\n",
       "      <td>0.902667</td>\n",
       "    </tr>\n",
       "    <tr>\n",
       "      <th>91201</th>\n",
       "      <td>https://businessday.ng/news/article/nigerians-query-chatgpt-on-how-to-win-tinubu-others/</td>\n",
       "      <td>2023-01-15</td>\n",
       "      <td>en</td>\n",
       "      <td>Nigerians query ChatGPT on 'How to win Tinubu', others - Businessday NG</td>\n",
       "      <td>\\n\\nNigerians query ChatGPT on 'How to win Tinubu', others - Businessday NG\\n\\n\\r\\n    \\n\\n \\n\\n    \\n\\n \\n\\nNews\\nAhmed Bola Tinubu,BDrecent\\nBusinessDay\\n\\nHome\\nBig Story\\nNews\\n\\nWorld\\n\\nAfrica\\n\\n\\nLegal Business\\nSports.\\nEducation\\n\\n\\nNigeriaDecides2023\\nCompanies\\nEconomy\\n\\nAgriculture\\nAviation\\nBanking\\nMaritime\\nReal Estate\\nTransportation\\nResearch post\\n\\n\\nTechnology\\nEnergy\\n\\nRenewables\\nPower\\nOil &amp; Gas\\n\\n\\nInterview\\nCommentary\\n\\nColumnists\\nOpinion\\nEditorial\\n\\n\\nBD Weekender\\nCartoon\\nData Analytics\\n\\nMarket Data\\nGovernance Data\\n\\n\\nApp\\n\\nDownload Andriod App...</td>\n",
       "      <td>Nigerians query ChatGPT How win Tinubu others Businessday NG News Ahmed Bola Tinubu BDrecent BusinessDay Home Big Story News World Africa Legal Business Sports Education NigeriaDecides2023 Companies Economy Agriculture Aviation Banking Maritime Real Estate Transportation Research post Technology Energy Renewables Power Oil Gas Interview Commentary Columnists Opinion Editorial BD Weekender Cartoon Data Analytics Market Data Governance Data App Download Andriod App Download IOS Conferences Login My Account Subscribe Logout Sunday January 15 2023 Businessday Ng Home Big Story News World Afric...</td>\n",
       "      <td>Nigerians query ChatGPT How win Tinubu others  Businessday NG</td>\n",
       "      <td>nigerians query chatgpt win tinubu others businessday ng news ahmed bola tinubu bdrecent businessday home big story news world africa legal business sports education companies economy agriculture aviation banking maritime real estate transportation research post technology energy renewables power oil gas interview commentary columnists opinion editorial bd weekender cartoon data analytics market data governance data app download andriod app download ios conferences login account subscribe logout sunday january businessday ng home big story news world africa legal business sports education ...</td>\n",
       "      <td>neutral</td>\n",
       "      <td>0.995505</td>\n",
       "    </tr>\n",
       "    <tr>\n",
       "      <th>154436</th>\n",
       "      <td>https://www.wbtv.com/prnewswire/2022/05/17/credo-ai-closes-128-million-series-funding-round-led-by-sands-capital/</td>\n",
       "      <td>2022-05-17</td>\n",
       "      <td>en</td>\n",
       "      <td>Credo AI Closes $12.8 Million Series A Funding Round Led by Sands Capital</td>\n",
       "      <td>Credo AI Closes $12.8 Million Series A Funding Round Led by Sands Capital\\n\\nSkip to contentNC DHHS FluMarketplaceMeet the WBTV News Team!Watch LiveNewsletterLatest VideoNewsWeatherCalendarWBTV InvestigatesOn Your Side TonightQC LifeSticker ShockSearchWBTV NewsAbout WBTVMeet the WBTV News Team!Send us your photos!TrafficWatch LiveWeb Extra LinksNews AppsTriviaContestsNewsCelebrating Eric ThomasCabarrus CountyCatawba Co.Cleveland CountyGaston CountyHigh CountryIredell CountyMecklenburg Co.Rowan CountySouth CarolinaUnion CountyCrimeEducationSubmit your first-day photos!KNOW BEFORE YOU GOMaki...</td>\n",
       "      <td>Credo AI Closes 12 8 Million Series A Funding Round Led Sands Capital Skip contentNC DHHS FluMarketplaceMeet WBTV News Team Watch LiveNewsletterLatest VideoNewsWeatherCalendarWBTV InvestigatesOn Your Side TonightQC LifeSticker ShockSearchWBTV NewsAbout WBTVMeet WBTV News Team Send us photos TrafficWatch LiveWeb Extra LinksNews AppsTriviaContestsNewsCelebrating Eric ThomasCabarrus CountyCatawba Co Cleveland CountyGaston CountyHigh CountryIredell CountyMecklenburg Co Rowan CountySouth CarolinaUnion CountyCrimeEducationSubmit first day photos KNOW BEFORE YOU GOMaking GradeCollect ConnectCoron...</td>\n",
       "      <td>Credo AI Closes 128 Million Series A Funding Round Led Sands Capital</td>\n",
       "      <td>credo ai closes million series funding round led sands capital skip contentnc dhhs flumarketplacemeet wbtv news team watch livenewsletterlatest videonewsweathercalendarwbtv investigateson side tonightqc lifesticker shocksearchwbtv newsabout wbtvmeet wbtv news team send us photos trafficwatch liveweb extra linksnews appstriviacontestsnewscelebrating eric thomascabarrus countycatawba co cleveland countygaston countyhigh countryiredell countymecklenburg co rowan countysouth carolinaunion countycrimeeducationsubmit first day photos know gomaking gradecollect connectcoronavirus planshigh school...</td>\n",
       "      <td>neutral</td>\n",
       "      <td>0.891432</td>\n",
       "    </tr>\n",
       "    <tr>\n",
       "      <th>69217</th>\n",
       "      <td>https://www.techradar.com/uk/news/samsungs-new-washers-and-dryers-use-ai-to-clean-your-clothes-more-efficiently</td>\n",
       "      <td>2021-01-11</td>\n",
       "      <td>en</td>\n",
       "      <td>Samsung's new washers and dryers use AI to clean your clothes more efficiently | TechRadar</td>\n",
       "      <td>\\nSamsung's new washers and dryers use AI to clean your clothes more efficiently | TechRadar\\nSkip to main content\\nTechRadar The source for Tech Buying Advice\\nSearch\\n\\nSubscribe\\nRSS\\nPlease deactivate your ad blocker in order to see our subscription offer\\n \\nNews\\n\\nReviews\\n\\nPhones\\n\\nTVs\\n\\nLaptops\\n\\nCameras\\n\\nDeals\\nMore \\n\\n\\nWearables\\n\\n\\nTablets\\n\\n\\nComputing\\n\\n\\nAudiovisual\\n\\n\\nGaming\\n\\n\\nSmart Home\\n\\n\\nAppliances\\n\\n\\nCar Tech\\n\\n\\nComponents\\n\\n\\nDownloads\\n\\n\\nBroadband deals\\n\\n\\nVPN\\n\\n\\nWeb hosting\\n\\n\\nNews\\n\\n\\nVideo\\n\\n\\nMagazine\\n\\n\\nBlack Friday\\n\\nPro\\n\\n\\n...</td>\n",
       "      <td>Samsung new washers dryers use AI clean clothes efficiently TechRadar Skip main content TechRadar The source Tech Buying Advice Search Subscribe RSS Please deactivate ad blocker order see subscription offer News Reviews Phones TVs Laptops Cameras Deals More Wearables Tablets Computing Audiovisual Gaming Smart Home Appliances Car Tech Components Downloads Broadband deals VPN Web hosting News Video Magazine Black Friday Pro CES Innovation Week Trending Samsung S21 Buy PS5 iPhone 12 CES 2021 Apple Watch 6 VPN OnePlus 9 TechRadar supported audience When purchase links site may earn affiliate c...</td>\n",
       "      <td>Samsungs new washers dryers use AI clean clothes efficiently  TechRadar</td>\n",
       "      <td>samsung new washers dryers use ai clean clothes efficiently techradar skip main content techradar source tech buying advice search subscribe rss please deactivate ad blocker order see subscription offer news reviews phones tvs laptops cameras deals wearables tablets computing audiovisual gaming smart home appliances car tech components downloads broadband deals vpn web hosting news video magazine black friday pro ces innovation week trending samsung buy iphone ces apple watch vpn oneplus techradar supported audience purchase links site may earn affiliate commission learn home news smart ho...</td>\n",
       "      <td>neutral</td>\n",
       "      <td>0.889912</td>\n",
       "    </tr>\n",
       "    <tr>\n",
       "      <th>196372</th>\n",
       "      <td>https://www.mccourier.com/artificial-intelligence-ai-in-cyber-security-market-is-anticipated-to-gain-moderate-cagr-by-2027/</td>\n",
       "      <td>2021-06-15</td>\n",
       "      <td>en</td>\n",
       "      <td>Artificial Intelligence (AI) in Cyber Security Market is Anticipated to Gain Moderate CAGR by 2027 – The Courier</td>\n",
       "      <td>\\n\\nArtificial Intelligence (AI) in Cyber Security Market is Anticipated to Gain Moderate CAGR by 2027 – The Courier\\n\\r\\n\\t\\t\\t\\t\\t\\tTuesday, June 15 2021\\t\\t\\t\\t\\t\\n\\nBreaking News\\nAsphalt Lubricating Oil and Grease Market is Predicted to See Lucrative Gains Over 2021-2027\\n\\n\\nAutomatic Dicing Saw (6 Inch-12 Inch) Market Share by Manufacturer (isco, TSK, Tokyo Seimitsu, ADT (Advanced Dicing Technologies), Loadpoint) – COVID-19 Impact and Global Analysis By Type (Fully Automatic, Semi-Automatic), Application (IC, Separation Device, LED Package) to 2028\\n\\n\\nArtificial Intelligence (AI) ...</td>\n",
       "      <td>Artificial Intelligence AI Cyber Security Market Anticipated Gain Moderate CAGR 2027 The Courier Tuesday June 15 2021 Breaking News Asphalt Lubricating Oil Grease Market Predicted See Lucrative Gains Over 2021 2027 Automatic Dicing Saw 6 Inch 12 Inch Market Share Manufacturer isco TSK Tokyo Seimitsu ADT Advanced Dicing Technologies Loadpoint COVID 19 Impact Global Analysis By Type Fully Automatic Semi Automatic Application IC Separation Device LED Package 2028 Artificial Intelligence AI Cyber Security Market Anticipated Gain Moderate CAGR 2027 Mobile Air Purifier Market Size Share 2020 Glo...</td>\n",
       "      <td>Artificial Intelligence AI Cyber Security Market Anticipated Gain Moderate CAGR 2027 – The Courier</td>\n",
       "      <td>artificial intelligence ai cyber security market anticipated gain moderate cagr courier tuesday june breaking news asphalt lubricating oil grease market predicted see lucrative gains automatic dicing saw inch inch market share manufacturer isco tsk tokyo seimitsu adt advanced dicing technologies loadpoint covid impact global analysis type fully automatic semi automatic application ic separation device led package artificial intelligence ai cyber security market anticipated gain moderate cagr mobile air purifier market size share global industry trends growth segmentation future demands lat...</td>\n",
       "      <td>positive</td>\n",
       "      <td>0.994445</td>\n",
       "    </tr>\n",
       "    <tr>\n",
       "      <th>...</th>\n",
       "      <td>...</td>\n",
       "      <td>...</td>\n",
       "      <td>...</td>\n",
       "      <td>...</td>\n",
       "      <td>...</td>\n",
       "      <td>...</td>\n",
       "      <td>...</td>\n",
       "      <td>...</td>\n",
       "      <td>...</td>\n",
       "      <td>...</td>\n",
       "    </tr>\n",
       "    <tr>\n",
       "      <th>189589</th>\n",
       "      <td>https://www.energydigital.com/technology-and-ai/ford-and-vodafone-unlock-potential-5g-ev-production</td>\n",
       "      <td>2020-08-25</td>\n",
       "      <td>en</td>\n",
       "      <td>Ford and Vodafone unlock the potential of 5G EV production | Technology &amp; AI | Energy Digital</td>\n",
       "      <td>Ford and Vodafone unlock the potential of 5G EV production | Technology &amp; AI | Energy DigitalInterviewsFeaturesCompaniesVideosListsEventsMagazineCurrent MagazineBack IssuesSubscribeAbout Us|Advertise|ContactSearchClose #Ford#Vodafone#5G#EVFord and Vodafone unlock the potential of 5G EV productionFord announced that it has received government backing, along with its partners, to introduce 5G networks to its car manufacturingWilliam Girling|Jun 26|6 min readFord announced that it has received government backing, along with its partners, to introduce 5G networks to its car manufacturing.\\nOli...</td>\n",
       "      <td>Ford Vodafone unlock potential 5G EV production Technology AI Energy DigitalInterviewsFeaturesCompaniesVideosListsEventsMagazineCurrent MagazineBack IssuesSubscribeAbout Us Advertise ContactSearchClose Ford Vodafone 5G EVFord Vodafone unlock potential 5G EV productionFord announced received government backing along partners introduce 5G networks car manufacturingWilliam Girling Jun 26 6 min readFord announced received government backing along partners introduce 5G networks car manufacturing Oliver Dowden Secretary State Digital Culture Media Sport said 65mn pledged nine consortia order exp...</td>\n",
       "      <td>Ford Vodafone unlock potential 5G EV production  Technology  AI  Energy Digital</td>\n",
       "      <td>ford vodafone unlock potential ev production technology ai energy digitalinterviewsfeaturescompaniesvideoslistseventsmagazinecurrent magazineback issuessubscribeabout us advertise contactsearchclose ford vodafone evford vodafone unlock potential ev productionford announced received government backing along partners introduce networks car manufacturingwilliam girling jun min readford announced received government backing along partners introduce networks car manufacturing oliver dowden secretary state digital culture media sport said pledged nine consortia order explore transformative benef...</td>\n",
       "      <td>positive</td>\n",
       "      <td>0.955030</td>\n",
       "    </tr>\n",
       "    <tr>\n",
       "      <th>54300</th>\n",
       "      <td>https://www.siliconrepublic.com/advice/chief-data-scientist-ira-cohen-anodot</td>\n",
       "      <td>2021-01-28</td>\n",
       "      <td>en</td>\n",
       "      <td>The chief data scientist: Who they are and what they do</td>\n",
       "      <td>\\nThe chief data scientist: Who they are and what they do\\n\\nHome\\nBusiness\\n\\nCompanies\\nEnterprise\\nComms\\nStart-ups\\nAll\\n\\n\\nDiscovery\\n\\nInnovation\\nMachines\\nEarth Science\\nAll\\n\\n\\nCareers\\n\\nAdvice\\nPeople\\nEmployers\\nJobs\\nAll\\n\\n\\nVideo\\n\\nAll\\n\\n\\nMore\\n\\nSubscribe\\nAdvertise\\nAbout\\nContact us\\nPrivacy Policy\\n\\n\\n \\n \\n\\nBUSINESSDISCOVERYCAREERSVIDEOMORE \\n\\n Tweet\\n\\n Share\\n Email\\n\\nCOMPANIESENTERPRISECOMMSSTART-UPSALL \\n\\nSamsung profits weathered 2020 but it expects weak start to 2021\\nFacebook flags ‘significant uncertainty’ for its business in 2021\\nApple posts record q...</td>\n",
       "      <td>The chief data scientist Who Home Business Companies Enterprise Comms Start ups All Discovery Innovation Machines Earth Science All Careers Advice People Employers Jobs All Video All More Subscribe Advertise About Contact us Privacy Policy BUSINESSDISCOVERYCAREERSVIDEOMORE Tweet Share Email COMPANIESENTERPRISECOMMSSTART UPSALL Samsung profits weathered 2020 expects weak start 2021 Facebook flags significant uncertainty business 2021 Apple posts record quarterly revenues 100bn EU warned slippery slope new encryption plans The tools got tech leaders 2020 Nintendo Switch accused premature obs...</td>\n",
       "      <td>The chief data scientist Who</td>\n",
       "      <td>chief data scientist home business companies enterprise comms start ups discovery innovation machines earth science careers advice people employers jobs video subscribe advertise contact us privacy policy businessdiscoverycareersvideomore tweet share email companiesenterprisecommsstart upsall samsung profits weathered expects weak start facebook flags significant uncertainty business apple posts record quarterly revenues eu warned slippery slope new encryption plans tools got tech leaders nintendo switch accused premature obsolescence data protection landscape uncertain last year survey fi...</td>\n",
       "      <td>neutral</td>\n",
       "      <td>0.973390</td>\n",
       "    </tr>\n",
       "    <tr>\n",
       "      <th>167391</th>\n",
       "      <td>https://www.yourstephenvilletx.com/business/20191231/art-meets-artificial-intelligence-austin-artists-explore-new-meaning-in-data</td>\n",
       "      <td>2020-01-01</td>\n",
       "      <td>en</td>\n",
       "      <td>Art meets artificial intelligence: Austin artists explore new meaning in data - Business - Stephenville Empire-Tribune - Stephenville, TX</td>\n",
       "      <td>\\n Art meets artificial intelligence: Austin artists explore new meaning in data - Business - Stephenville Empire-Tribune - Stephenville, TX\\n\\nSections\\n\\n\\nNewsSportsEntertainmentLifeObituariesE-EditionClassifiedsCarsJobsHomes\\n\\nSubscribe\\n\\nLog in\\nSubscribe Now\\nArt meets artificial intelligence: Austin artists explore new meaning in data\\n \\n\\n\\r\\n\\t\\t\\t\\t\\tHojun Choi    @hjnchoi\\r\\n\\t\\t\\t\\t\\nTuesday\\nDec 31, 2019 at 9:18 AM\\nDec 31, 2019 at 10:31 AM\\n\\nWalking into Julia Morton’s art gallery in Austin is, in a word, trippy.The cozy space is full of otherworldly art filled with shape...</td>\n",
       "      <td>Art meets artificial intelligence Austin artists explore new meaning data Business Stephenville Empire Tribune Stephenville TX Sections NewsSportsEntertainmentLifeObituariesE EditionClassifiedsCarsJobsHomes Subscribe Log Subscribe Now Art meets artificial intelligence Austin artists explore new meaning data Hojun Choi hjnchoi Tuesday Dec 31 2019 9 18 AM Dec 31 2019 10 31 AM Walking Julia Morton art gallery Austin word trippy The cozy space full otherworldly art filled shapes scratches swirls Some works still images others videos At first glance none seems make kind sense People freeze They...</td>\n",
       "      <td>Art meets artificial intelligence Austin artists explore new meaning data  Business  Stephenville EmpireTribune  Stephenville TX</td>\n",
       "      <td>art meets artificial intelligence austin artists explore new meaning data business stephenville empire tribune stephenville tx sections newssportsentertainmentlifeobituariese editionclassifiedscarsjobshomes subscribe log subscribe art meets artificial intelligence austin artists explore new meaning data hojun choi hjnchoi tuesday dec dec walking julia morton art gallery austin word trippy cozy space full otherworldly art filled shapes scratches swirls works still images others videos first glance none seems make kind sense people freeze mesmerized literally move morton said like look told ...</td>\n",
       "      <td>neutral</td>\n",
       "      <td>0.980399</td>\n",
       "    </tr>\n",
       "    <tr>\n",
       "      <th>159719</th>\n",
       "      <td>https://phys.org/news/2021-11-cells-ai-technique-reveals.html</td>\n",
       "      <td>2021-11-24</td>\n",
       "      <td>en</td>\n",
       "      <td>We might not know half of what's in our cells, new AI technique reveals</td>\n",
       "      <td>\\n\\nWe might not know half of what's in our cells, new AI technique reveals\\n\\nTopics\\nWeek's top\\n\\n\\nLatest news\\n\\n\\nUnread news\\n\\n\\nSubscribe\\n\\nScience X Account\\n\\nRemember me\\n\\nSign In\\n                           Click here to sign in with\\n                               \\n\\n\\n                                   or\\n                                \\nForget Password?\\n\\n\\nNot a member?\\n                           Sign up\\nLearn more\\nNanotechnology\\n\\n\\nPhysics\\n\\n\\nEarth\\n\\n\\nAstronomy &amp; Space\\n\\n\\nTechnology\\n\\n\\nChemistry\\n\\n\\nBiology\\n\\n\\nOther Sciences\\n\\nshare this!\\n\\nShare\\n...</td>\n",
       "      <td>We might know half cells new AI technique reveals Topics Week top Latest news Unread news Subscribe Science X Account Remember Sign In Click sign Forget Password Not member Sign Learn Nanotechnology Physics Earth Astronomy Space Technology Chemistry Biology Other Sciences share Share Twit Share Email Home Biology Cell Microbiology Home Biology Molecular Computational biology November 24 2021 We might know half cells new AI technique reveals University California San Diego UC San Diego researchers introduce Multi Scale Integrated Cell MuSIC technique combines microscopy biochemistry artific...</td>\n",
       "      <td>We might know half whats cells new AI technique reveals</td>\n",
       "      <td>might know half cells new ai technique reveals topics week top latest news unread news subscribe science x account remember sign click sign forget password member sign learn nanotechnology physics earth astronomy space technology chemistry biology sciences share share twit share email home biology cell microbiology home biology molecular computational biology november might know half cells new ai technique reveals university california san diego uc san diego researchers introduce multi scale integrated cell music technique combines microscopy biochemistry artificial intelligence revealing ...</td>\n",
       "      <td>neutral</td>\n",
       "      <td>0.982343</td>\n",
       "    </tr>\n",
       "    <tr>\n",
       "      <th>142376</th>\n",
       "      <td>https://www.wave3.com/prnewswire/2023/04/26/telix-accelerates-artificial-intelligence-ai-development-program-with-acquisition-dedicaid/</td>\n",
       "      <td>2023-04-27</td>\n",
       "      <td>en</td>\n",
       "      <td>Telix Accelerates Artificial Intelligence (AI) Development Program with Acquisition of Dedicaid</td>\n",
       "      <td>Telix Accelerates Artificial Intelligence (AI) Development Program with Acquisition of Dedicaid\\n\\nSkip to contentContact TroubleshootersTrafficFocus on HealthListens LiveLegal BriefYour MoneyJob LinkMake Ends MeetDerby City WeekendContestsNewsWeatherWAVE NowVideoLouisville Mass ShootingBehind the BearDigital Derby GuideSportsTroubleshootersAbout UsHomeVideoWatch LiveWAVE AppsNewsKentuckyIndianaRegionalNationalPositively WAVECoronavirusPoliticalCrimeBreonna TaylorEducationApp ExtraTroubleshootersInvestigationsContact UsLouisville Mass ShootingBehind the BearLocalLouisville MetroHardin Coun...</td>\n",
       "      <td>Telix Accelerates Artificial Intelligence AI Development Program Acquisition Dedicaid Skip contentContact TroubleshootersTrafficFocus HealthListens LiveLegal BriefYour MoneyJob LinkMake Ends MeetDerby City WeekendContestsNewsWeatherWAVE NowVideoLouisville Mass ShootingBehind BearDigital Derby GuideSportsTroubleshootersAbout UsHomeVideoWatch LiveWAVE AppsNewsKentuckyIndianaRegionalNationalPositively WAVECoronavirusPoliticalCrimeBreonna TaylorEducationApp ExtraTroubleshootersInvestigationsContact UsLouisville Mass ShootingBehind BearLocalLouisville MetroHardin CountyOldham CountySpencer Coun...</td>\n",
       "      <td>Telix Accelerates Artificial Intelligence AI Development Program Acquisition Dedicaid</td>\n",
       "      <td>telix accelerates artificial intelligence ai development program acquisition dedicaid skip contentcontact troubleshooterstrafficfocus healthlistens livelegal briefyour moneyjob linkmake ends meetderby city weekendcontestsnewsweatherwave nowvideolouisville mass shootingbehind beardigital derby guidesportstroubleshootersabout ushomevideowatch livewave appsnewskentuckyindianaregionalnationalpositively wavecoronaviruspoliticalcrimebreonna tayloreducationapp extratroubleshootersinvestigationscontact uslouisville mass shootingbehind bearlocallouisville metrohardin countyoldham countyspencer coun...</td>\n",
       "      <td>positive</td>\n",
       "      <td>0.861124</td>\n",
       "    </tr>\n",
       "  </tbody>\n",
       "</table>\n",
       "<p>1000 rows × 10 columns</p>\n",
       "</div>"
      ],
      "text/plain": [
       "                                                                                                                                                                                                                                                                           url   \n",
       "96091   http://www.hardware.broadcastnewsroom.com/2020/04/24/aws-announces-general-availability-of-amazon-augmented-artificial-intelligence-a2i/?utm_source=rss&utm_medium=rss&utm_campaign=aws-announces-general-availability-of-amazon-augmented-artificial-intelligence-a2i  \\\n",
       "91201                                                                                                                                                                                 https://businessday.ng/news/article/nigerians-query-chatgpt-on-how-to-win-tinubu-others/   \n",
       "154436                                                                                                                                                       https://www.wbtv.com/prnewswire/2022/05/17/credo-ai-closes-128-million-series-funding-round-led-by-sands-capital/   \n",
       "69217                                                                                                                                                          https://www.techradar.com/uk/news/samsungs-new-washers-and-dryers-use-ai-to-clean-your-clothes-more-efficiently   \n",
       "196372                                                                                                                                             https://www.mccourier.com/artificial-intelligence-ai-in-cyber-security-market-is-anticipated-to-gain-moderate-cagr-by-2027/   \n",
       "...                                                                                                                                                                                                                                                                        ...   \n",
       "189589                                                                                                                                                                     https://www.energydigital.com/technology-and-ai/ford-and-vodafone-unlock-potential-5g-ev-production   \n",
       "54300                                                                                                                                                                                             https://www.siliconrepublic.com/advice/chief-data-scientist-ira-cohen-anodot   \n",
       "167391                                                                                                                                       https://www.yourstephenvilletx.com/business/20191231/art-meets-artificial-intelligence-austin-artists-explore-new-meaning-in-data   \n",
       "159719                                                                                                                                                                                                           https://phys.org/news/2021-11-cells-ai-technique-reveals.html   \n",
       "142376                                                                                                                                 https://www.wave3.com/prnewswire/2023/04/26/telix-accelerates-artificial-intelligence-ai-development-program-with-acquisition-dedicaid/   \n",
       "\n",
       "              date language   \n",
       "96091   2020-04-24       en  \\\n",
       "91201   2023-01-15       en   \n",
       "154436  2022-05-17       en   \n",
       "69217   2021-01-11       en   \n",
       "196372  2021-06-15       en   \n",
       "...            ...      ...   \n",
       "189589  2020-08-25       en   \n",
       "54300   2021-01-28       en   \n",
       "167391  2020-01-01       en   \n",
       "159719  2021-11-24       en   \n",
       "142376  2023-04-27       en   \n",
       "\n",
       "                                                                                                                                             title   \n",
       "96091                                  AWS Announces General Availability of Amazon Augmented Artificial Intelligence (A2I) | | Broadcast Newsroom  \\\n",
       "91201                                                                      Nigerians query ChatGPT on 'How to win Tinubu', others - Businessday NG   \n",
       "154436                                                                   Credo AI Closes $12.8 Million Series A Funding Round Led by Sands Capital   \n",
       "69217                                                   Samsung's new washers and dryers use AI to clean your clothes more efficiently | TechRadar   \n",
       "196372                            Artificial Intelligence (AI) in Cyber Security Market is Anticipated to Gain Moderate CAGR by 2027 – The Courier   \n",
       "...                                                                                                                                            ...   \n",
       "189589                                               Ford and Vodafone unlock the potential of 5G EV production | Technology & AI | Energy Digital   \n",
       "54300                                                                                      The chief data scientist: Who they are and what they do   \n",
       "167391   Art meets artificial intelligence: Austin artists explore new meaning in data - Business - Stephenville Empire-Tribune - Stephenville, TX   \n",
       "159719                                                                     We might not know half of what's in our cells, new AI technique reveals   \n",
       "142376                                             Telix Accelerates Artificial Intelligence (AI) Development Program with Acquisition of Dedicaid   \n",
       "\n",
       "                                                                                                                                                                                                                                                                                                                                                                                                                                                                                                                                                                                                                           text   \n",
       "96091   \\n\\nAWS Announces General Availability of Amazon Augmented Artificial Intelligence (A2I) | | Broadcast Newsroom\\n \\n\\nSkip to content\\nBroadcast Newsroom\\n\\nNews & Information for Broadcast Professionals\\n\\nPrimary Menu\\n\\nSearch for:\\n \\nHome2020April24AWS Announces General Availability of Amazon Augmented Artificial Intelligence (A2I) \\n\\n \\n\\n \\n                                 News\\n                             \\n \\nAWS Announces General Availability of Amazon Augmented Artificial Intelligence (A2I)\\n\\n\\nBy\\n\\n                BN Staff            \\n\\n\\n            3 hours ago        \\n\\...  \\\n",
       "91201    \\n\\nNigerians query ChatGPT on 'How to win Tinubu', others - Businessday NG\\n\\n\\r\\n    \\n\\n \\n\\n    \\n\\n \\n\\nNews\\nAhmed Bola Tinubu,BDrecent\\nBusinessDay\\n\\nHome\\nBig Story\\nNews\\n\\nWorld\\n\\nAfrica\\n\\n\\nLegal Business\\nSports.\\nEducation\\n\\n\\nNigeriaDecides2023\\nCompanies\\nEconomy\\n\\nAgriculture\\nAviation\\nBanking\\nMaritime\\nReal Estate\\nTransportation\\nResearch post\\n\\n\\nTechnology\\nEnergy\\n\\nRenewables\\nPower\\nOil & Gas\\n\\n\\nInterview\\nCommentary\\n\\nColumnists\\nOpinion\\nEditorial\\n\\n\\nBD Weekender\\nCartoon\\nData Analytics\\n\\nMarket Data\\nGovernance Data\\n\\n\\nApp\\n\\nDownload Andriod App...   \n",
       "154436  Credo AI Closes $12.8 Million Series A Funding Round Led by Sands Capital\\n\\nSkip to contentNC DHHS FluMarketplaceMeet the WBTV News Team!Watch LiveNewsletterLatest VideoNewsWeatherCalendarWBTV InvestigatesOn Your Side TonightQC LifeSticker ShockSearchWBTV NewsAbout WBTVMeet the WBTV News Team!Send us your photos!TrafficWatch LiveWeb Extra LinksNews AppsTriviaContestsNewsCelebrating Eric ThomasCabarrus CountyCatawba Co.Cleveland CountyGaston CountyHigh CountryIredell CountyMecklenburg Co.Rowan CountySouth CarolinaUnion CountyCrimeEducationSubmit your first-day photos!KNOW BEFORE YOU GOMaki...   \n",
       "69217   \\nSamsung's new washers and dryers use AI to clean your clothes more efficiently | TechRadar\\nSkip to main content\\nTechRadar The source for Tech Buying Advice\\nSearch\\n\\nSubscribe\\nRSS\\nPlease deactivate your ad blocker in order to see our subscription offer\\n \\nNews\\n\\nReviews\\n\\nPhones\\n\\nTVs\\n\\nLaptops\\n\\nCameras\\n\\nDeals\\nMore \\n\\n\\nWearables\\n\\n\\nTablets\\n\\n\\nComputing\\n\\n\\nAudiovisual\\n\\n\\nGaming\\n\\n\\nSmart Home\\n\\n\\nAppliances\\n\\n\\nCar Tech\\n\\n\\nComponents\\n\\n\\nDownloads\\n\\n\\nBroadband deals\\n\\n\\nVPN\\n\\n\\nWeb hosting\\n\\n\\nNews\\n\\n\\nVideo\\n\\n\\nMagazine\\n\\n\\nBlack Friday\\n\\nPro\\n\\n\\n...   \n",
       "196372  \\n\\nArtificial Intelligence (AI) in Cyber Security Market is Anticipated to Gain Moderate CAGR by 2027 – The Courier\\n\\r\\n\\t\\t\\t\\t\\t\\tTuesday, June 15 2021\\t\\t\\t\\t\\t\\n\\nBreaking News\\nAsphalt Lubricating Oil and Grease Market is Predicted to See Lucrative Gains Over 2021-2027\\n\\n\\nAutomatic Dicing Saw (6 Inch-12 Inch) Market Share by Manufacturer (isco, TSK, Tokyo Seimitsu, ADT (Advanced Dicing Technologies), Loadpoint) – COVID-19 Impact and Global Analysis By Type (Fully Automatic, Semi-Automatic), Application (IC, Separation Device, LED Package) to 2028\\n\\n\\nArtificial Intelligence (AI) ...   \n",
       "...                                                                                                                                                                                                                                                                                                                                                                                                                                                                                                                                                                                                                         ...   \n",
       "189589  Ford and Vodafone unlock the potential of 5G EV production | Technology & AI | Energy DigitalInterviewsFeaturesCompaniesVideosListsEventsMagazineCurrent MagazineBack IssuesSubscribeAbout Us|Advertise|ContactSearchClose #Ford#Vodafone#5G#EVFord and Vodafone unlock the potential of 5G EV productionFord announced that it has received government backing, along with its partners, to introduce 5G networks to its car manufacturingWilliam Girling|Jun 26|6 min readFord announced that it has received government backing, along with its partners, to introduce 5G networks to its car manufacturing.\\nOli...   \n",
       "54300   \\nThe chief data scientist: Who they are and what they do\\n\\nHome\\nBusiness\\n\\nCompanies\\nEnterprise\\nComms\\nStart-ups\\nAll\\n\\n\\nDiscovery\\n\\nInnovation\\nMachines\\nEarth Science\\nAll\\n\\n\\nCareers\\n\\nAdvice\\nPeople\\nEmployers\\nJobs\\nAll\\n\\n\\nVideo\\n\\nAll\\n\\n\\nMore\\n\\nSubscribe\\nAdvertise\\nAbout\\nContact us\\nPrivacy Policy\\n\\n\\n \\n \\n\\nBUSINESSDISCOVERYCAREERSVIDEOMORE \\n\\n Tweet\\n\\n Share\\n Email\\n\\nCOMPANIESENTERPRISECOMMSSTART-UPSALL \\n\\nSamsung profits weathered 2020 but it expects weak start to 2021\\nFacebook flags ‘significant uncertainty’ for its business in 2021\\nApple posts record q...   \n",
       "167391  \\n Art meets artificial intelligence: Austin artists explore new meaning in data - Business - Stephenville Empire-Tribune - Stephenville, TX\\n\\nSections\\n\\n\\nNewsSportsEntertainmentLifeObituariesE-EditionClassifiedsCarsJobsHomes\\n\\nSubscribe\\n\\nLog in\\nSubscribe Now\\nArt meets artificial intelligence: Austin artists explore new meaning in data\\n \\n\\n\\r\\n\\t\\t\\t\\t\\tHojun Choi    @hjnchoi\\r\\n\\t\\t\\t\\t\\nTuesday\\nDec 31, 2019 at 9:18 AM\\nDec 31, 2019 at 10:31 AM\\n\\nWalking into Julia Morton’s art gallery in Austin is, in a word, trippy.The cozy space is full of otherworldly art filled with shape...   \n",
       "159719  \\n\\nWe might not know half of what's in our cells, new AI technique reveals\\n\\nTopics\\nWeek's top\\n\\n\\nLatest news\\n\\n\\nUnread news\\n\\n\\nSubscribe\\n\\nScience X Account\\n\\nRemember me\\n\\nSign In\\n                           Click here to sign in with\\n                               \\n\\n\\n                                   or\\n                                \\nForget Password?\\n\\n\\nNot a member?\\n                           Sign up\\nLearn more\\nNanotechnology\\n\\n\\nPhysics\\n\\n\\nEarth\\n\\n\\nAstronomy & Space\\n\\n\\nTechnology\\n\\n\\nChemistry\\n\\n\\nBiology\\n\\n\\nOther Sciences\\n\\nshare this!\\n\\nShare\\n...   \n",
       "142376  Telix Accelerates Artificial Intelligence (AI) Development Program with Acquisition of Dedicaid\\n\\nSkip to contentContact TroubleshootersTrafficFocus on HealthListens LiveLegal BriefYour MoneyJob LinkMake Ends MeetDerby City WeekendContestsNewsWeatherWAVE NowVideoLouisville Mass ShootingBehind the BearDigital Derby GuideSportsTroubleshootersAbout UsHomeVideoWatch LiveWAVE AppsNewsKentuckyIndianaRegionalNationalPositively WAVECoronavirusPoliticalCrimeBreonna TaylorEducationApp ExtraTroubleshootersInvestigationsContact UsLouisville Mass ShootingBehind the BearLocalLouisville MetroHardin Coun...   \n",
       "\n",
       "                                                                                                                                                                                                                                                                                                                                                                                                                                                                                                                                                                                                                  content_clean   \n",
       "96091   AWS Announces General Availability Amazon Augmented Artificial Intelligence A2I Broadcast Newsroom Skip content Broadcast Newsroom News Information Broadcast Professionals Primary Menu Search Home2020April24AWS Announces General Availability Amazon Augmented Artificial Intelligence A2I News AWS Announces General Availability Amazon Augmented Artificial Intelligence A2I By BN Staff 3 hours ago Amazon A2I makes easier developers build manage workflows validate machine learning predictions human reviewers National Health Service NHS UK T Mobile Deloitte among customers partners using Amazon A...  \\\n",
       "91201   Nigerians query ChatGPT How win Tinubu others Businessday NG News Ahmed Bola Tinubu BDrecent BusinessDay Home Big Story News World Africa Legal Business Sports Education NigeriaDecides2023 Companies Economy Agriculture Aviation Banking Maritime Real Estate Transportation Research post Technology Energy Renewables Power Oil Gas Interview Commentary Columnists Opinion Editorial BD Weekender Cartoon Data Analytics Market Data Governance Data App Download Andriod App Download IOS Conferences Login My Account Subscribe Logout Sunday January 15 2023 Businessday Ng Home Big Story News World Afric...   \n",
       "154436  Credo AI Closes 12 8 Million Series A Funding Round Led Sands Capital Skip contentNC DHHS FluMarketplaceMeet WBTV News Team Watch LiveNewsletterLatest VideoNewsWeatherCalendarWBTV InvestigatesOn Your Side TonightQC LifeSticker ShockSearchWBTV NewsAbout WBTVMeet WBTV News Team Send us photos TrafficWatch LiveWeb Extra LinksNews AppsTriviaContestsNewsCelebrating Eric ThomasCabarrus CountyCatawba Co Cleveland CountyGaston CountyHigh CountryIredell CountyMecklenburg Co Rowan CountySouth CarolinaUnion CountyCrimeEducationSubmit first day photos KNOW BEFORE YOU GOMaking GradeCollect ConnectCoron...   \n",
       "69217   Samsung new washers dryers use AI clean clothes efficiently TechRadar Skip main content TechRadar The source Tech Buying Advice Search Subscribe RSS Please deactivate ad blocker order see subscription offer News Reviews Phones TVs Laptops Cameras Deals More Wearables Tablets Computing Audiovisual Gaming Smart Home Appliances Car Tech Components Downloads Broadband deals VPN Web hosting News Video Magazine Black Friday Pro CES Innovation Week Trending Samsung S21 Buy PS5 iPhone 12 CES 2021 Apple Watch 6 VPN OnePlus 9 TechRadar supported audience When purchase links site may earn affiliate c...   \n",
       "196372  Artificial Intelligence AI Cyber Security Market Anticipated Gain Moderate CAGR 2027 The Courier Tuesday June 15 2021 Breaking News Asphalt Lubricating Oil Grease Market Predicted See Lucrative Gains Over 2021 2027 Automatic Dicing Saw 6 Inch 12 Inch Market Share Manufacturer isco TSK Tokyo Seimitsu ADT Advanced Dicing Technologies Loadpoint COVID 19 Impact Global Analysis By Type Fully Automatic Semi Automatic Application IC Separation Device LED Package 2028 Artificial Intelligence AI Cyber Security Market Anticipated Gain Moderate CAGR 2027 Mobile Air Purifier Market Size Share 2020 Glo...   \n",
       "...                                                                                                                                                                                                                                                                                                                                                                                                                                                                                                                                                                                                                         ...   \n",
       "189589  Ford Vodafone unlock potential 5G EV production Technology AI Energy DigitalInterviewsFeaturesCompaniesVideosListsEventsMagazineCurrent MagazineBack IssuesSubscribeAbout Us Advertise ContactSearchClose Ford Vodafone 5G EVFord Vodafone unlock potential 5G EV productionFord announced received government backing along partners introduce 5G networks car manufacturingWilliam Girling Jun 26 6 min readFord announced received government backing along partners introduce 5G networks car manufacturing Oliver Dowden Secretary State Digital Culture Media Sport said 65mn pledged nine consortia order exp...   \n",
       "54300   The chief data scientist Who Home Business Companies Enterprise Comms Start ups All Discovery Innovation Machines Earth Science All Careers Advice People Employers Jobs All Video All More Subscribe Advertise About Contact us Privacy Policy BUSINESSDISCOVERYCAREERSVIDEOMORE Tweet Share Email COMPANIESENTERPRISECOMMSSTART UPSALL Samsung profits weathered 2020 expects weak start 2021 Facebook flags significant uncertainty business 2021 Apple posts record quarterly revenues 100bn EU warned slippery slope new encryption plans The tools got tech leaders 2020 Nintendo Switch accused premature obs...   \n",
       "167391  Art meets artificial intelligence Austin artists explore new meaning data Business Stephenville Empire Tribune Stephenville TX Sections NewsSportsEntertainmentLifeObituariesE EditionClassifiedsCarsJobsHomes Subscribe Log Subscribe Now Art meets artificial intelligence Austin artists explore new meaning data Hojun Choi hjnchoi Tuesday Dec 31 2019 9 18 AM Dec 31 2019 10 31 AM Walking Julia Morton art gallery Austin word trippy The cozy space full otherworldly art filled shapes scratches swirls Some works still images others videos At first glance none seems make kind sense People freeze They...   \n",
       "159719  We might know half cells new AI technique reveals Topics Week top Latest news Unread news Subscribe Science X Account Remember Sign In Click sign Forget Password Not member Sign Learn Nanotechnology Physics Earth Astronomy Space Technology Chemistry Biology Other Sciences share Share Twit Share Email Home Biology Cell Microbiology Home Biology Molecular Computational biology November 24 2021 We might know half cells new AI technique reveals University California San Diego UC San Diego researchers introduce Multi Scale Integrated Cell MuSIC technique combines microscopy biochemistry artific...   \n",
       "142376  Telix Accelerates Artificial Intelligence AI Development Program Acquisition Dedicaid Skip contentContact TroubleshootersTrafficFocus HealthListens LiveLegal BriefYour MoneyJob LinkMake Ends MeetDerby City WeekendContestsNewsWeatherWAVE NowVideoLouisville Mass ShootingBehind BearDigital Derby GuideSportsTroubleshootersAbout UsHomeVideoWatch LiveWAVE AppsNewsKentuckyIndianaRegionalNationalPositively WAVECoronavirusPoliticalCrimeBreonna TaylorEducationApp ExtraTroubleshootersInvestigationsContact UsLouisville Mass ShootingBehind BearLocalLouisville MetroHardin CountyOldham CountySpencer Coun...   \n",
       "\n",
       "                                                                                                                             clean_title   \n",
       "96091                               AWS Announces General Availability Amazon Augmented Artificial Intelligence A2I   Broadcast Newsroom  \\\n",
       "91201                                                                      Nigerians query ChatGPT How win Tinubu others  Businessday NG   \n",
       "154436                                                              Credo AI Closes 128 Million Series A Funding Round Led Sands Capital   \n",
       "69217                                                            Samsungs new washers dryers use AI clean clothes efficiently  TechRadar   \n",
       "196372                                Artificial Intelligence AI Cyber Security Market Anticipated Gain Moderate CAGR 2027 – The Courier   \n",
       "...                                                                                                                                  ...   \n",
       "189589                                                   Ford Vodafone unlock potential 5G EV production  Technology  AI  Energy Digital   \n",
       "54300                                                                                                       The chief data scientist Who   \n",
       "167391  Art meets artificial intelligence Austin artists explore new meaning data  Business  Stephenville EmpireTribune  Stephenville TX   \n",
       "159719                                                                           We might know half whats cells new AI technique reveals   \n",
       "142376                                             Telix Accelerates Artificial Intelligence AI Development Program Acquisition Dedicaid   \n",
       "\n",
       "                                                                                                                                                                                                                                                                                                                                                                                                                                                                                                                                                                                                                   cleaned_text   \n",
       "96091   aws announces general availability amazon augmented artificial intelligence broadcast newsroom skip content broadcast newsroom news information broadcast professionals primary menu search announces general availability amazon augmented artificial intelligence news aws announces general availability amazon augmented artificial intelligence bn staff hours ago amazon makes easier developers build manage workflows validate machine learning predictions human reviewers national health service nhs uk mobile deloitte among customers partners using amazon seattle business wire today amazon web serv...  \\\n",
       "91201   nigerians query chatgpt win tinubu others businessday ng news ahmed bola tinubu bdrecent businessday home big story news world africa legal business sports education companies economy agriculture aviation banking maritime real estate transportation research post technology energy renewables power oil gas interview commentary columnists opinion editorial bd weekender cartoon data analytics market data governance data app download andriod app download ios conferences login account subscribe logout sunday january businessday ng home big story news world africa legal business sports education ...   \n",
       "154436  credo ai closes million series funding round led sands capital skip contentnc dhhs flumarketplacemeet wbtv news team watch livenewsletterlatest videonewsweathercalendarwbtv investigateson side tonightqc lifesticker shocksearchwbtv newsabout wbtvmeet wbtv news team send us photos trafficwatch liveweb extra linksnews appstriviacontestsnewscelebrating eric thomascabarrus countycatawba co cleveland countygaston countyhigh countryiredell countymecklenburg co rowan countysouth carolinaunion countycrimeeducationsubmit first day photos know gomaking gradecollect connectcoronavirus planshigh school...   \n",
       "69217   samsung new washers dryers use ai clean clothes efficiently techradar skip main content techradar source tech buying advice search subscribe rss please deactivate ad blocker order see subscription offer news reviews phones tvs laptops cameras deals wearables tablets computing audiovisual gaming smart home appliances car tech components downloads broadband deals vpn web hosting news video magazine black friday pro ces innovation week trending samsung buy iphone ces apple watch vpn oneplus techradar supported audience purchase links site may earn affiliate commission learn home news smart ho...   \n",
       "196372  artificial intelligence ai cyber security market anticipated gain moderate cagr courier tuesday june breaking news asphalt lubricating oil grease market predicted see lucrative gains automatic dicing saw inch inch market share manufacturer isco tsk tokyo seimitsu adt advanced dicing technologies loadpoint covid impact global analysis type fully automatic semi automatic application ic separation device led package artificial intelligence ai cyber security market anticipated gain moderate cagr mobile air purifier market size share global industry trends growth segmentation future demands lat...   \n",
       "...                                                                                                                                                                                                                                                                                                                                                                                                                                                                                                                                                                                                                         ...   \n",
       "189589  ford vodafone unlock potential ev production technology ai energy digitalinterviewsfeaturescompaniesvideoslistseventsmagazinecurrent magazineback issuessubscribeabout us advertise contactsearchclose ford vodafone evford vodafone unlock potential ev productionford announced received government backing along partners introduce networks car manufacturingwilliam girling jun min readford announced received government backing along partners introduce networks car manufacturing oliver dowden secretary state digital culture media sport said pledged nine consortia order explore transformative benef...   \n",
       "54300   chief data scientist home business companies enterprise comms start ups discovery innovation machines earth science careers advice people employers jobs video subscribe advertise contact us privacy policy businessdiscoverycareersvideomore tweet share email companiesenterprisecommsstart upsall samsung profits weathered expects weak start facebook flags significant uncertainty business apple posts record quarterly revenues eu warned slippery slope new encryption plans tools got tech leaders nintendo switch accused premature obsolescence data protection landscape uncertain last year survey fi...   \n",
       "167391  art meets artificial intelligence austin artists explore new meaning data business stephenville empire tribune stephenville tx sections newssportsentertainmentlifeobituariese editionclassifiedscarsjobshomes subscribe log subscribe art meets artificial intelligence austin artists explore new meaning data hojun choi hjnchoi tuesday dec dec walking julia morton art gallery austin word trippy cozy space full otherworldly art filled shapes scratches swirls works still images others videos first glance none seems make kind sense people freeze mesmerized literally move morton said like look told ...   \n",
       "159719  might know half cells new ai technique reveals topics week top latest news unread news subscribe science x account remember sign click sign forget password member sign learn nanotechnology physics earth astronomy space technology chemistry biology sciences share share twit share email home biology cell microbiology home biology molecular computational biology november might know half cells new ai technique reveals university california san diego uc san diego researchers introduce multi scale integrated cell music technique combines microscopy biochemistry artificial intelligence revealing ...   \n",
       "142376  telix accelerates artificial intelligence ai development program acquisition dedicaid skip contentcontact troubleshooterstrafficfocus healthlistens livelegal briefyour moneyjob linkmake ends meetderby city weekendcontestsnewsweatherwave nowvideolouisville mass shootingbehind beardigital derby guidesportstroubleshootersabout ushomevideowatch livewave appsnewskentuckyindianaregionalnationalpositively wavecoronaviruspoliticalcrimebreonna tayloreducationapp extratroubleshootersinvestigationscontact uslouisville mass shootingbehind bearlocallouisville metrohardin countyoldham countyspencer coun...   \n",
       "\n",
       "       sentiment  confidence_score  \n",
       "96091    neutral          0.902667  \n",
       "91201    neutral          0.995505  \n",
       "154436   neutral          0.891432  \n",
       "69217    neutral          0.889912  \n",
       "196372  positive          0.994445  \n",
       "...          ...               ...  \n",
       "189589  positive          0.955030  \n",
       "54300    neutral          0.973390  \n",
       "167391   neutral          0.980399  \n",
       "159719   neutral          0.982343  \n",
       "142376  positive          0.861124  \n",
       "\n",
       "[1000 rows x 10 columns]"
      ]
     },
     "execution_count": 10,
     "metadata": {},
     "output_type": "execute_result"
    }
   ],
   "source": [
    "df_filtered_sample"
   ]
  },
  {
   "cell_type": "code",
   "execution_count": 12,
   "metadata": {},
   "outputs": [
    {
     "data": {
      "text/plain": [
       "sentiment\n",
       "neutral     741\n",
       "positive    259\n",
       "Name: count, dtype: int64"
      ]
     },
     "execution_count": 12,
     "metadata": {},
     "output_type": "execute_result"
    }
   ],
   "source": [
    "#value counts for sentiment column\n",
    "df_filtered_sample['sentiment'].value_counts()"
   ]
  },
  {
   "attachments": {},
   "cell_type": "markdown",
   "metadata": {},
   "source": [
    "### Trying siebert/sentiment-roberta-large-english"
   ]
  },
  {
   "cell_type": "code",
   "execution_count": 102,
   "metadata": {},
   "outputs": [
    {
     "name": "stderr",
     "output_type": "stream",
     "text": [
      "ERROR: Invalid requirement: '#'\n"
     ]
    }
   ],
   "source": [
    "from transformers import pipeline\n",
    "sentiment_analysis = pipeline(\"sentiment-analysis\",model=\"siebert/sentiment-roberta-large-english\")\n",
    "print(sentiment_analysis(\"I love this!\"))\n",
    "\n"
   ]
  },
  {
   "attachments": {},
   "cell_type": "markdown",
   "metadata": {},
   "source": [
    "# BERT Topic modeling"
   ]
  },
  {
   "cell_type": "code",
   "execution_count": 73,
   "metadata": {},
   "outputs": [],
   "source": [
    "# bert topic on the sample above\n",
    "#!pip install bertopic"
   ]
  },
  {
   "cell_type": "code",
   "execution_count": 72,
   "metadata": {},
   "outputs": [
    {
     "name": "stderr",
     "output_type": "stream",
     "text": [
      "c:\\Users\\sanch\\environment\\nlp_msca\\lib\\site-packages\\umap\\distances.py:1063: NumbaDeprecationWarning: \u001b[1mThe 'nopython' keyword argument was not supplied to the 'numba.jit' decorator. The implicit default value for this argument is currently False, but it will be changed to True in Numba 0.59.0. See https://numba.readthedocs.io/en/stable/reference/deprecation.html#deprecation-of-object-mode-fall-back-behaviour-when-using-jit for details.\u001b[0m\n",
      "  @numba.jit()\n",
      "c:\\Users\\sanch\\environment\\nlp_msca\\lib\\site-packages\\umap\\distances.py:1071: NumbaDeprecationWarning: \u001b[1mThe 'nopython' keyword argument was not supplied to the 'numba.jit' decorator. The implicit default value for this argument is currently False, but it will be changed to True in Numba 0.59.0. See https://numba.readthedocs.io/en/stable/reference/deprecation.html#deprecation-of-object-mode-fall-back-behaviour-when-using-jit for details.\u001b[0m\n",
      "  @numba.jit()\n",
      "c:\\Users\\sanch\\environment\\nlp_msca\\lib\\site-packages\\umap\\distances.py:1086: NumbaDeprecationWarning: \u001b[1mThe 'nopython' keyword argument was not supplied to the 'numba.jit' decorator. The implicit default value for this argument is currently False, but it will be changed to True in Numba 0.59.0. See https://numba.readthedocs.io/en/stable/reference/deprecation.html#deprecation-of-object-mode-fall-back-behaviour-when-using-jit for details.\u001b[0m\n",
      "  @numba.jit()\n",
      "c:\\Users\\sanch\\environment\\nlp_msca\\lib\\site-packages\\umap\\umap_.py:660: NumbaDeprecationWarning: \u001b[1mThe 'nopython' keyword argument was not supplied to the 'numba.jit' decorator. The implicit default value for this argument is currently False, but it will be changed to True in Numba 0.59.0. See https://numba.readthedocs.io/en/stable/reference/deprecation.html#deprecation-of-object-mode-fall-back-behaviour-when-using-jit for details.\u001b[0m\n",
      "  @numba.jit()\n"
     ]
    }
   ],
   "source": [
    "from bertopic import BERTopic\n",
    "\n",
    "pd.set_option('display.max_colwidth', 500)"
   ]
  },
  {
   "cell_type": "code",
   "execution_count": 74,
   "metadata": {},
   "outputs": [],
   "source": [
    "docs = df_filtered_sample['cleaned_text'].tolist()\n"
   ]
  },
  {
   "cell_type": "code",
   "execution_count": 75,
   "metadata": {},
   "outputs": [
    {
     "data": {
      "application/vnd.jupyter.widget-view+json": {
       "model_id": "9e91203d739646faab6605cd7af018b4",
       "version_major": 2,
       "version_minor": 0
      },
      "text/plain": [
       "Downloading (…)e9125/.gitattributes:   0%|          | 0.00/1.18k [00:00<?, ?B/s]"
      ]
     },
     "metadata": {},
     "output_type": "display_data"
    },
    {
     "data": {
      "application/vnd.jupyter.widget-view+json": {
       "model_id": "8babd1aad2984b568dc16e37fadc0f83",
       "version_major": 2,
       "version_minor": 0
      },
      "text/plain": [
       "Downloading (…)_Pooling/config.json:   0%|          | 0.00/190 [00:00<?, ?B/s]"
      ]
     },
     "metadata": {},
     "output_type": "display_data"
    },
    {
     "data": {
      "application/vnd.jupyter.widget-view+json": {
       "model_id": "d38bbb37de8a4f98aac8ec632b9095dc",
       "version_major": 2,
       "version_minor": 0
      },
      "text/plain": [
       "Downloading (…)7e55de9125/README.md:   0%|          | 0.00/10.6k [00:00<?, ?B/s]"
      ]
     },
     "metadata": {},
     "output_type": "display_data"
    },
    {
     "data": {
      "application/vnd.jupyter.widget-view+json": {
       "model_id": "9d679db31c4342a396d4bb9552526fd0",
       "version_major": 2,
       "version_minor": 0
      },
      "text/plain": [
       "Downloading (…)55de9125/config.json:   0%|          | 0.00/612 [00:00<?, ?B/s]"
      ]
     },
     "metadata": {},
     "output_type": "display_data"
    },
    {
     "data": {
      "application/vnd.jupyter.widget-view+json": {
       "model_id": "5d0726749a23455489a0332c6433453c",
       "version_major": 2,
       "version_minor": 0
      },
      "text/plain": [
       "Downloading (…)ce_transformers.json:   0%|          | 0.00/116 [00:00<?, ?B/s]"
      ]
     },
     "metadata": {},
     "output_type": "display_data"
    },
    {
     "data": {
      "application/vnd.jupyter.widget-view+json": {
       "model_id": "ff2ae28c039c4c8994661e305356dfbc",
       "version_major": 2,
       "version_minor": 0
      },
      "text/plain": [
       "Downloading (…)125/data_config.json:   0%|          | 0.00/39.3k [00:00<?, ?B/s]"
      ]
     },
     "metadata": {},
     "output_type": "display_data"
    },
    {
     "data": {
      "application/vnd.jupyter.widget-view+json": {
       "model_id": "0303f6ad91d54ff69289f27cb0b0268a",
       "version_major": 2,
       "version_minor": 0
      },
      "text/plain": [
       "Downloading pytorch_model.bin:   0%|          | 0.00/90.9M [00:00<?, ?B/s]"
      ]
     },
     "metadata": {},
     "output_type": "display_data"
    },
    {
     "data": {
      "application/vnd.jupyter.widget-view+json": {
       "model_id": "a511ae436ef548e4b534270f4dfc8d90",
       "version_major": 2,
       "version_minor": 0
      },
      "text/plain": [
       "Downloading (…)nce_bert_config.json:   0%|          | 0.00/53.0 [00:00<?, ?B/s]"
      ]
     },
     "metadata": {},
     "output_type": "display_data"
    },
    {
     "data": {
      "application/vnd.jupyter.widget-view+json": {
       "model_id": "cecb8c45a61a45b3b6a851350aac8d22",
       "version_major": 2,
       "version_minor": 0
      },
      "text/plain": [
       "Downloading (…)cial_tokens_map.json:   0%|          | 0.00/112 [00:00<?, ?B/s]"
      ]
     },
     "metadata": {},
     "output_type": "display_data"
    },
    {
     "data": {
      "application/vnd.jupyter.widget-view+json": {
       "model_id": "1ac68a52d10e4e19882e3e8660e97582",
       "version_major": 2,
       "version_minor": 0
      },
      "text/plain": [
       "Downloading (…)e9125/tokenizer.json:   0%|          | 0.00/466k [00:00<?, ?B/s]"
      ]
     },
     "metadata": {},
     "output_type": "display_data"
    },
    {
     "data": {
      "application/vnd.jupyter.widget-view+json": {
       "model_id": "21fa361a2db44b8fb769a3e0981f483d",
       "version_major": 2,
       "version_minor": 0
      },
      "text/plain": [
       "Downloading (…)okenizer_config.json:   0%|          | 0.00/350 [00:00<?, ?B/s]"
      ]
     },
     "metadata": {},
     "output_type": "display_data"
    },
    {
     "data": {
      "application/vnd.jupyter.widget-view+json": {
       "model_id": "24979d63d223433aa274f45dc5e28615",
       "version_major": 2,
       "version_minor": 0
      },
      "text/plain": [
       "Downloading (…)9125/train_script.py:   0%|          | 0.00/13.2k [00:00<?, ?B/s]"
      ]
     },
     "metadata": {},
     "output_type": "display_data"
    },
    {
     "data": {
      "application/vnd.jupyter.widget-view+json": {
       "model_id": "1bf311ffaf7c4b06b3d2144ddaad6849",
       "version_major": 2,
       "version_minor": 0
      },
      "text/plain": [
       "Downloading (…)7e55de9125/vocab.txt:   0%|          | 0.00/232k [00:00<?, ?B/s]"
      ]
     },
     "metadata": {},
     "output_type": "display_data"
    },
    {
     "data": {
      "application/vnd.jupyter.widget-view+json": {
       "model_id": "da1b82e6ecb44741ace5df35420f0ca1",
       "version_major": 2,
       "version_minor": 0
      },
      "text/plain": [
       "Downloading (…)5de9125/modules.json:   0%|          | 0.00/349 [00:00<?, ?B/s]"
      ]
     },
     "metadata": {},
     "output_type": "display_data"
    },
    {
     "data": {
      "application/vnd.jupyter.widget-view+json": {
       "model_id": "b094c81f9c834a6fad951ce027b95b53",
       "version_major": 2,
       "version_minor": 0
      },
      "text/plain": [
       "Batches:   0%|          | 0/32 [00:00<?, ?it/s]"
      ]
     },
     "metadata": {},
     "output_type": "display_data"
    },
    {
     "name": "stderr",
     "output_type": "stream",
     "text": [
      "2023-05-18 20:39:22,507 - BERTopic - Transformed documents to Embeddings\n",
      "2023-05-18 20:39:45,734 - BERTopic - Reduced dimensionality\n",
      "2023-05-18 20:39:45,906 - BERTopic - Clustered reduced embeddings\n"
     ]
    },
    {
     "name": "stdout",
     "output_type": "stream",
     "text": [
      "CPU times: total: 9min 29s\n",
      "Wall time: 3min 40s\n"
     ]
    }
   ],
   "source": [
    "%%time\n",
    "\n",
    "topic_model = BERTopic(language=\"english\", min_topic_size=100, n_gram_range=(1,2), calculate_probabilities=False, verbose=True)\n",
    "topics, probs = topic_model.fit_transform(docs)"
   ]
  },
  {
   "cell_type": "code",
   "execution_count": 82,
   "metadata": {},
   "outputs": [
    {
     "data": {
      "application/vnd.jupyter.widget-view+json": {
       "model_id": "98f773c820e24c1c82fcda98bf97b996",
       "version_major": 2,
       "version_minor": 0
      },
      "text/plain": [
       "Batches:   0%|          | 0/32 [00:00<?, ?it/s]"
      ]
     },
     "metadata": {},
     "output_type": "display_data"
    },
    {
     "name": "stderr",
     "output_type": "stream",
     "text": [
      "2023-05-18 20:46:57,224 - BERTopic - Transformed documents to Embeddings\n",
      "2023-05-18 20:47:04,316 - BERTopic - Reduced dimensionality\n",
      "2023-05-18 20:47:04,526 - BERTopic - Clustered reduced embeddings\n"
     ]
    },
    {
     "name": "stdout",
     "output_type": "stream",
     "text": [
      "CPU times: total: 9min 18s\n",
      "Wall time: 2min 52s\n"
     ]
    }
   ],
   "source": [
    "%%time\n",
    "\n",
    "topic_model = BERTopic(language=\"english\", min_topic_size=100, n_gram_range=(1,2), calculate_probabilities=True, verbose=True)\n",
    "topics, probs = topic_model.fit_transform(docs)"
   ]
  },
  {
   "cell_type": "code",
   "execution_count": 86,
   "metadata": {},
   "outputs": [
    {
     "name": "stdout",
     "output_type": "stream",
     "text": [
      "Topics found: 3\n"
     ]
    },
    {
     "data": {
      "text/html": [
       "<div>\n",
       "<style scoped>\n",
       "    .dataframe tbody tr th:only-of-type {\n",
       "        vertical-align: middle;\n",
       "    }\n",
       "\n",
       "    .dataframe tbody tr th {\n",
       "        vertical-align: top;\n",
       "    }\n",
       "\n",
       "    .dataframe thead th {\n",
       "        text-align: right;\n",
       "    }\n",
       "</style>\n",
       "<table border=\"1\" class=\"dataframe\">\n",
       "  <thead>\n",
       "    <tr style=\"text-align: right;\">\n",
       "      <th></th>\n",
       "      <th>Topic</th>\n",
       "      <th>Count</th>\n",
       "      <th>Name</th>\n",
       "    </tr>\n",
       "  </thead>\n",
       "  <tbody>\n",
       "    <tr>\n",
       "      <th>0</th>\n",
       "      <td>-1</td>\n",
       "      <td>348</td>\n",
       "      <td>-1_ai_news_us_new</td>\n",
       "    </tr>\n",
       "    <tr>\n",
       "      <th>1</th>\n",
       "      <td>0</td>\n",
       "      <td>521</td>\n",
       "      <td>0_market_ai_intelligence_data</td>\n",
       "    </tr>\n",
       "    <tr>\n",
       "      <th>2</th>\n",
       "      <td>1</td>\n",
       "      <td>131</td>\n",
       "      <td>1_news_ago_us_republic</td>\n",
       "    </tr>\n",
       "  </tbody>\n",
       "</table>\n",
       "</div>"
      ],
      "text/plain": [
       "   Topic  Count                           Name\n",
       "0     -1    348              -1_ai_news_us_new\n",
       "1      0    521  0_market_ai_intelligence_data\n",
       "2      1    131         1_news_ago_us_republic"
      ]
     },
     "execution_count": 86,
     "metadata": {},
     "output_type": "execute_result"
    }
   ],
   "source": [
    "freq = topic_model.get_topic_info()\n",
    "\n",
    "print(f\"Topics found: {freq.shape[0]}\")\n",
    "freq.head(5)"
   ]
  },
  {
   "cell_type": "code",
   "execution_count": 77,
   "metadata": {},
   "outputs": [
    {
     "data": {
      "text/plain": [
       "[('ai', 0.0321732033675636),\n",
       " ('market', 0.02997301445261103),\n",
       " ('data', 0.015772508554872798),\n",
       " ('intelligence', 0.01561909888102478),\n",
       " ('artificial', 0.014015884232989544),\n",
       " ('artificial intelligence', 0.01378077517334616),\n",
       " ('news', 0.011523668586922407),\n",
       " ('report', 0.011353954718832352),\n",
       " ('global', 0.011003842028106671),\n",
       " ('new', 0.010863412928223494)]"
      ]
     },
     "execution_count": 77,
     "metadata": {},
     "output_type": "execute_result"
    }
   ],
   "source": [
    "topic_model.get_topic(0)  # Select the most frequent topic"
   ]
  },
  {
   "cell_type": "code",
   "execution_count": 80,
   "metadata": {},
   "outputs": [
    {
     "data": {
      "text/plain": [
       "[('news', 0.023847184056376897),\n",
       " ('us', 0.017310434427451712),\n",
       " ('ago', 0.014596372045223429),\n",
       " ('ai', 0.01251488471976189),\n",
       " ('new', 0.012132852205271969),\n",
       " ('republic', 0.011364901066476963),\n",
       " ('tv', 0.0102394372631423),\n",
       " ('video', 0.0101059315966834),\n",
       " ('sports', 0.00981507844477967),\n",
       " ('local', 0.009728368387218848)]"
      ]
     },
     "execution_count": 80,
     "metadata": {},
     "output_type": "execute_result"
    }
   ],
   "source": [
    "topic_model.get_topic(1)  # Select the most frequent topic"
   ]
  },
  {
   "cell_type": "code",
   "execution_count": 85,
   "metadata": {},
   "outputs": [
    {
     "name": "stdout",
     "output_type": "stream",
     "text": [
      "CPU times: total: 109 ms\n",
      "Wall time: 99.6 ms\n"
     ]
    },
    {
     "data": {
      "application/vnd.plotly.v1+json": {
       "config": {
        "plotlyServerURL": "https://plot.ly"
       },
       "data": [
        {
         "marker": {
          "color": "#C8D2D7",
          "line": {
           "color": "#6E8484",
           "width": 1
          }
         },
         "orientation": "h",
         "type": "bar",
         "x": [
          1
         ],
         "y": [
          "<b>Topic 0</b>: market_ai_intelligence_d..."
         ]
        }
       ],
       "layout": {
        "height": 600,
        "hoverlabel": {
         "bgcolor": "white",
         "font": {
          "family": "Rockwell",
          "size": 16
         }
        },
        "template": {
         "data": {
          "bar": [
           {
            "error_x": {
             "color": "rgb(36,36,36)"
            },
            "error_y": {
             "color": "rgb(36,36,36)"
            },
            "marker": {
             "line": {
              "color": "white",
              "width": 0.5
             },
             "pattern": {
              "fillmode": "overlay",
              "size": 10,
              "solidity": 0.2
             }
            },
            "type": "bar"
           }
          ],
          "barpolar": [
           {
            "marker": {
             "line": {
              "color": "white",
              "width": 0.5
             },
             "pattern": {
              "fillmode": "overlay",
              "size": 10,
              "solidity": 0.2
             }
            },
            "type": "barpolar"
           }
          ],
          "carpet": [
           {
            "aaxis": {
             "endlinecolor": "rgb(36,36,36)",
             "gridcolor": "white",
             "linecolor": "white",
             "minorgridcolor": "white",
             "startlinecolor": "rgb(36,36,36)"
            },
            "baxis": {
             "endlinecolor": "rgb(36,36,36)",
             "gridcolor": "white",
             "linecolor": "white",
             "minorgridcolor": "white",
             "startlinecolor": "rgb(36,36,36)"
            },
            "type": "carpet"
           }
          ],
          "choropleth": [
           {
            "colorbar": {
             "outlinewidth": 1,
             "tickcolor": "rgb(36,36,36)",
             "ticks": "outside"
            },
            "type": "choropleth"
           }
          ],
          "contour": [
           {
            "colorbar": {
             "outlinewidth": 1,
             "tickcolor": "rgb(36,36,36)",
             "ticks": "outside"
            },
            "colorscale": [
             [
              0,
              "#440154"
             ],
             [
              0.1111111111111111,
              "#482878"
             ],
             [
              0.2222222222222222,
              "#3e4989"
             ],
             [
              0.3333333333333333,
              "#31688e"
             ],
             [
              0.4444444444444444,
              "#26828e"
             ],
             [
              0.5555555555555556,
              "#1f9e89"
             ],
             [
              0.6666666666666666,
              "#35b779"
             ],
             [
              0.7777777777777778,
              "#6ece58"
             ],
             [
              0.8888888888888888,
              "#b5de2b"
             ],
             [
              1,
              "#fde725"
             ]
            ],
            "type": "contour"
           }
          ],
          "contourcarpet": [
           {
            "colorbar": {
             "outlinewidth": 1,
             "tickcolor": "rgb(36,36,36)",
             "ticks": "outside"
            },
            "type": "contourcarpet"
           }
          ],
          "heatmap": [
           {
            "colorbar": {
             "outlinewidth": 1,
             "tickcolor": "rgb(36,36,36)",
             "ticks": "outside"
            },
            "colorscale": [
             [
              0,
              "#440154"
             ],
             [
              0.1111111111111111,
              "#482878"
             ],
             [
              0.2222222222222222,
              "#3e4989"
             ],
             [
              0.3333333333333333,
              "#31688e"
             ],
             [
              0.4444444444444444,
              "#26828e"
             ],
             [
              0.5555555555555556,
              "#1f9e89"
             ],
             [
              0.6666666666666666,
              "#35b779"
             ],
             [
              0.7777777777777778,
              "#6ece58"
             ],
             [
              0.8888888888888888,
              "#b5de2b"
             ],
             [
              1,
              "#fde725"
             ]
            ],
            "type": "heatmap"
           }
          ],
          "heatmapgl": [
           {
            "colorbar": {
             "outlinewidth": 1,
             "tickcolor": "rgb(36,36,36)",
             "ticks": "outside"
            },
            "colorscale": [
             [
              0,
              "#440154"
             ],
             [
              0.1111111111111111,
              "#482878"
             ],
             [
              0.2222222222222222,
              "#3e4989"
             ],
             [
              0.3333333333333333,
              "#31688e"
             ],
             [
              0.4444444444444444,
              "#26828e"
             ],
             [
              0.5555555555555556,
              "#1f9e89"
             ],
             [
              0.6666666666666666,
              "#35b779"
             ],
             [
              0.7777777777777778,
              "#6ece58"
             ],
             [
              0.8888888888888888,
              "#b5de2b"
             ],
             [
              1,
              "#fde725"
             ]
            ],
            "type": "heatmapgl"
           }
          ],
          "histogram": [
           {
            "marker": {
             "line": {
              "color": "white",
              "width": 0.6
             }
            },
            "type": "histogram"
           }
          ],
          "histogram2d": [
           {
            "colorbar": {
             "outlinewidth": 1,
             "tickcolor": "rgb(36,36,36)",
             "ticks": "outside"
            },
            "colorscale": [
             [
              0,
              "#440154"
             ],
             [
              0.1111111111111111,
              "#482878"
             ],
             [
              0.2222222222222222,
              "#3e4989"
             ],
             [
              0.3333333333333333,
              "#31688e"
             ],
             [
              0.4444444444444444,
              "#26828e"
             ],
             [
              0.5555555555555556,
              "#1f9e89"
             ],
             [
              0.6666666666666666,
              "#35b779"
             ],
             [
              0.7777777777777778,
              "#6ece58"
             ],
             [
              0.8888888888888888,
              "#b5de2b"
             ],
             [
              1,
              "#fde725"
             ]
            ],
            "type": "histogram2d"
           }
          ],
          "histogram2dcontour": [
           {
            "colorbar": {
             "outlinewidth": 1,
             "tickcolor": "rgb(36,36,36)",
             "ticks": "outside"
            },
            "colorscale": [
             [
              0,
              "#440154"
             ],
             [
              0.1111111111111111,
              "#482878"
             ],
             [
              0.2222222222222222,
              "#3e4989"
             ],
             [
              0.3333333333333333,
              "#31688e"
             ],
             [
              0.4444444444444444,
              "#26828e"
             ],
             [
              0.5555555555555556,
              "#1f9e89"
             ],
             [
              0.6666666666666666,
              "#35b779"
             ],
             [
              0.7777777777777778,
              "#6ece58"
             ],
             [
              0.8888888888888888,
              "#b5de2b"
             ],
             [
              1,
              "#fde725"
             ]
            ],
            "type": "histogram2dcontour"
           }
          ],
          "mesh3d": [
           {
            "colorbar": {
             "outlinewidth": 1,
             "tickcolor": "rgb(36,36,36)",
             "ticks": "outside"
            },
            "type": "mesh3d"
           }
          ],
          "parcoords": [
           {
            "line": {
             "colorbar": {
              "outlinewidth": 1,
              "tickcolor": "rgb(36,36,36)",
              "ticks": "outside"
             }
            },
            "type": "parcoords"
           }
          ],
          "pie": [
           {
            "automargin": true,
            "type": "pie"
           }
          ],
          "scatter": [
           {
            "fillpattern": {
             "fillmode": "overlay",
             "size": 10,
             "solidity": 0.2
            },
            "type": "scatter"
           }
          ],
          "scatter3d": [
           {
            "line": {
             "colorbar": {
              "outlinewidth": 1,
              "tickcolor": "rgb(36,36,36)",
              "ticks": "outside"
             }
            },
            "marker": {
             "colorbar": {
              "outlinewidth": 1,
              "tickcolor": "rgb(36,36,36)",
              "ticks": "outside"
             }
            },
            "type": "scatter3d"
           }
          ],
          "scattercarpet": [
           {
            "marker": {
             "colorbar": {
              "outlinewidth": 1,
              "tickcolor": "rgb(36,36,36)",
              "ticks": "outside"
             }
            },
            "type": "scattercarpet"
           }
          ],
          "scattergeo": [
           {
            "marker": {
             "colorbar": {
              "outlinewidth": 1,
              "tickcolor": "rgb(36,36,36)",
              "ticks": "outside"
             }
            },
            "type": "scattergeo"
           }
          ],
          "scattergl": [
           {
            "marker": {
             "colorbar": {
              "outlinewidth": 1,
              "tickcolor": "rgb(36,36,36)",
              "ticks": "outside"
             }
            },
            "type": "scattergl"
           }
          ],
          "scattermapbox": [
           {
            "marker": {
             "colorbar": {
              "outlinewidth": 1,
              "tickcolor": "rgb(36,36,36)",
              "ticks": "outside"
             }
            },
            "type": "scattermapbox"
           }
          ],
          "scatterpolar": [
           {
            "marker": {
             "colorbar": {
              "outlinewidth": 1,
              "tickcolor": "rgb(36,36,36)",
              "ticks": "outside"
             }
            },
            "type": "scatterpolar"
           }
          ],
          "scatterpolargl": [
           {
            "marker": {
             "colorbar": {
              "outlinewidth": 1,
              "tickcolor": "rgb(36,36,36)",
              "ticks": "outside"
             }
            },
            "type": "scatterpolargl"
           }
          ],
          "scatterternary": [
           {
            "marker": {
             "colorbar": {
              "outlinewidth": 1,
              "tickcolor": "rgb(36,36,36)",
              "ticks": "outside"
             }
            },
            "type": "scatterternary"
           }
          ],
          "surface": [
           {
            "colorbar": {
             "outlinewidth": 1,
             "tickcolor": "rgb(36,36,36)",
             "ticks": "outside"
            },
            "colorscale": [
             [
              0,
              "#440154"
             ],
             [
              0.1111111111111111,
              "#482878"
             ],
             [
              0.2222222222222222,
              "#3e4989"
             ],
             [
              0.3333333333333333,
              "#31688e"
             ],
             [
              0.4444444444444444,
              "#26828e"
             ],
             [
              0.5555555555555556,
              "#1f9e89"
             ],
             [
              0.6666666666666666,
              "#35b779"
             ],
             [
              0.7777777777777778,
              "#6ece58"
             ],
             [
              0.8888888888888888,
              "#b5de2b"
             ],
             [
              1,
              "#fde725"
             ]
            ],
            "type": "surface"
           }
          ],
          "table": [
           {
            "cells": {
             "fill": {
              "color": "rgb(237,237,237)"
             },
             "line": {
              "color": "white"
             }
            },
            "header": {
             "fill": {
              "color": "rgb(217,217,217)"
             },
             "line": {
              "color": "white"
             }
            },
            "type": "table"
           }
          ]
         },
         "layout": {
          "annotationdefaults": {
           "arrowhead": 0,
           "arrowwidth": 1
          },
          "autotypenumbers": "strict",
          "coloraxis": {
           "colorbar": {
            "outlinewidth": 1,
            "tickcolor": "rgb(36,36,36)",
            "ticks": "outside"
           }
          },
          "colorscale": {
           "diverging": [
            [
             0,
             "rgb(103,0,31)"
            ],
            [
             0.1,
             "rgb(178,24,43)"
            ],
            [
             0.2,
             "rgb(214,96,77)"
            ],
            [
             0.3,
             "rgb(244,165,130)"
            ],
            [
             0.4,
             "rgb(253,219,199)"
            ],
            [
             0.5,
             "rgb(247,247,247)"
            ],
            [
             0.6,
             "rgb(209,229,240)"
            ],
            [
             0.7,
             "rgb(146,197,222)"
            ],
            [
             0.8,
             "rgb(67,147,195)"
            ],
            [
             0.9,
             "rgb(33,102,172)"
            ],
            [
             1,
             "rgb(5,48,97)"
            ]
           ],
           "sequential": [
            [
             0,
             "#440154"
            ],
            [
             0.1111111111111111,
             "#482878"
            ],
            [
             0.2222222222222222,
             "#3e4989"
            ],
            [
             0.3333333333333333,
             "#31688e"
            ],
            [
             0.4444444444444444,
             "#26828e"
            ],
            [
             0.5555555555555556,
             "#1f9e89"
            ],
            [
             0.6666666666666666,
             "#35b779"
            ],
            [
             0.7777777777777778,
             "#6ece58"
            ],
            [
             0.8888888888888888,
             "#b5de2b"
            ],
            [
             1,
             "#fde725"
            ]
           ],
           "sequentialminus": [
            [
             0,
             "#440154"
            ],
            [
             0.1111111111111111,
             "#482878"
            ],
            [
             0.2222222222222222,
             "#3e4989"
            ],
            [
             0.3333333333333333,
             "#31688e"
            ],
            [
             0.4444444444444444,
             "#26828e"
            ],
            [
             0.5555555555555556,
             "#1f9e89"
            ],
            [
             0.6666666666666666,
             "#35b779"
            ],
            [
             0.7777777777777778,
             "#6ece58"
            ],
            [
             0.8888888888888888,
             "#b5de2b"
            ],
            [
             1,
             "#fde725"
            ]
           ]
          },
          "colorway": [
           "#1F77B4",
           "#FF7F0E",
           "#2CA02C",
           "#D62728",
           "#9467BD",
           "#8C564B",
           "#E377C2",
           "#7F7F7F",
           "#BCBD22",
           "#17BECF"
          ],
          "font": {
           "color": "rgb(36,36,36)"
          },
          "geo": {
           "bgcolor": "white",
           "lakecolor": "white",
           "landcolor": "white",
           "showlakes": true,
           "showland": true,
           "subunitcolor": "white"
          },
          "hoverlabel": {
           "align": "left"
          },
          "hovermode": "closest",
          "mapbox": {
           "style": "light"
          },
          "paper_bgcolor": "white",
          "plot_bgcolor": "white",
          "polar": {
           "angularaxis": {
            "gridcolor": "rgb(232,232,232)",
            "linecolor": "rgb(36,36,36)",
            "showgrid": false,
            "showline": true,
            "ticks": "outside"
           },
           "bgcolor": "white",
           "radialaxis": {
            "gridcolor": "rgb(232,232,232)",
            "linecolor": "rgb(36,36,36)",
            "showgrid": false,
            "showline": true,
            "ticks": "outside"
           }
          },
          "scene": {
           "xaxis": {
            "backgroundcolor": "white",
            "gridcolor": "rgb(232,232,232)",
            "gridwidth": 2,
            "linecolor": "rgb(36,36,36)",
            "showbackground": true,
            "showgrid": false,
            "showline": true,
            "ticks": "outside",
            "zeroline": false,
            "zerolinecolor": "rgb(36,36,36)"
           },
           "yaxis": {
            "backgroundcolor": "white",
            "gridcolor": "rgb(232,232,232)",
            "gridwidth": 2,
            "linecolor": "rgb(36,36,36)",
            "showbackground": true,
            "showgrid": false,
            "showline": true,
            "ticks": "outside",
            "zeroline": false,
            "zerolinecolor": "rgb(36,36,36)"
           },
           "zaxis": {
            "backgroundcolor": "white",
            "gridcolor": "rgb(232,232,232)",
            "gridwidth": 2,
            "linecolor": "rgb(36,36,36)",
            "showbackground": true,
            "showgrid": false,
            "showline": true,
            "ticks": "outside",
            "zeroline": false,
            "zerolinecolor": "rgb(36,36,36)"
           }
          },
          "shapedefaults": {
           "fillcolor": "black",
           "line": {
            "width": 0
           },
           "opacity": 0.3
          },
          "ternary": {
           "aaxis": {
            "gridcolor": "rgb(232,232,232)",
            "linecolor": "rgb(36,36,36)",
            "showgrid": false,
            "showline": true,
            "ticks": "outside"
           },
           "baxis": {
            "gridcolor": "rgb(232,232,232)",
            "linecolor": "rgb(36,36,36)",
            "showgrid": false,
            "showline": true,
            "ticks": "outside"
           },
           "bgcolor": "white",
           "caxis": {
            "gridcolor": "rgb(232,232,232)",
            "linecolor": "rgb(36,36,36)",
            "showgrid": false,
            "showline": true,
            "ticks": "outside"
           }
          },
          "title": {
           "x": 0.05
          },
          "xaxis": {
           "automargin": true,
           "gridcolor": "rgb(232,232,232)",
           "linecolor": "rgb(36,36,36)",
           "showgrid": false,
           "showline": true,
           "ticks": "outside",
           "title": {
            "standoff": 15
           },
           "zeroline": false,
           "zerolinecolor": "rgb(36,36,36)"
          },
          "yaxis": {
           "automargin": true,
           "gridcolor": "rgb(232,232,232)",
           "linecolor": "rgb(36,36,36)",
           "showgrid": false,
           "showline": true,
           "ticks": "outside",
           "title": {
            "standoff": 15
           },
           "zeroline": false,
           "zerolinecolor": "rgb(36,36,36)"
          }
         }
        },
        "title": {
         "font": {
          "color": "Black",
          "size": 22
         },
         "text": "<b>Topic Probability Distribution</b>",
         "x": 0.5,
         "xanchor": "center",
         "y": 0.95,
         "yanchor": "top"
        },
        "width": 800,
        "xaxis": {
         "title": {
          "text": "Probability"
         }
        }
       }
      }
     },
     "metadata": {},
     "output_type": "display_data"
    }
   ],
   "source": [
    "%%time\n",
    "\n",
    "topic_model.visualize_distribution(probs[100], min_probability=0.001)"
   ]
  },
  {
   "cell_type": "code",
   "execution_count": 87,
   "metadata": {},
   "outputs": [
    {
     "data": {
      "application/vnd.plotly.v1+json": {
       "config": {
        "plotlyServerURL": "https://plot.ly"
       },
       "data": [
        {
         "hoverinfo": "text",
         "marker": {
          "color": "rgb(61,153,112)"
         },
         "mode": "lines",
         "type": "scatter",
         "x": [
          0,
          0.6592441209002372,
          0.6592441209002372,
          0
         ],
         "xaxis": "x",
         "y": [
          -5,
          -5,
          -15,
          -15
         ],
         "yaxis": "y"
        }
       ],
       "layout": {
        "autosize": false,
        "height": 230,
        "hoverlabel": {
         "bgcolor": "white",
         "font": {
          "family": "Rockwell",
          "size": 16
         }
        },
        "hovermode": "closest",
        "plot_bgcolor": "#ECEFF1",
        "showlegend": false,
        "template": {
         "data": {
          "bar": [
           {
            "error_x": {
             "color": "#2a3f5f"
            },
            "error_y": {
             "color": "#2a3f5f"
            },
            "marker": {
             "line": {
              "color": "white",
              "width": 0.5
             },
             "pattern": {
              "fillmode": "overlay",
              "size": 10,
              "solidity": 0.2
             }
            },
            "type": "bar"
           }
          ],
          "barpolar": [
           {
            "marker": {
             "line": {
              "color": "white",
              "width": 0.5
             },
             "pattern": {
              "fillmode": "overlay",
              "size": 10,
              "solidity": 0.2
             }
            },
            "type": "barpolar"
           }
          ],
          "carpet": [
           {
            "aaxis": {
             "endlinecolor": "#2a3f5f",
             "gridcolor": "#C8D4E3",
             "linecolor": "#C8D4E3",
             "minorgridcolor": "#C8D4E3",
             "startlinecolor": "#2a3f5f"
            },
            "baxis": {
             "endlinecolor": "#2a3f5f",
             "gridcolor": "#C8D4E3",
             "linecolor": "#C8D4E3",
             "minorgridcolor": "#C8D4E3",
             "startlinecolor": "#2a3f5f"
            },
            "type": "carpet"
           }
          ],
          "choropleth": [
           {
            "colorbar": {
             "outlinewidth": 0,
             "ticks": ""
            },
            "type": "choropleth"
           }
          ],
          "contour": [
           {
            "colorbar": {
             "outlinewidth": 0,
             "ticks": ""
            },
            "colorscale": [
             [
              0,
              "#0d0887"
             ],
             [
              0.1111111111111111,
              "#46039f"
             ],
             [
              0.2222222222222222,
              "#7201a8"
             ],
             [
              0.3333333333333333,
              "#9c179e"
             ],
             [
              0.4444444444444444,
              "#bd3786"
             ],
             [
              0.5555555555555556,
              "#d8576b"
             ],
             [
              0.6666666666666666,
              "#ed7953"
             ],
             [
              0.7777777777777778,
              "#fb9f3a"
             ],
             [
              0.8888888888888888,
              "#fdca26"
             ],
             [
              1,
              "#f0f921"
             ]
            ],
            "type": "contour"
           }
          ],
          "contourcarpet": [
           {
            "colorbar": {
             "outlinewidth": 0,
             "ticks": ""
            },
            "type": "contourcarpet"
           }
          ],
          "heatmap": [
           {
            "colorbar": {
             "outlinewidth": 0,
             "ticks": ""
            },
            "colorscale": [
             [
              0,
              "#0d0887"
             ],
             [
              0.1111111111111111,
              "#46039f"
             ],
             [
              0.2222222222222222,
              "#7201a8"
             ],
             [
              0.3333333333333333,
              "#9c179e"
             ],
             [
              0.4444444444444444,
              "#bd3786"
             ],
             [
              0.5555555555555556,
              "#d8576b"
             ],
             [
              0.6666666666666666,
              "#ed7953"
             ],
             [
              0.7777777777777778,
              "#fb9f3a"
             ],
             [
              0.8888888888888888,
              "#fdca26"
             ],
             [
              1,
              "#f0f921"
             ]
            ],
            "type": "heatmap"
           }
          ],
          "heatmapgl": [
           {
            "colorbar": {
             "outlinewidth": 0,
             "ticks": ""
            },
            "colorscale": [
             [
              0,
              "#0d0887"
             ],
             [
              0.1111111111111111,
              "#46039f"
             ],
             [
              0.2222222222222222,
              "#7201a8"
             ],
             [
              0.3333333333333333,
              "#9c179e"
             ],
             [
              0.4444444444444444,
              "#bd3786"
             ],
             [
              0.5555555555555556,
              "#d8576b"
             ],
             [
              0.6666666666666666,
              "#ed7953"
             ],
             [
              0.7777777777777778,
              "#fb9f3a"
             ],
             [
              0.8888888888888888,
              "#fdca26"
             ],
             [
              1,
              "#f0f921"
             ]
            ],
            "type": "heatmapgl"
           }
          ],
          "histogram": [
           {
            "marker": {
             "pattern": {
              "fillmode": "overlay",
              "size": 10,
              "solidity": 0.2
             }
            },
            "type": "histogram"
           }
          ],
          "histogram2d": [
           {
            "colorbar": {
             "outlinewidth": 0,
             "ticks": ""
            },
            "colorscale": [
             [
              0,
              "#0d0887"
             ],
             [
              0.1111111111111111,
              "#46039f"
             ],
             [
              0.2222222222222222,
              "#7201a8"
             ],
             [
              0.3333333333333333,
              "#9c179e"
             ],
             [
              0.4444444444444444,
              "#bd3786"
             ],
             [
              0.5555555555555556,
              "#d8576b"
             ],
             [
              0.6666666666666666,
              "#ed7953"
             ],
             [
              0.7777777777777778,
              "#fb9f3a"
             ],
             [
              0.8888888888888888,
              "#fdca26"
             ],
             [
              1,
              "#f0f921"
             ]
            ],
            "type": "histogram2d"
           }
          ],
          "histogram2dcontour": [
           {
            "colorbar": {
             "outlinewidth": 0,
             "ticks": ""
            },
            "colorscale": [
             [
              0,
              "#0d0887"
             ],
             [
              0.1111111111111111,
              "#46039f"
             ],
             [
              0.2222222222222222,
              "#7201a8"
             ],
             [
              0.3333333333333333,
              "#9c179e"
             ],
             [
              0.4444444444444444,
              "#bd3786"
             ],
             [
              0.5555555555555556,
              "#d8576b"
             ],
             [
              0.6666666666666666,
              "#ed7953"
             ],
             [
              0.7777777777777778,
              "#fb9f3a"
             ],
             [
              0.8888888888888888,
              "#fdca26"
             ],
             [
              1,
              "#f0f921"
             ]
            ],
            "type": "histogram2dcontour"
           }
          ],
          "mesh3d": [
           {
            "colorbar": {
             "outlinewidth": 0,
             "ticks": ""
            },
            "type": "mesh3d"
           }
          ],
          "parcoords": [
           {
            "line": {
             "colorbar": {
              "outlinewidth": 0,
              "ticks": ""
             }
            },
            "type": "parcoords"
           }
          ],
          "pie": [
           {
            "automargin": true,
            "type": "pie"
           }
          ],
          "scatter": [
           {
            "fillpattern": {
             "fillmode": "overlay",
             "size": 10,
             "solidity": 0.2
            },
            "type": "scatter"
           }
          ],
          "scatter3d": [
           {
            "line": {
             "colorbar": {
              "outlinewidth": 0,
              "ticks": ""
             }
            },
            "marker": {
             "colorbar": {
              "outlinewidth": 0,
              "ticks": ""
             }
            },
            "type": "scatter3d"
           }
          ],
          "scattercarpet": [
           {
            "marker": {
             "colorbar": {
              "outlinewidth": 0,
              "ticks": ""
             }
            },
            "type": "scattercarpet"
           }
          ],
          "scattergeo": [
           {
            "marker": {
             "colorbar": {
              "outlinewidth": 0,
              "ticks": ""
             }
            },
            "type": "scattergeo"
           }
          ],
          "scattergl": [
           {
            "marker": {
             "colorbar": {
              "outlinewidth": 0,
              "ticks": ""
             }
            },
            "type": "scattergl"
           }
          ],
          "scattermapbox": [
           {
            "marker": {
             "colorbar": {
              "outlinewidth": 0,
              "ticks": ""
             }
            },
            "type": "scattermapbox"
           }
          ],
          "scatterpolar": [
           {
            "marker": {
             "colorbar": {
              "outlinewidth": 0,
              "ticks": ""
             }
            },
            "type": "scatterpolar"
           }
          ],
          "scatterpolargl": [
           {
            "marker": {
             "colorbar": {
              "outlinewidth": 0,
              "ticks": ""
             }
            },
            "type": "scatterpolargl"
           }
          ],
          "scatterternary": [
           {
            "marker": {
             "colorbar": {
              "outlinewidth": 0,
              "ticks": ""
             }
            },
            "type": "scatterternary"
           }
          ],
          "surface": [
           {
            "colorbar": {
             "outlinewidth": 0,
             "ticks": ""
            },
            "colorscale": [
             [
              0,
              "#0d0887"
             ],
             [
              0.1111111111111111,
              "#46039f"
             ],
             [
              0.2222222222222222,
              "#7201a8"
             ],
             [
              0.3333333333333333,
              "#9c179e"
             ],
             [
              0.4444444444444444,
              "#bd3786"
             ],
             [
              0.5555555555555556,
              "#d8576b"
             ],
             [
              0.6666666666666666,
              "#ed7953"
             ],
             [
              0.7777777777777778,
              "#fb9f3a"
             ],
             [
              0.8888888888888888,
              "#fdca26"
             ],
             [
              1,
              "#f0f921"
             ]
            ],
            "type": "surface"
           }
          ],
          "table": [
           {
            "cells": {
             "fill": {
              "color": "#EBF0F8"
             },
             "line": {
              "color": "white"
             }
            },
            "header": {
             "fill": {
              "color": "#C8D4E3"
             },
             "line": {
              "color": "white"
             }
            },
            "type": "table"
           }
          ]
         },
         "layout": {
          "annotationdefaults": {
           "arrowcolor": "#2a3f5f",
           "arrowhead": 0,
           "arrowwidth": 1
          },
          "autotypenumbers": "strict",
          "coloraxis": {
           "colorbar": {
            "outlinewidth": 0,
            "ticks": ""
           }
          },
          "colorscale": {
           "diverging": [
            [
             0,
             "#8e0152"
            ],
            [
             0.1,
             "#c51b7d"
            ],
            [
             0.2,
             "#de77ae"
            ],
            [
             0.3,
             "#f1b6da"
            ],
            [
             0.4,
             "#fde0ef"
            ],
            [
             0.5,
             "#f7f7f7"
            ],
            [
             0.6,
             "#e6f5d0"
            ],
            [
             0.7,
             "#b8e186"
            ],
            [
             0.8,
             "#7fbc41"
            ],
            [
             0.9,
             "#4d9221"
            ],
            [
             1,
             "#276419"
            ]
           ],
           "sequential": [
            [
             0,
             "#0d0887"
            ],
            [
             0.1111111111111111,
             "#46039f"
            ],
            [
             0.2222222222222222,
             "#7201a8"
            ],
            [
             0.3333333333333333,
             "#9c179e"
            ],
            [
             0.4444444444444444,
             "#bd3786"
            ],
            [
             0.5555555555555556,
             "#d8576b"
            ],
            [
             0.6666666666666666,
             "#ed7953"
            ],
            [
             0.7777777777777778,
             "#fb9f3a"
            ],
            [
             0.8888888888888888,
             "#fdca26"
            ],
            [
             1,
             "#f0f921"
            ]
           ],
           "sequentialminus": [
            [
             0,
             "#0d0887"
            ],
            [
             0.1111111111111111,
             "#46039f"
            ],
            [
             0.2222222222222222,
             "#7201a8"
            ],
            [
             0.3333333333333333,
             "#9c179e"
            ],
            [
             0.4444444444444444,
             "#bd3786"
            ],
            [
             0.5555555555555556,
             "#d8576b"
            ],
            [
             0.6666666666666666,
             "#ed7953"
            ],
            [
             0.7777777777777778,
             "#fb9f3a"
            ],
            [
             0.8888888888888888,
             "#fdca26"
            ],
            [
             1,
             "#f0f921"
            ]
           ]
          },
          "colorway": [
           "#636efa",
           "#EF553B",
           "#00cc96",
           "#ab63fa",
           "#FFA15A",
           "#19d3f3",
           "#FF6692",
           "#B6E880",
           "#FF97FF",
           "#FECB52"
          ],
          "font": {
           "color": "#2a3f5f"
          },
          "geo": {
           "bgcolor": "white",
           "lakecolor": "white",
           "landcolor": "white",
           "showlakes": true,
           "showland": true,
           "subunitcolor": "#C8D4E3"
          },
          "hoverlabel": {
           "align": "left"
          },
          "hovermode": "closest",
          "mapbox": {
           "style": "light"
          },
          "paper_bgcolor": "white",
          "plot_bgcolor": "white",
          "polar": {
           "angularaxis": {
            "gridcolor": "#EBF0F8",
            "linecolor": "#EBF0F8",
            "ticks": ""
           },
           "bgcolor": "white",
           "radialaxis": {
            "gridcolor": "#EBF0F8",
            "linecolor": "#EBF0F8",
            "ticks": ""
           }
          },
          "scene": {
           "xaxis": {
            "backgroundcolor": "white",
            "gridcolor": "#DFE8F3",
            "gridwidth": 2,
            "linecolor": "#EBF0F8",
            "showbackground": true,
            "ticks": "",
            "zerolinecolor": "#EBF0F8"
           },
           "yaxis": {
            "backgroundcolor": "white",
            "gridcolor": "#DFE8F3",
            "gridwidth": 2,
            "linecolor": "#EBF0F8",
            "showbackground": true,
            "ticks": "",
            "zerolinecolor": "#EBF0F8"
           },
           "zaxis": {
            "backgroundcolor": "white",
            "gridcolor": "#DFE8F3",
            "gridwidth": 2,
            "linecolor": "#EBF0F8",
            "showbackground": true,
            "ticks": "",
            "zerolinecolor": "#EBF0F8"
           }
          },
          "shapedefaults": {
           "line": {
            "color": "#2a3f5f"
           }
          },
          "ternary": {
           "aaxis": {
            "gridcolor": "#DFE8F3",
            "linecolor": "#A2B1C6",
            "ticks": ""
           },
           "baxis": {
            "gridcolor": "#DFE8F3",
            "linecolor": "#A2B1C6",
            "ticks": ""
           },
           "bgcolor": "white",
           "caxis": {
            "gridcolor": "#DFE8F3",
            "linecolor": "#A2B1C6",
            "ticks": ""
           }
          },
          "title": {
           "x": 0.05
          },
          "xaxis": {
           "automargin": true,
           "gridcolor": "#EBF0F8",
           "linecolor": "#EBF0F8",
           "ticks": "",
           "title": {
            "standoff": 15
           },
           "zerolinecolor": "#EBF0F8",
           "zerolinewidth": 2
          },
          "yaxis": {
           "automargin": true,
           "gridcolor": "#EBF0F8",
           "linecolor": "#EBF0F8",
           "ticks": "",
           "title": {
            "standoff": 15
           },
           "zerolinecolor": "#EBF0F8",
           "zerolinewidth": 2
          }
         }
        },
        "title": {
         "font": {
          "color": "Black",
          "size": 22
         },
         "text": "<b>Hierarchical Clustering</b>",
         "x": 0.5,
         "xanchor": "center",
         "yanchor": "top"
        },
        "width": 1000,
        "xaxis": {
         "mirror": "allticks",
         "rangemode": "tozero",
         "showgrid": false,
         "showline": true,
         "showticklabels": true,
         "ticks": "outside",
         "type": "linear",
         "zeroline": false
        },
        "yaxis": {
         "mirror": "allticks",
         "range": [
          -20,
          0
         ],
         "rangemode": "tozero",
         "showgrid": false,
         "showline": true,
         "showticklabels": true,
         "tickmode": "array",
         "ticks": "outside",
         "ticktext": [
          "0_market_ai_intelligence",
          "1_news_ago_us"
         ],
         "tickvals": [
          -5,
          -15
         ],
         "type": "linear",
         "zeroline": false
        }
       }
      }
     },
     "metadata": {},
     "output_type": "display_data"
    }
   ],
   "source": [
    "topic_model.visualize_hierarchy(top_n_topics=50)"
   ]
  },
  {
   "cell_type": "code",
   "execution_count": 88,
   "metadata": {},
   "outputs": [
    {
     "data": {
      "application/vnd.plotly.v1+json": {
       "config": {
        "plotlyServerURL": "https://plot.ly"
       },
       "data": [
        {
         "marker": {
          "color": "#D55E00"
         },
         "orientation": "h",
         "type": "bar",
         "x": [
          0.014671484803679817,
          0.016022128644927913,
          0.01644546474443653,
          0.032391582554931714,
          0.03242736975133324
         ],
         "xaxis": "x",
         "y": [
          "artificial  ",
          "data  ",
          "intelligence  ",
          "ai  ",
          "market  "
         ],
         "yaxis": "y"
        },
        {
         "marker": {
          "color": "#0072B2"
         },
         "orientation": "h",
         "type": "bar",
         "x": [
          0.011758688299694823,
          0.011903787403831707,
          0.015242162896113548,
          0.015397935654489865,
          0.024274377445412314
         ],
         "xaxis": "x2",
         "y": [
          "new  ",
          "republic  ",
          "us  ",
          "ago  ",
          "news  "
         ],
         "yaxis": "y2"
        }
       ],
       "layout": {
        "annotations": [
         {
          "font": {
           "size": 16
          },
          "showarrow": false,
          "text": "Topic 0",
          "x": 0.0875,
          "xanchor": "center",
          "xref": "paper",
          "y": 1,
          "yanchor": "bottom",
          "yref": "paper"
         },
         {
          "font": {
           "size": 16
          },
          "showarrow": false,
          "text": "Topic 1",
          "x": 0.36250000000000004,
          "xanchor": "center",
          "xref": "paper",
          "y": 1,
          "yanchor": "bottom",
          "yref": "paper"
         }
        ],
        "height": 325,
        "hoverlabel": {
         "bgcolor": "white",
         "font": {
          "family": "Rockwell",
          "size": 16
         }
        },
        "showlegend": false,
        "template": {
         "data": {
          "bar": [
           {
            "error_x": {
             "color": "#2a3f5f"
            },
            "error_y": {
             "color": "#2a3f5f"
            },
            "marker": {
             "line": {
              "color": "white",
              "width": 0.5
             },
             "pattern": {
              "fillmode": "overlay",
              "size": 10,
              "solidity": 0.2
             }
            },
            "type": "bar"
           }
          ],
          "barpolar": [
           {
            "marker": {
             "line": {
              "color": "white",
              "width": 0.5
             },
             "pattern": {
              "fillmode": "overlay",
              "size": 10,
              "solidity": 0.2
             }
            },
            "type": "barpolar"
           }
          ],
          "carpet": [
           {
            "aaxis": {
             "endlinecolor": "#2a3f5f",
             "gridcolor": "#C8D4E3",
             "linecolor": "#C8D4E3",
             "minorgridcolor": "#C8D4E3",
             "startlinecolor": "#2a3f5f"
            },
            "baxis": {
             "endlinecolor": "#2a3f5f",
             "gridcolor": "#C8D4E3",
             "linecolor": "#C8D4E3",
             "minorgridcolor": "#C8D4E3",
             "startlinecolor": "#2a3f5f"
            },
            "type": "carpet"
           }
          ],
          "choropleth": [
           {
            "colorbar": {
             "outlinewidth": 0,
             "ticks": ""
            },
            "type": "choropleth"
           }
          ],
          "contour": [
           {
            "colorbar": {
             "outlinewidth": 0,
             "ticks": ""
            },
            "colorscale": [
             [
              0,
              "#0d0887"
             ],
             [
              0.1111111111111111,
              "#46039f"
             ],
             [
              0.2222222222222222,
              "#7201a8"
             ],
             [
              0.3333333333333333,
              "#9c179e"
             ],
             [
              0.4444444444444444,
              "#bd3786"
             ],
             [
              0.5555555555555556,
              "#d8576b"
             ],
             [
              0.6666666666666666,
              "#ed7953"
             ],
             [
              0.7777777777777778,
              "#fb9f3a"
             ],
             [
              0.8888888888888888,
              "#fdca26"
             ],
             [
              1,
              "#f0f921"
             ]
            ],
            "type": "contour"
           }
          ],
          "contourcarpet": [
           {
            "colorbar": {
             "outlinewidth": 0,
             "ticks": ""
            },
            "type": "contourcarpet"
           }
          ],
          "heatmap": [
           {
            "colorbar": {
             "outlinewidth": 0,
             "ticks": ""
            },
            "colorscale": [
             [
              0,
              "#0d0887"
             ],
             [
              0.1111111111111111,
              "#46039f"
             ],
             [
              0.2222222222222222,
              "#7201a8"
             ],
             [
              0.3333333333333333,
              "#9c179e"
             ],
             [
              0.4444444444444444,
              "#bd3786"
             ],
             [
              0.5555555555555556,
              "#d8576b"
             ],
             [
              0.6666666666666666,
              "#ed7953"
             ],
             [
              0.7777777777777778,
              "#fb9f3a"
             ],
             [
              0.8888888888888888,
              "#fdca26"
             ],
             [
              1,
              "#f0f921"
             ]
            ],
            "type": "heatmap"
           }
          ],
          "heatmapgl": [
           {
            "colorbar": {
             "outlinewidth": 0,
             "ticks": ""
            },
            "colorscale": [
             [
              0,
              "#0d0887"
             ],
             [
              0.1111111111111111,
              "#46039f"
             ],
             [
              0.2222222222222222,
              "#7201a8"
             ],
             [
              0.3333333333333333,
              "#9c179e"
             ],
             [
              0.4444444444444444,
              "#bd3786"
             ],
             [
              0.5555555555555556,
              "#d8576b"
             ],
             [
              0.6666666666666666,
              "#ed7953"
             ],
             [
              0.7777777777777778,
              "#fb9f3a"
             ],
             [
              0.8888888888888888,
              "#fdca26"
             ],
             [
              1,
              "#f0f921"
             ]
            ],
            "type": "heatmapgl"
           }
          ],
          "histogram": [
           {
            "marker": {
             "pattern": {
              "fillmode": "overlay",
              "size": 10,
              "solidity": 0.2
             }
            },
            "type": "histogram"
           }
          ],
          "histogram2d": [
           {
            "colorbar": {
             "outlinewidth": 0,
             "ticks": ""
            },
            "colorscale": [
             [
              0,
              "#0d0887"
             ],
             [
              0.1111111111111111,
              "#46039f"
             ],
             [
              0.2222222222222222,
              "#7201a8"
             ],
             [
              0.3333333333333333,
              "#9c179e"
             ],
             [
              0.4444444444444444,
              "#bd3786"
             ],
             [
              0.5555555555555556,
              "#d8576b"
             ],
             [
              0.6666666666666666,
              "#ed7953"
             ],
             [
              0.7777777777777778,
              "#fb9f3a"
             ],
             [
              0.8888888888888888,
              "#fdca26"
             ],
             [
              1,
              "#f0f921"
             ]
            ],
            "type": "histogram2d"
           }
          ],
          "histogram2dcontour": [
           {
            "colorbar": {
             "outlinewidth": 0,
             "ticks": ""
            },
            "colorscale": [
             [
              0,
              "#0d0887"
             ],
             [
              0.1111111111111111,
              "#46039f"
             ],
             [
              0.2222222222222222,
              "#7201a8"
             ],
             [
              0.3333333333333333,
              "#9c179e"
             ],
             [
              0.4444444444444444,
              "#bd3786"
             ],
             [
              0.5555555555555556,
              "#d8576b"
             ],
             [
              0.6666666666666666,
              "#ed7953"
             ],
             [
              0.7777777777777778,
              "#fb9f3a"
             ],
             [
              0.8888888888888888,
              "#fdca26"
             ],
             [
              1,
              "#f0f921"
             ]
            ],
            "type": "histogram2dcontour"
           }
          ],
          "mesh3d": [
           {
            "colorbar": {
             "outlinewidth": 0,
             "ticks": ""
            },
            "type": "mesh3d"
           }
          ],
          "parcoords": [
           {
            "line": {
             "colorbar": {
              "outlinewidth": 0,
              "ticks": ""
             }
            },
            "type": "parcoords"
           }
          ],
          "pie": [
           {
            "automargin": true,
            "type": "pie"
           }
          ],
          "scatter": [
           {
            "fillpattern": {
             "fillmode": "overlay",
             "size": 10,
             "solidity": 0.2
            },
            "type": "scatter"
           }
          ],
          "scatter3d": [
           {
            "line": {
             "colorbar": {
              "outlinewidth": 0,
              "ticks": ""
             }
            },
            "marker": {
             "colorbar": {
              "outlinewidth": 0,
              "ticks": ""
             }
            },
            "type": "scatter3d"
           }
          ],
          "scattercarpet": [
           {
            "marker": {
             "colorbar": {
              "outlinewidth": 0,
              "ticks": ""
             }
            },
            "type": "scattercarpet"
           }
          ],
          "scattergeo": [
           {
            "marker": {
             "colorbar": {
              "outlinewidth": 0,
              "ticks": ""
             }
            },
            "type": "scattergeo"
           }
          ],
          "scattergl": [
           {
            "marker": {
             "colorbar": {
              "outlinewidth": 0,
              "ticks": ""
             }
            },
            "type": "scattergl"
           }
          ],
          "scattermapbox": [
           {
            "marker": {
             "colorbar": {
              "outlinewidth": 0,
              "ticks": ""
             }
            },
            "type": "scattermapbox"
           }
          ],
          "scatterpolar": [
           {
            "marker": {
             "colorbar": {
              "outlinewidth": 0,
              "ticks": ""
             }
            },
            "type": "scatterpolar"
           }
          ],
          "scatterpolargl": [
           {
            "marker": {
             "colorbar": {
              "outlinewidth": 0,
              "ticks": ""
             }
            },
            "type": "scatterpolargl"
           }
          ],
          "scatterternary": [
           {
            "marker": {
             "colorbar": {
              "outlinewidth": 0,
              "ticks": ""
             }
            },
            "type": "scatterternary"
           }
          ],
          "surface": [
           {
            "colorbar": {
             "outlinewidth": 0,
             "ticks": ""
            },
            "colorscale": [
             [
              0,
              "#0d0887"
             ],
             [
              0.1111111111111111,
              "#46039f"
             ],
             [
              0.2222222222222222,
              "#7201a8"
             ],
             [
              0.3333333333333333,
              "#9c179e"
             ],
             [
              0.4444444444444444,
              "#bd3786"
             ],
             [
              0.5555555555555556,
              "#d8576b"
             ],
             [
              0.6666666666666666,
              "#ed7953"
             ],
             [
              0.7777777777777778,
              "#fb9f3a"
             ],
             [
              0.8888888888888888,
              "#fdca26"
             ],
             [
              1,
              "#f0f921"
             ]
            ],
            "type": "surface"
           }
          ],
          "table": [
           {
            "cells": {
             "fill": {
              "color": "#EBF0F8"
             },
             "line": {
              "color": "white"
             }
            },
            "header": {
             "fill": {
              "color": "#C8D4E3"
             },
             "line": {
              "color": "white"
             }
            },
            "type": "table"
           }
          ]
         },
         "layout": {
          "annotationdefaults": {
           "arrowcolor": "#2a3f5f",
           "arrowhead": 0,
           "arrowwidth": 1
          },
          "autotypenumbers": "strict",
          "coloraxis": {
           "colorbar": {
            "outlinewidth": 0,
            "ticks": ""
           }
          },
          "colorscale": {
           "diverging": [
            [
             0,
             "#8e0152"
            ],
            [
             0.1,
             "#c51b7d"
            ],
            [
             0.2,
             "#de77ae"
            ],
            [
             0.3,
             "#f1b6da"
            ],
            [
             0.4,
             "#fde0ef"
            ],
            [
             0.5,
             "#f7f7f7"
            ],
            [
             0.6,
             "#e6f5d0"
            ],
            [
             0.7,
             "#b8e186"
            ],
            [
             0.8,
             "#7fbc41"
            ],
            [
             0.9,
             "#4d9221"
            ],
            [
             1,
             "#276419"
            ]
           ],
           "sequential": [
            [
             0,
             "#0d0887"
            ],
            [
             0.1111111111111111,
             "#46039f"
            ],
            [
             0.2222222222222222,
             "#7201a8"
            ],
            [
             0.3333333333333333,
             "#9c179e"
            ],
            [
             0.4444444444444444,
             "#bd3786"
            ],
            [
             0.5555555555555556,
             "#d8576b"
            ],
            [
             0.6666666666666666,
             "#ed7953"
            ],
            [
             0.7777777777777778,
             "#fb9f3a"
            ],
            [
             0.8888888888888888,
             "#fdca26"
            ],
            [
             1,
             "#f0f921"
            ]
           ],
           "sequentialminus": [
            [
             0,
             "#0d0887"
            ],
            [
             0.1111111111111111,
             "#46039f"
            ],
            [
             0.2222222222222222,
             "#7201a8"
            ],
            [
             0.3333333333333333,
             "#9c179e"
            ],
            [
             0.4444444444444444,
             "#bd3786"
            ],
            [
             0.5555555555555556,
             "#d8576b"
            ],
            [
             0.6666666666666666,
             "#ed7953"
            ],
            [
             0.7777777777777778,
             "#fb9f3a"
            ],
            [
             0.8888888888888888,
             "#fdca26"
            ],
            [
             1,
             "#f0f921"
            ]
           ]
          },
          "colorway": [
           "#636efa",
           "#EF553B",
           "#00cc96",
           "#ab63fa",
           "#FFA15A",
           "#19d3f3",
           "#FF6692",
           "#B6E880",
           "#FF97FF",
           "#FECB52"
          ],
          "font": {
           "color": "#2a3f5f"
          },
          "geo": {
           "bgcolor": "white",
           "lakecolor": "white",
           "landcolor": "white",
           "showlakes": true,
           "showland": true,
           "subunitcolor": "#C8D4E3"
          },
          "hoverlabel": {
           "align": "left"
          },
          "hovermode": "closest",
          "mapbox": {
           "style": "light"
          },
          "paper_bgcolor": "white",
          "plot_bgcolor": "white",
          "polar": {
           "angularaxis": {
            "gridcolor": "#EBF0F8",
            "linecolor": "#EBF0F8",
            "ticks": ""
           },
           "bgcolor": "white",
           "radialaxis": {
            "gridcolor": "#EBF0F8",
            "linecolor": "#EBF0F8",
            "ticks": ""
           }
          },
          "scene": {
           "xaxis": {
            "backgroundcolor": "white",
            "gridcolor": "#DFE8F3",
            "gridwidth": 2,
            "linecolor": "#EBF0F8",
            "showbackground": true,
            "ticks": "",
            "zerolinecolor": "#EBF0F8"
           },
           "yaxis": {
            "backgroundcolor": "white",
            "gridcolor": "#DFE8F3",
            "gridwidth": 2,
            "linecolor": "#EBF0F8",
            "showbackground": true,
            "ticks": "",
            "zerolinecolor": "#EBF0F8"
           },
           "zaxis": {
            "backgroundcolor": "white",
            "gridcolor": "#DFE8F3",
            "gridwidth": 2,
            "linecolor": "#EBF0F8",
            "showbackground": true,
            "ticks": "",
            "zerolinecolor": "#EBF0F8"
           }
          },
          "shapedefaults": {
           "line": {
            "color": "#2a3f5f"
           }
          },
          "ternary": {
           "aaxis": {
            "gridcolor": "#DFE8F3",
            "linecolor": "#A2B1C6",
            "ticks": ""
           },
           "baxis": {
            "gridcolor": "#DFE8F3",
            "linecolor": "#A2B1C6",
            "ticks": ""
           },
           "bgcolor": "white",
           "caxis": {
            "gridcolor": "#DFE8F3",
            "linecolor": "#A2B1C6",
            "ticks": ""
           }
          },
          "title": {
           "x": 0.05
          },
          "xaxis": {
           "automargin": true,
           "gridcolor": "#EBF0F8",
           "linecolor": "#EBF0F8",
           "ticks": "",
           "title": {
            "standoff": 15
           },
           "zerolinecolor": "#EBF0F8",
           "zerolinewidth": 2
          },
          "yaxis": {
           "automargin": true,
           "gridcolor": "#EBF0F8",
           "linecolor": "#EBF0F8",
           "ticks": "",
           "title": {
            "standoff": 15
           },
           "zerolinecolor": "#EBF0F8",
           "zerolinewidth": 2
          }
         }
        },
        "title": {
         "font": {
          "color": "Black",
          "size": 22
         },
         "text": "Topic Word Scores",
         "x": 0.5,
         "xanchor": "center",
         "yanchor": "top"
        },
        "width": 1000,
        "xaxis": {
         "anchor": "y",
         "domain": [
          0,
          0.175
         ],
         "showgrid": true
        },
        "xaxis2": {
         "anchor": "y2",
         "domain": [
          0.275,
          0.45
         ],
         "showgrid": true
        },
        "xaxis3": {
         "anchor": "y3",
         "domain": [
          0.55,
          0.7250000000000001
         ],
         "showgrid": true
        },
        "xaxis4": {
         "anchor": "y4",
         "domain": [
          0.825,
          1
         ],
         "showgrid": true
        },
        "yaxis": {
         "anchor": "x",
         "domain": [
          0,
          1
         ],
         "showgrid": true
        },
        "yaxis2": {
         "anchor": "x2",
         "domain": [
          0,
          1
         ],
         "showgrid": true
        },
        "yaxis3": {
         "anchor": "x3",
         "domain": [
          0,
          1
         ],
         "showgrid": true
        },
        "yaxis4": {
         "anchor": "x4",
         "domain": [
          0,
          1
         ],
         "showgrid": true
        }
       }
      }
     },
     "metadata": {},
     "output_type": "display_data"
    }
   ],
   "source": [
    "topic_model.visualize_barchart(top_n_topics=5)"
   ]
  },
  {
   "cell_type": "code",
   "execution_count": 91,
   "metadata": {},
   "outputs": [
    {
     "data": {
      "application/vnd.plotly.v1+json": {
       "config": {
        "plotlyServerURL": "https://plot.ly"
       },
       "data": [
        {
         "coloraxis": "coloraxis",
         "hovertemplate": "x: %{x}<br>y: %{y}<br>Similarity Score: %{z}<extra></extra>",
         "name": "0",
         "type": "heatmap",
         "x": [
          "0_market_ai_intelligence",
          "1_news_ago_us"
         ],
         "xaxis": "x",
         "y": [
          "0_market_ai_intelligence",
          "1_news_ago_us"
         ],
         "yaxis": "y",
         "z": [
          [
           0.9999999999999998,
           0.7357341206194665
          ],
          [
           0.7357341206194665,
           1
          ]
         ]
        }
       ],
       "layout": {
        "coloraxis": {
         "colorbar": {
          "title": {
           "text": "Similarity Score"
          }
         },
         "colorscale": [
          [
           0,
           "rgb(247,252,240)"
          ],
          [
           0.125,
           "rgb(224,243,219)"
          ],
          [
           0.25,
           "rgb(204,235,197)"
          ],
          [
           0.375,
           "rgb(168,221,181)"
          ],
          [
           0.5,
           "rgb(123,204,196)"
          ],
          [
           0.625,
           "rgb(78,179,211)"
          ],
          [
           0.75,
           "rgb(43,140,190)"
          ],
          [
           0.875,
           "rgb(8,104,172)"
          ],
          [
           1,
           "rgb(8,64,129)"
          ]
         ]
        },
        "height": 1000,
        "hoverlabel": {
         "bgcolor": "white",
         "font": {
          "family": "Rockwell",
          "size": 16
         }
        },
        "legend": {
         "title": {
          "text": "Trend"
         }
        },
        "margin": {
         "t": 60
        },
        "showlegend": true,
        "template": {
         "data": {
          "bar": [
           {
            "error_x": {
             "color": "#2a3f5f"
            },
            "error_y": {
             "color": "#2a3f5f"
            },
            "marker": {
             "line": {
              "color": "#E5ECF6",
              "width": 0.5
             },
             "pattern": {
              "fillmode": "overlay",
              "size": 10,
              "solidity": 0.2
             }
            },
            "type": "bar"
           }
          ],
          "barpolar": [
           {
            "marker": {
             "line": {
              "color": "#E5ECF6",
              "width": 0.5
             },
             "pattern": {
              "fillmode": "overlay",
              "size": 10,
              "solidity": 0.2
             }
            },
            "type": "barpolar"
           }
          ],
          "carpet": [
           {
            "aaxis": {
             "endlinecolor": "#2a3f5f",
             "gridcolor": "white",
             "linecolor": "white",
             "minorgridcolor": "white",
             "startlinecolor": "#2a3f5f"
            },
            "baxis": {
             "endlinecolor": "#2a3f5f",
             "gridcolor": "white",
             "linecolor": "white",
             "minorgridcolor": "white",
             "startlinecolor": "#2a3f5f"
            },
            "type": "carpet"
           }
          ],
          "choropleth": [
           {
            "colorbar": {
             "outlinewidth": 0,
             "ticks": ""
            },
            "type": "choropleth"
           }
          ],
          "contour": [
           {
            "colorbar": {
             "outlinewidth": 0,
             "ticks": ""
            },
            "colorscale": [
             [
              0,
              "#0d0887"
             ],
             [
              0.1111111111111111,
              "#46039f"
             ],
             [
              0.2222222222222222,
              "#7201a8"
             ],
             [
              0.3333333333333333,
              "#9c179e"
             ],
             [
              0.4444444444444444,
              "#bd3786"
             ],
             [
              0.5555555555555556,
              "#d8576b"
             ],
             [
              0.6666666666666666,
              "#ed7953"
             ],
             [
              0.7777777777777778,
              "#fb9f3a"
             ],
             [
              0.8888888888888888,
              "#fdca26"
             ],
             [
              1,
              "#f0f921"
             ]
            ],
            "type": "contour"
           }
          ],
          "contourcarpet": [
           {
            "colorbar": {
             "outlinewidth": 0,
             "ticks": ""
            },
            "type": "contourcarpet"
           }
          ],
          "heatmap": [
           {
            "colorbar": {
             "outlinewidth": 0,
             "ticks": ""
            },
            "colorscale": [
             [
              0,
              "#0d0887"
             ],
             [
              0.1111111111111111,
              "#46039f"
             ],
             [
              0.2222222222222222,
              "#7201a8"
             ],
             [
              0.3333333333333333,
              "#9c179e"
             ],
             [
              0.4444444444444444,
              "#bd3786"
             ],
             [
              0.5555555555555556,
              "#d8576b"
             ],
             [
              0.6666666666666666,
              "#ed7953"
             ],
             [
              0.7777777777777778,
              "#fb9f3a"
             ],
             [
              0.8888888888888888,
              "#fdca26"
             ],
             [
              1,
              "#f0f921"
             ]
            ],
            "type": "heatmap"
           }
          ],
          "heatmapgl": [
           {
            "colorbar": {
             "outlinewidth": 0,
             "ticks": ""
            },
            "colorscale": [
             [
              0,
              "#0d0887"
             ],
             [
              0.1111111111111111,
              "#46039f"
             ],
             [
              0.2222222222222222,
              "#7201a8"
             ],
             [
              0.3333333333333333,
              "#9c179e"
             ],
             [
              0.4444444444444444,
              "#bd3786"
             ],
             [
              0.5555555555555556,
              "#d8576b"
             ],
             [
              0.6666666666666666,
              "#ed7953"
             ],
             [
              0.7777777777777778,
              "#fb9f3a"
             ],
             [
              0.8888888888888888,
              "#fdca26"
             ],
             [
              1,
              "#f0f921"
             ]
            ],
            "type": "heatmapgl"
           }
          ],
          "histogram": [
           {
            "marker": {
             "pattern": {
              "fillmode": "overlay",
              "size": 10,
              "solidity": 0.2
             }
            },
            "type": "histogram"
           }
          ],
          "histogram2d": [
           {
            "colorbar": {
             "outlinewidth": 0,
             "ticks": ""
            },
            "colorscale": [
             [
              0,
              "#0d0887"
             ],
             [
              0.1111111111111111,
              "#46039f"
             ],
             [
              0.2222222222222222,
              "#7201a8"
             ],
             [
              0.3333333333333333,
              "#9c179e"
             ],
             [
              0.4444444444444444,
              "#bd3786"
             ],
             [
              0.5555555555555556,
              "#d8576b"
             ],
             [
              0.6666666666666666,
              "#ed7953"
             ],
             [
              0.7777777777777778,
              "#fb9f3a"
             ],
             [
              0.8888888888888888,
              "#fdca26"
             ],
             [
              1,
              "#f0f921"
             ]
            ],
            "type": "histogram2d"
           }
          ],
          "histogram2dcontour": [
           {
            "colorbar": {
             "outlinewidth": 0,
             "ticks": ""
            },
            "colorscale": [
             [
              0,
              "#0d0887"
             ],
             [
              0.1111111111111111,
              "#46039f"
             ],
             [
              0.2222222222222222,
              "#7201a8"
             ],
             [
              0.3333333333333333,
              "#9c179e"
             ],
             [
              0.4444444444444444,
              "#bd3786"
             ],
             [
              0.5555555555555556,
              "#d8576b"
             ],
             [
              0.6666666666666666,
              "#ed7953"
             ],
             [
              0.7777777777777778,
              "#fb9f3a"
             ],
             [
              0.8888888888888888,
              "#fdca26"
             ],
             [
              1,
              "#f0f921"
             ]
            ],
            "type": "histogram2dcontour"
           }
          ],
          "mesh3d": [
           {
            "colorbar": {
             "outlinewidth": 0,
             "ticks": ""
            },
            "type": "mesh3d"
           }
          ],
          "parcoords": [
           {
            "line": {
             "colorbar": {
              "outlinewidth": 0,
              "ticks": ""
             }
            },
            "type": "parcoords"
           }
          ],
          "pie": [
           {
            "automargin": true,
            "type": "pie"
           }
          ],
          "scatter": [
           {
            "fillpattern": {
             "fillmode": "overlay",
             "size": 10,
             "solidity": 0.2
            },
            "type": "scatter"
           }
          ],
          "scatter3d": [
           {
            "line": {
             "colorbar": {
              "outlinewidth": 0,
              "ticks": ""
             }
            },
            "marker": {
             "colorbar": {
              "outlinewidth": 0,
              "ticks": ""
             }
            },
            "type": "scatter3d"
           }
          ],
          "scattercarpet": [
           {
            "marker": {
             "colorbar": {
              "outlinewidth": 0,
              "ticks": ""
             }
            },
            "type": "scattercarpet"
           }
          ],
          "scattergeo": [
           {
            "marker": {
             "colorbar": {
              "outlinewidth": 0,
              "ticks": ""
             }
            },
            "type": "scattergeo"
           }
          ],
          "scattergl": [
           {
            "marker": {
             "colorbar": {
              "outlinewidth": 0,
              "ticks": ""
             }
            },
            "type": "scattergl"
           }
          ],
          "scattermapbox": [
           {
            "marker": {
             "colorbar": {
              "outlinewidth": 0,
              "ticks": ""
             }
            },
            "type": "scattermapbox"
           }
          ],
          "scatterpolar": [
           {
            "marker": {
             "colorbar": {
              "outlinewidth": 0,
              "ticks": ""
             }
            },
            "type": "scatterpolar"
           }
          ],
          "scatterpolargl": [
           {
            "marker": {
             "colorbar": {
              "outlinewidth": 0,
              "ticks": ""
             }
            },
            "type": "scatterpolargl"
           }
          ],
          "scatterternary": [
           {
            "marker": {
             "colorbar": {
              "outlinewidth": 0,
              "ticks": ""
             }
            },
            "type": "scatterternary"
           }
          ],
          "surface": [
           {
            "colorbar": {
             "outlinewidth": 0,
             "ticks": ""
            },
            "colorscale": [
             [
              0,
              "#0d0887"
             ],
             [
              0.1111111111111111,
              "#46039f"
             ],
             [
              0.2222222222222222,
              "#7201a8"
             ],
             [
              0.3333333333333333,
              "#9c179e"
             ],
             [
              0.4444444444444444,
              "#bd3786"
             ],
             [
              0.5555555555555556,
              "#d8576b"
             ],
             [
              0.6666666666666666,
              "#ed7953"
             ],
             [
              0.7777777777777778,
              "#fb9f3a"
             ],
             [
              0.8888888888888888,
              "#fdca26"
             ],
             [
              1,
              "#f0f921"
             ]
            ],
            "type": "surface"
           }
          ],
          "table": [
           {
            "cells": {
             "fill": {
              "color": "#EBF0F8"
             },
             "line": {
              "color": "white"
             }
            },
            "header": {
             "fill": {
              "color": "#C8D4E3"
             },
             "line": {
              "color": "white"
             }
            },
            "type": "table"
           }
          ]
         },
         "layout": {
          "annotationdefaults": {
           "arrowcolor": "#2a3f5f",
           "arrowhead": 0,
           "arrowwidth": 1
          },
          "autotypenumbers": "strict",
          "coloraxis": {
           "colorbar": {
            "outlinewidth": 0,
            "ticks": ""
           }
          },
          "colorscale": {
           "diverging": [
            [
             0,
             "#8e0152"
            ],
            [
             0.1,
             "#c51b7d"
            ],
            [
             0.2,
             "#de77ae"
            ],
            [
             0.3,
             "#f1b6da"
            ],
            [
             0.4,
             "#fde0ef"
            ],
            [
             0.5,
             "#f7f7f7"
            ],
            [
             0.6,
             "#e6f5d0"
            ],
            [
             0.7,
             "#b8e186"
            ],
            [
             0.8,
             "#7fbc41"
            ],
            [
             0.9,
             "#4d9221"
            ],
            [
             1,
             "#276419"
            ]
           ],
           "sequential": [
            [
             0,
             "#0d0887"
            ],
            [
             0.1111111111111111,
             "#46039f"
            ],
            [
             0.2222222222222222,
             "#7201a8"
            ],
            [
             0.3333333333333333,
             "#9c179e"
            ],
            [
             0.4444444444444444,
             "#bd3786"
            ],
            [
             0.5555555555555556,
             "#d8576b"
            ],
            [
             0.6666666666666666,
             "#ed7953"
            ],
            [
             0.7777777777777778,
             "#fb9f3a"
            ],
            [
             0.8888888888888888,
             "#fdca26"
            ],
            [
             1,
             "#f0f921"
            ]
           ],
           "sequentialminus": [
            [
             0,
             "#0d0887"
            ],
            [
             0.1111111111111111,
             "#46039f"
            ],
            [
             0.2222222222222222,
             "#7201a8"
            ],
            [
             0.3333333333333333,
             "#9c179e"
            ],
            [
             0.4444444444444444,
             "#bd3786"
            ],
            [
             0.5555555555555556,
             "#d8576b"
            ],
            [
             0.6666666666666666,
             "#ed7953"
            ],
            [
             0.7777777777777778,
             "#fb9f3a"
            ],
            [
             0.8888888888888888,
             "#fdca26"
            ],
            [
             1,
             "#f0f921"
            ]
           ]
          },
          "colorway": [
           "#636efa",
           "#EF553B",
           "#00cc96",
           "#ab63fa",
           "#FFA15A",
           "#19d3f3",
           "#FF6692",
           "#B6E880",
           "#FF97FF",
           "#FECB52"
          ],
          "font": {
           "color": "#2a3f5f"
          },
          "geo": {
           "bgcolor": "white",
           "lakecolor": "white",
           "landcolor": "#E5ECF6",
           "showlakes": true,
           "showland": true,
           "subunitcolor": "white"
          },
          "hoverlabel": {
           "align": "left"
          },
          "hovermode": "closest",
          "mapbox": {
           "style": "light"
          },
          "paper_bgcolor": "white",
          "plot_bgcolor": "#E5ECF6",
          "polar": {
           "angularaxis": {
            "gridcolor": "white",
            "linecolor": "white",
            "ticks": ""
           },
           "bgcolor": "#E5ECF6",
           "radialaxis": {
            "gridcolor": "white",
            "linecolor": "white",
            "ticks": ""
           }
          },
          "scene": {
           "xaxis": {
            "backgroundcolor": "#E5ECF6",
            "gridcolor": "white",
            "gridwidth": 2,
            "linecolor": "white",
            "showbackground": true,
            "ticks": "",
            "zerolinecolor": "white"
           },
           "yaxis": {
            "backgroundcolor": "#E5ECF6",
            "gridcolor": "white",
            "gridwidth": 2,
            "linecolor": "white",
            "showbackground": true,
            "ticks": "",
            "zerolinecolor": "white"
           },
           "zaxis": {
            "backgroundcolor": "#E5ECF6",
            "gridcolor": "white",
            "gridwidth": 2,
            "linecolor": "white",
            "showbackground": true,
            "ticks": "",
            "zerolinecolor": "white"
           }
          },
          "shapedefaults": {
           "line": {
            "color": "#2a3f5f"
           }
          },
          "ternary": {
           "aaxis": {
            "gridcolor": "white",
            "linecolor": "white",
            "ticks": ""
           },
           "baxis": {
            "gridcolor": "white",
            "linecolor": "white",
            "ticks": ""
           },
           "bgcolor": "#E5ECF6",
           "caxis": {
            "gridcolor": "white",
            "linecolor": "white",
            "ticks": ""
           }
          },
          "title": {
           "x": 0.05
          },
          "xaxis": {
           "automargin": true,
           "gridcolor": "white",
           "linecolor": "white",
           "ticks": "",
           "title": {
            "standoff": 15
           },
           "zerolinecolor": "white",
           "zerolinewidth": 2
          },
          "yaxis": {
           "automargin": true,
           "gridcolor": "white",
           "linecolor": "white",
           "ticks": "",
           "title": {
            "standoff": 15
           },
           "zerolinecolor": "white",
           "zerolinewidth": 2
          }
         }
        },
        "title": {
         "font": {
          "color": "Black",
          "size": 22
         },
         "text": "<b>Similarity Matrix</b>",
         "x": 0.55,
         "xanchor": "center",
         "y": 0.95,
         "yanchor": "top"
        },
        "width": 1000,
        "xaxis": {
         "anchor": "y",
         "constrain": "domain",
         "domain": [
          0,
          1
         ],
         "scaleanchor": "y"
        },
        "yaxis": {
         "anchor": "x",
         "autorange": "reversed",
         "constrain": "domain",
         "domain": [
          0,
          1
         ]
        }
       }
      }
     },
     "metadata": {},
     "output_type": "display_data"
    }
   ],
   "source": [
    "topic_model.visualize_heatmap(n_clusters=1, width=1000, height=1000)"
   ]
  },
  {
   "cell_type": "code",
   "execution_count": 92,
   "metadata": {},
   "outputs": [
    {
     "data": {
      "application/vnd.plotly.v1+json": {
       "config": {
        "plotlyServerURL": "https://plot.ly"
       },
       "data": [
        {
         "hovertext": "<b>Topic -1</b>:ai_news_us_new_technology_data_mar",
         "line": {
          "color": "black",
          "width": 1.5
         },
         "mode": "lines+lines",
         "name": "",
         "opacity": 0.1,
         "type": "scatter",
         "x": [
          1,
          2,
          3,
          4,
          5,
          6,
          7,
          8,
          9,
          10
         ],
         "y": [
          0.022801573758572342,
          0.01380465442292039,
          0.013378812586856803,
          0.012919833904792179,
          0.011935253497115836,
          0.011567802797750399,
          0.010097410514530449,
          0.009441973600129149,
          0.008996685994453251,
          0.008482765049291194
         ]
        },
        {
         "hovertext": "<b>Topic 0</b>:market_ai_intelligence_data_artific",
         "line": {
          "color": "black",
          "width": 1.5
         },
         "mode": "lines+lines",
         "name": "",
         "opacity": 0.1,
         "type": "scatter",
         "x": [
          1,
          2,
          3,
          4,
          5,
          6,
          7,
          8,
          9,
          10
         ],
         "y": [
          0.03242736975133324,
          0.032391582554931714,
          0.01644546474443653,
          0.016022128644927913,
          0.014671484803679817,
          0.014481563759893441,
          0.012193155066293449,
          0.011644399428130774,
          0.011122837048833613,
          0.010978640105245031
         ]
        },
        {
         "hovertext": "<b>Topic 1</b>:news_ago_us_republic_new_ai_tv_vide",
         "line": {
          "color": "black",
          "width": 1.5
         },
         "mode": "lines+lines",
         "name": "",
         "opacity": 0.1,
         "type": "scatter",
         "x": [
          1,
          2,
          3,
          4,
          5,
          6,
          7,
          8,
          9,
          10
         ],
         "y": [
          0.024274377445412314,
          0.015397935654489865,
          0.015242162896113548,
          0.011903787403831707,
          0.011758688299694823,
          0.011200665053333126,
          0.010663176834456485,
          0.010411241768200024,
          0.010243216299739625,
          0.01016117836492127
         ]
        }
       ],
       "layout": {
        "height": 500,
        "hoverlabel": {
         "bgcolor": "white",
         "font": {
          "family": "Rockwell",
          "size": 16
         }
        },
        "showlegend": false,
        "template": {
         "data": {
          "bar": [
           {
            "error_x": {
             "color": "#2a3f5f"
            },
            "error_y": {
             "color": "#2a3f5f"
            },
            "marker": {
             "line": {
              "color": "white",
              "width": 0.5
             },
             "pattern": {
              "fillmode": "overlay",
              "size": 10,
              "solidity": 0.2
             }
            },
            "type": "bar"
           }
          ],
          "barpolar": [
           {
            "marker": {
             "line": {
              "color": "white",
              "width": 0.5
             },
             "pattern": {
              "fillmode": "overlay",
              "size": 10,
              "solidity": 0.2
             }
            },
            "type": "barpolar"
           }
          ],
          "carpet": [
           {
            "aaxis": {
             "endlinecolor": "#2a3f5f",
             "gridcolor": "#C8D4E3",
             "linecolor": "#C8D4E3",
             "minorgridcolor": "#C8D4E3",
             "startlinecolor": "#2a3f5f"
            },
            "baxis": {
             "endlinecolor": "#2a3f5f",
             "gridcolor": "#C8D4E3",
             "linecolor": "#C8D4E3",
             "minorgridcolor": "#C8D4E3",
             "startlinecolor": "#2a3f5f"
            },
            "type": "carpet"
           }
          ],
          "choropleth": [
           {
            "colorbar": {
             "outlinewidth": 0,
             "ticks": ""
            },
            "type": "choropleth"
           }
          ],
          "contour": [
           {
            "colorbar": {
             "outlinewidth": 0,
             "ticks": ""
            },
            "colorscale": [
             [
              0,
              "#0d0887"
             ],
             [
              0.1111111111111111,
              "#46039f"
             ],
             [
              0.2222222222222222,
              "#7201a8"
             ],
             [
              0.3333333333333333,
              "#9c179e"
             ],
             [
              0.4444444444444444,
              "#bd3786"
             ],
             [
              0.5555555555555556,
              "#d8576b"
             ],
             [
              0.6666666666666666,
              "#ed7953"
             ],
             [
              0.7777777777777778,
              "#fb9f3a"
             ],
             [
              0.8888888888888888,
              "#fdca26"
             ],
             [
              1,
              "#f0f921"
             ]
            ],
            "type": "contour"
           }
          ],
          "contourcarpet": [
           {
            "colorbar": {
             "outlinewidth": 0,
             "ticks": ""
            },
            "type": "contourcarpet"
           }
          ],
          "heatmap": [
           {
            "colorbar": {
             "outlinewidth": 0,
             "ticks": ""
            },
            "colorscale": [
             [
              0,
              "#0d0887"
             ],
             [
              0.1111111111111111,
              "#46039f"
             ],
             [
              0.2222222222222222,
              "#7201a8"
             ],
             [
              0.3333333333333333,
              "#9c179e"
             ],
             [
              0.4444444444444444,
              "#bd3786"
             ],
             [
              0.5555555555555556,
              "#d8576b"
             ],
             [
              0.6666666666666666,
              "#ed7953"
             ],
             [
              0.7777777777777778,
              "#fb9f3a"
             ],
             [
              0.8888888888888888,
              "#fdca26"
             ],
             [
              1,
              "#f0f921"
             ]
            ],
            "type": "heatmap"
           }
          ],
          "heatmapgl": [
           {
            "colorbar": {
             "outlinewidth": 0,
             "ticks": ""
            },
            "colorscale": [
             [
              0,
              "#0d0887"
             ],
             [
              0.1111111111111111,
              "#46039f"
             ],
             [
              0.2222222222222222,
              "#7201a8"
             ],
             [
              0.3333333333333333,
              "#9c179e"
             ],
             [
              0.4444444444444444,
              "#bd3786"
             ],
             [
              0.5555555555555556,
              "#d8576b"
             ],
             [
              0.6666666666666666,
              "#ed7953"
             ],
             [
              0.7777777777777778,
              "#fb9f3a"
             ],
             [
              0.8888888888888888,
              "#fdca26"
             ],
             [
              1,
              "#f0f921"
             ]
            ],
            "type": "heatmapgl"
           }
          ],
          "histogram": [
           {
            "marker": {
             "pattern": {
              "fillmode": "overlay",
              "size": 10,
              "solidity": 0.2
             }
            },
            "type": "histogram"
           }
          ],
          "histogram2d": [
           {
            "colorbar": {
             "outlinewidth": 0,
             "ticks": ""
            },
            "colorscale": [
             [
              0,
              "#0d0887"
             ],
             [
              0.1111111111111111,
              "#46039f"
             ],
             [
              0.2222222222222222,
              "#7201a8"
             ],
             [
              0.3333333333333333,
              "#9c179e"
             ],
             [
              0.4444444444444444,
              "#bd3786"
             ],
             [
              0.5555555555555556,
              "#d8576b"
             ],
             [
              0.6666666666666666,
              "#ed7953"
             ],
             [
              0.7777777777777778,
              "#fb9f3a"
             ],
             [
              0.8888888888888888,
              "#fdca26"
             ],
             [
              1,
              "#f0f921"
             ]
            ],
            "type": "histogram2d"
           }
          ],
          "histogram2dcontour": [
           {
            "colorbar": {
             "outlinewidth": 0,
             "ticks": ""
            },
            "colorscale": [
             [
              0,
              "#0d0887"
             ],
             [
              0.1111111111111111,
              "#46039f"
             ],
             [
              0.2222222222222222,
              "#7201a8"
             ],
             [
              0.3333333333333333,
              "#9c179e"
             ],
             [
              0.4444444444444444,
              "#bd3786"
             ],
             [
              0.5555555555555556,
              "#d8576b"
             ],
             [
              0.6666666666666666,
              "#ed7953"
             ],
             [
              0.7777777777777778,
              "#fb9f3a"
             ],
             [
              0.8888888888888888,
              "#fdca26"
             ],
             [
              1,
              "#f0f921"
             ]
            ],
            "type": "histogram2dcontour"
           }
          ],
          "mesh3d": [
           {
            "colorbar": {
             "outlinewidth": 0,
             "ticks": ""
            },
            "type": "mesh3d"
           }
          ],
          "parcoords": [
           {
            "line": {
             "colorbar": {
              "outlinewidth": 0,
              "ticks": ""
             }
            },
            "type": "parcoords"
           }
          ],
          "pie": [
           {
            "automargin": true,
            "type": "pie"
           }
          ],
          "scatter": [
           {
            "fillpattern": {
             "fillmode": "overlay",
             "size": 10,
             "solidity": 0.2
            },
            "type": "scatter"
           }
          ],
          "scatter3d": [
           {
            "line": {
             "colorbar": {
              "outlinewidth": 0,
              "ticks": ""
             }
            },
            "marker": {
             "colorbar": {
              "outlinewidth": 0,
              "ticks": ""
             }
            },
            "type": "scatter3d"
           }
          ],
          "scattercarpet": [
           {
            "marker": {
             "colorbar": {
              "outlinewidth": 0,
              "ticks": ""
             }
            },
            "type": "scattercarpet"
           }
          ],
          "scattergeo": [
           {
            "marker": {
             "colorbar": {
              "outlinewidth": 0,
              "ticks": ""
             }
            },
            "type": "scattergeo"
           }
          ],
          "scattergl": [
           {
            "marker": {
             "colorbar": {
              "outlinewidth": 0,
              "ticks": ""
             }
            },
            "type": "scattergl"
           }
          ],
          "scattermapbox": [
           {
            "marker": {
             "colorbar": {
              "outlinewidth": 0,
              "ticks": ""
             }
            },
            "type": "scattermapbox"
           }
          ],
          "scatterpolar": [
           {
            "marker": {
             "colorbar": {
              "outlinewidth": 0,
              "ticks": ""
             }
            },
            "type": "scatterpolar"
           }
          ],
          "scatterpolargl": [
           {
            "marker": {
             "colorbar": {
              "outlinewidth": 0,
              "ticks": ""
             }
            },
            "type": "scatterpolargl"
           }
          ],
          "scatterternary": [
           {
            "marker": {
             "colorbar": {
              "outlinewidth": 0,
              "ticks": ""
             }
            },
            "type": "scatterternary"
           }
          ],
          "surface": [
           {
            "colorbar": {
             "outlinewidth": 0,
             "ticks": ""
            },
            "colorscale": [
             [
              0,
              "#0d0887"
             ],
             [
              0.1111111111111111,
              "#46039f"
             ],
             [
              0.2222222222222222,
              "#7201a8"
             ],
             [
              0.3333333333333333,
              "#9c179e"
             ],
             [
              0.4444444444444444,
              "#bd3786"
             ],
             [
              0.5555555555555556,
              "#d8576b"
             ],
             [
              0.6666666666666666,
              "#ed7953"
             ],
             [
              0.7777777777777778,
              "#fb9f3a"
             ],
             [
              0.8888888888888888,
              "#fdca26"
             ],
             [
              1,
              "#f0f921"
             ]
            ],
            "type": "surface"
           }
          ],
          "table": [
           {
            "cells": {
             "fill": {
              "color": "#EBF0F8"
             },
             "line": {
              "color": "white"
             }
            },
            "header": {
             "fill": {
              "color": "#C8D4E3"
             },
             "line": {
              "color": "white"
             }
            },
            "type": "table"
           }
          ]
         },
         "layout": {
          "annotationdefaults": {
           "arrowcolor": "#2a3f5f",
           "arrowhead": 0,
           "arrowwidth": 1
          },
          "autotypenumbers": "strict",
          "coloraxis": {
           "colorbar": {
            "outlinewidth": 0,
            "ticks": ""
           }
          },
          "colorscale": {
           "diverging": [
            [
             0,
             "#8e0152"
            ],
            [
             0.1,
             "#c51b7d"
            ],
            [
             0.2,
             "#de77ae"
            ],
            [
             0.3,
             "#f1b6da"
            ],
            [
             0.4,
             "#fde0ef"
            ],
            [
             0.5,
             "#f7f7f7"
            ],
            [
             0.6,
             "#e6f5d0"
            ],
            [
             0.7,
             "#b8e186"
            ],
            [
             0.8,
             "#7fbc41"
            ],
            [
             0.9,
             "#4d9221"
            ],
            [
             1,
             "#276419"
            ]
           ],
           "sequential": [
            [
             0,
             "#0d0887"
            ],
            [
             0.1111111111111111,
             "#46039f"
            ],
            [
             0.2222222222222222,
             "#7201a8"
            ],
            [
             0.3333333333333333,
             "#9c179e"
            ],
            [
             0.4444444444444444,
             "#bd3786"
            ],
            [
             0.5555555555555556,
             "#d8576b"
            ],
            [
             0.6666666666666666,
             "#ed7953"
            ],
            [
             0.7777777777777778,
             "#fb9f3a"
            ],
            [
             0.8888888888888888,
             "#fdca26"
            ],
            [
             1,
             "#f0f921"
            ]
           ],
           "sequentialminus": [
            [
             0,
             "#0d0887"
            ],
            [
             0.1111111111111111,
             "#46039f"
            ],
            [
             0.2222222222222222,
             "#7201a8"
            ],
            [
             0.3333333333333333,
             "#9c179e"
            ],
            [
             0.4444444444444444,
             "#bd3786"
            ],
            [
             0.5555555555555556,
             "#d8576b"
            ],
            [
             0.6666666666666666,
             "#ed7953"
            ],
            [
             0.7777777777777778,
             "#fb9f3a"
            ],
            [
             0.8888888888888888,
             "#fdca26"
            ],
            [
             1,
             "#f0f921"
            ]
           ]
          },
          "colorway": [
           "#636efa",
           "#EF553B",
           "#00cc96",
           "#ab63fa",
           "#FFA15A",
           "#19d3f3",
           "#FF6692",
           "#B6E880",
           "#FF97FF",
           "#FECB52"
          ],
          "font": {
           "color": "#2a3f5f"
          },
          "geo": {
           "bgcolor": "white",
           "lakecolor": "white",
           "landcolor": "white",
           "showlakes": true,
           "showland": true,
           "subunitcolor": "#C8D4E3"
          },
          "hoverlabel": {
           "align": "left"
          },
          "hovermode": "closest",
          "mapbox": {
           "style": "light"
          },
          "paper_bgcolor": "white",
          "plot_bgcolor": "white",
          "polar": {
           "angularaxis": {
            "gridcolor": "#EBF0F8",
            "linecolor": "#EBF0F8",
            "ticks": ""
           },
           "bgcolor": "white",
           "radialaxis": {
            "gridcolor": "#EBF0F8",
            "linecolor": "#EBF0F8",
            "ticks": ""
           }
          },
          "scene": {
           "xaxis": {
            "backgroundcolor": "white",
            "gridcolor": "#DFE8F3",
            "gridwidth": 2,
            "linecolor": "#EBF0F8",
            "showbackground": true,
            "ticks": "",
            "zerolinecolor": "#EBF0F8"
           },
           "yaxis": {
            "backgroundcolor": "white",
            "gridcolor": "#DFE8F3",
            "gridwidth": 2,
            "linecolor": "#EBF0F8",
            "showbackground": true,
            "ticks": "",
            "zerolinecolor": "#EBF0F8"
           },
           "zaxis": {
            "backgroundcolor": "white",
            "gridcolor": "#DFE8F3",
            "gridwidth": 2,
            "linecolor": "#EBF0F8",
            "showbackground": true,
            "ticks": "",
            "zerolinecolor": "#EBF0F8"
           }
          },
          "shapedefaults": {
           "line": {
            "color": "#2a3f5f"
           }
          },
          "ternary": {
           "aaxis": {
            "gridcolor": "#DFE8F3",
            "linecolor": "#A2B1C6",
            "ticks": ""
           },
           "baxis": {
            "gridcolor": "#DFE8F3",
            "linecolor": "#A2B1C6",
            "ticks": ""
           },
           "bgcolor": "white",
           "caxis": {
            "gridcolor": "#DFE8F3",
            "linecolor": "#A2B1C6",
            "ticks": ""
           }
          },
          "title": {
           "x": 0.05
          },
          "xaxis": {
           "automargin": true,
           "gridcolor": "#EBF0F8",
           "linecolor": "#EBF0F8",
           "ticks": "",
           "title": {
            "standoff": 15
           },
           "zerolinecolor": "#EBF0F8",
           "zerolinewidth": 2
          },
          "yaxis": {
           "automargin": true,
           "gridcolor": "#EBF0F8",
           "linecolor": "#EBF0F8",
           "ticks": "",
           "title": {
            "standoff": 15
           },
           "zerolinecolor": "#EBF0F8",
           "zerolinewidth": 2
          }
         }
        },
        "title": {
         "font": {
          "color": "Black",
          "size": 22
         },
         "text": "<b>Term score decline per Topic</b>",
         "x": 0.5,
         "xanchor": "center",
         "y": 0.9,
         "yanchor": "top"
        },
        "width": 800,
        "xaxis": {
         "dtick": 2,
         "range": [
          0,
          10
         ],
         "tick0": 1,
         "title": {
          "text": "Term Rank"
         }
        },
        "yaxis": {
         "title": {
          "text": "c-TF-IDF score"
         }
        }
       }
      }
     },
     "metadata": {},
     "output_type": "display_data"
    }
   ],
   "source": [
    "topic_model.visualize_term_rank()\n"
   ]
  },
  {
   "cell_type": "code",
   "execution_count": 94,
   "metadata": {},
   "outputs": [
    {
     "data": {
      "text/plain": [
       "[-1, 1, 0]"
      ]
     },
     "execution_count": 94,
     "metadata": {},
     "output_type": "execute_result"
    }
   ],
   "source": [
    "similar_topics, similarity = topic_model.find_topics(\"gpt\", top_n=5); similar_topics"
   ]
  },
  {
   "cell_type": "code",
   "execution_count": null,
   "metadata": {},
   "outputs": [],
   "source": []
  },
  {
   "attachments": {},
   "cell_type": "markdown",
   "metadata": {},
   "source": [
    "# NER using NLTK (DONT RUN) - ran only sample"
   ]
  },
  {
   "cell_type": "code",
   "execution_count": 13,
   "metadata": {},
   "outputs": [],
   "source": [
    "def find_company_nltk(string):\n",
    "    tokens = nltk.word_tokenize(string)    \n",
    "    entities = []\n",
    "    for chunk in nltk.ne_chunk(nltk.pos_tag(tokens), binary = False):\n",
    "        if hasattr(chunk, 'label'):\n",
    "            entity = ' '.join(c[0] for c in chunk)\n",
    "            label = chunk.label()\n",
    "            if label == 'ORGANIZATION':\n",
    "                entities.append(entity)\n",
    "    return(entities)"
   ]
  },
  {
   "cell_type": "code",
   "execution_count": 14,
   "metadata": {},
   "outputs": [],
   "source": [
    "    def find_company_by_sentences_nltk(string):\n",
    "        entities = []\n",
    "        for sent in nltk.sent_tokenize(string):\n",
    "            for chunk in nltk.ne_chunk(nltk.pos_tag(nltk.word_tokenize(sent)), binary = False):\n",
    "                if hasattr(chunk, 'label'):\n",
    "                    entity = ' '.join(c[0] for c in chunk)\n",
    "                    label = chunk.label()\n",
    "                    if label == 'ORGANIZATION':\n",
    "                        entities.append(entity)\n",
    "        return(entities)"
   ]
  },
  {
   "cell_type": "code",
   "execution_count": 15,
   "metadata": {},
   "outputs": [],
   "source": [
    "#takes too long to run on 1000 sample\n",
    "#DONT RUN\n",
    "df_filtered_sample['companies'] = df_filtered_sample['text'].apply(find_company_nltk)\n",
    "df_filtered_sample['companies_sentences'] = df_filtered_sample['text'].apply(find_company_by_sentences_nltk)\n"
   ]
  },
  {
   "cell_type": "code",
   "execution_count": 20,
   "metadata": {},
   "outputs": [
    {
     "data": {
      "text/html": [
       "<div>\n",
       "<style scoped>\n",
       "    .dataframe tbody tr th:only-of-type {\n",
       "        vertical-align: middle;\n",
       "    }\n",
       "\n",
       "    .dataframe tbody tr th {\n",
       "        vertical-align: top;\n",
       "    }\n",
       "\n",
       "    .dataframe thead th {\n",
       "        text-align: right;\n",
       "    }\n",
       "</style>\n",
       "<table border=\"1\" class=\"dataframe\">\n",
       "  <thead>\n",
       "    <tr style=\"text-align: right;\">\n",
       "      <th></th>\n",
       "      <th>url</th>\n",
       "      <th>date</th>\n",
       "      <th>language</th>\n",
       "      <th>title</th>\n",
       "      <th>text</th>\n",
       "      <th>content_clean</th>\n",
       "      <th>clean_title</th>\n",
       "      <th>cleaned_text</th>\n",
       "      <th>sentiment</th>\n",
       "      <th>confidence_score</th>\n",
       "      <th>companies</th>\n",
       "      <th>companies_sentences</th>\n",
       "    </tr>\n",
       "  </thead>\n",
       "  <tbody>\n",
       "    <tr>\n",
       "      <th>96091</th>\n",
       "      <td>http://www.hardware.broadcastnewsroom.com/2020/04/24/aws-announces-general-availability-of-amazon-augmented-artificial-intelligence-a2i/?utm_source=rss&amp;utm_medium=rss&amp;utm_campaign=aws-announces-general-availability-of-amazon-augmented-artificial-intelligence-a2i</td>\n",
       "      <td>2020-04-24</td>\n",
       "      <td>en</td>\n",
       "      <td>AWS Announces General Availability of Amazon Augmented Artificial Intelligence (A2I) | | Broadcast Newsroom</td>\n",
       "      <td>\\n\\nAWS Announces General Availability of Amazon Augmented Artificial Intelligence (A2I) | | Broadcast Newsroom\\n \\n\\nSkip to content\\nBroadcast Newsroom\\n\\nNews &amp; Information for Broadcast Professionals\\n\\nPrimary Menu\\n\\nSearch for:\\n \\nHome2020April24AWS Announces General Availability of Amazon Augmented Artificial Intelligence (A2I) \\n\\n \\n\\n \\n                                 News\\n                             \\n \\nAWS Announces General Availability of Amazon Augmented Artificial Intelligence (A2I)\\n\\n\\nBy\\n\\n                BN Staff            \\n\\n\\n            3 hours ago        \\n\\...</td>\n",
       "      <td>AWS Announces General Availability Amazon Augmented Artificial Intelligence A2I Broadcast Newsroom Skip content Broadcast Newsroom News Information Broadcast Professionals Primary Menu Search Home2020April24AWS Announces General Availability Amazon Augmented Artificial Intelligence A2I News AWS Announces General Availability Amazon Augmented Artificial Intelligence A2I By BN Staff 3 hours ago Amazon A2I makes easier developers build manage workflows validate machine learning predictions human reviewers National Health Service NHS UK T Mobile Deloitte among customers partners using Amazon A...</td>\n",
       "      <td>AWS Announces General Availability Amazon Augmented Artificial Intelligence A2I   Broadcast Newsroom</td>\n",
       "      <td>aws announces general availability amazon augmented artificial intelligence broadcast newsroom skip content broadcast newsroom news information broadcast professionals primary menu search announces general availability amazon augmented artificial intelligence news aws announces general availability amazon augmented artificial intelligence bn staff hours ago amazon makes easier developers build manage workflows validate machine learning predictions human reviewers national health service nhs uk mobile deloitte among customers partners using amazon seattle business wire today amazon web serv...</td>\n",
       "      <td>neutral</td>\n",
       "      <td>0.902667</td>\n",
       "      <td>[AWS, Amazon, Amazon, News, Amazon, BN, National Health Service, NHS, BUSINESS, AWS, NASDAQ, Amazon, Mechanical Turk, Augmented, API, CapeStart Inc., iMerit, Amazon, CloudWatch, Amazon A2I, Ohio, Central, National Health Service, Business Services, NHS, UK National Health Service, NHS, NHS, NHS, UK, Innovation, NHS, AI, America, Part, Deloitte Consulting, ML, Belle Fleur, AWS, IoT, VR, AZs, AWS Regions, AWS, AWS, AWS, Fire, AmazonNews, Continue, Host Nickelodeon, DIT Education Electronics Encoder Feature, Metadata Monitor Music Music Video, NAB News People Post, Host Nickelodeon, AWS Annou...</td>\n",
       "      <td>[AWS, Amazon, Amazon, News, Amazon, BN, National Health Service, NHS, BUSINESS, AWS, NASDAQ, Amazon, A2I, Mechanical Turk, A2I, A2I, Augmented, API, iVision, CapeStart Inc., iMerit, Amazon, CloudWatch, Amazon A2I, Ohio, Central, National, Business Services, NHS, UK National Health Service, NHS, NHS, NHS, UK, Innovation, NHS, Amazon Textract, AI, America, Part, Deloitte Consulting, ML, Belle Fleur, AWS, IoT, VR, AZs, AWS Regions, AWS, AWS, AWS, Fire, AmazonNews, Continue, Host Nickelodeon, DIT Education Electronics Encoder Feature, Metadata Monitor Music Music Video, NAB News People Post, H...</td>\n",
       "    </tr>\n",
       "    <tr>\n",
       "      <th>91201</th>\n",
       "      <td>https://businessday.ng/news/article/nigerians-query-chatgpt-on-how-to-win-tinubu-others/</td>\n",
       "      <td>2023-01-15</td>\n",
       "      <td>en</td>\n",
       "      <td>Nigerians query ChatGPT on 'How to win Tinubu', others - Businessday NG</td>\n",
       "      <td>\\n\\nNigerians query ChatGPT on 'How to win Tinubu', others - Businessday NG\\n\\n\\r\\n    \\n\\n \\n\\n    \\n\\n \\n\\nNews\\nAhmed Bola Tinubu,BDrecent\\nBusinessDay\\n\\nHome\\nBig Story\\nNews\\n\\nWorld\\n\\nAfrica\\n\\n\\nLegal Business\\nSports.\\nEducation\\n\\n\\nNigeriaDecides2023\\nCompanies\\nEconomy\\n\\nAgriculture\\nAviation\\nBanking\\nMaritime\\nReal Estate\\nTransportation\\nResearch post\\n\\n\\nTechnology\\nEnergy\\n\\nRenewables\\nPower\\nOil &amp; Gas\\n\\n\\nInterview\\nCommentary\\n\\nColumnists\\nOpinion\\nEditorial\\n\\n\\nBD Weekender\\nCartoon\\nData Analytics\\n\\nMarket Data\\nGovernance Data\\n\\n\\nApp\\n\\nDownload Andriod App...</td>\n",
       "      <td>Nigerians query ChatGPT How win Tinubu others Businessday NG News Ahmed Bola Tinubu BDrecent BusinessDay Home Big Story News World Africa Legal Business Sports Education NigeriaDecides2023 Companies Economy Agriculture Aviation Banking Maritime Real Estate Transportation Research post Technology Energy Renewables Power Oil Gas Interview Commentary Columnists Opinion Editorial BD Weekender Cartoon Data Analytics Market Data Governance Data App Download Andriod App Download IOS Conferences Login My Account Subscribe Logout Sunday January 15 2023 Businessday Ng Home Big Story News World Afric...</td>\n",
       "      <td>Nigerians query ChatGPT How win Tinubu others  Businessday NG</td>\n",
       "      <td>nigerians query chatgpt win tinubu others businessday ng news ahmed bola tinubu bdrecent businessday home big story news world africa legal business sports education companies economy agriculture aviation banking maritime real estate transportation research post technology energy renewables power oil gas interview commentary columnists opinion editorial bd weekender cartoon data analytics market data governance data app download andriod app download ios conferences login account subscribe logout sunday january businessday ng home big story news world africa legal business sports education ...</td>\n",
       "      <td>neutral</td>\n",
       "      <td>0.995505</td>\n",
       "      <td>[ChatGPT, BDrecent, ChatGPT, All, Congress Bola Ahmed Tinubu, AnD Ventures, CEO, Paga Communications, APC, ChatGPT, Intelligence Unit, ChatGPT, ChatGPT, ChatGPT, AI, ChatGPT, Central Bank, ChatGPT, OpenAI, AI, ChatGPT, News Nigeria, News, INEC, CBN, N103bn, WhatsApp Us, Conditions, INEC, All Rights Reserved, Digital Team Home]</td>\n",
       "      <td>[ChatGPT, BDrecent, NigeriaDecides2023, ChatGPT, All, Congress Bola Ahmed Tinubu, AnD Ventures, CEO, Paga Communications, APC, ChatGPT, Intelligence Unit, ChatGPT, ChatGPT, ChatGPT, AI, ChatGPT, Central Bank, OpenAI, AI, ChatGPT, News Nigeria, News, INEC, CBN, N103bn, WhatsApp Us, Conditions, INEC, Digital Team Home, NigeriaDecides2023]</td>\n",
       "    </tr>\n",
       "    <tr>\n",
       "      <th>154436</th>\n",
       "      <td>https://www.wbtv.com/prnewswire/2022/05/17/credo-ai-closes-128-million-series-funding-round-led-by-sands-capital/</td>\n",
       "      <td>2022-05-17</td>\n",
       "      <td>en</td>\n",
       "      <td>Credo AI Closes $12.8 Million Series A Funding Round Led by Sands Capital</td>\n",
       "      <td>Credo AI Closes $12.8 Million Series A Funding Round Led by Sands Capital\\n\\nSkip to contentNC DHHS FluMarketplaceMeet the WBTV News Team!Watch LiveNewsletterLatest VideoNewsWeatherCalendarWBTV InvestigatesOn Your Side TonightQC LifeSticker ShockSearchWBTV NewsAbout WBTVMeet the WBTV News Team!Send us your photos!TrafficWatch LiveWeb Extra LinksNews AppsTriviaContestsNewsCelebrating Eric ThomasCabarrus CountyCatawba Co.Cleveland CountyGaston CountyHigh CountryIredell CountyMecklenburg Co.Rowan CountySouth CarolinaUnion CountyCrimeEducationSubmit your first-day photos!KNOW BEFORE YOU GOMaki...</td>\n",
       "      <td>Credo AI Closes 12 8 Million Series A Funding Round Led Sands Capital Skip contentNC DHHS FluMarketplaceMeet WBTV News Team Watch LiveNewsletterLatest VideoNewsWeatherCalendarWBTV InvestigatesOn Your Side TonightQC LifeSticker ShockSearchWBTV NewsAbout WBTVMeet WBTV News Team Send us photos TrafficWatch LiveWeb Extra LinksNews AppsTriviaContestsNewsCelebrating Eric ThomasCabarrus CountyCatawba Co Cleveland CountyGaston CountyHigh CountryIredell CountyMecklenburg Co Rowan CountySouth CarolinaUnion CountyCrimeEducationSubmit first day photos KNOW BEFORE YOU GOMaking GradeCollect ConnectCoron...</td>\n",
       "      <td>Credo AI Closes 128 Million Series A Funding Round Led Sands Capital</td>\n",
       "      <td>credo ai closes million series funding round led sands capital skip contentnc dhhs flumarketplacemeet wbtv news team watch livenewsletterlatest videonewsweathercalendarwbtv investigateson side tonightqc lifesticker shocksearchwbtv newsabout wbtvmeet wbtv news team send us photos trafficwatch liveweb extra linksnews appstriviacontestsnewscelebrating eric thomascabarrus countycatawba co cleveland countygaston countyhigh countryiredell countymecklenburg co rowan countysouth carolinaunion countycrimeeducationsubmit first day photos know gomaking gradecollect connectcoronavirus planshigh school...</td>\n",
       "      <td>neutral</td>\n",
       "      <td>0.891432</td>\n",
       "      <td>[contentNC, DHHS, WBTV News Team, InvestigatesOn, WBTV News Team, TrafficWatch, ThomasCabarrus, CountryIredell, GradeCollect, ConnectCoronavirus, GrillTasty Beverages, DessertsGood News, DebtNC, TVOn, NewsCarolina, Helpers, HeroesKomen Race For The, CureConsumerAutism, FamilyMolly, KidsSportsCarolina, MLSHigh, NightPowerNationInvestigate, BureauCircle, LifestyleLatest, NewscastsPress, agoThe, globallyMastercard, Northrop, Responsible, FRANCISCO, RAI, AI Fund, PRNewswire, IDC, AI, Responsible, Responsible, Responsible, AI, MLOps, AI, Responsible, Responsible, EVP, Responsible, National Arti...</td>\n",
       "      <td>[contentNC, DHHS, WBTV News Team, InvestigatesOn, WBTV News Team, TrafficWatch, ThomasCabarrus, CountryIredell, GradeCollect, ConnectCoronavirus, GrillTasty Beverages, DessertsGood News, DebtNC, TVOn, NewsCarolina, Helpers, HeroesKomen Race For The, CureConsumerAutism, FamilyMolly, KidsSportsCarolina, MLSHigh, NightPowerNationInvestigate, BureauCircle, LifestyleLatest, NewscastsPress, agoThe, globallyMastercard, Northrop, Responsible, FRANCISCO, RAI, AI Fund, PRNewswire, IDC, AI, Responsible, Responsible, Responsible, AI, MLOps, AI, Responsible, Responsible, EVP, Responsible, National Arti...</td>\n",
       "    </tr>\n",
       "    <tr>\n",
       "      <th>69217</th>\n",
       "      <td>https://www.techradar.com/uk/news/samsungs-new-washers-and-dryers-use-ai-to-clean-your-clothes-more-efficiently</td>\n",
       "      <td>2021-01-11</td>\n",
       "      <td>en</td>\n",
       "      <td>Samsung's new washers and dryers use AI to clean your clothes more efficiently | TechRadar</td>\n",
       "      <td>\\nSamsung's new washers and dryers use AI to clean your clothes more efficiently | TechRadar\\nSkip to main content\\nTechRadar The source for Tech Buying Advice\\nSearch\\n\\nSubscribe\\nRSS\\nPlease deactivate your ad blocker in order to see our subscription offer\\n \\nNews\\n\\nReviews\\n\\nPhones\\n\\nTVs\\n\\nLaptops\\n\\nCameras\\n\\nDeals\\nMore \\n\\n\\nWearables\\n\\n\\nTablets\\n\\n\\nComputing\\n\\n\\nAudiovisual\\n\\n\\nGaming\\n\\n\\nSmart Home\\n\\n\\nAppliances\\n\\n\\nCar Tech\\n\\n\\nComponents\\n\\n\\nDownloads\\n\\n\\nBroadband deals\\n\\n\\nVPN\\n\\n\\nWeb hosting\\n\\n\\nNews\\n\\n\\nVideo\\n\\n\\nMagazine\\n\\n\\nBlack Friday\\n\\nPro\\n\\n\\n...</td>\n",
       "      <td>Samsung new washers dryers use AI clean clothes efficiently TechRadar Skip main content TechRadar The source Tech Buying Advice Search Subscribe RSS Please deactivate ad blocker order see subscription offer News Reviews Phones TVs Laptops Cameras Deals More Wearables Tablets Computing Audiovisual Gaming Smart Home Appliances Car Tech Components Downloads Broadband deals VPN Web hosting News Video Magazine Black Friday Pro CES Innovation Week Trending Samsung S21 Buy PS5 iPhone 12 CES 2021 Apple Watch 6 VPN OnePlus 9 TechRadar supported audience When purchase links site may earn affiliate c...</td>\n",
       "      <td>Samsungs new washers dryers use AI clean clothes efficiently  TechRadar</td>\n",
       "      <td>samsung new washers dryers use ai clean clothes efficiently techradar skip main content techradar source tech buying advice search subscribe rss please deactivate ad blocker order see subscription offer news reviews phones tvs laptops cameras deals wearables tablets computing audiovisual gaming smart home appliances car tech components downloads broadband deals vpn web hosting news video magazine black friday pro ces innovation week trending samsung buy iphone ces apple watch vpn oneplus techradar supported audience purchase links site may earn affiliate commission learn home news smart ho...</td>\n",
       "      <td>neutral</td>\n",
       "      <td>0.889912</td>\n",
       "      <td>[News Reviews Phones, VPN, News Video Magazine Black, VPN, TechRadar, CES, Samsung, Samsung, Things, IoT, TVs, CES, IoT, TVs, TechRadar, TechRadar, PRODUCT Laptop, PS5, PS5, Intel Rocket, Samsung Galaxy S21, iPhone, TechRadar, House, Ambury]</td>\n",
       "      <td>[News Reviews Phones, VPN, News Video Magazine Black, VPN, TechRadar, CES, Samsung, Samsung, Things, IoT, TVs, CES, IoT, TVs, TechRadar, TechRadar, PRODUCT Laptop, PS5, PS5, Intel Rocket, Samsung Galaxy S21, iPhone, TechRadar, House, Ambury]</td>\n",
       "    </tr>\n",
       "    <tr>\n",
       "      <th>196372</th>\n",
       "      <td>https://www.mccourier.com/artificial-intelligence-ai-in-cyber-security-market-is-anticipated-to-gain-moderate-cagr-by-2027/</td>\n",
       "      <td>2021-06-15</td>\n",
       "      <td>en</td>\n",
       "      <td>Artificial Intelligence (AI) in Cyber Security Market is Anticipated to Gain Moderate CAGR by 2027 – The Courier</td>\n",
       "      <td>\\n\\nArtificial Intelligence (AI) in Cyber Security Market is Anticipated to Gain Moderate CAGR by 2027 – The Courier\\n\\r\\n\\t\\t\\t\\t\\t\\tTuesday, June 15 2021\\t\\t\\t\\t\\t\\n\\nBreaking News\\nAsphalt Lubricating Oil and Grease Market is Predicted to See Lucrative Gains Over 2021-2027\\n\\n\\nAutomatic Dicing Saw (6 Inch-12 Inch) Market Share by Manufacturer (isco, TSK, Tokyo Seimitsu, ADT (Advanced Dicing Technologies), Loadpoint) – COVID-19 Impact and Global Analysis By Type (Fully Automatic, Semi-Automatic), Application (IC, Separation Device, LED Package) to 2028\\n\\n\\nArtificial Intelligence (AI) ...</td>\n",
       "      <td>Artificial Intelligence AI Cyber Security Market Anticipated Gain Moderate CAGR 2027 The Courier Tuesday June 15 2021 Breaking News Asphalt Lubricating Oil Grease Market Predicted See Lucrative Gains Over 2021 2027 Automatic Dicing Saw 6 Inch 12 Inch Market Share Manufacturer isco TSK Tokyo Seimitsu ADT Advanced Dicing Technologies Loadpoint COVID 19 Impact Global Analysis By Type Fully Automatic Semi Automatic Application IC Separation Device LED Package 2028 Artificial Intelligence AI Cyber Security Market Anticipated Gain Moderate CAGR 2027 Mobile Air Purifier Market Size Share 2020 Glo...</td>\n",
       "      <td>Artificial Intelligence AI Cyber Security Market Anticipated Gain Moderate CAGR 2027 – The Courier</td>\n",
       "      <td>artificial intelligence ai cyber security market anticipated gain moderate cagr courier tuesday june breaking news asphalt lubricating oil grease market predicted see lucrative gains automatic dicing saw inch inch market share manufacturer isco tsk tokyo seimitsu adt advanced dicing technologies loadpoint covid impact global analysis type fully automatic semi automatic application ic separation device led package artificial intelligence ai cyber security market anticipated gain moderate cagr mobile air purifier market size share global industry trends growth segmentation future demands lat...</td>\n",
       "      <td>positive</td>\n",
       "      <td>0.994445</td>\n",
       "      <td>[Moderate, Courier, Automatic, TSK, ADT, Advanced Dicing Technologies, IC, Separation Device, LED Package, Moderate, Regional Forecast, Latest Innovations, BioWorld, Corning Lithium, Arborist Software Market, Steady Pace, Forecast, Microscope Market, HTKGP Global Hydrogen Fuel Cells, SWOT Analysis, Players, Courier Search, Business Technology, Moderate, Artificial Intelligence, Moderate, Artificial Intelligence, BAE Systems, IBM Corporation Palo Alto Networks, Telecom Aerospace, Defense, Worldwide Artificial Intelligence, Content1, Political, Social, Artificial Intelligence, Competitive La...</td>\n",
       "      <td>[Moderate, Courier, Automatic, TSK, ADT, Advanced Dicing Technologies, IC, Separation Device, LED Package, Moderate, Regional Forecast, Latest Innovations, BioWorld, Corning Lithium, Arborist Software Market, Steady Pace, Forecast, Microscope Market, HTKGP Global Hydrogen Fuel Cells, SWOT Analysis, Players, Courier Search, Business Technology, Moderate, Artificial Intelligence, Moderate, Artificial Intelligence, BAE Systems, IBM Corporation Palo Alto Networks, Telecom Aerospace, Defense, Worldwide Artificial Intelligence, Content1, Political, Social, Artificial Intelligence, Competitive La...</td>\n",
       "    </tr>\n",
       "  </tbody>\n",
       "</table>\n",
       "</div>"
      ],
      "text/plain": [
       "                                                                                                                                                                                                                                                                           url   \n",
       "96091   http://www.hardware.broadcastnewsroom.com/2020/04/24/aws-announces-general-availability-of-amazon-augmented-artificial-intelligence-a2i/?utm_source=rss&utm_medium=rss&utm_campaign=aws-announces-general-availability-of-amazon-augmented-artificial-intelligence-a2i  \\\n",
       "91201                                                                                                                                                                                 https://businessday.ng/news/article/nigerians-query-chatgpt-on-how-to-win-tinubu-others/   \n",
       "154436                                                                                                                                                       https://www.wbtv.com/prnewswire/2022/05/17/credo-ai-closes-128-million-series-funding-round-led-by-sands-capital/   \n",
       "69217                                                                                                                                                          https://www.techradar.com/uk/news/samsungs-new-washers-and-dryers-use-ai-to-clean-your-clothes-more-efficiently   \n",
       "196372                                                                                                                                             https://www.mccourier.com/artificial-intelligence-ai-in-cyber-security-market-is-anticipated-to-gain-moderate-cagr-by-2027/   \n",
       "\n",
       "              date language   \n",
       "96091   2020-04-24       en  \\\n",
       "91201   2023-01-15       en   \n",
       "154436  2022-05-17       en   \n",
       "69217   2021-01-11       en   \n",
       "196372  2021-06-15       en   \n",
       "\n",
       "                                                                                                                   title   \n",
       "96091        AWS Announces General Availability of Amazon Augmented Artificial Intelligence (A2I) | | Broadcast Newsroom  \\\n",
       "91201                                            Nigerians query ChatGPT on 'How to win Tinubu', others - Businessday NG   \n",
       "154436                                         Credo AI Closes $12.8 Million Series A Funding Round Led by Sands Capital   \n",
       "69217                         Samsung's new washers and dryers use AI to clean your clothes more efficiently | TechRadar   \n",
       "196372  Artificial Intelligence (AI) in Cyber Security Market is Anticipated to Gain Moderate CAGR by 2027 – The Courier   \n",
       "\n",
       "                                                                                                                                                                                                                                                                                                                                                                                                                                                                                                                                                                                                                           text   \n",
       "96091   \\n\\nAWS Announces General Availability of Amazon Augmented Artificial Intelligence (A2I) | | Broadcast Newsroom\\n \\n\\nSkip to content\\nBroadcast Newsroom\\n\\nNews & Information for Broadcast Professionals\\n\\nPrimary Menu\\n\\nSearch for:\\n \\nHome2020April24AWS Announces General Availability of Amazon Augmented Artificial Intelligence (A2I) \\n\\n \\n\\n \\n                                 News\\n                             \\n \\nAWS Announces General Availability of Amazon Augmented Artificial Intelligence (A2I)\\n\\n\\nBy\\n\\n                BN Staff            \\n\\n\\n            3 hours ago        \\n\\...  \\\n",
       "91201    \\n\\nNigerians query ChatGPT on 'How to win Tinubu', others - Businessday NG\\n\\n\\r\\n    \\n\\n \\n\\n    \\n\\n \\n\\nNews\\nAhmed Bola Tinubu,BDrecent\\nBusinessDay\\n\\nHome\\nBig Story\\nNews\\n\\nWorld\\n\\nAfrica\\n\\n\\nLegal Business\\nSports.\\nEducation\\n\\n\\nNigeriaDecides2023\\nCompanies\\nEconomy\\n\\nAgriculture\\nAviation\\nBanking\\nMaritime\\nReal Estate\\nTransportation\\nResearch post\\n\\n\\nTechnology\\nEnergy\\n\\nRenewables\\nPower\\nOil & Gas\\n\\n\\nInterview\\nCommentary\\n\\nColumnists\\nOpinion\\nEditorial\\n\\n\\nBD Weekender\\nCartoon\\nData Analytics\\n\\nMarket Data\\nGovernance Data\\n\\n\\nApp\\n\\nDownload Andriod App...   \n",
       "154436  Credo AI Closes $12.8 Million Series A Funding Round Led by Sands Capital\\n\\nSkip to contentNC DHHS FluMarketplaceMeet the WBTV News Team!Watch LiveNewsletterLatest VideoNewsWeatherCalendarWBTV InvestigatesOn Your Side TonightQC LifeSticker ShockSearchWBTV NewsAbout WBTVMeet the WBTV News Team!Send us your photos!TrafficWatch LiveWeb Extra LinksNews AppsTriviaContestsNewsCelebrating Eric ThomasCabarrus CountyCatawba Co.Cleveland CountyGaston CountyHigh CountryIredell CountyMecklenburg Co.Rowan CountySouth CarolinaUnion CountyCrimeEducationSubmit your first-day photos!KNOW BEFORE YOU GOMaki...   \n",
       "69217   \\nSamsung's new washers and dryers use AI to clean your clothes more efficiently | TechRadar\\nSkip to main content\\nTechRadar The source for Tech Buying Advice\\nSearch\\n\\nSubscribe\\nRSS\\nPlease deactivate your ad blocker in order to see our subscription offer\\n \\nNews\\n\\nReviews\\n\\nPhones\\n\\nTVs\\n\\nLaptops\\n\\nCameras\\n\\nDeals\\nMore \\n\\n\\nWearables\\n\\n\\nTablets\\n\\n\\nComputing\\n\\n\\nAudiovisual\\n\\n\\nGaming\\n\\n\\nSmart Home\\n\\n\\nAppliances\\n\\n\\nCar Tech\\n\\n\\nComponents\\n\\n\\nDownloads\\n\\n\\nBroadband deals\\n\\n\\nVPN\\n\\n\\nWeb hosting\\n\\n\\nNews\\n\\n\\nVideo\\n\\n\\nMagazine\\n\\n\\nBlack Friday\\n\\nPro\\n\\n\\n...   \n",
       "196372  \\n\\nArtificial Intelligence (AI) in Cyber Security Market is Anticipated to Gain Moderate CAGR by 2027 – The Courier\\n\\r\\n\\t\\t\\t\\t\\t\\tTuesday, June 15 2021\\t\\t\\t\\t\\t\\n\\nBreaking News\\nAsphalt Lubricating Oil and Grease Market is Predicted to See Lucrative Gains Over 2021-2027\\n\\n\\nAutomatic Dicing Saw (6 Inch-12 Inch) Market Share by Manufacturer (isco, TSK, Tokyo Seimitsu, ADT (Advanced Dicing Technologies), Loadpoint) – COVID-19 Impact and Global Analysis By Type (Fully Automatic, Semi-Automatic), Application (IC, Separation Device, LED Package) to 2028\\n\\n\\nArtificial Intelligence (AI) ...   \n",
       "\n",
       "                                                                                                                                                                                                                                                                                                                                                                                                                                                                                                                                                                                                                  content_clean   \n",
       "96091   AWS Announces General Availability Amazon Augmented Artificial Intelligence A2I Broadcast Newsroom Skip content Broadcast Newsroom News Information Broadcast Professionals Primary Menu Search Home2020April24AWS Announces General Availability Amazon Augmented Artificial Intelligence A2I News AWS Announces General Availability Amazon Augmented Artificial Intelligence A2I By BN Staff 3 hours ago Amazon A2I makes easier developers build manage workflows validate machine learning predictions human reviewers National Health Service NHS UK T Mobile Deloitte among customers partners using Amazon A...  \\\n",
       "91201   Nigerians query ChatGPT How win Tinubu others Businessday NG News Ahmed Bola Tinubu BDrecent BusinessDay Home Big Story News World Africa Legal Business Sports Education NigeriaDecides2023 Companies Economy Agriculture Aviation Banking Maritime Real Estate Transportation Research post Technology Energy Renewables Power Oil Gas Interview Commentary Columnists Opinion Editorial BD Weekender Cartoon Data Analytics Market Data Governance Data App Download Andriod App Download IOS Conferences Login My Account Subscribe Logout Sunday January 15 2023 Businessday Ng Home Big Story News World Afric...   \n",
       "154436  Credo AI Closes 12 8 Million Series A Funding Round Led Sands Capital Skip contentNC DHHS FluMarketplaceMeet WBTV News Team Watch LiveNewsletterLatest VideoNewsWeatherCalendarWBTV InvestigatesOn Your Side TonightQC LifeSticker ShockSearchWBTV NewsAbout WBTVMeet WBTV News Team Send us photos TrafficWatch LiveWeb Extra LinksNews AppsTriviaContestsNewsCelebrating Eric ThomasCabarrus CountyCatawba Co Cleveland CountyGaston CountyHigh CountryIredell CountyMecklenburg Co Rowan CountySouth CarolinaUnion CountyCrimeEducationSubmit first day photos KNOW BEFORE YOU GOMaking GradeCollect ConnectCoron...   \n",
       "69217   Samsung new washers dryers use AI clean clothes efficiently TechRadar Skip main content TechRadar The source Tech Buying Advice Search Subscribe RSS Please deactivate ad blocker order see subscription offer News Reviews Phones TVs Laptops Cameras Deals More Wearables Tablets Computing Audiovisual Gaming Smart Home Appliances Car Tech Components Downloads Broadband deals VPN Web hosting News Video Magazine Black Friday Pro CES Innovation Week Trending Samsung S21 Buy PS5 iPhone 12 CES 2021 Apple Watch 6 VPN OnePlus 9 TechRadar supported audience When purchase links site may earn affiliate c...   \n",
       "196372  Artificial Intelligence AI Cyber Security Market Anticipated Gain Moderate CAGR 2027 The Courier Tuesday June 15 2021 Breaking News Asphalt Lubricating Oil Grease Market Predicted See Lucrative Gains Over 2021 2027 Automatic Dicing Saw 6 Inch 12 Inch Market Share Manufacturer isco TSK Tokyo Seimitsu ADT Advanced Dicing Technologies Loadpoint COVID 19 Impact Global Analysis By Type Fully Automatic Semi Automatic Application IC Separation Device LED Package 2028 Artificial Intelligence AI Cyber Security Market Anticipated Gain Moderate CAGR 2027 Mobile Air Purifier Market Size Share 2020 Glo...   \n",
       "\n",
       "                                                                                                 clean_title   \n",
       "96091   AWS Announces General Availability Amazon Augmented Artificial Intelligence A2I   Broadcast Newsroom  \\\n",
       "91201                                          Nigerians query ChatGPT How win Tinubu others  Businessday NG   \n",
       "154436                                  Credo AI Closes 128 Million Series A Funding Round Led Sands Capital   \n",
       "69217                                Samsungs new washers dryers use AI clean clothes efficiently  TechRadar   \n",
       "196372    Artificial Intelligence AI Cyber Security Market Anticipated Gain Moderate CAGR 2027 – The Courier   \n",
       "\n",
       "                                                                                                                                                                                                                                                                                                                                                                                                                                                                                                                                                                                                                   cleaned_text   \n",
       "96091   aws announces general availability amazon augmented artificial intelligence broadcast newsroom skip content broadcast newsroom news information broadcast professionals primary menu search announces general availability amazon augmented artificial intelligence news aws announces general availability amazon augmented artificial intelligence bn staff hours ago amazon makes easier developers build manage workflows validate machine learning predictions human reviewers national health service nhs uk mobile deloitte among customers partners using amazon seattle business wire today amazon web serv...  \\\n",
       "91201   nigerians query chatgpt win tinubu others businessday ng news ahmed bola tinubu bdrecent businessday home big story news world africa legal business sports education companies economy agriculture aviation banking maritime real estate transportation research post technology energy renewables power oil gas interview commentary columnists opinion editorial bd weekender cartoon data analytics market data governance data app download andriod app download ios conferences login account subscribe logout sunday january businessday ng home big story news world africa legal business sports education ...   \n",
       "154436  credo ai closes million series funding round led sands capital skip contentnc dhhs flumarketplacemeet wbtv news team watch livenewsletterlatest videonewsweathercalendarwbtv investigateson side tonightqc lifesticker shocksearchwbtv newsabout wbtvmeet wbtv news team send us photos trafficwatch liveweb extra linksnews appstriviacontestsnewscelebrating eric thomascabarrus countycatawba co cleveland countygaston countyhigh countryiredell countymecklenburg co rowan countysouth carolinaunion countycrimeeducationsubmit first day photos know gomaking gradecollect connectcoronavirus planshigh school...   \n",
       "69217   samsung new washers dryers use ai clean clothes efficiently techradar skip main content techradar source tech buying advice search subscribe rss please deactivate ad blocker order see subscription offer news reviews phones tvs laptops cameras deals wearables tablets computing audiovisual gaming smart home appliances car tech components downloads broadband deals vpn web hosting news video magazine black friday pro ces innovation week trending samsung buy iphone ces apple watch vpn oneplus techradar supported audience purchase links site may earn affiliate commission learn home news smart ho...   \n",
       "196372  artificial intelligence ai cyber security market anticipated gain moderate cagr courier tuesday june breaking news asphalt lubricating oil grease market predicted see lucrative gains automatic dicing saw inch inch market share manufacturer isco tsk tokyo seimitsu adt advanced dicing technologies loadpoint covid impact global analysis type fully automatic semi automatic application ic separation device led package artificial intelligence ai cyber security market anticipated gain moderate cagr mobile air purifier market size share global industry trends growth segmentation future demands lat...   \n",
       "\n",
       "       sentiment  confidence_score   \n",
       "96091    neutral          0.902667  \\\n",
       "91201    neutral          0.995505   \n",
       "154436   neutral          0.891432   \n",
       "69217    neutral          0.889912   \n",
       "196372  positive          0.994445   \n",
       "\n",
       "                                                                                                                                                                                                                                                                                                                                                                                                                                                                                                                                                                                                                      companies   \n",
       "96091   [AWS, Amazon, Amazon, News, Amazon, BN, National Health Service, NHS, BUSINESS, AWS, NASDAQ, Amazon, Mechanical Turk, Augmented, API, CapeStart Inc., iMerit, Amazon, CloudWatch, Amazon A2I, Ohio, Central, National Health Service, Business Services, NHS, UK National Health Service, NHS, NHS, NHS, UK, Innovation, NHS, AI, America, Part, Deloitte Consulting, ML, Belle Fleur, AWS, IoT, VR, AZs, AWS Regions, AWS, AWS, AWS, Fire, AmazonNews, Continue, Host Nickelodeon, DIT Education Electronics Encoder Feature, Metadata Monitor Music Music Video, NAB News People Post, Host Nickelodeon, AWS Annou...  \\\n",
       "91201                                                                                                                                                                                                                                                                                  [ChatGPT, BDrecent, ChatGPT, All, Congress Bola Ahmed Tinubu, AnD Ventures, CEO, Paga Communications, APC, ChatGPT, Intelligence Unit, ChatGPT, ChatGPT, ChatGPT, AI, ChatGPT, Central Bank, ChatGPT, OpenAI, AI, ChatGPT, News Nigeria, News, INEC, CBN, N103bn, WhatsApp Us, Conditions, INEC, All Rights Reserved, Digital Team Home]   \n",
       "154436  [contentNC, DHHS, WBTV News Team, InvestigatesOn, WBTV News Team, TrafficWatch, ThomasCabarrus, CountryIredell, GradeCollect, ConnectCoronavirus, GrillTasty Beverages, DessertsGood News, DebtNC, TVOn, NewsCarolina, Helpers, HeroesKomen Race For The, CureConsumerAutism, FamilyMolly, KidsSportsCarolina, MLSHigh, NightPowerNationInvestigate, BureauCircle, LifestyleLatest, NewscastsPress, agoThe, globallyMastercard, Northrop, Responsible, FRANCISCO, RAI, AI Fund, PRNewswire, IDC, AI, Responsible, Responsible, Responsible, AI, MLOps, AI, Responsible, Responsible, EVP, Responsible, National Arti...   \n",
       "69217                                                                                                                                                                                                                                                                                                                                                                         [News Reviews Phones, VPN, News Video Magazine Black, VPN, TechRadar, CES, Samsung, Samsung, Things, IoT, TVs, CES, IoT, TVs, TechRadar, TechRadar, PRODUCT Laptop, PS5, PS5, Intel Rocket, Samsung Galaxy S21, iPhone, TechRadar, House, Ambury]   \n",
       "196372  [Moderate, Courier, Automatic, TSK, ADT, Advanced Dicing Technologies, IC, Separation Device, LED Package, Moderate, Regional Forecast, Latest Innovations, BioWorld, Corning Lithium, Arborist Software Market, Steady Pace, Forecast, Microscope Market, HTKGP Global Hydrogen Fuel Cells, SWOT Analysis, Players, Courier Search, Business Technology, Moderate, Artificial Intelligence, Moderate, Artificial Intelligence, BAE Systems, IBM Corporation Palo Alto Networks, Telecom Aerospace, Defense, Worldwide Artificial Intelligence, Content1, Political, Social, Artificial Intelligence, Competitive La...   \n",
       "\n",
       "                                                                                                                                                                                                                                                                                                                                                                                                                                                                                                                                                                                                            companies_sentences  \n",
       "96091   [AWS, Amazon, Amazon, News, Amazon, BN, National Health Service, NHS, BUSINESS, AWS, NASDAQ, Amazon, A2I, Mechanical Turk, A2I, A2I, Augmented, API, iVision, CapeStart Inc., iMerit, Amazon, CloudWatch, Amazon A2I, Ohio, Central, National, Business Services, NHS, UK National Health Service, NHS, NHS, NHS, UK, Innovation, NHS, Amazon Textract, AI, America, Part, Deloitte Consulting, ML, Belle Fleur, AWS, IoT, VR, AZs, AWS Regions, AWS, AWS, AWS, Fire, AmazonNews, Continue, Host Nickelodeon, DIT Education Electronics Encoder Feature, Metadata Monitor Music Music Video, NAB News People Post, H...  \n",
       "91201                                                                                                                                                                                                                                                                        [ChatGPT, BDrecent, NigeriaDecides2023, ChatGPT, All, Congress Bola Ahmed Tinubu, AnD Ventures, CEO, Paga Communications, APC, ChatGPT, Intelligence Unit, ChatGPT, ChatGPT, ChatGPT, AI, ChatGPT, Central Bank, OpenAI, AI, ChatGPT, News Nigeria, News, INEC, CBN, N103bn, WhatsApp Us, Conditions, INEC, Digital Team Home, NigeriaDecides2023]  \n",
       "154436  [contentNC, DHHS, WBTV News Team, InvestigatesOn, WBTV News Team, TrafficWatch, ThomasCabarrus, CountryIredell, GradeCollect, ConnectCoronavirus, GrillTasty Beverages, DessertsGood News, DebtNC, TVOn, NewsCarolina, Helpers, HeroesKomen Race For The, CureConsumerAutism, FamilyMolly, KidsSportsCarolina, MLSHigh, NightPowerNationInvestigate, BureauCircle, LifestyleLatest, NewscastsPress, agoThe, globallyMastercard, Northrop, Responsible, FRANCISCO, RAI, AI Fund, PRNewswire, IDC, AI, Responsible, Responsible, Responsible, AI, MLOps, AI, Responsible, Responsible, EVP, Responsible, National Arti...  \n",
       "69217                                                                                                                                                                                                                                                                                                                                                                         [News Reviews Phones, VPN, News Video Magazine Black, VPN, TechRadar, CES, Samsung, Samsung, Things, IoT, TVs, CES, IoT, TVs, TechRadar, TechRadar, PRODUCT Laptop, PS5, PS5, Intel Rocket, Samsung Galaxy S21, iPhone, TechRadar, House, Ambury]  \n",
       "196372  [Moderate, Courier, Automatic, TSK, ADT, Advanced Dicing Technologies, IC, Separation Device, LED Package, Moderate, Regional Forecast, Latest Innovations, BioWorld, Corning Lithium, Arborist Software Market, Steady Pace, Forecast, Microscope Market, HTKGP Global Hydrogen Fuel Cells, SWOT Analysis, Players, Courier Search, Business Technology, Moderate, Artificial Intelligence, Moderate, Artificial Intelligence, BAE Systems, IBM Corporation Palo Alto Networks, Telecom Aerospace, Defense, Worldwide Artificial Intelligence, Content1, Political, Social, Artificial Intelligence, Competitive La...  "
      ]
     },
     "execution_count": 20,
     "metadata": {},
     "output_type": "execute_result"
    }
   ],
   "source": [
    "df_filtered_sample.head()"
   ]
  },
  {
   "cell_type": "code",
   "execution_count": 19,
   "metadata": {},
   "outputs": [
    {
     "data": {
      "text/html": [
       "<div>\n",
       "<style scoped>\n",
       "    .dataframe tbody tr th:only-of-type {\n",
       "        vertical-align: middle;\n",
       "    }\n",
       "\n",
       "    .dataframe tbody tr th {\n",
       "        vertical-align: top;\n",
       "    }\n",
       "\n",
       "    .dataframe thead th {\n",
       "        text-align: right;\n",
       "    }\n",
       "</style>\n",
       "<table border=\"1\" class=\"dataframe\">\n",
       "  <thead>\n",
       "    <tr style=\"text-align: right;\">\n",
       "      <th></th>\n",
       "      <th>companies</th>\n",
       "      <th>companies_sentences</th>\n",
       "    </tr>\n",
       "  </thead>\n",
       "  <tbody>\n",
       "    <tr>\n",
       "      <th>96091</th>\n",
       "      <td>[AWS, Amazon, Amazon, News, Amazon, BN, National Health Service, NHS, BUSINESS, AWS, NASDAQ, Amazon, Mechanical Turk, Augmented, API, CapeStart Inc., iMerit, Amazon, CloudWatch, Amazon A2I, Ohio, Central, National Health Service, Business Services, NHS, UK National Health Service, NHS, NHS, NHS, UK, Innovation, NHS, AI, America, Part, Deloitte Consulting, ML, Belle Fleur, AWS, IoT, VR, AZs, AWS Regions, AWS, AWS, AWS, Fire, AmazonNews, Continue, Host Nickelodeon, DIT Education Electronics Encoder Feature, Metadata Monitor Music Music Video, NAB News People Post, Host Nickelodeon, AWS Annou...</td>\n",
       "      <td>[AWS, Amazon, Amazon, News, Amazon, BN, National Health Service, NHS, BUSINESS, AWS, NASDAQ, Amazon, A2I, Mechanical Turk, A2I, A2I, Augmented, API, iVision, CapeStart Inc., iMerit, Amazon, CloudWatch, Amazon A2I, Ohio, Central, National, Business Services, NHS, UK National Health Service, NHS, NHS, NHS, UK, Innovation, NHS, Amazon Textract, AI, America, Part, Deloitte Consulting, ML, Belle Fleur, AWS, IoT, VR, AZs, AWS Regions, AWS, AWS, AWS, Fire, AmazonNews, Continue, Host Nickelodeon, DIT Education Electronics Encoder Feature, Metadata Monitor Music Music Video, NAB News People Post, H...</td>\n",
       "    </tr>\n",
       "    <tr>\n",
       "      <th>91201</th>\n",
       "      <td>[ChatGPT, BDrecent, ChatGPT, All, Congress Bola Ahmed Tinubu, AnD Ventures, CEO, Paga Communications, APC, ChatGPT, Intelligence Unit, ChatGPT, ChatGPT, ChatGPT, AI, ChatGPT, Central Bank, ChatGPT, OpenAI, AI, ChatGPT, News Nigeria, News, INEC, CBN, N103bn, WhatsApp Us, Conditions, INEC, All Rights Reserved, Digital Team Home]</td>\n",
       "      <td>[ChatGPT, BDrecent, NigeriaDecides2023, ChatGPT, All, Congress Bola Ahmed Tinubu, AnD Ventures, CEO, Paga Communications, APC, ChatGPT, Intelligence Unit, ChatGPT, ChatGPT, ChatGPT, AI, ChatGPT, Central Bank, OpenAI, AI, ChatGPT, News Nigeria, News, INEC, CBN, N103bn, WhatsApp Us, Conditions, INEC, Digital Team Home, NigeriaDecides2023]</td>\n",
       "    </tr>\n",
       "    <tr>\n",
       "      <th>154436</th>\n",
       "      <td>[contentNC, DHHS, WBTV News Team, InvestigatesOn, WBTV News Team, TrafficWatch, ThomasCabarrus, CountryIredell, GradeCollect, ConnectCoronavirus, GrillTasty Beverages, DessertsGood News, DebtNC, TVOn, NewsCarolina, Helpers, HeroesKomen Race For The, CureConsumerAutism, FamilyMolly, KidsSportsCarolina, MLSHigh, NightPowerNationInvestigate, BureauCircle, LifestyleLatest, NewscastsPress, agoThe, globallyMastercard, Northrop, Responsible, FRANCISCO, RAI, AI Fund, PRNewswire, IDC, AI, Responsible, Responsible, Responsible, AI, MLOps, AI, Responsible, Responsible, EVP, Responsible, National Arti...</td>\n",
       "      <td>[contentNC, DHHS, WBTV News Team, InvestigatesOn, WBTV News Team, TrafficWatch, ThomasCabarrus, CountryIredell, GradeCollect, ConnectCoronavirus, GrillTasty Beverages, DessertsGood News, DebtNC, TVOn, NewsCarolina, Helpers, HeroesKomen Race For The, CureConsumerAutism, FamilyMolly, KidsSportsCarolina, MLSHigh, NightPowerNationInvestigate, BureauCircle, LifestyleLatest, NewscastsPress, agoThe, globallyMastercard, Northrop, Responsible, FRANCISCO, RAI, AI Fund, PRNewswire, IDC, AI, Responsible, Responsible, Responsible, AI, MLOps, AI, Responsible, Responsible, EVP, Responsible, National Arti...</td>\n",
       "    </tr>\n",
       "    <tr>\n",
       "      <th>69217</th>\n",
       "      <td>[News Reviews Phones, VPN, News Video Magazine Black, VPN, TechRadar, CES, Samsung, Samsung, Things, IoT, TVs, CES, IoT, TVs, TechRadar, TechRadar, PRODUCT Laptop, PS5, PS5, Intel Rocket, Samsung Galaxy S21, iPhone, TechRadar, House, Ambury]</td>\n",
       "      <td>[News Reviews Phones, VPN, News Video Magazine Black, VPN, TechRadar, CES, Samsung, Samsung, Things, IoT, TVs, CES, IoT, TVs, TechRadar, TechRadar, PRODUCT Laptop, PS5, PS5, Intel Rocket, Samsung Galaxy S21, iPhone, TechRadar, House, Ambury]</td>\n",
       "    </tr>\n",
       "    <tr>\n",
       "      <th>196372</th>\n",
       "      <td>[Moderate, Courier, Automatic, TSK, ADT, Advanced Dicing Technologies, IC, Separation Device, LED Package, Moderate, Regional Forecast, Latest Innovations, BioWorld, Corning Lithium, Arborist Software Market, Steady Pace, Forecast, Microscope Market, HTKGP Global Hydrogen Fuel Cells, SWOT Analysis, Players, Courier Search, Business Technology, Moderate, Artificial Intelligence, Moderate, Artificial Intelligence, BAE Systems, IBM Corporation Palo Alto Networks, Telecom Aerospace, Defense, Worldwide Artificial Intelligence, Content1, Political, Social, Artificial Intelligence, Competitive La...</td>\n",
       "      <td>[Moderate, Courier, Automatic, TSK, ADT, Advanced Dicing Technologies, IC, Separation Device, LED Package, Moderate, Regional Forecast, Latest Innovations, BioWorld, Corning Lithium, Arborist Software Market, Steady Pace, Forecast, Microscope Market, HTKGP Global Hydrogen Fuel Cells, SWOT Analysis, Players, Courier Search, Business Technology, Moderate, Artificial Intelligence, Moderate, Artificial Intelligence, BAE Systems, IBM Corporation Palo Alto Networks, Telecom Aerospace, Defense, Worldwide Artificial Intelligence, Content1, Political, Social, Artificial Intelligence, Competitive La...</td>\n",
       "    </tr>\n",
       "    <tr>\n",
       "      <th>145960</th>\n",
       "      <td>[AI, TÜRKİYE Istanbul, Corner, TÜRKİYE Istanbul, Corner, AI, AFP, PARIS, Samsung Galaxy S23, AFP Photo, AFP, RECOMMENDED, Samsung, Samsung, AI, iPhone, AI, AI, Royal Photographic Society, AFP, AI, Photographers, AI, AFP, AI, Stable Diffusion, Midjourney, RECOMMENDED, RELATED, Daily Sabah Newsletter Keep, Use, Privacy Policy, reCAPTCHA, Google Privacy Policy, PHOTOGALLERY, TÜRKİYE Istanbul, Corner, RSS]</td>\n",
       "      <td>[AI, TÜRKİYE Istanbul, Corner, TÜRKİYE Istanbul, Corner, AI, AFP, PARIS, Samsung Galaxy S23, AFP Photo, AFP, RECOMMENDED, Samsung, Samsung, AI, iPhone, AI, AI, Royal Photographic Society, AFP, AI, Dunmur, Photographers, AI, AFP, AI, Stable Diffusion, Midjourney, RELATED, Daily Sabah Newsletter Keep, SIGN, Use, Privacy Policy, reCAPTCHA, Google Privacy Policy, PHOTOGALLERY, TÜRKİYE Istanbul, Corner, RSS]</td>\n",
       "    </tr>\n",
       "    <tr>\n",
       "      <th>74707</th>\n",
       "      <td>[Bard, NBA Foundation, Local News National News Election, Editor Promotions Subscribe Log, News Local News National News Election, Editor Promotions Subscribe Log, Newsletters, Bard, Senate, Bard, NBA Foundation Share, Bard, Bard, NBA Foundation, NBA Foundation, NBA, NBA, NBA Foundation, NBA Foundation, YMOC, Brothers, Bard, Brothers, NBA, Brothers, NBA Foundation, NBA Foundation, PopularMost Popular Dutchess County, COVID, casesDutchess County, COVID, crashBloomingburg, COVID, COVID, UlsterState, Ulster, Kingston, scrapyardFire, Kingston, Powerball, Dutchess County, Dutchess County, COVID...</td>\n",
       "      <td>[Bard, NBA Foundation, Local News National News Election, Editor Promotions Subscribe Log, News Local News National News Election, Editor Promotions Subscribe Log, Newsletters, Bard, Senate, Bard, NBA Foundation Share, Bard, Bard, NBA Foundation, NBA Foundation, NBA, NBA, NBA Foundation, NBA Foundation, YMOC, Brothers, Bard, Brothers, NBA, Brothers, NBA Foundation, NBA Foundation, PopularMost Popular Dutchess County, COVID, casesDutchess County, COVID, crashBloomingburg, COVID, COVID, UlsterState, Ulster, Kingston, scrapyardFire, Kingston, Powerball, Dutchess County, Dutchess County, COVID...</td>\n",
       "    </tr>\n",
       "    <tr>\n",
       "      <th>55201</th>\n",
       "      <td>[LeapMind, News, inHomeCoronavirusOriginalHeadlinesMY, UsePrivacy, Sell My, Particle, Business, Leapmind Leapmind Inc, JPTerms, UsePrivacy, Sell My, Particle, inEngineeringLeapMind, PPA, IP, VP, Business, LeapMind, LSI, Business, Leapmind Leapmind Inc, MQTT, ESP, IoT, LittlePetieWheat, MQTT, PIR, BVThe, LNG, AiP, NLP, Fortune, Catapult Ventures, Conductive Ventures, SIG, HELLA Ventures, R7 Partners, VectoIQ, ACVC Partners, Signature Bank, AI, Power, Industry, Conversational Artificial Intelligence, SpinCar, SpinCar, SpinCar, SpinCar, SpinCar, Nanowerk News, Insider15dEuropean Home Automati...</td>\n",
       "      <td>[LeapMind, News, inHomeCoronavirusOriginalHeadlinesMY, UsePrivacy, Sell My, Particle, Business, Leapmind Leapmind Inc, JPTerms, UsePrivacy, Sell My, Particle, inEngineeringLeapMind, PPA, IP, VP, Business, LeapMind, LSI, Business, Leapmind Leapmind Inc, MQTT, ESP, IoT, LittlePetieWheat, MQTT, PIR, BVThe, LNG, AiP, NLP, Fortune, Catapult Ventures, Conductive Ventures, SIG, HELLA Ventures, R7 Partners, VectoIQ, ACVC Partners, Signature Bank, AI, Power, Industry, Conversational Artificial Intelligence, SpinCar, SpinCar, SpinCar, SpinCar, Nanowerk News, Insider15dEuropean Home Automation System...</td>\n",
       "    </tr>\n",
       "    <tr>\n",
       "      <th>156491</th>\n",
       "      <td>[All Teachers, Dashboard Logout My Account Dashboard, Sunrise, Hour Local, Business Closings, Tech, Headlines Pets One Tank Trip Think Tank Freddy Awards Talk With Your, Business News Local Stocks Shop Talk, MeTV Schedule, Internships, Intervals, Dashboard Logout My Account Dashboard, Sunrise, Hour Local Radar Radar, WSI Radar, Business Closings, Tech, Headlines Pets One Tank Trip Think Tank Freddy Awards Talk With Your, Business News Local Stocks Shop Talk, MeTV Schedule, Internships, All Teachers By Edthena, Comments Facebook, AI, AI, AI, CEO, AI, AI, Keller, AI, AI, AI, AI, AI, EdthenaE...</td>\n",
       "      <td>[All Teachers, Dashboard Logout My Account Dashboard, Sunrise, Hour Local, Business Closings, Tech, Lessons, Headlines Pets One Tank Trip Think Tank Freddy Awards Talk With Your, Business News Local Stocks Shop Talk, MeTV Schedule, Internships, Intervals, Partly, Dashboard Logout My Account Dashboard, Sunrise, Hour Local Radar Radar, WSI Radar, Business Closings, Tech, Lessons, Headlines Pets One Tank Trip Think Tank Freddy Awards Talk With Your, Business News Local Stocks Shop Talk, MeTV Schedule, Internships, All Teachers By Edthena, Comments Facebook, AI, AI, AI, CEO, AI, AI, Keller, AI...</td>\n",
       "    </tr>\n",
       "    <tr>\n",
       "      <th>122738</th>\n",
       "      <td>[CaixaBank And Microsoft Establish Innovation Laboratory For Artificial Intelligence Solutions And The, Metaverse Skip, Content Mondo Visione Worldwide Financial Markets Intelligence, FTSE Mondo Visione Exchanges, CaixaBank And Microsoft Establish Innovation Laboratory For Artificial Intelligence Solutions And The, Metaverse, AI Innovation Lab, Artificial Intelligence, CaixaBank, AI, CaixaBank, Microsoft, AI, CaixaBank, CaixaBank, Microsoft, Artificial Intelligence, CaixaBank Tech, CaixaBank Group, CaixaBank, AI, Centre, AI Research, R, Artificial, AI Innovation Lab, AI, Scale, CaixaBank, ...</td>\n",
       "      <td>[CaixaBank And Microsoft Establish Innovation Laboratory For Artificial Intelligence Solutions And The, Metaverse Skip, Content Mondo Visione Worldwide Financial Markets Intelligence, FTSE Mondo Visione Exchanges, CaixaBank And Microsoft Establish Innovation Laboratory For Artificial Intelligence Solutions And The, Metaverse, AI Innovation Lab, Artificial Intelligence, CaixaBank, AI, CaixaBank, Microsoft, AI, CaixaBank, CaixaBank, Microsoft, Artificial Intelligence, CaixaBank Tech, CaixaBank Group, CaixaBank, AI, Centre, AI Research, R, Artificial, AI Innovation Lab, AI, Scale, CaixaBank, ...</td>\n",
       "    </tr>\n",
       "    <tr>\n",
       "      <th>45704</th>\n",
       "      <td>[GANs, MCVUK, WoW, World Warcraft, NVIDIA, StyleGAN, DeepMind, AlphaStar, European, Interview, GRID, JavaScript, NVIDIA Teases Next Generation Ampere, APUs Detailed, RDNA2, GPU, Intel Core, Intel, TSMC Has, Development, AMD Just Bought Up, TSMC For Next Generation, CPUs4187 Intel, Compatible With Z490, PCIe, MHz, MHz, APUs Detailed, RDNA2, GPU3736 Sections Reviews How, Use Privacy, NewAge, LLC, Amazon Services, LLC Associates Program]</td>\n",
       "      <td>[GANs, MCVUK, WoW, World Warcraft, NVIDIA, StyleGAN, DeepMind, AlphaStar, European, Interview, GRID, JavaScript, NVIDIA Teases Next Generation Ampere, APUs Detailed, RDNA2, GPU, Intel Core, Intel, TSMC Has, Development, AMD Just Bought Up, TSMC For Next Generation, CPUs4187 Intel, Compatible With Z490, PCIe, MHz, MHz, APUs Detailed, RDNA2, GPU3736 Sections Reviews How, Use Privacy, NewAge, LLC, Amazon Services, LLC Associates Program]</td>\n",
       "    </tr>\n",
       "    <tr>\n",
       "      <th>26997</th>\n",
       "      <td>[AI, HomeArchivesAbout, AdPrivacy, DécorClassifiedsJobsTexas Back To, WorkFind, SaveObituaries Read More, Public Records, EDC, NewsHow, historySonja Drimmer, University, Conversation, University, THE, Night, Modigliani, AI, AI, AI, God, Conversation, AI, Creative Commons, Interest, Use, Company Careers Contact Us Subscribe, Archives Connect Facebook]</td>\n",
       "      <td>[AI, HomeArchivesAbout, AdPrivacy, DécorClassifiedsJobsTexas Back To, WorkFind, SaveObituaries Read More, Public Records, EDC, NewsHow, historySonja Drimmer, University, Conversation, Drimmer, University, THE, Night, Modigliani, AI, AI, AI, God, Conversation, AI, Creative Commons, BySonja, Interest, Use, Company Careers Contact Us Subscribe, Archives Connect Facebook]</td>\n",
       "    </tr>\n",
       "    <tr>\n",
       "      <th>44927</th>\n",
       "      <td>[OSE Immunotherapeutics, MAbSilico, Artificial Intelligence, Accelerate Drug Development, Newswire Services Regulatory Filings Media Partners, MAbSilico, Artificial Intelligence, Accelerate Drug Development, MAbSilico, MAbSilico, NANTES, GLOBE, ISIN, MAbSilico, TechBio, OSE Immunotherapeutics, MAbSilico, MAbSilico, Company, MAbSilico, OSE, MAbSilico, OSE, AI, OSE, MAbSilico, MAbSilico, AI, MAbSilico, MAbSilico, MAbSilico, OSE, CoVepiT, OSE, MAbSilico, OSE, OSE Immunotherapeutics, MAbSilico, OSE Immunotherapeutics, MAbSilico, OSE, AI, Demonstrate, OSE, MAbSilico, MAbFactory, OSE Immunothera...</td>\n",
       "      <td>[OSE Immunotherapeutics, MAbSilico, Artificial Intelligence, Accelerate Drug Development, Newswire Services Regulatory Filings Media Partners, MAbSilico, Artificial Intelligence, Accelerate Drug Development, MAbSilico, MAbSilico, GLOBE, ISIN, MAbSilico, TechBio, Poirier, OSE Immunotherapeutics, MAbSilico, MAbSilico, Company, MAbSilico, OSE, MAbSilico, OSE, AI, OSE, MAbSilico, AI, MAbSilico, MAbSilico, MAbSilico, OSE, CoVepiT, OSE, OSE, OSE Immunotherapeutics, MAbSilico, OSE Immunotherapeutics, MAbSilico, OSE, AI, Demonstrate, OSE, MAbSilico, MAbFactory, OSE Immunotherapeutics, TEDOPaM, GER...</td>\n",
       "    </tr>\n",
       "    <tr>\n",
       "      <th>45786</th>\n",
       "      <td>[RSC100, Conditions Registration Media Info Privacy Policy Contact Us Client Login, HomePage News Latest Developments Interviews, Comments Profiles Calendar, RSC100, PROFIBUS, Things, Communications, RSC100, PROFIBUS, Nominees, RSC100, AI, IP40, RSC100, miniPCIe, RSC100, ARM, LPDDR4, eMMC, SSD, PCIe, MicroSD, CANbus, RSC100, RSC100, ISO13485, PROFIBUS, Analog Devices, Analog Devices, ADI, MAX77540, Components, VAT, Datateam Business Media]</td>\n",
       "      <td>[RSC100, Conditions Registration Media Info Privacy Policy Contact Us Client Login, HomePage News Latest Developments Interviews, Comments Profiles Calendar, RSC100, PROFIBUS, Things, Communications, RSC100, PROFIBUS, Nominees, RSC100, AI, IP40, RSC100, miniPCIe, RSC100, ARM, LPDDR4, eMMC, SSD, PCIe, MicroSD, CANbus, RSC100, RSC100, ISO13485, PROFIBUS, Analog Devices, Analog Devices, ADI, MAX77540, Components, Business Media Limited, VAT, Datateam Business Media]</td>\n",
       "    </tr>\n",
       "    <tr>\n",
       "      <th>90943</th>\n",
       "      <td>[ChatGPT, Straits Times The Straits Times Toggle, Straits Times, Straits Times, International Singapore Main, Combat Sports Basketball Tennis Golf More Toggle Dropdown Opinion Life Business Tech, Straits Times Toggle, LOG, Combat Sports Basketball Tennis Golf More Toggle Dropdown Opinion Life Business Tech, SPH Rewards, New Paper, ChatGPT Baidu, REUTERS, BEIJING, CLoudwalk Technology, OpenAI, ChatGPT, Microsoft Corp, AI, OpenAI, PitchBook, US, Homebrew, AI, BLOOMBERG, ChatGPT, ChatGPT, LinkedIn, ChatGPT, ChatGPT Read, ChatGPT Resend, Straits Times Available, iPhones, iPads Available, Condi...</td>\n",
       "      <td>[ChatGPT, Straits Times The Straits Times Toggle, Straits Times, Straits Times, International Singapore Main, Combat Sports Basketball Tennis Golf More Toggle Dropdown Opinion Life Business Tech, Straits Times Toggle, LOG, Combat Sports Basketball Tennis Golf More Toggle Dropdown Opinion Life Business Tech, SPH Rewards, New Paper, ChatGPT Baidu, REUTERS, BEIJING, CLoudwalk Technology, OpenAI, ChatGPT, Microsoft Corp, AI, OpenAI, PitchBook, US, Homebrew, AI, ChatGPT, ChatGPT, LinkedIn, ChatGPT, ChatGPT Read, ChatGPT Resend, Straits Times Available, iPhones, iPads Available, Conditions Priva...</td>\n",
       "    </tr>\n",
       "  </tbody>\n",
       "</table>\n",
       "</div>"
      ],
      "text/plain": [
       "                                                                                                                                                                                                                                                                                                                                                                                                                                                                                                                                                                                                                      companies   \n",
       "96091   [AWS, Amazon, Amazon, News, Amazon, BN, National Health Service, NHS, BUSINESS, AWS, NASDAQ, Amazon, Mechanical Turk, Augmented, API, CapeStart Inc., iMerit, Amazon, CloudWatch, Amazon A2I, Ohio, Central, National Health Service, Business Services, NHS, UK National Health Service, NHS, NHS, NHS, UK, Innovation, NHS, AI, America, Part, Deloitte Consulting, ML, Belle Fleur, AWS, IoT, VR, AZs, AWS Regions, AWS, AWS, AWS, Fire, AmazonNews, Continue, Host Nickelodeon, DIT Education Electronics Encoder Feature, Metadata Monitor Music Music Video, NAB News People Post, Host Nickelodeon, AWS Annou...  \\\n",
       "91201                                                                                                                                                                                                                                                                                  [ChatGPT, BDrecent, ChatGPT, All, Congress Bola Ahmed Tinubu, AnD Ventures, CEO, Paga Communications, APC, ChatGPT, Intelligence Unit, ChatGPT, ChatGPT, ChatGPT, AI, ChatGPT, Central Bank, ChatGPT, OpenAI, AI, ChatGPT, News Nigeria, News, INEC, CBN, N103bn, WhatsApp Us, Conditions, INEC, All Rights Reserved, Digital Team Home]   \n",
       "154436  [contentNC, DHHS, WBTV News Team, InvestigatesOn, WBTV News Team, TrafficWatch, ThomasCabarrus, CountryIredell, GradeCollect, ConnectCoronavirus, GrillTasty Beverages, DessertsGood News, DebtNC, TVOn, NewsCarolina, Helpers, HeroesKomen Race For The, CureConsumerAutism, FamilyMolly, KidsSportsCarolina, MLSHigh, NightPowerNationInvestigate, BureauCircle, LifestyleLatest, NewscastsPress, agoThe, globallyMastercard, Northrop, Responsible, FRANCISCO, RAI, AI Fund, PRNewswire, IDC, AI, Responsible, Responsible, Responsible, AI, MLOps, AI, Responsible, Responsible, EVP, Responsible, National Arti...   \n",
       "69217                                                                                                                                                                                                                                                                                                                                                                         [News Reviews Phones, VPN, News Video Magazine Black, VPN, TechRadar, CES, Samsung, Samsung, Things, IoT, TVs, CES, IoT, TVs, TechRadar, TechRadar, PRODUCT Laptop, PS5, PS5, Intel Rocket, Samsung Galaxy S21, iPhone, TechRadar, House, Ambury]   \n",
       "196372  [Moderate, Courier, Automatic, TSK, ADT, Advanced Dicing Technologies, IC, Separation Device, LED Package, Moderate, Regional Forecast, Latest Innovations, BioWorld, Corning Lithium, Arborist Software Market, Steady Pace, Forecast, Microscope Market, HTKGP Global Hydrogen Fuel Cells, SWOT Analysis, Players, Courier Search, Business Technology, Moderate, Artificial Intelligence, Moderate, Artificial Intelligence, BAE Systems, IBM Corporation Palo Alto Networks, Telecom Aerospace, Defense, Worldwide Artificial Intelligence, Content1, Political, Social, Artificial Intelligence, Competitive La...   \n",
       "145960                                                                                                                                                                                                    [AI, TÜRKİYE Istanbul, Corner, TÜRKİYE Istanbul, Corner, AI, AFP, PARIS, Samsung Galaxy S23, AFP Photo, AFP, RECOMMENDED, Samsung, Samsung, AI, iPhone, AI, AI, Royal Photographic Society, AFP, AI, Photographers, AI, AFP, AI, Stable Diffusion, Midjourney, RECOMMENDED, RELATED, Daily Sabah Newsletter Keep, Use, Privacy Policy, reCAPTCHA, Google Privacy Policy, PHOTOGALLERY, TÜRKİYE Istanbul, Corner, RSS]   \n",
       "74707   [Bard, NBA Foundation, Local News National News Election, Editor Promotions Subscribe Log, News Local News National News Election, Editor Promotions Subscribe Log, Newsletters, Bard, Senate, Bard, NBA Foundation Share, Bard, Bard, NBA Foundation, NBA Foundation, NBA, NBA, NBA Foundation, NBA Foundation, YMOC, Brothers, Bard, Brothers, NBA, Brothers, NBA Foundation, NBA Foundation, PopularMost Popular Dutchess County, COVID, casesDutchess County, COVID, crashBloomingburg, COVID, COVID, UlsterState, Ulster, Kingston, scrapyardFire, Kingston, Powerball, Dutchess County, Dutchess County, COVID...   \n",
       "55201   [LeapMind, News, inHomeCoronavirusOriginalHeadlinesMY, UsePrivacy, Sell My, Particle, Business, Leapmind Leapmind Inc, JPTerms, UsePrivacy, Sell My, Particle, inEngineeringLeapMind, PPA, IP, VP, Business, LeapMind, LSI, Business, Leapmind Leapmind Inc, MQTT, ESP, IoT, LittlePetieWheat, MQTT, PIR, BVThe, LNG, AiP, NLP, Fortune, Catapult Ventures, Conductive Ventures, SIG, HELLA Ventures, R7 Partners, VectoIQ, ACVC Partners, Signature Bank, AI, Power, Industry, Conversational Artificial Intelligence, SpinCar, SpinCar, SpinCar, SpinCar, SpinCar, Nanowerk News, Insider15dEuropean Home Automati...   \n",
       "156491  [All Teachers, Dashboard Logout My Account Dashboard, Sunrise, Hour Local, Business Closings, Tech, Headlines Pets One Tank Trip Think Tank Freddy Awards Talk With Your, Business News Local Stocks Shop Talk, MeTV Schedule, Internships, Intervals, Dashboard Logout My Account Dashboard, Sunrise, Hour Local Radar Radar, WSI Radar, Business Closings, Tech, Headlines Pets One Tank Trip Think Tank Freddy Awards Talk With Your, Business News Local Stocks Shop Talk, MeTV Schedule, Internships, All Teachers By Edthena, Comments Facebook, AI, AI, AI, CEO, AI, AI, Keller, AI, AI, AI, AI, AI, EdthenaE...   \n",
       "122738  [CaixaBank And Microsoft Establish Innovation Laboratory For Artificial Intelligence Solutions And The, Metaverse Skip, Content Mondo Visione Worldwide Financial Markets Intelligence, FTSE Mondo Visione Exchanges, CaixaBank And Microsoft Establish Innovation Laboratory For Artificial Intelligence Solutions And The, Metaverse, AI Innovation Lab, Artificial Intelligence, CaixaBank, AI, CaixaBank, Microsoft, AI, CaixaBank, CaixaBank, Microsoft, Artificial Intelligence, CaixaBank Tech, CaixaBank Group, CaixaBank, AI, Centre, AI Research, R, Artificial, AI Innovation Lab, AI, Scale, CaixaBank, ...   \n",
       "45704                                                                                                                                                                    [GANs, MCVUK, WoW, World Warcraft, NVIDIA, StyleGAN, DeepMind, AlphaStar, European, Interview, GRID, JavaScript, NVIDIA Teases Next Generation Ampere, APUs Detailed, RDNA2, GPU, Intel Core, Intel, TSMC Has, Development, AMD Just Bought Up, TSMC For Next Generation, CPUs4187 Intel, Compatible With Z490, PCIe, MHz, MHz, APUs Detailed, RDNA2, GPU3736 Sections Reviews How, Use Privacy, NewAge, LLC, Amazon Services, LLC Associates Program]   \n",
       "26997                                                                                                                                                                                                                                                          [AI, HomeArchivesAbout, AdPrivacy, DécorClassifiedsJobsTexas Back To, WorkFind, SaveObituaries Read More, Public Records, EDC, NewsHow, historySonja Drimmer, University, Conversation, University, THE, Night, Modigliani, AI, AI, AI, God, Conversation, AI, Creative Commons, Interest, Use, Company Careers Contact Us Subscribe, Archives Connect Facebook]   \n",
       "44927   [OSE Immunotherapeutics, MAbSilico, Artificial Intelligence, Accelerate Drug Development, Newswire Services Regulatory Filings Media Partners, MAbSilico, Artificial Intelligence, Accelerate Drug Development, MAbSilico, MAbSilico, NANTES, GLOBE, ISIN, MAbSilico, TechBio, OSE Immunotherapeutics, MAbSilico, MAbSilico, Company, MAbSilico, OSE, MAbSilico, OSE, AI, OSE, MAbSilico, MAbSilico, AI, MAbSilico, MAbSilico, MAbSilico, OSE, CoVepiT, OSE, MAbSilico, OSE, OSE Immunotherapeutics, MAbSilico, OSE Immunotherapeutics, MAbSilico, OSE, AI, Demonstrate, OSE, MAbSilico, MAbFactory, OSE Immunothera...   \n",
       "45786                                                                                                                                                               [RSC100, Conditions Registration Media Info Privacy Policy Contact Us Client Login, HomePage News Latest Developments Interviews, Comments Profiles Calendar, RSC100, PROFIBUS, Things, Communications, RSC100, PROFIBUS, Nominees, RSC100, AI, IP40, RSC100, miniPCIe, RSC100, ARM, LPDDR4, eMMC, SSD, PCIe, MicroSD, CANbus, RSC100, RSC100, ISO13485, PROFIBUS, Analog Devices, Analog Devices, ADI, MAX77540, Components, VAT, Datateam Business Media]   \n",
       "90943   [ChatGPT, Straits Times The Straits Times Toggle, Straits Times, Straits Times, International Singapore Main, Combat Sports Basketball Tennis Golf More Toggle Dropdown Opinion Life Business Tech, Straits Times Toggle, LOG, Combat Sports Basketball Tennis Golf More Toggle Dropdown Opinion Life Business Tech, SPH Rewards, New Paper, ChatGPT Baidu, REUTERS, BEIJING, CLoudwalk Technology, OpenAI, ChatGPT, Microsoft Corp, AI, OpenAI, PitchBook, US, Homebrew, AI, BLOOMBERG, ChatGPT, ChatGPT, LinkedIn, ChatGPT, ChatGPT Read, ChatGPT Resend, Straits Times Available, iPhones, iPads Available, Condi...   \n",
       "\n",
       "                                                                                                                                                                                                                                                                                                                                                                                                                                                                                                                                                                                                            companies_sentences  \n",
       "96091   [AWS, Amazon, Amazon, News, Amazon, BN, National Health Service, NHS, BUSINESS, AWS, NASDAQ, Amazon, A2I, Mechanical Turk, A2I, A2I, Augmented, API, iVision, CapeStart Inc., iMerit, Amazon, CloudWatch, Amazon A2I, Ohio, Central, National, Business Services, NHS, UK National Health Service, NHS, NHS, NHS, UK, Innovation, NHS, Amazon Textract, AI, America, Part, Deloitte Consulting, ML, Belle Fleur, AWS, IoT, VR, AZs, AWS Regions, AWS, AWS, AWS, Fire, AmazonNews, Continue, Host Nickelodeon, DIT Education Electronics Encoder Feature, Metadata Monitor Music Music Video, NAB News People Post, H...  \n",
       "91201                                                                                                                                                                                                                                                                        [ChatGPT, BDrecent, NigeriaDecides2023, ChatGPT, All, Congress Bola Ahmed Tinubu, AnD Ventures, CEO, Paga Communications, APC, ChatGPT, Intelligence Unit, ChatGPT, ChatGPT, ChatGPT, AI, ChatGPT, Central Bank, OpenAI, AI, ChatGPT, News Nigeria, News, INEC, CBN, N103bn, WhatsApp Us, Conditions, INEC, Digital Team Home, NigeriaDecides2023]  \n",
       "154436  [contentNC, DHHS, WBTV News Team, InvestigatesOn, WBTV News Team, TrafficWatch, ThomasCabarrus, CountryIredell, GradeCollect, ConnectCoronavirus, GrillTasty Beverages, DessertsGood News, DebtNC, TVOn, NewsCarolina, Helpers, HeroesKomen Race For The, CureConsumerAutism, FamilyMolly, KidsSportsCarolina, MLSHigh, NightPowerNationInvestigate, BureauCircle, LifestyleLatest, NewscastsPress, agoThe, globallyMastercard, Northrop, Responsible, FRANCISCO, RAI, AI Fund, PRNewswire, IDC, AI, Responsible, Responsible, Responsible, AI, MLOps, AI, Responsible, Responsible, EVP, Responsible, National Arti...  \n",
       "69217                                                                                                                                                                                                                                                                                                                                                                         [News Reviews Phones, VPN, News Video Magazine Black, VPN, TechRadar, CES, Samsung, Samsung, Things, IoT, TVs, CES, IoT, TVs, TechRadar, TechRadar, PRODUCT Laptop, PS5, PS5, Intel Rocket, Samsung Galaxy S21, iPhone, TechRadar, House, Ambury]  \n",
       "196372  [Moderate, Courier, Automatic, TSK, ADT, Advanced Dicing Technologies, IC, Separation Device, LED Package, Moderate, Regional Forecast, Latest Innovations, BioWorld, Corning Lithium, Arborist Software Market, Steady Pace, Forecast, Microscope Market, HTKGP Global Hydrogen Fuel Cells, SWOT Analysis, Players, Courier Search, Business Technology, Moderate, Artificial Intelligence, Moderate, Artificial Intelligence, BAE Systems, IBM Corporation Palo Alto Networks, Telecom Aerospace, Defense, Worldwide Artificial Intelligence, Content1, Political, Social, Artificial Intelligence, Competitive La...  \n",
       "145960                                                                                                                                                                                                   [AI, TÜRKİYE Istanbul, Corner, TÜRKİYE Istanbul, Corner, AI, AFP, PARIS, Samsung Galaxy S23, AFP Photo, AFP, RECOMMENDED, Samsung, Samsung, AI, iPhone, AI, AI, Royal Photographic Society, AFP, AI, Dunmur, Photographers, AI, AFP, AI, Stable Diffusion, Midjourney, RELATED, Daily Sabah Newsletter Keep, SIGN, Use, Privacy Policy, reCAPTCHA, Google Privacy Policy, PHOTOGALLERY, TÜRKİYE Istanbul, Corner, RSS]  \n",
       "74707   [Bard, NBA Foundation, Local News National News Election, Editor Promotions Subscribe Log, News Local News National News Election, Editor Promotions Subscribe Log, Newsletters, Bard, Senate, Bard, NBA Foundation Share, Bard, Bard, NBA Foundation, NBA Foundation, NBA, NBA, NBA Foundation, NBA Foundation, YMOC, Brothers, Bard, Brothers, NBA, Brothers, NBA Foundation, NBA Foundation, PopularMost Popular Dutchess County, COVID, casesDutchess County, COVID, crashBloomingburg, COVID, COVID, UlsterState, Ulster, Kingston, scrapyardFire, Kingston, Powerball, Dutchess County, Dutchess County, COVID...  \n",
       "55201   [LeapMind, News, inHomeCoronavirusOriginalHeadlinesMY, UsePrivacy, Sell My, Particle, Business, Leapmind Leapmind Inc, JPTerms, UsePrivacy, Sell My, Particle, inEngineeringLeapMind, PPA, IP, VP, Business, LeapMind, LSI, Business, Leapmind Leapmind Inc, MQTT, ESP, IoT, LittlePetieWheat, MQTT, PIR, BVThe, LNG, AiP, NLP, Fortune, Catapult Ventures, Conductive Ventures, SIG, HELLA Ventures, R7 Partners, VectoIQ, ACVC Partners, Signature Bank, AI, Power, Industry, Conversational Artificial Intelligence, SpinCar, SpinCar, SpinCar, SpinCar, Nanowerk News, Insider15dEuropean Home Automation System...  \n",
       "156491  [All Teachers, Dashboard Logout My Account Dashboard, Sunrise, Hour Local, Business Closings, Tech, Lessons, Headlines Pets One Tank Trip Think Tank Freddy Awards Talk With Your, Business News Local Stocks Shop Talk, MeTV Schedule, Internships, Intervals, Partly, Dashboard Logout My Account Dashboard, Sunrise, Hour Local Radar Radar, WSI Radar, Business Closings, Tech, Lessons, Headlines Pets One Tank Trip Think Tank Freddy Awards Talk With Your, Business News Local Stocks Shop Talk, MeTV Schedule, Internships, All Teachers By Edthena, Comments Facebook, AI, AI, AI, CEO, AI, AI, Keller, AI...  \n",
       "122738  [CaixaBank And Microsoft Establish Innovation Laboratory For Artificial Intelligence Solutions And The, Metaverse Skip, Content Mondo Visione Worldwide Financial Markets Intelligence, FTSE Mondo Visione Exchanges, CaixaBank And Microsoft Establish Innovation Laboratory For Artificial Intelligence Solutions And The, Metaverse, AI Innovation Lab, Artificial Intelligence, CaixaBank, AI, CaixaBank, Microsoft, AI, CaixaBank, CaixaBank, Microsoft, Artificial Intelligence, CaixaBank Tech, CaixaBank Group, CaixaBank, AI, Centre, AI Research, R, Artificial, AI Innovation Lab, AI, Scale, CaixaBank, ...  \n",
       "45704                                                                                                                                                                    [GANs, MCVUK, WoW, World Warcraft, NVIDIA, StyleGAN, DeepMind, AlphaStar, European, Interview, GRID, JavaScript, NVIDIA Teases Next Generation Ampere, APUs Detailed, RDNA2, GPU, Intel Core, Intel, TSMC Has, Development, AMD Just Bought Up, TSMC For Next Generation, CPUs4187 Intel, Compatible With Z490, PCIe, MHz, MHz, APUs Detailed, RDNA2, GPU3736 Sections Reviews How, Use Privacy, NewAge, LLC, Amazon Services, LLC Associates Program]  \n",
       "26997                                                                                                                                                                                                                                        [AI, HomeArchivesAbout, AdPrivacy, DécorClassifiedsJobsTexas Back To, WorkFind, SaveObituaries Read More, Public Records, EDC, NewsHow, historySonja Drimmer, University, Conversation, Drimmer, University, THE, Night, Modigliani, AI, AI, AI, God, Conversation, AI, Creative Commons, BySonja, Interest, Use, Company Careers Contact Us Subscribe, Archives Connect Facebook]  \n",
       "44927   [OSE Immunotherapeutics, MAbSilico, Artificial Intelligence, Accelerate Drug Development, Newswire Services Regulatory Filings Media Partners, MAbSilico, Artificial Intelligence, Accelerate Drug Development, MAbSilico, MAbSilico, GLOBE, ISIN, MAbSilico, TechBio, Poirier, OSE Immunotherapeutics, MAbSilico, MAbSilico, Company, MAbSilico, OSE, MAbSilico, OSE, AI, OSE, MAbSilico, AI, MAbSilico, MAbSilico, MAbSilico, OSE, CoVepiT, OSE, OSE, OSE Immunotherapeutics, MAbSilico, OSE Immunotherapeutics, MAbSilico, OSE, AI, Demonstrate, OSE, MAbSilico, MAbFactory, OSE Immunotherapeutics, TEDOPaM, GER...  \n",
       "45786                                                                                                                                       [RSC100, Conditions Registration Media Info Privacy Policy Contact Us Client Login, HomePage News Latest Developments Interviews, Comments Profiles Calendar, RSC100, PROFIBUS, Things, Communications, RSC100, PROFIBUS, Nominees, RSC100, AI, IP40, RSC100, miniPCIe, RSC100, ARM, LPDDR4, eMMC, SSD, PCIe, MicroSD, CANbus, RSC100, RSC100, ISO13485, PROFIBUS, Analog Devices, Analog Devices, ADI, MAX77540, Components, Business Media Limited, VAT, Datateam Business Media]  \n",
       "90943   [ChatGPT, Straits Times The Straits Times Toggle, Straits Times, Straits Times, International Singapore Main, Combat Sports Basketball Tennis Golf More Toggle Dropdown Opinion Life Business Tech, Straits Times Toggle, LOG, Combat Sports Basketball Tennis Golf More Toggle Dropdown Opinion Life Business Tech, SPH Rewards, New Paper, ChatGPT Baidu, REUTERS, BEIJING, CLoudwalk Technology, OpenAI, ChatGPT, Microsoft Corp, AI, OpenAI, PitchBook, US, Homebrew, AI, ChatGPT, ChatGPT, LinkedIn, ChatGPT, ChatGPT Read, ChatGPT Resend, Straits Times Available, iPhones, iPads Available, Conditions Priva...  "
      ]
     },
     "execution_count": 19,
     "metadata": {},
     "output_type": "execute_result"
    }
   ],
   "source": [
    "df_filtered_sample[df_filtered_sample['companies_sentences'].str.len() != 0][['companies','companies_sentences']].head(15)\n"
   ]
  },
  {
   "cell_type": "code",
   "execution_count": null,
   "metadata": {},
   "outputs": [],
   "source": [
    "# "
   ]
  },
  {
   "attachments": {},
   "cell_type": "markdown",
   "metadata": {},
   "source": [
    "#### Most frequent companies with and without sentence segmentation\n"
   ]
  },
  {
   "cell_type": "code",
   "execution_count": 22,
   "metadata": {},
   "outputs": [
    {
     "data": {
      "text/html": [
       "<div>\n",
       "<style scoped>\n",
       "    .dataframe tbody tr th:only-of-type {\n",
       "        vertical-align: middle;\n",
       "    }\n",
       "\n",
       "    .dataframe tbody tr th {\n",
       "        vertical-align: top;\n",
       "    }\n",
       "\n",
       "    .dataframe thead th {\n",
       "        text-align: right;\n",
       "    }\n",
       "</style>\n",
       "<table border=\"1\" class=\"dataframe\">\n",
       "  <thead>\n",
       "    <tr style=\"text-align: right;\">\n",
       "      <th></th>\n",
       "      <th>companies</th>\n",
       "      <th>count</th>\n",
       "    </tr>\n",
       "  </thead>\n",
       "  <tbody>\n",
       "    <tr>\n",
       "      <th>0</th>\n",
       "      <td>AI</td>\n",
       "      <td>2179</td>\n",
       "    </tr>\n",
       "    <tr>\n",
       "      <th>1</th>\n",
       "      <td>US</td>\n",
       "      <td>989</td>\n",
       "    </tr>\n",
       "    <tr>\n",
       "      <th>2</th>\n",
       "      <td>Artificial Intelligence</td>\n",
       "      <td>797</td>\n",
       "    </tr>\n",
       "    <tr>\n",
       "      <th>3</th>\n",
       "      <td>ChatGPT</td>\n",
       "      <td>764</td>\n",
       "    </tr>\n",
       "    <tr>\n",
       "      <th>4</th>\n",
       "      <td>Republic</td>\n",
       "      <td>469</td>\n",
       "    </tr>\n",
       "    <tr>\n",
       "      <th>5</th>\n",
       "      <td>PRNewswire</td>\n",
       "      <td>430</td>\n",
       "    </tr>\n",
       "    <tr>\n",
       "      <th>6</th>\n",
       "      <td>DIGI</td>\n",
       "      <td>384</td>\n",
       "    </tr>\n",
       "    <tr>\n",
       "      <th>7</th>\n",
       "      <td>CEO</td>\n",
       "      <td>283</td>\n",
       "    </tr>\n",
       "    <tr>\n",
       "      <th>8</th>\n",
       "      <td>Gray Television</td>\n",
       "      <td>243</td>\n",
       "    </tr>\n",
       "    <tr>\n",
       "      <th>9</th>\n",
       "      <td>OpenAI</td>\n",
       "      <td>242</td>\n",
       "    </tr>\n",
       "    <tr>\n",
       "      <th>10</th>\n",
       "      <td>ServicePrivacy</td>\n",
       "      <td>217</td>\n",
       "    </tr>\n",
       "    <tr>\n",
       "      <th>11</th>\n",
       "      <td>Company</td>\n",
       "      <td>213</td>\n",
       "    </tr>\n",
       "    <tr>\n",
       "      <th>12</th>\n",
       "      <td>Release Sign Up Log</td>\n",
       "      <td>208</td>\n",
       "    </tr>\n",
       "    <tr>\n",
       "      <th>13</th>\n",
       "      <td>COMMUNICATIONS</td>\n",
       "      <td>192</td>\n",
       "    </tr>\n",
       "    <tr>\n",
       "      <th>14</th>\n",
       "      <td>University</td>\n",
       "      <td>173</td>\n",
       "    </tr>\n",
       "    <tr>\n",
       "      <th>15</th>\n",
       "      <td>IBM</td>\n",
       "      <td>161</td>\n",
       "    </tr>\n",
       "    <tr>\n",
       "      <th>16</th>\n",
       "      <td>News</td>\n",
       "      <td>161</td>\n",
       "    </tr>\n",
       "    <tr>\n",
       "      <th>17</th>\n",
       "      <td>NVIDIA</td>\n",
       "      <td>152</td>\n",
       "    </tr>\n",
       "    <tr>\n",
       "      <th>18</th>\n",
       "      <td>Media</td>\n",
       "      <td>149</td>\n",
       "    </tr>\n",
       "    <tr>\n",
       "      <th>19</th>\n",
       "      <td>UK</td>\n",
       "      <td>148</td>\n",
       "    </tr>\n",
       "    <tr>\n",
       "      <th>20</th>\n",
       "      <td>Digi Communications</td>\n",
       "      <td>146</td>\n",
       "    </tr>\n",
       "    <tr>\n",
       "      <th>21</th>\n",
       "      <td>BrandVoice</td>\n",
       "      <td>141</td>\n",
       "    </tr>\n",
       "    <tr>\n",
       "      <th>22</th>\n",
       "      <td>Digital</td>\n",
       "      <td>134</td>\n",
       "    </tr>\n",
       "    <tr>\n",
       "      <th>23</th>\n",
       "      <td>LifestyleGray</td>\n",
       "      <td>133</td>\n",
       "    </tr>\n",
       "    <tr>\n",
       "      <th>24</th>\n",
       "      <td>BureauInvestigate</td>\n",
       "      <td>131</td>\n",
       "    </tr>\n",
       "    <tr>\n",
       "      <th>25</th>\n",
       "      <td>IoT</td>\n",
       "      <td>130</td>\n",
       "    </tr>\n",
       "    <tr>\n",
       "      <th>26</th>\n",
       "      <td>SAP</td>\n",
       "      <td>126</td>\n",
       "    </tr>\n",
       "    <tr>\n",
       "      <th>27</th>\n",
       "      <td>Conversational</td>\n",
       "      <td>124</td>\n",
       "    </tr>\n",
       "    <tr>\n",
       "      <th>28</th>\n",
       "      <td>Demo</td>\n",
       "      <td>122</td>\n",
       "    </tr>\n",
       "    <tr>\n",
       "      <th>29</th>\n",
       "      <td>Microsoft</td>\n",
       "      <td>122</td>\n",
       "    </tr>\n",
       "  </tbody>\n",
       "</table>\n",
       "</div>"
      ],
      "text/plain": [
       "                  companies  count\n",
       "0                        AI   2179\n",
       "1                        US    989\n",
       "2   Artificial Intelligence    797\n",
       "3                   ChatGPT    764\n",
       "4                  Republic    469\n",
       "5                PRNewswire    430\n",
       "6                      DIGI    384\n",
       "7                       CEO    283\n",
       "8           Gray Television    243\n",
       "9                    OpenAI    242\n",
       "10           ServicePrivacy    217\n",
       "11                  Company    213\n",
       "12      Release Sign Up Log    208\n",
       "13           COMMUNICATIONS    192\n",
       "14               University    173\n",
       "15                      IBM    161\n",
       "16                     News    161\n",
       "17                   NVIDIA    152\n",
       "18                    Media    149\n",
       "19                       UK    148\n",
       "20      Digi Communications    146\n",
       "21               BrandVoice    141\n",
       "22                  Digital    134\n",
       "23            LifestyleGray    133\n",
       "24        BureauInvestigate    131\n",
       "25                      IoT    130\n",
       "26                      SAP    126\n",
       "27           Conversational    124\n",
       "28                     Demo    122\n",
       "29                Microsoft    122"
      ]
     },
     "execution_count": 22,
     "metadata": {},
     "output_type": "execute_result"
    }
   ],
   "source": [
    "df_filtered_sample['companies'].explode().value_counts().reset_index().head(30)\n"
   ]
  },
  {
   "cell_type": "code",
   "execution_count": 25,
   "metadata": {},
   "outputs": [
    {
     "data": {
      "text/html": [
       "<div>\n",
       "<style scoped>\n",
       "    .dataframe tbody tr th:only-of-type {\n",
       "        vertical-align: middle;\n",
       "    }\n",
       "\n",
       "    .dataframe tbody tr th {\n",
       "        vertical-align: top;\n",
       "    }\n",
       "\n",
       "    .dataframe thead th {\n",
       "        text-align: right;\n",
       "    }\n",
       "</style>\n",
       "<table border=\"1\" class=\"dataframe\">\n",
       "  <thead>\n",
       "    <tr style=\"text-align: right;\">\n",
       "      <th></th>\n",
       "      <th>companies_sentences</th>\n",
       "      <th>count</th>\n",
       "    </tr>\n",
       "  </thead>\n",
       "  <tbody>\n",
       "    <tr>\n",
       "      <th>0</th>\n",
       "      <td>AI</td>\n",
       "      <td>2181</td>\n",
       "    </tr>\n",
       "    <tr>\n",
       "      <th>1</th>\n",
       "      <td>US</td>\n",
       "      <td>993</td>\n",
       "    </tr>\n",
       "    <tr>\n",
       "      <th>2</th>\n",
       "      <td>Artificial Intelligence</td>\n",
       "      <td>819</td>\n",
       "    </tr>\n",
       "    <tr>\n",
       "      <th>3</th>\n",
       "      <td>ChatGPT</td>\n",
       "      <td>770</td>\n",
       "    </tr>\n",
       "    <tr>\n",
       "      <th>4</th>\n",
       "      <td>Republic</td>\n",
       "      <td>469</td>\n",
       "    </tr>\n",
       "    <tr>\n",
       "      <th>5</th>\n",
       "      <td>PRNewswire</td>\n",
       "      <td>430</td>\n",
       "    </tr>\n",
       "    <tr>\n",
       "      <th>6</th>\n",
       "      <td>DIGI</td>\n",
       "      <td>384</td>\n",
       "    </tr>\n",
       "    <tr>\n",
       "      <th>7</th>\n",
       "      <td>CEO</td>\n",
       "      <td>284</td>\n",
       "    </tr>\n",
       "    <tr>\n",
       "      <th>8</th>\n",
       "      <td>Gray Television</td>\n",
       "      <td>243</td>\n",
       "    </tr>\n",
       "    <tr>\n",
       "      <th>9</th>\n",
       "      <td>OpenAI</td>\n",
       "      <td>236</td>\n",
       "    </tr>\n",
       "    <tr>\n",
       "      <th>10</th>\n",
       "      <td>Company</td>\n",
       "      <td>217</td>\n",
       "    </tr>\n",
       "    <tr>\n",
       "      <th>11</th>\n",
       "      <td>ServicePrivacy</td>\n",
       "      <td>217</td>\n",
       "    </tr>\n",
       "    <tr>\n",
       "      <th>12</th>\n",
       "      <td>Release Sign Up Log</td>\n",
       "      <td>208</td>\n",
       "    </tr>\n",
       "    <tr>\n",
       "      <th>13</th>\n",
       "      <td>COMMUNICATIONS</td>\n",
       "      <td>192</td>\n",
       "    </tr>\n",
       "    <tr>\n",
       "      <th>14</th>\n",
       "      <td>University</td>\n",
       "      <td>178</td>\n",
       "    </tr>\n",
       "    <tr>\n",
       "      <th>15</th>\n",
       "      <td>News</td>\n",
       "      <td>172</td>\n",
       "    </tr>\n",
       "    <tr>\n",
       "      <th>16</th>\n",
       "      <td>IBM</td>\n",
       "      <td>164</td>\n",
       "    </tr>\n",
       "    <tr>\n",
       "      <th>17</th>\n",
       "      <td>Media</td>\n",
       "      <td>149</td>\n",
       "    </tr>\n",
       "    <tr>\n",
       "      <th>18</th>\n",
       "      <td>UK</td>\n",
       "      <td>148</td>\n",
       "    </tr>\n",
       "    <tr>\n",
       "      <th>19</th>\n",
       "      <td>Digi Communications</td>\n",
       "      <td>143</td>\n",
       "    </tr>\n",
       "    <tr>\n",
       "      <th>20</th>\n",
       "      <td>BrandVoice</td>\n",
       "      <td>141</td>\n",
       "    </tr>\n",
       "    <tr>\n",
       "      <th>21</th>\n",
       "      <td>NVIDIA</td>\n",
       "      <td>141</td>\n",
       "    </tr>\n",
       "    <tr>\n",
       "      <th>22</th>\n",
       "      <td>Digital</td>\n",
       "      <td>139</td>\n",
       "    </tr>\n",
       "    <tr>\n",
       "      <th>23</th>\n",
       "      <td>LifestyleGray</td>\n",
       "      <td>133</td>\n",
       "    </tr>\n",
       "    <tr>\n",
       "      <th>24</th>\n",
       "      <td>BureauInvestigate</td>\n",
       "      <td>131</td>\n",
       "    </tr>\n",
       "    <tr>\n",
       "      <th>25</th>\n",
       "      <td>IoT</td>\n",
       "      <td>130</td>\n",
       "    </tr>\n",
       "    <tr>\n",
       "      <th>26</th>\n",
       "      <td>SAP</td>\n",
       "      <td>126</td>\n",
       "    </tr>\n",
       "    <tr>\n",
       "      <th>27</th>\n",
       "      <td>Conversational</td>\n",
       "      <td>124</td>\n",
       "    </tr>\n",
       "    <tr>\n",
       "      <th>28</th>\n",
       "      <td>Microsoft</td>\n",
       "      <td>123</td>\n",
       "    </tr>\n",
       "    <tr>\n",
       "      <th>29</th>\n",
       "      <td>Demo</td>\n",
       "      <td>122</td>\n",
       "    </tr>\n",
       "  </tbody>\n",
       "</table>\n",
       "</div>"
      ],
      "text/plain": [
       "        companies_sentences  count\n",
       "0                        AI   2181\n",
       "1                        US    993\n",
       "2   Artificial Intelligence    819\n",
       "3                   ChatGPT    770\n",
       "4                  Republic    469\n",
       "5                PRNewswire    430\n",
       "6                      DIGI    384\n",
       "7                       CEO    284\n",
       "8           Gray Television    243\n",
       "9                    OpenAI    236\n",
       "10                  Company    217\n",
       "11           ServicePrivacy    217\n",
       "12      Release Sign Up Log    208\n",
       "13           COMMUNICATIONS    192\n",
       "14               University    178\n",
       "15                     News    172\n",
       "16                      IBM    164\n",
       "17                    Media    149\n",
       "18                       UK    148\n",
       "19      Digi Communications    143\n",
       "20               BrandVoice    141\n",
       "21                   NVIDIA    141\n",
       "22                  Digital    139\n",
       "23            LifestyleGray    133\n",
       "24        BureauInvestigate    131\n",
       "25                      IoT    130\n",
       "26                      SAP    126\n",
       "27           Conversational    124\n",
       "28                Microsoft    123\n",
       "29                     Demo    122"
      ]
     },
     "execution_count": 25,
     "metadata": {},
     "output_type": "execute_result"
    }
   ],
   "source": [
    "df_filtered_sample['companies_sentences'].explode().value_counts().reset_index().head(30)\n"
   ]
  },
  {
   "attachments": {},
   "cell_type": "markdown",
   "metadata": {},
   "source": [
    "## Using Spacy for NER"
   ]
  },
  {
   "cell_type": "code",
   "execution_count": 28,
   "metadata": {},
   "outputs": [
    {
     "name": "stdout",
     "output_type": "stream",
     "text": [
      "3.5.2\n"
     ]
    }
   ],
   "source": [
    "import spacy \n",
    "from spacy import displacy\n",
    "from spacy.util import minibatch, compounding\n",
    "from tqdm import tqdm\n",
    "# spacy.prefer_gpu()\n",
    "#spacy.require_gpu()\n",
    "\n",
    "print(spacy.__version__)\n"
   ]
  },
  {
   "cell_type": "code",
   "execution_count": 33,
   "metadata": {},
   "outputs": [],
   "source": [
    "nlp = spacy.load(\"en_core_web_sm\",exclude=['tok2vec','lemmatizer'])\n"
   ]
  },
  {
   "cell_type": "code",
   "execution_count": 34,
   "metadata": {},
   "outputs": [
    {
     "data": {
      "text/plain": [
       "['tagger', 'parser', 'attribute_ruler', 'ner']"
      ]
     },
     "execution_count": 34,
     "metadata": {},
     "output_type": "execute_result"
    }
   ],
   "source": [
    "nlp.pipe_names"
   ]
  },
  {
   "cell_type": "code",
   "execution_count": 29,
   "metadata": {},
   "outputs": [
    {
     "data": {
      "text/plain": [
       "True"
      ]
     },
     "execution_count": 29,
     "metadata": {},
     "output_type": "execute_result"
    }
   ],
   "source": [
    "spacy.require_cpu()\n"
   ]
  },
  {
   "cell_type": "code",
   "execution_count": 31,
   "metadata": {},
   "outputs": [],
   "source": [
    "df_filtered_sample_spacy = df_filtered_sample[['title','cleaned_text']].copy()"
   ]
  },
  {
   "cell_type": "code",
   "execution_count": 67,
   "metadata": {},
   "outputs": [],
   "source": [
    "# Apply the lemmatizer to each word in each text of the 'cleaned_text' column\n",
    "df_filtered_sample_spacy['cleaned_text'] = df_filtered_sample_spacy['cleaned_text'].apply(lambda text: \" \".join(wnl.lemmatize(word) for word in str(text).split()))\n",
    "\n"
   ]
  },
  {
   "cell_type": "code",
   "execution_count": 68,
   "metadata": {},
   "outputs": [],
   "source": [
    "title_entities = []\n",
    "for doc in nlp.pipe(\n",
    "    texts = df_filtered_sample_spacy['cleaned_text'],\n",
    "):\n",
    "    ents = []\n",
    "    for ent in doc.ents:\n",
    "        if ent.label_ in ['ORG']:\n",
    "            ents.append(ent.text)\n",
    "    title_entities.append(ents)"
   ]
  },
  {
   "cell_type": "code",
   "execution_count": 69,
   "metadata": {},
   "outputs": [],
   "source": [
    "df_filtered_sample_spacy['companies'] = title_entities\n"
   ]
  },
  {
   "cell_type": "code",
   "execution_count": 57,
   "metadata": {},
   "outputs": [],
   "source": [
    "#df_filtered_sample_spacy.head()"
   ]
  },
  {
   "cell_type": "code",
   "execution_count": 39,
   "metadata": {},
   "outputs": [
    {
     "data": {
      "text/html": [
       "<div>\n",
       "<style scoped>\n",
       "    .dataframe tbody tr th:only-of-type {\n",
       "        vertical-align: middle;\n",
       "    }\n",
       "\n",
       "    .dataframe tbody tr th {\n",
       "        vertical-align: top;\n",
       "    }\n",
       "\n",
       "    .dataframe thead th {\n",
       "        text-align: right;\n",
       "    }\n",
       "</style>\n",
       "<table border=\"1\" class=\"dataframe\">\n",
       "  <thead>\n",
       "    <tr style=\"text-align: right;\">\n",
       "      <th></th>\n",
       "      <th>companies</th>\n",
       "      <th>count</th>\n",
       "    </tr>\n",
       "  </thead>\n",
       "  <tbody>\n",
       "    <tr>\n",
       "      <th>0</th>\n",
       "      <td>microsoft</td>\n",
       "      <td>414</td>\n",
       "    </tr>\n",
       "    <tr>\n",
       "      <th>1</th>\n",
       "      <td>google</td>\n",
       "      <td>313</td>\n",
       "    </tr>\n",
       "    <tr>\n",
       "      <th>2</th>\n",
       "      <td>ibm</td>\n",
       "      <td>282</td>\n",
       "    </tr>\n",
       "    <tr>\n",
       "      <th>3</th>\n",
       "      <td>gpt</td>\n",
       "      <td>250</td>\n",
       "    </tr>\n",
       "    <tr>\n",
       "      <th>4</th>\n",
       "      <td>media group inc station gray television inc</td>\n",
       "      <td>226</td>\n",
       "    </tr>\n",
       "    <tr>\n",
       "      <th>5</th>\n",
       "      <td>intel</td>\n",
       "      <td>169</td>\n",
       "    </tr>\n",
       "    <tr>\n",
       "      <th>6</th>\n",
       "      <td>fda</td>\n",
       "      <td>156</td>\n",
       "    </tr>\n",
       "    <tr>\n",
       "      <th>7</th>\n",
       "      <td>fcc</td>\n",
       "      <td>156</td>\n",
       "    </tr>\n",
       "    <tr>\n",
       "      <th>8</th>\n",
       "      <td>sony</td>\n",
       "      <td>89</td>\n",
       "    </tr>\n",
       "    <tr>\n",
       "      <th>9</th>\n",
       "      <td>regtech</td>\n",
       "      <td>84</td>\n",
       "    </tr>\n",
       "    <tr>\n",
       "      <th>10</th>\n",
       "      <td>samsung</td>\n",
       "      <td>66</td>\n",
       "    </tr>\n",
       "    <tr>\n",
       "      <th>11</th>\n",
       "      <td>npr</td>\n",
       "      <td>66</td>\n",
       "    </tr>\n",
       "    <tr>\n",
       "      <th>12</th>\n",
       "      <td>cnn</td>\n",
       "      <td>61</td>\n",
       "    </tr>\n",
       "    <tr>\n",
       "      <th>13</th>\n",
       "      <td>white house</td>\n",
       "      <td>56</td>\n",
       "    </tr>\n",
       "    <tr>\n",
       "      <th>14</th>\n",
       "      <td>congress</td>\n",
       "      <td>56</td>\n",
       "    </tr>\n",
       "    <tr>\n",
       "      <th>15</th>\n",
       "      <td>quantum</td>\n",
       "      <td>55</td>\n",
       "    </tr>\n",
       "    <tr>\n",
       "      <th>16</th>\n",
       "      <td>un</td>\n",
       "      <td>50</td>\n",
       "    </tr>\n",
       "    <tr>\n",
       "      <th>17</th>\n",
       "      <td>nasa</td>\n",
       "      <td>48</td>\n",
       "    </tr>\n",
       "    <tr>\n",
       "      <th>18</th>\n",
       "      <td>pbs</td>\n",
       "      <td>44</td>\n",
       "    </tr>\n",
       "    <tr>\n",
       "      <th>19</th>\n",
       "      <td>nederland</td>\n",
       "      <td>41</td>\n",
       "    </tr>\n",
       "  </tbody>\n",
       "</table>\n",
       "</div>"
      ],
      "text/plain": [
       "                                      companies  count\n",
       "0                                     microsoft    414\n",
       "1                                        google    313\n",
       "2                                           ibm    282\n",
       "3                                           gpt    250\n",
       "4   media group inc station gray television inc    226\n",
       "5                                         intel    169\n",
       "6                                           fda    156\n",
       "7                                           fcc    156\n",
       "8                                          sony     89\n",
       "9                                       regtech     84\n",
       "10                                      samsung     66\n",
       "11                                          npr     66\n",
       "12                                          cnn     61\n",
       "13                                  white house     56\n",
       "14                                     congress     56\n",
       "15                                      quantum     55\n",
       "16                                           un     50\n",
       "17                                         nasa     48\n",
       "18                                          pbs     44\n",
       "19                                    nederland     41"
      ]
     },
     "execution_count": 39,
     "metadata": {},
     "output_type": "execute_result"
    }
   ],
   "source": [
    "df_filtered_sample_spacy['companies'].explode().value_counts().reset_index().head(20)\n"
   ]
  },
  {
   "cell_type": "code",
   "execution_count": 70,
   "metadata": {},
   "outputs": [
    {
     "data": {
      "text/html": [
       "<div>\n",
       "<style scoped>\n",
       "    .dataframe tbody tr th:only-of-type {\n",
       "        vertical-align: middle;\n",
       "    }\n",
       "\n",
       "    .dataframe tbody tr th {\n",
       "        vertical-align: top;\n",
       "    }\n",
       "\n",
       "    .dataframe thead th {\n",
       "        text-align: right;\n",
       "    }\n",
       "</style>\n",
       "<table border=\"1\" class=\"dataframe\">\n",
       "  <thead>\n",
       "    <tr style=\"text-align: right;\">\n",
       "      <th></th>\n",
       "      <th>companies</th>\n",
       "      <th>count</th>\n",
       "    </tr>\n",
       "  </thead>\n",
       "  <tbody>\n",
       "    <tr>\n",
       "      <th>0</th>\n",
       "      <td>microsoft</td>\n",
       "      <td>410</td>\n",
       "    </tr>\n",
       "    <tr>\n",
       "      <th>1</th>\n",
       "      <td>google</td>\n",
       "      <td>316</td>\n",
       "    </tr>\n",
       "    <tr>\n",
       "      <th>2</th>\n",
       "      <td>ibm</td>\n",
       "      <td>283</td>\n",
       "    </tr>\n",
       "    <tr>\n",
       "      <th>3</th>\n",
       "      <td>gpt</td>\n",
       "      <td>236</td>\n",
       "    </tr>\n",
       "    <tr>\n",
       "      <th>4</th>\n",
       "      <td>log resource blog</td>\n",
       "      <td>208</td>\n",
       "    </tr>\n",
       "    <tr>\n",
       "      <th>5</th>\n",
       "      <td>intel</td>\n",
       "      <td>169</td>\n",
       "    </tr>\n",
       "    <tr>\n",
       "      <th>6</th>\n",
       "      <td>fcc</td>\n",
       "      <td>157</td>\n",
       "    </tr>\n",
       "    <tr>\n",
       "      <th>7</th>\n",
       "      <td>fda</td>\n",
       "      <td>156</td>\n",
       "    </tr>\n",
       "    <tr>\n",
       "      <th>8</th>\n",
       "      <td>sony</td>\n",
       "      <td>90</td>\n",
       "    </tr>\n",
       "    <tr>\n",
       "      <th>9</th>\n",
       "      <td>regtech</td>\n",
       "      <td>85</td>\n",
       "    </tr>\n",
       "    <tr>\n",
       "      <th>10</th>\n",
       "      <td>united state</td>\n",
       "      <td>71</td>\n",
       "    </tr>\n",
       "    <tr>\n",
       "      <th>11</th>\n",
       "      <td>samsung</td>\n",
       "      <td>70</td>\n",
       "    </tr>\n",
       "    <tr>\n",
       "      <th>12</th>\n",
       "      <td>npr</td>\n",
       "      <td>66</td>\n",
       "    </tr>\n",
       "    <tr>\n",
       "      <th>13</th>\n",
       "      <td>cnn</td>\n",
       "      <td>61</td>\n",
       "    </tr>\n",
       "    <tr>\n",
       "      <th>14</th>\n",
       "      <td>quantum</td>\n",
       "      <td>60</td>\n",
       "    </tr>\n",
       "    <tr>\n",
       "      <th>15</th>\n",
       "      <td>congress</td>\n",
       "      <td>55</td>\n",
       "    </tr>\n",
       "    <tr>\n",
       "      <th>16</th>\n",
       "      <td>un</td>\n",
       "      <td>54</td>\n",
       "    </tr>\n",
       "    <tr>\n",
       "      <th>17</th>\n",
       "      <td>white house</td>\n",
       "      <td>54</td>\n",
       "    </tr>\n",
       "    <tr>\n",
       "      <th>18</th>\n",
       "      <td>nederland</td>\n",
       "      <td>43</td>\n",
       "    </tr>\n",
       "    <tr>\n",
       "      <th>19</th>\n",
       "      <td>nasa</td>\n",
       "      <td>43</td>\n",
       "    </tr>\n",
       "  </tbody>\n",
       "</table>\n",
       "</div>"
      ],
      "text/plain": [
       "            companies  count\n",
       "0           microsoft    410\n",
       "1              google    316\n",
       "2                 ibm    283\n",
       "3                 gpt    236\n",
       "4   log resource blog    208\n",
       "5               intel    169\n",
       "6                 fcc    157\n",
       "7                 fda    156\n",
       "8                sony     90\n",
       "9             regtech     85\n",
       "10       united state     71\n",
       "11            samsung     70\n",
       "12                npr     66\n",
       "13                cnn     61\n",
       "14            quantum     60\n",
       "15           congress     55\n",
       "16                 un     54\n",
       "17        white house     54\n",
       "18          nederland     43\n",
       "19               nasa     43"
      ]
     },
     "execution_count": 70,
     "metadata": {},
     "output_type": "execute_result"
    }
   ],
   "source": [
    "#with lemmatization\n",
    "df_filtered_sample_spacy['companies'].explode().value_counts().reset_index().head(20)\n"
   ]
  },
  {
   "cell_type": "code",
   "execution_count": 46,
   "metadata": {},
   "outputs": [],
   "source": [
    "#filter dataframe to only include rows with microsft in the companies column - count the rows\n",
    "#if the sentiment was here - we can look at the sentiment and see what they are talking about the company\n",
    "#what are the other technologies that they are talking about that is associated with microsoft? \n",
    "df_microsoft = df_filtered_sample_spacy[df_filtered_sample_spacy['companies'].apply(lambda x: 'microsoft' in x)]\n",
    "#df_filtered_sample_spacy[df_filtered_sample_spacy['companies'].str.contains('Microsoft')].head(20)\n"
   ]
  },
  {
   "cell_type": "code",
   "execution_count": 54,
   "metadata": {},
   "outputs": [],
   "source": [
    "#df_microsoft.head()"
   ]
  },
  {
   "cell_type": "code",
   "execution_count": null,
   "metadata": {},
   "outputs": [],
   "source": [
    "title_entities = []\n",
    "for doc in nlp.pipe(\n",
    "    texts = news_df_spacy['text'],\n",
    "):\n",
    "    ents = []\n",
    "    for ent in doc.ents:\n",
    "        if ent.label_ in ['GPE']:\n",
    "            ents.append(ent.text)\n",
    "    title_entities.append(ents)"
   ]
  },
  {
   "cell_type": "code",
   "execution_count": 121,
   "metadata": {},
   "outputs": [],
   "source": [
    "#expand row line width\n",
    "pd.set_option('display.max_colwidth', 1)"
   ]
  },
  {
   "attachments": {},
   "cell_type": "markdown",
   "metadata": {},
   "source": [
    "## Spacy on titles "
   ]
  },
  {
   "cell_type": "code",
   "execution_count": 49,
   "metadata": {},
   "outputs": [],
   "source": [
    "df_filtered_sample_spacy_title = df_filtered_sample[['clean_title','cleaned_text']].copy()"
   ]
  },
  {
   "cell_type": "code",
   "execution_count": 62,
   "metadata": {},
   "outputs": [],
   "source": [
    "wnl = nltk.WordNetLemmatizer()\n"
   ]
  },
  {
   "cell_type": "code",
   "execution_count": 52,
   "metadata": {},
   "outputs": [],
   "source": [
    "#this should be done earlier but im doing this here because this is just a sample\n",
    "#titles may be easier to clean and run to identify trends with the entities recognition\n",
    "df_filtered_sample_spacy_title['clean_title'] = df_filtered_sample_spacy_title['clean_title'].apply(clean)\n"
   ]
  },
  {
   "cell_type": "code",
   "execution_count": 63,
   "metadata": {},
   "outputs": [],
   "source": [
    "# Apply the lemmatizer to each word in each text of the 'clean_title' column\n",
    "df_filtered_sample_spacy_title['clean_title'] = df_filtered_sample_spacy_title['clean_title'].apply(lambda text: \" \".join(wnl.lemmatize(word) for word in str(text).split()))\n",
    "\n"
   ]
  },
  {
   "cell_type": "code",
   "execution_count": 55,
   "metadata": {},
   "outputs": [],
   "source": [
    "#df_filtered_sample_spacy_title.head()"
   ]
  },
  {
   "cell_type": "code",
   "execution_count": 64,
   "metadata": {},
   "outputs": [],
   "source": [
    "title_entities = []\n",
    "for doc in nlp.pipe(\n",
    "    texts = df_filtered_sample_spacy_title['clean_title'],\n",
    "):\n",
    "    ents = []\n",
    "    for ent in doc.ents:\n",
    "        if ent.label_ in ['ORG']:\n",
    "            ents.append(ent.text)\n",
    "    title_entities.append(ents)"
   ]
  },
  {
   "cell_type": "code",
   "execution_count": 65,
   "metadata": {},
   "outputs": [],
   "source": [
    "df_filtered_sample_spacy_title['companies'] = title_entities\n"
   ]
  },
  {
   "cell_type": "code",
   "execution_count": 59,
   "metadata": {},
   "outputs": [
    {
     "data": {
      "text/html": [
       "<div>\n",
       "<style scoped>\n",
       "    .dataframe tbody tr th:only-of-type {\n",
       "        vertical-align: middle;\n",
       "    }\n",
       "\n",
       "    .dataframe tbody tr th {\n",
       "        vertical-align: top;\n",
       "    }\n",
       "\n",
       "    .dataframe thead th {\n",
       "        text-align: right;\n",
       "    }\n",
       "</style>\n",
       "<table border=\"1\" class=\"dataframe\">\n",
       "  <thead>\n",
       "    <tr style=\"text-align: right;\">\n",
       "      <th></th>\n",
       "      <th>companies</th>\n",
       "      <th>count</th>\n",
       "    </tr>\n",
       "  </thead>\n",
       "  <tbody>\n",
       "    <tr>\n",
       "      <th>0</th>\n",
       "      <td>ibm</td>\n",
       "      <td>29</td>\n",
       "    </tr>\n",
       "    <tr>\n",
       "      <th>1</th>\n",
       "      <td>microsoft</td>\n",
       "      <td>20</td>\n",
       "    </tr>\n",
       "    <tr>\n",
       "      <th>2</th>\n",
       "      <td>google</td>\n",
       "      <td>16</td>\n",
       "    </tr>\n",
       "    <tr>\n",
       "      <th>3</th>\n",
       "      <td>intel</td>\n",
       "      <td>9</td>\n",
       "    </tr>\n",
       "    <tr>\n",
       "      <th>4</th>\n",
       "      <td>white house</td>\n",
       "      <td>6</td>\n",
       "    </tr>\n",
       "    <tr>\n",
       "      <th>5</th>\n",
       "      <td>fda</td>\n",
       "      <td>3</td>\n",
       "    </tr>\n",
       "    <tr>\n",
       "      <th>6</th>\n",
       "      <td>gpt</td>\n",
       "      <td>3</td>\n",
       "    </tr>\n",
       "    <tr>\n",
       "      <th>7</th>\n",
       "      <td>apple</td>\n",
       "      <td>3</td>\n",
       "    </tr>\n",
       "    <tr>\n",
       "      <th>8</th>\n",
       "      <td>sony</td>\n",
       "      <td>3</td>\n",
       "    </tr>\n",
       "    <tr>\n",
       "      <th>9</th>\n",
       "      <td>fbi</td>\n",
       "      <td>2</td>\n",
       "    </tr>\n",
       "    <tr>\n",
       "      <th>10</th>\n",
       "      <td>joann</td>\n",
       "      <td>2</td>\n",
       "    </tr>\n",
       "    <tr>\n",
       "      <th>11</th>\n",
       "      <td>fox news</td>\n",
       "      <td>2</td>\n",
       "    </tr>\n",
       "    <tr>\n",
       "      <th>12</th>\n",
       "      <td>supreme court</td>\n",
       "      <td>2</td>\n",
       "    </tr>\n",
       "    <tr>\n",
       "      <th>13</th>\n",
       "      <td>vision alliance</td>\n",
       "      <td>2</td>\n",
       "    </tr>\n",
       "    <tr>\n",
       "      <th>14</th>\n",
       "      <td>workwave</td>\n",
       "      <td>2</td>\n",
       "    </tr>\n",
       "    <tr>\n",
       "      <th>15</th>\n",
       "      <td>amazon</td>\n",
       "      <td>2</td>\n",
       "    </tr>\n",
       "    <tr>\n",
       "      <th>16</th>\n",
       "      <td>eurotech</td>\n",
       "      <td>2</td>\n",
       "    </tr>\n",
       "    <tr>\n",
       "      <th>17</th>\n",
       "      <td>sustainability</td>\n",
       "      <td>2</td>\n",
       "    </tr>\n",
       "    <tr>\n",
       "      <th>18</th>\n",
       "      <td>spintellx inspirata announce</td>\n",
       "      <td>1</td>\n",
       "    </tr>\n",
       "    <tr>\n",
       "      <th>19</th>\n",
       "      <td>septa board</td>\n",
       "      <td>1</td>\n",
       "    </tr>\n",
       "  </tbody>\n",
       "</table>\n",
       "</div>"
      ],
      "text/plain": [
       "                       companies  count\n",
       "0                            ibm     29\n",
       "1                      microsoft     20\n",
       "2                         google     16\n",
       "3                          intel      9\n",
       "4                    white house      6\n",
       "5                            fda      3\n",
       "6                            gpt      3\n",
       "7                          apple      3\n",
       "8                           sony      3\n",
       "9                            fbi      2\n",
       "10                         joann      2\n",
       "11                      fox news      2\n",
       "12                 supreme court      2\n",
       "13               vision alliance      2\n",
       "14                      workwave      2\n",
       "15                        amazon      2\n",
       "16                      eurotech      2\n",
       "17                sustainability      2\n",
       "18  spintellx inspirata announce      1\n",
       "19                   septa board      1"
      ]
     },
     "execution_count": 59,
     "metadata": {},
     "output_type": "execute_result"
    }
   ],
   "source": [
    "df_filtered_sample_spacy_title['companies'].explode().value_counts().reset_index().head(20)\n"
   ]
  },
  {
   "cell_type": "code",
   "execution_count": 66,
   "metadata": {},
   "outputs": [
    {
     "data": {
      "text/html": [
       "<div>\n",
       "<style scoped>\n",
       "    .dataframe tbody tr th:only-of-type {\n",
       "        vertical-align: middle;\n",
       "    }\n",
       "\n",
       "    .dataframe tbody tr th {\n",
       "        vertical-align: top;\n",
       "    }\n",
       "\n",
       "    .dataframe thead th {\n",
       "        text-align: right;\n",
       "    }\n",
       "</style>\n",
       "<table border=\"1\" class=\"dataframe\">\n",
       "  <thead>\n",
       "    <tr style=\"text-align: right;\">\n",
       "      <th></th>\n",
       "      <th>companies</th>\n",
       "      <th>count</th>\n",
       "    </tr>\n",
       "  </thead>\n",
       "  <tbody>\n",
       "    <tr>\n",
       "      <th>0</th>\n",
       "      <td>ibm</td>\n",
       "      <td>29</td>\n",
       "    </tr>\n",
       "    <tr>\n",
       "      <th>1</th>\n",
       "      <td>microsoft</td>\n",
       "      <td>19</td>\n",
       "    </tr>\n",
       "    <tr>\n",
       "      <th>2</th>\n",
       "      <td>google</td>\n",
       "      <td>18</td>\n",
       "    </tr>\n",
       "    <tr>\n",
       "      <th>3</th>\n",
       "      <td>intel</td>\n",
       "      <td>9</td>\n",
       "    </tr>\n",
       "    <tr>\n",
       "      <th>4</th>\n",
       "      <td>white house</td>\n",
       "      <td>6</td>\n",
       "    </tr>\n",
       "    <tr>\n",
       "      <th>5</th>\n",
       "      <td>murphy hockey law</td>\n",
       "      <td>4</td>\n",
       "    </tr>\n",
       "    <tr>\n",
       "      <th>6</th>\n",
       "      <td>fda</td>\n",
       "      <td>3</td>\n",
       "    </tr>\n",
       "    <tr>\n",
       "      <th>7</th>\n",
       "      <td>sony</td>\n",
       "      <td>3</td>\n",
       "    </tr>\n",
       "    <tr>\n",
       "      <th>8</th>\n",
       "      <td>gpt</td>\n",
       "      <td>3</td>\n",
       "    </tr>\n",
       "    <tr>\n",
       "      <th>9</th>\n",
       "      <td>eurotech</td>\n",
       "      <td>2</td>\n",
       "    </tr>\n",
       "    <tr>\n",
       "      <th>10</th>\n",
       "      <td>fbi</td>\n",
       "      <td>2</td>\n",
       "    </tr>\n",
       "    <tr>\n",
       "      <th>11</th>\n",
       "      <td>apple</td>\n",
       "      <td>2</td>\n",
       "    </tr>\n",
       "    <tr>\n",
       "      <th>12</th>\n",
       "      <td>supreme court</td>\n",
       "      <td>2</td>\n",
       "    </tr>\n",
       "    <tr>\n",
       "      <th>13</th>\n",
       "      <td>pentagon</td>\n",
       "      <td>2</td>\n",
       "    </tr>\n",
       "    <tr>\n",
       "      <th>14</th>\n",
       "      <td>ibm corp</td>\n",
       "      <td>2</td>\n",
       "    </tr>\n",
       "    <tr>\n",
       "      <th>15</th>\n",
       "      <td>northwestern university launch</td>\n",
       "      <td>2</td>\n",
       "    </tr>\n",
       "    <tr>\n",
       "      <th>16</th>\n",
       "      <td>vision alliance</td>\n",
       "      <td>2</td>\n",
       "    </tr>\n",
       "    <tr>\n",
       "      <th>17</th>\n",
       "      <td>amazon</td>\n",
       "      <td>2</td>\n",
       "    </tr>\n",
       "    <tr>\n",
       "      <th>18</th>\n",
       "      <td>microsoft international</td>\n",
       "      <td>2</td>\n",
       "    </tr>\n",
       "    <tr>\n",
       "      <th>19</th>\n",
       "      <td>cb insight</td>\n",
       "      <td>2</td>\n",
       "    </tr>\n",
       "  </tbody>\n",
       "</table>\n",
       "</div>"
      ],
      "text/plain": [
       "                         companies  count\n",
       "0                              ibm     29\n",
       "1                        microsoft     19\n",
       "2                           google     18\n",
       "3                            intel      9\n",
       "4                      white house      6\n",
       "5                murphy hockey law      4\n",
       "6                              fda      3\n",
       "7                             sony      3\n",
       "8                              gpt      3\n",
       "9                         eurotech      2\n",
       "10                             fbi      2\n",
       "11                           apple      2\n",
       "12                   supreme court      2\n",
       "13                        pentagon      2\n",
       "14                        ibm corp      2\n",
       "15  northwestern university launch      2\n",
       "16                 vision alliance      2\n",
       "17                          amazon      2\n",
       "18         microsoft international      2\n",
       "19                      cb insight      2"
      ]
     },
     "execution_count": 66,
     "metadata": {},
     "output_type": "execute_result"
    }
   ],
   "source": [
    "df_filtered_sample_spacy_title['companies'].explode().value_counts().reset_index().head(20)\n"
   ]
  },
  {
   "cell_type": "code",
   "execution_count": 61,
   "metadata": {},
   "outputs": [
    {
     "data": {
      "text/html": [
       "<div>\n",
       "<style scoped>\n",
       "    .dataframe tbody tr th:only-of-type {\n",
       "        vertical-align: middle;\n",
       "    }\n",
       "\n",
       "    .dataframe tbody tr th {\n",
       "        vertical-align: top;\n",
       "    }\n",
       "\n",
       "    .dataframe thead th {\n",
       "        text-align: right;\n",
       "    }\n",
       "</style>\n",
       "<table border=\"1\" class=\"dataframe\">\n",
       "  <thead>\n",
       "    <tr style=\"text-align: right;\">\n",
       "      <th></th>\n",
       "      <th>clean_title</th>\n",
       "      <th>cleaned_text</th>\n",
       "      <th>companies</th>\n",
       "    </tr>\n",
       "  </thead>\n",
       "  <tbody>\n",
       "    <tr>\n",
       "      <th>96091</th>\n",
       "      <td>aws announces general availability amazon augmented artificial intelligence broadcast newsroom</td>\n",
       "      <td>aws announces general availability amazon augmented artificial intelligence broadcast newsroom skip content broadcast newsroom news information broadcast professionals primary menu search announces general availability amazon augmented artificial intelligence news aws announces general availability amazon augmented artificial intelligence bn staff hours ago amazon makes easier developers build manage workflows validate machine learning predictions human reviewers national health service nhs uk mobile deloitte among customers partners using amazon seattle business wire today amazon web serv...</td>\n",
       "      <td>[]</td>\n",
       "    </tr>\n",
       "    <tr>\n",
       "      <th>91201</th>\n",
       "      <td>nigerians query chatgpt win tinubu others businessday ng</td>\n",
       "      <td>nigerians query chatgpt win tinubu others businessday ng news ahmed bola tinubu bdrecent businessday home big story news world africa legal business sports education companies economy agriculture aviation banking maritime real estate transportation research post technology energy renewables power oil gas interview commentary columnists opinion editorial bd weekender cartoon data analytics market data governance data app download andriod app download ios conferences login account subscribe logout sunday january businessday ng home big story news world africa legal business sports education ...</td>\n",
       "      <td>[]</td>\n",
       "    </tr>\n",
       "    <tr>\n",
       "      <th>154436</th>\n",
       "      <td>credo ai closes million series funding round led sands capital</td>\n",
       "      <td>credo ai closes million series funding round led sands capital skip contentnc dhhs flumarketplacemeet wbtv news team watch livenewsletterlatest videonewsweathercalendarwbtv investigateson side tonightqc lifesticker shocksearchwbtv newsabout wbtvmeet wbtv news team send us photos trafficwatch liveweb extra linksnews appstriviacontestsnewscelebrating eric thomascabarrus countycatawba co cleveland countygaston countyhigh countryiredell countymecklenburg co rowan countysouth carolinaunion countycrimeeducationsubmit first day photos know gomaking gradecollect connectcoronavirus planshigh school...</td>\n",
       "      <td>[]</td>\n",
       "    </tr>\n",
       "    <tr>\n",
       "      <th>69217</th>\n",
       "      <td>samsungs new washers dryers use ai clean clothes efficiently techradar</td>\n",
       "      <td>samsung new washers dryers use ai clean clothes efficiently techradar skip main content techradar source tech buying advice search subscribe rss please deactivate ad blocker order see subscription offer news reviews phones tvs laptops cameras deals wearables tablets computing audiovisual gaming smart home appliances car tech components downloads broadband deals vpn web hosting news video magazine black friday pro ces innovation week trending samsung buy iphone ces apple watch vpn oneplus techradar supported audience purchase links site may earn affiliate commission learn home news smart ho...</td>\n",
       "      <td>[]</td>\n",
       "    </tr>\n",
       "    <tr>\n",
       "      <th>196372</th>\n",
       "      <td>artificial intelligence ai cyber security market anticipated gain moderate cagr courier</td>\n",
       "      <td>artificial intelligence ai cyber security market anticipated gain moderate cagr courier tuesday june breaking news asphalt lubricating oil grease market predicted see lucrative gains automatic dicing saw inch inch market share manufacturer isco tsk tokyo seimitsu adt advanced dicing technologies loadpoint covid impact global analysis type fully automatic semi automatic application ic separation device led package artificial intelligence ai cyber security market anticipated gain moderate cagr mobile air purifier market size share global industry trends growth segmentation future demands lat...</td>\n",
       "      <td>[]</td>\n",
       "    </tr>\n",
       "    <tr>\n",
       "      <th>145960</th>\n",
       "      <td>faking space zoom moon pictures samsungs ai created shenanigans daily sabah</td>\n",
       "      <td>faking space zoom moon pictures samsung ai created shenanigans daily sabah daily sabah politics diplomacy legislation war terror eu affairs elections news analysis rk ye istanbul education investigations minorities expat corner diaspora world mid east europe americas asia pacific africa syrian crisis islamophobia business automotive economy energy finance tourism tech defense transportation news analysis lifestyle health environment travel food fashion science religion history feature expat corner arts cinema music events portrait reviews performing arts sports football basketball motorspo...</td>\n",
       "      <td>[]</td>\n",
       "    </tr>\n",
       "    <tr>\n",
       "      <th>74707</th>\n",
       "      <td>brothers bard gets grant nba foundation daily freeman</td>\n",
       "      <td>brothers bard gets grant nba foundation daily freeman close menunews local news national news election crime public safety traffic gas buddy sports things things tv listings comics puzzles special sections obituaries opinion marketplace jobs classifieds public notices services contact us advertise us submit announcements submit letter editor promotions subscribe log logout close menu skip content news local news national news election crime public safety traffic gas buddy sports things things tv listings comics puzzles special sections obituaries opinion marketplace jobs classifieds public...</td>\n",
       "      <td>[nba foundation]</td>\n",
       "    </tr>\n",
       "    <tr>\n",
       "      <th>55201</th>\n",
       "      <td>leapminds efficiera ultralow power ai inference accelerator ip verified rtl design asicassp conversion news break</td>\n",
       "      <td>leapmind efficiera ultra low power ai inference accelerator ip verified rtl design asic assp conversion news breaksearch locations channels topics people cancelcreatorspublishersadvertiserssign insign inhomecoronavirusoriginalheadlinesmy channelsadd locationpublisherscreatorsadvertisersterms useprivacy policydo sell infohelp centerabout particle media article asic ai accelerator inference software design machine design information design automobile design investment asic assp conversion ppa power performance area vp business lsi efficiera cnn leapmind leapmind inc ip configuration rtl asic...</td>\n",
       "      <td>[]</td>\n",
       "    </tr>\n",
       "    <tr>\n",
       "      <th>156491</th>\n",
       "      <td>new ai coach edthena expands access coaching teachers news wfmzcom</td>\n",
       "      <td>new ai coach edthena expands access coaching teachers news wfmz com skip main content permission edit article edit close sign log dashboard logout account dashboard profile saved items logout search home news coronavirus info lehigh valley berks regional schools us world new health news sunrise inside town espanol good news case missed recalls missing persons weather forecast hour hour local radar weather channel stream river levels pocono cameras school business closings send weather report traffic live streaming cameras cameras alerts lehigh valley traffic berks traffic corridor us corri...</td>\n",
       "      <td>[]</td>\n",
       "    </tr>\n",
       "    <tr>\n",
       "      <th>122738</th>\n",
       "      <td>caixabank microsoft establish innovation laboratory artificial intelligence solutions metaverse</td>\n",
       "      <td>caixabank microsoft establish innovation laboratory artificial intelligence solutions metaverse skip main content mondo visione worldwide financial markets intelligence advertise us online exchange handbook search login subscribe home exchanges exchange directory ftse mondo visione exchanges index index news news publications acronyms glossary white papers regulators associations close ftse mondo visione exchanges index news caixabank microsoft establish innovation laboratory artificial intelligence solutions metaverse date ai innovation lab two companies create solutions based disruptive ...</td>\n",
       "      <td>[microsoft]</td>\n",
       "    </tr>\n",
       "  </tbody>\n",
       "</table>\n",
       "</div>"
      ],
      "text/plain": [
       "                                                                                                              clean_title   \n",
       "96091                      aws announces general availability amazon augmented artificial intelligence broadcast newsroom  \\\n",
       "91201                                                            nigerians query chatgpt win tinubu others businessday ng   \n",
       "154436                                                     credo ai closes million series funding round led sands capital   \n",
       "69217                                              samsungs new washers dryers use ai clean clothes efficiently techradar   \n",
       "196372                            artificial intelligence ai cyber security market anticipated gain moderate cagr courier   \n",
       "145960                                        faking space zoom moon pictures samsungs ai created shenanigans daily sabah   \n",
       "74707                                                               brothers bard gets grant nba foundation daily freeman   \n",
       "55201   leapminds efficiera ultralow power ai inference accelerator ip verified rtl design asicassp conversion news break   \n",
       "156491                                                 new ai coach edthena expands access coaching teachers news wfmzcom   \n",
       "122738                    caixabank microsoft establish innovation laboratory artificial intelligence solutions metaverse   \n",
       "\n",
       "                                                                                                                                                                                                                                                                                                                                                                                                                                                                                                                                                                                                                   cleaned_text   \n",
       "96091   aws announces general availability amazon augmented artificial intelligence broadcast newsroom skip content broadcast newsroom news information broadcast professionals primary menu search announces general availability amazon augmented artificial intelligence news aws announces general availability amazon augmented artificial intelligence bn staff hours ago amazon makes easier developers build manage workflows validate machine learning predictions human reviewers national health service nhs uk mobile deloitte among customers partners using amazon seattle business wire today amazon web serv...  \\\n",
       "91201   nigerians query chatgpt win tinubu others businessday ng news ahmed bola tinubu bdrecent businessday home big story news world africa legal business sports education companies economy agriculture aviation banking maritime real estate transportation research post technology energy renewables power oil gas interview commentary columnists opinion editorial bd weekender cartoon data analytics market data governance data app download andriod app download ios conferences login account subscribe logout sunday january businessday ng home big story news world africa legal business sports education ...   \n",
       "154436  credo ai closes million series funding round led sands capital skip contentnc dhhs flumarketplacemeet wbtv news team watch livenewsletterlatest videonewsweathercalendarwbtv investigateson side tonightqc lifesticker shocksearchwbtv newsabout wbtvmeet wbtv news team send us photos trafficwatch liveweb extra linksnews appstriviacontestsnewscelebrating eric thomascabarrus countycatawba co cleveland countygaston countyhigh countryiredell countymecklenburg co rowan countysouth carolinaunion countycrimeeducationsubmit first day photos know gomaking gradecollect connectcoronavirus planshigh school...   \n",
       "69217   samsung new washers dryers use ai clean clothes efficiently techradar skip main content techradar source tech buying advice search subscribe rss please deactivate ad blocker order see subscription offer news reviews phones tvs laptops cameras deals wearables tablets computing audiovisual gaming smart home appliances car tech components downloads broadband deals vpn web hosting news video magazine black friday pro ces innovation week trending samsung buy iphone ces apple watch vpn oneplus techradar supported audience purchase links site may earn affiliate commission learn home news smart ho...   \n",
       "196372  artificial intelligence ai cyber security market anticipated gain moderate cagr courier tuesday june breaking news asphalt lubricating oil grease market predicted see lucrative gains automatic dicing saw inch inch market share manufacturer isco tsk tokyo seimitsu adt advanced dicing technologies loadpoint covid impact global analysis type fully automatic semi automatic application ic separation device led package artificial intelligence ai cyber security market anticipated gain moderate cagr mobile air purifier market size share global industry trends growth segmentation future demands lat...   \n",
       "145960  faking space zoom moon pictures samsung ai created shenanigans daily sabah daily sabah politics diplomacy legislation war terror eu affairs elections news analysis rk ye istanbul education investigations minorities expat corner diaspora world mid east europe americas asia pacific africa syrian crisis islamophobia business automotive economy energy finance tourism tech defense transportation news analysis lifestyle health environment travel food fashion science religion history feature expat corner arts cinema music events portrait reviews performing arts sports football basketball motorspo...   \n",
       "74707   brothers bard gets grant nba foundation daily freeman close menunews local news national news election crime public safety traffic gas buddy sports things things tv listings comics puzzles special sections obituaries opinion marketplace jobs classifieds public notices services contact us advertise us submit announcements submit letter editor promotions subscribe log logout close menu skip content news local news national news election crime public safety traffic gas buddy sports things things tv listings comics puzzles special sections obituaries opinion marketplace jobs classifieds public...   \n",
       "55201   leapmind efficiera ultra low power ai inference accelerator ip verified rtl design asic assp conversion news breaksearch locations channels topics people cancelcreatorspublishersadvertiserssign insign inhomecoronavirusoriginalheadlinesmy channelsadd locationpublisherscreatorsadvertisersterms useprivacy policydo sell infohelp centerabout particle media article asic ai accelerator inference software design machine design information design automobile design investment asic assp conversion ppa power performance area vp business lsi efficiera cnn leapmind leapmind inc ip configuration rtl asic...   \n",
       "156491  new ai coach edthena expands access coaching teachers news wfmz com skip main content permission edit article edit close sign log dashboard logout account dashboard profile saved items logout search home news coronavirus info lehigh valley berks regional schools us world new health news sunrise inside town espanol good news case missed recalls missing persons weather forecast hour hour local radar weather channel stream river levels pocono cameras school business closings send weather report traffic live streaming cameras cameras alerts lehigh valley traffic berks traffic corridor us corri...   \n",
       "122738  caixabank microsoft establish innovation laboratory artificial intelligence solutions metaverse skip main content mondo visione worldwide financial markets intelligence advertise us online exchange handbook search login subscribe home exchanges exchange directory ftse mondo visione exchanges index index news news publications acronyms glossary white papers regulators associations close ftse mondo visione exchanges index news caixabank microsoft establish innovation laboratory artificial intelligence solutions metaverse date ai innovation lab two companies create solutions based disruptive ...   \n",
       "\n",
       "               companies  \n",
       "96091                 []  \n",
       "91201                 []  \n",
       "154436                []  \n",
       "69217                 []  \n",
       "196372                []  \n",
       "145960                []  \n",
       "74707   [nba foundation]  \n",
       "55201                 []  \n",
       "156491                []  \n",
       "122738       [microsoft]  "
      ]
     },
     "execution_count": 61,
     "metadata": {},
     "output_type": "execute_result"
    }
   ],
   "source": [
    "df_filtered_sample_spacy_title.head(10)"
   ]
  },
  {
   "cell_type": "code",
   "execution_count": null,
   "metadata": {},
   "outputs": [],
   "source": []
  }
 ],
 "metadata": {
  "environment": {
   "kernel": "python3",
   "name": "tf2-gpu.2-11.m108",
   "type": "gcloud",
   "uri": "gcr.io/deeplearning-platform-release/tf2-gpu.2-11:m108"
  },
  "kernelspec": {
   "display_name": "Python 3 (ipykernel)",
   "language": "python",
   "name": "python3"
  },
  "language_info": {
   "codemirror_mode": {
    "name": "ipython",
    "version": 3
   },
   "file_extension": ".py",
   "mimetype": "text/x-python",
   "name": "python",
   "nbconvert_exporter": "python",
   "pygments_lexer": "ipython3",
   "version": "3.10.9"
  }
 },
 "nbformat": 4,
 "nbformat_minor": 4
}
